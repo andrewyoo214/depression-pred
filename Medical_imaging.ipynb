{
 "cells": [
  {
   "cell_type": "markdown",
   "id": "9c1d493f-d163-4701-992a-6bd8340bdac5",
   "metadata": {},
   "source": [
    "# Medical MNIST"
   ]
  },
  {
   "cell_type": "markdown",
   "id": "4bf94dd5-7a74-4448-a39a-7df8056a1fda",
   "metadata": {},
   "source": [
    " - - -"
   ]
  },
  {
   "cell_type": "markdown",
   "id": "c476a75b-5ce2-47bb-a877-074de1b31bb3",
   "metadata": {},
   "source": [
    "## Dataset Instructions"
   ]
  },
  {
   "cell_type": "markdown",
   "id": "5c7147f4-13c5-462f-969a-9fadc84c26eb",
   "metadata": {},
   "source": [
    "1. ChestMNIST: \n",
    "> Chest X-ray dataset \\\n",
    "> Multi-Label(14) & Binary-Class(2) \\\n",
    "> 112,120 samples\n",
    "2. BreastMNIST: \n",
    "> Breast UltraSound \\\n",
    "> Binary-Class(2) \\\n",
    "> 780 samples"
   ]
  },
  {
   "cell_type": "markdown",
   "id": "bec315c7-1734-4305-830b-5a053d0e1868",
   "metadata": {},
   "source": [
    "- - -"
   ]
  },
  {
   "cell_type": "code",
   "execution_count": null,
   "id": "32655bd0-14a8-4e68-b7bb-5e4bd29d696c",
   "metadata": {},
   "outputs": [],
   "source": [
    "                                                                                                                                                                                                                                                    "
   ]
  },
  {
   "cell_type": "code",
   "execution_count": null,
   "id": "5b1bf08b-872d-42ad-b6d2-ce8bd6c6225f",
   "metadata": {},
   "outputs": [],
   "source": [
    "import os\n",
    "import time\n",
    "import random\n",
    "import pandas as pd\n",
    "import numpy as np\n",
    "import matplotlib.pyplot as plt\n",
    "import seaborn as sns\n",
    "\n",
    "import torch\n",
    "import torchvision\n",
    "import torch.nn as nn"
   ]
  },
  {
   "cell_type": "code",
   "execution_count": null,
   "id": "c5471670-ce8b-474e-bc05-0e5b42f6d71a",
   "metadata": {},
   "outputs": [],
   "source": [
    "from scipy.stats.stats import pearsonr\n",
    "from scipy.stats import ttest_ind\n",
    "from scipy.stats import bartlett\n",
    "from scipy.stats import ks_2samp\n",
    "from scipy.stats import shapiro\n",
    "from sklearn.model_selection import train_test_split\n",
    "from sklearn.linear_model import LogisticRegression\n",
    "from sklearn.metrics import classification_report,confusion_matrix\n",
    "from sklearn.tree import DecisionTreeClassifier\n",
    "from sklearn.ensemble import RandomForestClassifier\n",
    "from sklearn.preprocessing import MinMaxScaler\n",
    "from xgboost import XGBClassifier\n",
    "\n",
    "from torch.nn import functional as F\n",
    "from torch.autograd import Variable\n",
    "from torchvision import transforms, datasets, models\n",
    "from torch.utils.data import Dataset, TensorDataset"
   ]
  },
  {
   "cell_type": "code",
   "execution_count": null,
   "id": "37b5e4b2-e635-4618-8e85-1c316fe67b90",
   "metadata": {},
   "outputs": [],
   "source": [
    "print(\"PyTorch Version: \",torch.__version__)\n",
    "print(\"Torchvision Version: \",torchvision.__version__)"
   ]
  },
  {
   "cell_type": "code",
   "execution_count": null,
   "id": "8a8a0ae8-cb1d-4676-811a-d8bc99366bc0",
   "metadata": {},
   "outputs": [],
   "source": []
  },
  {
   "cell_type": "code",
   "execution_count": null,
   "id": "df21af29-496d-4c39-9c06-8c7591043367",
   "metadata": {},
   "outputs": [],
   "source": [
    "class Args:\n",
    "    # arugments\n",
    "    epochs=50\n",
    "    bs=32\n",
    "    lr=0.001\n",
    "    momentum=0.9\n",
    "    num_classes=3\n",
    "    verbose='store_true'\n",
    "    seed=674\n",
    "\n",
    "args = Args()    \n",
    "\n",
    "np.random.seed(args.seed)\n",
    "random.seed(args.seed)\n",
    "torch.manual_seed(args.seed)"
   ]
  },
  {
   "cell_type": "code",
   "execution_count": null,
   "id": "681e45c9-6294-4ca2-a735-24c9b9de10ea",
   "metadata": {},
   "outputs": [],
   "source": [
    "#Setting torch environment\n",
    "\n",
    "if torch.cuda.is_available():\n",
    "    DEVICE = torch.device('cuda')\n",
    "else:\n",
    "    DEVICE = torch.device('cpu')\n",
    "    \n",
    "print('Using PyTorch version:', torch.__version__, ' Device: ', DEVICE)"
   ]
  },
  {
   "cell_type": "code",
   "execution_count": null,
   "id": "61fd42ca-1275-4028-948a-c3eea66ae59e",
   "metadata": {},
   "outputs": [],
   "source": []
  },
  {
   "cell_type": "code",
   "execution_count": null,
   "id": "1788e659-d1a2-4d45-85c7-7a95d2f8d01f",
   "metadata": {},
   "outputs": [],
   "source": []
  },
  {
   "cell_type": "code",
   "execution_count": null,
   "id": "3f055e64-ca34-4657-8360-a0259cb69906",
   "metadata": {},
   "outputs": [],
   "source": []
  },
  {
   "cell_type": "markdown",
   "id": "e566e357-512b-4061-9062-bd66a306c61e",
   "metadata": {},
   "source": [
    "- - -"
   ]
  },
  {
   "cell_type": "markdown",
   "id": "a8dc1558-6521-4c2f-a5e9-5e6688ea1155",
   "metadata": {},
   "source": [
    "# Data Handling"
   ]
  },
  {
   "cell_type": "markdown",
   "id": "93cb2af9-a249-4083-b4e8-a9b85a9f7abf",
   "metadata": {},
   "source": [
    "## Uploading dataset"
   ]
  },
  {
   "cell_type": "code",
   "execution_count": null,
   "id": "cc264c95-f72d-4f30-99ea-25988b0fe868",
   "metadata": {},
   "outputs": [],
   "source": [
    "# Data Transformation\n",
    "data_transforms = transforms.Compose([\n",
    "    transforms.Resize(256),\n",
    "#     transforms.RandomResizedCrop(224),\n",
    "#     transforms.RandomHorizontalFlip(0.5),\n",
    "#     transforms.ColorJitter(brightness=(0.2, 2), \n",
    "#                                contrast=(0.3, 2), \n",
    "#                                saturation=(0.2, 2), \n",
    "#                                hue=(-0.3, 0.3)),\n",
    "    transforms.ToTensor(),\n",
    "#     transforms.Normalize([0.485, 0.456,0.406], [0.229, 0.224, 0.225])\n",
    "])"
   ]
  },
  {
   "cell_type": "code",
   "execution_count": null,
   "id": "5085d812-73dd-41ac-b153-bc95649b41dc",
   "metadata": {},
   "outputs": [],
   "source": [
    "# Uploading the food image data\n",
    "# lung_data = datasets.ImageFolder(root = 'E:/RESEARCH/Datasets/image/LUNG_public/COVID-19_Radiography_Dataset', transform = data_transforms)\n",
    "lung_pneu_train = datasets.ImageFolder(root = 'E:/RESEARCH/Datasets/image/LUNG_pneumonia/train', transform = data_transforms)\n",
    "lung_pneu_test  = datasets.ImageFolder(root = 'E:/RESEARCH/Datasets/image/LUNG_pneumonia/test', transform = data_transforms)"
   ]
  },
  {
   "cell_type": "code",
   "execution_count": null,
   "id": "a78b67b2-f8cc-4717-9079-1dc6a7dcf670",
   "metadata": {},
   "outputs": [],
   "source": [
    "lung_pneu_train"
   ]
  },
  {
   "cell_type": "code",
   "execution_count": null,
   "id": "5b82cda7-3282-4ce7-8ee9-f73af167a2bc",
   "metadata": {},
   "outputs": [],
   "source": []
  },
  {
   "cell_type": "code",
   "execution_count": null,
   "id": "2b5407fe-d1dc-48fe-92f7-efe84d8fa8a5",
   "metadata": {},
   "outputs": [],
   "source": []
  },
  {
   "cell_type": "code",
   "execution_count": null,
   "id": "08524512-6555-44b4-ad51-fe2c4ae9b0da",
   "metadata": {},
   "outputs": [],
   "source": []
  },
  {
   "cell_type": "markdown",
   "id": "b6ba43f8-ad9c-42f4-a345-a46780383bf0",
   "metadata": {},
   "source": [
    "- - -"
   ]
  },
  {
   "cell_type": "markdown",
   "id": "d14dcf14-14eb-447e-8f34-4dc75d4b108f",
   "metadata": {},
   "source": [
    "## Data preprocessing"
   ]
  },
  {
   "cell_type": "code",
   "execution_count": null,
   "id": "e6df8e60-da0b-40fb-813e-b675e5d28620",
   "metadata": {},
   "outputs": [],
   "source": [
    "## scaler setting for data standardization.\n",
    "scaler = MinMaxScaler()"
   ]
  },
  {
   "cell_type": "code",
   "execution_count": null,
   "id": "be3403c5-4804-4366-ad40-7821cec140bc",
   "metadata": {},
   "outputs": [],
   "source": [
    "train_loader = torch.utils.data.DataLoader(lung_pneu_train, batch_size=args.bs, shuffle=True, num_workers=4)\n",
    "test_loader = torch.utils.data.DataLoader(lung_pneu_test, batch_size=args.bs, shuffle=False, num_workers=4)"
   ]
  },
  {
   "cell_type": "code",
   "execution_count": null,
   "id": "d2f8d47d-3f55-4169-8081-cebf537c5ad2",
   "metadata": {},
   "outputs": [],
   "source": [
    "dataiter = iter(train_loader)\n",
    "images, labels = dataiter.next()\n",
    "print(labels)"
   ]
  },
  {
   "cell_type": "code",
   "execution_count": null,
   "id": "28810ee0-7eab-485b-897c-af4adcbf2c55",
   "metadata": {},
   "outputs": [],
   "source": []
  },
  {
   "cell_type": "markdown",
   "id": "165c6c9d-ef6b-4acd-9146-2b223ece77db",
   "metadata": {},
   "source": [
    "## Calculating Mean and Std"
   ]
  },
  {
   "cell_type": "code",
   "execution_count": null,
   "id": "7bd72a91-08b0-4b96-9175-4413bd63a01a",
   "metadata": {},
   "outputs": [],
   "source": [
    "def normalize_image(train_loader):\n",
    "\n",
    "    cnt = 0\n",
    "    fst_moment = torch.empty(3)\n",
    "    snd_moment = torch.empty(3)\n",
    "\n",
    "    for images, _ in train_loader:\n",
    "\n",
    "        b, c, h, w = images.shape\n",
    "        nb_pixels = b * h * w\n",
    "        sum_ = torch.sum(images, dim=[0, 2, 3])\n",
    "        sum_of_square = torch.sum(images ** 2, dim=[0, 2, 3])\n",
    "        fst_moment = (cnt * fst_moment + sum_) / (cnt + nb_pixels)\n",
    "        snd_moment = (cnt * snd_moment + sum_of_square) / (cnt + nb_pixels)\n",
    "\n",
    "        cnt += nb_pixels\n",
    "\n",
    "    return fst_moment, torch.sqrt(snd_moment - fst_moment ** 2)"
   ]
  },
  {
   "cell_type": "code",
   "execution_count": null,
   "id": "61ca724f-21f0-4a61-a258-008ba8a227ee",
   "metadata": {},
   "outputs": [],
   "source": [
    "lung_mean, lung_std = normalize_image(train_loader)"
   ]
  },
  {
   "cell_type": "code",
   "execution_count": null,
   "id": "ddbc14d7-9575-44b2-b3d8-da653f07a5ba",
   "metadata": {},
   "outputs": [],
   "source": [
    "print(lung_mean, lung_std)"
   ]
  },
  {
   "cell_type": "code",
   "execution_count": null,
   "id": "4c5297c5-9668-46ac-90e6-3fc848df94e1",
   "metadata": {},
   "outputs": [],
   "source": []
  },
  {
   "cell_type": "markdown",
   "id": "26da4072-c4e1-4266-8754-81904bf6efe9",
   "metadata": {},
   "source": [
    "* Based on calculated mean and standard deviation, upload the dataset again with new data_transform"
   ]
  },
  {
   "cell_type": "code",
   "execution_count": null,
   "id": "63439ae2-05e4-4a57-a323-2b918707ce46",
   "metadata": {},
   "outputs": [],
   "source": [
    "# Data Transformation\n",
    "data_transforms_st = transforms.Compose([\n",
    "    transforms.Resize((256,256)),\n",
    "#     transforms.RandomResizedCrop(224),\n",
    "#     transforms.RandomHorizontalFlip(0.5),\n",
    "#     transforms.ColorJitter(brightness=(0.2, 2), \n",
    "#                                contrast=(0.3, 2), \n",
    "#                                saturation=(0.2, 2), \n",
    "#                                hue=(-0.3, 0.3)),\n",
    "    transforms.ToTensor(),\n",
    "    transforms.Normalize([0.5535, 0.5535, 0.5535], [0.1895, 0.1895, 0.1895])\n",
    "])"
   ]
  },
  {
   "cell_type": "code",
   "execution_count": null,
   "id": "bd4ff41d-3586-4537-a41a-fa130a4c5c4a",
   "metadata": {},
   "outputs": [],
   "source": [
    "# Uploading the food image data\n",
    "# lung_data = datasets.ImageFolder(root = 'E:/RESEARCH/Datasets/image/LUNG_public/COVID-19_Radiography_Dataset', transform = data_transforms)\n",
    "lung_pneu_train = datasets.ImageFolder(root = 'E:/RESEARCH/Datasets/image/LUNG_pneumonia/train', transform = data_transforms_st)\n",
    "lung_pneu_test  = datasets.ImageFolder(root = 'E:/RESEARCH/Datasets/image/LUNG_pneumonia/test', transform = data_transforms_st)"
   ]
  },
  {
   "cell_type": "code",
   "execution_count": null,
   "id": "22aa473b-576c-4a14-86c5-4149ae08ea0f",
   "metadata": {},
   "outputs": [],
   "source": [
    "train_loader = torch.utils.data.DataLoader(lung_pneu_train, batch_size=args.bs, shuffle=True, num_workers=4)\n",
    "test_loader = torch.utils.data.DataLoader(lung_pneu_test, batch_size=args.bs, shuffle=False, num_workers=4)"
   ]
  },
  {
   "cell_type": "code",
   "execution_count": null,
   "id": "d6a2aa33-3d8e-4682-a966-611518fb1b56",
   "metadata": {},
   "outputs": [],
   "source": [
    "dataiter = iter(train_loader)\n",
    "images, labels = dataiter.next()\n",
    "images = images.numpy()\n",
    "print(labels)\n",
    "print(labels.size())"
   ]
  },
  {
   "cell_type": "code",
   "execution_count": null,
   "id": "97ffe1f1-c918-4bac-a456-14f865e6d923",
   "metadata": {},
   "outputs": [],
   "source": [
    "classes = lung_pneu_train.classes\n",
    "print(classes)"
   ]
  },
  {
   "cell_type": "code",
   "execution_count": null,
   "id": "c9912321-298e-4d61-bfb9-e0591b4517c5",
   "metadata": {},
   "outputs": [],
   "source": []
  },
  {
   "cell_type": "code",
   "execution_count": null,
   "id": "f7d00f2b-0001-41f5-b4fc-45cb4a6276b1",
   "metadata": {},
   "outputs": [],
   "source": []
  },
  {
   "cell_type": "code",
   "execution_count": null,
   "id": "2f956825-a167-48ae-b881-0be73119e412",
   "metadata": {},
   "outputs": [],
   "source": []
  },
  {
   "cell_type": "markdown",
   "id": "b338dad3-305e-4ede-a35c-804e2b3d8340",
   "metadata": {},
   "source": [
    "- - -"
   ]
  },
  {
   "cell_type": "markdown",
   "id": "460d29ed-6b45-4579-8cd5-9ec237cc957b",
   "metadata": {},
   "source": [
    "# Data Visualization"
   ]
  },
  {
   "cell_type": "code",
   "execution_count": null,
   "id": "15f67af3-cd91-4362-a370-c4d9d80221cd",
   "metadata": {},
   "outputs": [],
   "source": [
    "images[0].shape"
   ]
  },
  {
   "cell_type": "code",
   "execution_count": null,
   "id": "218e9312-4a92-4111-a386-9c5a11ce84bd",
   "metadata": {},
   "outputs": [],
   "source": [
    "dataiter = iter(train_loader)\n",
    "images, labels = dataiter.next()\n",
    "print(labels)\n",
    "print(labels.size())"
   ]
  },
  {
   "cell_type": "code",
   "execution_count": null,
   "id": "31e9a842-34a2-4d6a-ba3a-3322ac3aa62b",
   "metadata": {},
   "outputs": [],
   "source": [
    "plt.imshow(images[0].permute(1,2,0))\n",
    "plt.title(\"Normal\")\n",
    "plt.show()"
   ]
  },
  {
   "cell_type": "code",
   "execution_count": null,
   "id": "7c443edf-2ade-4343-a7dd-ae2aff0d42cb",
   "metadata": {},
   "outputs": [],
   "source": []
  },
  {
   "cell_type": "code",
   "execution_count": null,
   "id": "fcfc0f03-9ceb-4070-b4b2-a757ace61239",
   "metadata": {},
   "outputs": [],
   "source": []
  },
  {
   "cell_type": "code",
   "execution_count": null,
   "id": "3a0b250c-c5dd-42a0-844a-136e6b82258d",
   "metadata": {},
   "outputs": [],
   "source": []
  },
  {
   "cell_type": "markdown",
   "id": "d3c46531-14b1-4f51-9094-6e753b425d6d",
   "metadata": {},
   "source": [
    "- - -"
   ]
  },
  {
   "cell_type": "markdown",
   "id": "fa881943-cb66-49e8-8b03-7bb67946b8b3",
   "metadata": {
    "tags": []
   },
   "source": [
    "# Statistical Approaches"
   ]
  },
  {
   "cell_type": "markdown",
   "id": "89e39cf4-79b2-44ff-8217-b8746661862a",
   "metadata": {},
   "source": [
    "* Concept: How about generating additional dataset from current limited dataset, based on statistical theories?\n",
    "> 1. Check the distribution of each data features(SDNN, ...) and visualize.\n",
    "> 2. Calculate correlation coefficients between variables based on regression.\n",
    "> 3. Calculate their mean, sd, and other statistics to find out its distribution.\n",
    ">> However, most of them would be from normal distribution with different μ and σ based on the CLT.\n",
    "> 4. Generate random dataset based on its distribution, correlation, and regression coefficients."
   ]
  },
  {
   "cell_type": "markdown",
   "id": "259e85f5-0403-483c-aaa9-b64bf4675cf1",
   "metadata": {},
   "source": [
    "## HRV Variable Distributions"
   ]
  },
  {
   "cell_type": "markdown",
   "id": "3da0df5f-f912-49fb-880c-42ac92a3cbc7",
   "metadata": {},
   "source": [
    "* dataset lists:\n",
    "> baseline1 ~ stress  -- hrv_b1_s_sub \\\n",
    "> stress ~ baseline2  -- hrv_s_b2_sub \\\n",
    "> baseline2 ~ rest    -- hrv_b2_r_sub \\\n",
    "> rest ~ baseline3    -- hrv_r_b3_sub \\\n",
    "> baseline3 ~ recovery -- hrv_b3_c_sub \\\n",
    "> stress ~ rest  -- hrv_s_r_sub"
   ]
  },
  {
   "cell_type": "code",
   "execution_count": null,
   "id": "bf278089-cb2f-444f-b056-a05524beb9fa",
   "metadata": {
    "tags": []
   },
   "outputs": [],
   "source": [
    "data_vis = hrv_s_r_sub"
   ]
  },
  {
   "cell_type": "markdown",
   "id": "93f857bd-868e-4045-9c76-2ddd71d065ce",
   "metadata": {},
   "source": [
    "* Generating new dataframe that we want to check the distribution of."
   ]
  },
  {
   "cell_type": "code",
   "execution_count": null,
   "id": "2f5a291e-8ecd-4580-9855-8d73361bf877",
   "metadata": {},
   "outputs": [],
   "source": [
    "hrv_visual = pd.concat([data_vis, hrv_disorder],axis=1)"
   ]
  },
  {
   "cell_type": "code",
   "execution_count": null,
   "id": "7826e12b-fa43-44b7-949b-46c60bb6fe95",
   "metadata": {},
   "outputs": [],
   "source": []
  },
  {
   "cell_type": "code",
   "execution_count": null,
   "id": "c2cb42fc-216e-4446-b607-bf99378a4727",
   "metadata": {},
   "outputs": [],
   "source": [
    "## Separating dataframe into three different groups (CONTROL, MDD, PD)\n",
    "hrv_CON = hrv_visual[hrv_visual[\"disorder\"] == 2]\n",
    "hrv_MDD = hrv_visual[hrv_visual[\"disorder\"] == 0]\n",
    "hrv_PD = hrv_visual[hrv_visual[\"disorder\"] == 1]"
   ]
  },
  {
   "cell_type": "code",
   "execution_count": null,
   "id": "4372cbe2-bd80-4836-bdaa-f10ab83bff92",
   "metadata": {},
   "outputs": [],
   "source": []
  },
  {
   "cell_type": "markdown",
   "id": "ab9f2ad7-f340-4326-a0c0-f0a10ad2a991",
   "metadata": {},
   "source": [
    "* Total 13 variables: SDNN, NN50, PNN50, RMSSD, VLF, LF, HF, LF/HF, POWER, HR, RESP, SC, TEMP"
   ]
  },
  {
   "cell_type": "code",
   "execution_count": null,
   "id": "344fe618-fb1c-4410-8695-a6af6f992f1c",
   "metadata": {},
   "outputs": [],
   "source": [
    "## Set the variable that we want to check\n",
    "var = \"SC\""
   ]
  },
  {
   "cell_type": "code",
   "execution_count": null,
   "id": "3f424e55-38bf-4b98-9b9f-03beaa691449",
   "metadata": {},
   "outputs": [],
   "source": [
    "CON = hrv_CON[var]\n",
    "MDD = hrv_MDD[var]\n",
    "PD = hrv_PD[var]"
   ]
  },
  {
   "cell_type": "markdown",
   "id": "19c89794-6e36-4e9d-bea5-424e8eb987b8",
   "metadata": {},
   "source": [
    "* Comparing one variable for three groups"
   ]
  },
  {
   "cell_type": "code",
   "execution_count": null,
   "id": "5fd359ee-c0bd-4d32-a1de-93091e993064",
   "metadata": {},
   "outputs": [],
   "source": [
    "plt.figure(figsize = (10,5))\n",
    "sns.set_style(\"whitegrid\")\n",
    "plt.grid(True)\n",
    "plt.xlabel('Variable: LF/HF ratio',fontsize=10)\n",
    "plt.ylabel('Density',fontsize=10)\n",
    "\n",
    "sns.kdeplot(CON)\n",
    "sns.kdeplot(MDD)\n",
    "sns.kdeplot(PD)\n",
    "\n",
    "# plt.legend()\n",
    "plt.legend(['Control', 'Major Depressive Disorder', 'Panic Disorder'], fontsize=10)\n",
    "\n",
    "# plt.savefig('./data/figures/distributions/stress_rest/TEMP.png')"
   ]
  },
  {
   "cell_type": "code",
   "execution_count": null,
   "id": "629abd8a-2f8c-4a9f-a542-d9c7282441ab",
   "metadata": {},
   "outputs": [],
   "source": []
  },
  {
   "cell_type": "markdown",
   "id": "244f5b1d-3724-41ea-843c-b96a3295e34e",
   "metadata": {},
   "source": [
    "* Distribution check (based on statistics)"
   ]
  },
  {
   "cell_type": "code",
   "execution_count": null,
   "id": "4c354084-f4ad-4862-b583-bbfc3564afea",
   "metadata": {},
   "outputs": [],
   "source": [
    "## T-test for equal mean value check\n",
    "## if p-value < 0.05, two distributions do not have equal mean values.\n",
    "print(\">T-TEST\")\n",
    "print(\"Mean value check for CON and MDD, p-value: {:.3f}\".format(ttest_ind(CON, MDD).pvalue))\n",
    "print(\"Mean value check for CON and PD, p-value: {:.3f}\".format(ttest_ind(CON, PD).pvalue))\n",
    "print(\"Mean value check for MDD and PD, p-value: {:.3f}\".format(ttest_ind(MDD, PD).pvalue))\n",
    "print(\"-----------------------------------------------\")\n",
    "\n",
    "\n",
    "## Bartlett-test for equal variability check\n",
    "## if p-value < 0.05, two distributions do not have equal variance.\n",
    "print(\">Bartlett-test\")\n",
    "print(\"Equal Variability test for CON and MDD, p-value: {:.3f}\".format(bartlett(CON, MDD).pvalue))\n",
    "print(\"Equal Variability test for CON and PD, p-value: {:.3f}\".format(bartlett(CON, PD).pvalue))\n",
    "print(\"Equal Variability test for MDD and PD, p-value: {:.3f}\".format(bartlett(MDD, PD).pvalue))\n",
    "print(\"-----------------------------------------------\")\n",
    "\n",
    "\n",
    "## Shapiro-Wilk test for normal distribution check\n",
    "## if p-value < 0.05, distribution is not following normal distribution.\n",
    "print(\">Shapiro-Wilks test\")\n",
    "print(\"Normal distribution test for CON, p-value: {:.3f}\".format(shapiro(CON).pvalue))\n",
    "print(\"Normal distribution test for MDD, p-value: {:.3f}\".format(shapiro(MDD).pvalue))\n",
    "print(\"Normal distribution test for PD, p-value: {:.3f}\".format(shapiro(PD).pvalue))\n",
    "print(\"-----------------------------------------------\")\n",
    "\n",
    "\n",
    "## Kolmogorov-Smirnov test for equal distribution check\n",
    "## if p-value < 0.05, two distributions are not following same distribution. \n",
    "print(\">Kolmogorov-Smirnov test\")\n",
    "print(\"Equal distributions test between CON and MDD, p-value: {:.3f}\".format(ks_2samp(CON, MDD).pvalue))\n",
    "print(\"Equal distributions test between CON and PD, p-value: {:.3f}\".format(ks_2samp(CON, PD).pvalue))\n",
    "print(\"Equal distributions test between MDD and PD, p-value: {:.3f}\".format(ks_2samp(MDD, PD).pvalue))\n",
    "print(\"-----------------------------------------------\")"
   ]
  },
  {
   "cell_type": "code",
   "execution_count": null,
   "id": "786e4844-a760-4ae9-86ae-98b1fd725959",
   "metadata": {},
   "outputs": [],
   "source": []
  },
  {
   "cell_type": "code",
   "execution_count": null,
   "id": "c9d9791a-9a04-4165-b696-01d67627e0f7",
   "metadata": {},
   "outputs": [],
   "source": []
  },
  {
   "cell_type": "code",
   "execution_count": null,
   "id": "5d981caa-130d-4e12-bab6-cb165a9cbbe3",
   "metadata": {},
   "outputs": [],
   "source": [
    "SDNN = hrv_only['b1SDNN']\n",
    "NN50 = hrv_only['b1NN50']\n",
    "PNN50 = hrv_only['b1PNN50']\n",
    "RMSSD = hrv_only['b1RMSSD']\n",
    "VLF = hrv_only['b1VLF']\n",
    "LF = hrv_only['b1LF']\n",
    "HF = hrv_only['b1HF']\n",
    "LFHF = hrv_only['b1LF/HF']\n",
    "POWER = hrv_only['b1POWER']\n",
    "RESP = hrv_only['b1RESP']\n",
    "TEMP = hrv_only['b1TEMP']\n",
    "HR = hrv_only['b1HR']"
   ]
  },
  {
   "cell_type": "markdown",
   "id": "de969f45-7022-47c7-8a9c-30184c0edbda",
   "metadata": {},
   "source": [
    "* All variables"
   ]
  },
  {
   "cell_type": "code",
   "execution_count": null,
   "id": "3d4949a9-87e9-445e-90b2-854d7efe71a7",
   "metadata": {
    "tags": []
   },
   "outputs": [],
   "source": [
    "plt.figure(figsize = (10,5))\n",
    "sns.set_style(\"whitegrid\")\n",
    "plt.grid(True)\n",
    "plt.xlabel('Standardized Variables',fontsize=10)\n",
    "plt.ylabel('Density',fontsize=10)\n",
    "\n",
    "sns.kdeplot(b1SDNN)\n",
    "sns.kdeplot(b1NN50)\n",
    "sns.kdeplot(b1RMSSD)\n",
    "# sns.kdeplot(b1VLF)\n",
    "sns.kdeplot(b1LF)\n",
    "# sns.kdeplot(b1HF)\n",
    "sns.kdeplot(b1LFHF)\n",
    "# sns.kdeplot(b1POWER)\n",
    "# sns.kdeplot(b1PNN50)\n",
    "sns.kdeplot(b1RESP)\n",
    "sns.kdeplot(b1TEMP)\n",
    "sns.kdeplot(b1HR)\n",
    "\n",
    "# plt.legend()\n",
    "plt.legend(['b1SDNN', 'b1NN50', 'b1RMSSD', 'b1LF', 'b1LF/HF', 'b1RESP', 'b1TEMP', 'b1HR'], fontsize=10)"
   ]
  },
  {
   "cell_type": "code",
   "execution_count": null,
   "id": "ad5784c5-4d1c-4320-ab01-4d7b963398ce",
   "metadata": {},
   "outputs": [],
   "source": []
  },
  {
   "cell_type": "code",
   "execution_count": null,
   "id": "a8576e1d-52ad-4d27-95f3-75c7ce1169ec",
   "metadata": {},
   "outputs": [],
   "source": []
  },
  {
   "cell_type": "markdown",
   "id": "f5fbe143-ba32-4b53-b5ea-71ccd94459f6",
   "metadata": {},
   "source": [
    "- - -"
   ]
  },
  {
   "cell_type": "markdown",
   "id": "fe34daea-1349-4df9-8ac5-271aa2259949",
   "metadata": {},
   "source": [
    "## Central Limit Theorem approach"
   ]
  },
  {
   "cell_type": "code",
   "execution_count": null,
   "id": "9ff012e9-c162-4487-860a-6525993b1130",
   "metadata": {},
   "outputs": [],
   "source": []
  },
  {
   "cell_type": "code",
   "execution_count": null,
   "id": "0cb30435-811b-4bbf-acee-5706b6eb69b0",
   "metadata": {},
   "outputs": [],
   "source": []
  },
  {
   "cell_type": "code",
   "execution_count": null,
   "id": "f75a4f64-5980-4e1a-9650-ebac23aa902f",
   "metadata": {},
   "outputs": [],
   "source": []
  },
  {
   "cell_type": "code",
   "execution_count": null,
   "id": "a53d55ea-c248-4bb7-a303-7e3568c01e7f",
   "metadata": {},
   "outputs": [],
   "source": []
  },
  {
   "cell_type": "code",
   "execution_count": null,
   "id": "12f87ce0-cc23-42d9-8d03-5b575662c500",
   "metadata": {},
   "outputs": [],
   "source": []
  },
  {
   "cell_type": "code",
   "execution_count": null,
   "id": "cd4ad914-0af7-4451-a14e-64f3c544b61f",
   "metadata": {},
   "outputs": [],
   "source": []
  },
  {
   "cell_type": "code",
   "execution_count": null,
   "id": "e8f6cd64-14b2-4f61-9110-623b55afa91b",
   "metadata": {},
   "outputs": [],
   "source": []
  },
  {
   "cell_type": "code",
   "execution_count": null,
   "id": "27092adb-8364-4e96-808c-8a94ca999434",
   "metadata": {},
   "outputs": [],
   "source": []
  },
  {
   "cell_type": "code",
   "execution_count": null,
   "id": "bb0fff58-d79f-44dd-aa5e-b1fa0a25544f",
   "metadata": {},
   "outputs": [],
   "source": []
  },
  {
   "cell_type": "code",
   "execution_count": null,
   "id": "3a2ee8a8-f9c8-49e9-b2bc-731aa45166b9",
   "metadata": {},
   "outputs": [],
   "source": []
  },
  {
   "cell_type": "code",
   "execution_count": null,
   "id": "052c5743-1cb8-4a89-b40a-21e1a22878ef",
   "metadata": {},
   "outputs": [],
   "source": []
  },
  {
   "cell_type": "code",
   "execution_count": null,
   "id": "a75ec81a-7dad-4516-82c8-930c2ce0761a",
   "metadata": {},
   "outputs": [],
   "source": []
  },
  {
   "cell_type": "markdown",
   "id": "13b23ded-1437-49bd-89b1-2c749f354375",
   "metadata": {},
   "source": [
    "- - -"
   ]
  },
  {
   "cell_type": "markdown",
   "id": "85aa4641-af6f-4d09-8f9f-c6c8f6e3062f",
   "metadata": {},
   "source": [
    "## Correlation between data features"
   ]
  },
  {
   "cell_type": "markdown",
   "id": "8524b485-113a-4b4a-84e7-4a33be077364",
   "metadata": {},
   "source": [
    "* To generate new dataset from each feature distribution, we have to realize the correlation and regression coefficients."
   ]
  },
  {
   "cell_type": "code",
   "execution_count": null,
   "id": "8d15e46a-6d5d-44ae-bf20-391382c05192",
   "metadata": {},
   "outputs": [],
   "source": [
    "hrv_visual.columns"
   ]
  },
  {
   "cell_type": "code",
   "execution_count": null,
   "id": "7cdc693e-0ddf-4f46-a5d4-8dd14f43b888",
   "metadata": {},
   "outputs": [],
   "source": [
    "hrv_visual.corr()"
   ]
  },
  {
   "cell_type": "markdown",
   "id": "a58dadf7-3aac-4769-a7bd-f16491618a23",
   "metadata": {},
   "source": [
    "* Visualize the correlation"
   ]
  },
  {
   "cell_type": "code",
   "execution_count": null,
   "id": "9d27f327-0e66-49da-85d3-029f2177f07d",
   "metadata": {},
   "outputs": [],
   "source": [
    "plt.figure(figsize = (15,15))\n",
    "corrMat = hrv_visual.corr()\n",
    "sns.heatmap(corrMat, annot=True)\n",
    "plt.show()"
   ]
  },
  {
   "cell_type": "code",
   "execution_count": null,
   "id": "a3096974-86de-439d-bc0c-14227ff27e99",
   "metadata": {},
   "outputs": [],
   "source": []
  },
  {
   "cell_type": "markdown",
   "id": "05eecd6c-8ce7-4857-94cd-249a631556b5",
   "metadata": {},
   "source": [
    "* Check whether each correlation coefficient is reliable"
   ]
  },
  {
   "cell_type": "code",
   "execution_count": null,
   "id": "64130b48-45f5-4bf8-8c4a-8bc763934508",
   "metadata": {},
   "outputs": [],
   "source": [
    "## pearsonr function shows individual correlation coefficient with p-value\n",
    "pearsonr(hrv_visual['SDNN'], hrv_visual['NN50'])"
   ]
  },
  {
   "cell_type": "code",
   "execution_count": null,
   "id": "00913230-c279-48e9-9815-fb472531e53f",
   "metadata": {},
   "outputs": [],
   "source": [
    "## for loop to calculate correlation coefficient and following p-values for every variables.\n",
    "col = list(hrv_visual)\n",
    "corr_result = []\n",
    "for i in range(0,len(col)-1):\n",
    "    a = hrv_visual[hrv_visual.columns[i]]\n",
    "    i += 1\n",
    "    b = hrv_visual[hrv_visual.columns[i]]\n",
    "    cor = pearsonr(a, b)\n",
    "    corr_result.append(cor)"
   ]
  },
  {
   "cell_type": "code",
   "execution_count": null,
   "id": "3f9d18e5-47c6-45cf-b121-3adebbf7294f",
   "metadata": {},
   "outputs": [],
   "source": [
    "corr_result_df = pd.DataFrame(corr_result, columns=['correlation', 'p-value'])"
   ]
  },
  {
   "cell_type": "code",
   "execution_count": null,
   "id": "ef8509cd-a25c-4c52-a55a-2460d7f37f39",
   "metadata": {},
   "outputs": [],
   "source": [
    "var_names = []\n",
    "for i in range(0,len(col)-1):\n",
    "    cur_var = (col[i], col[i+1])\n",
    "    var_names.append(cur_var)"
   ]
  },
  {
   "cell_type": "code",
   "execution_count": null,
   "id": "430515ed-e684-42e8-afb3-69fa7a5fd2b5",
   "metadata": {},
   "outputs": [],
   "source": [
    "var_names_df = pd.DataFrame(var_names, columns=['Variable #1', 'Variable #2'])"
   ]
  },
  {
   "cell_type": "code",
   "execution_count": null,
   "id": "0f78b2ed-c727-4884-b1e1-48665bd1616e",
   "metadata": {},
   "outputs": [],
   "source": [
    "correlation_df = pd.concat([var_names_df, corr_result_df], axis=1)"
   ]
  },
  {
   "cell_type": "code",
   "execution_count": null,
   "id": "b770d8a8-9ae5-4e1c-a295-e9d053cec9d0",
   "metadata": {},
   "outputs": [],
   "source": [
    "correlation_df['reliability'] = np.where(correlation_df['p-value']<0.05, \"o\", \"x\")"
   ]
  },
  {
   "cell_type": "code",
   "execution_count": null,
   "id": "71c56217-da01-4f88-8d10-aff131c248b4",
   "metadata": {},
   "outputs": [],
   "source": [
    "correlation_df"
   ]
  },
  {
   "cell_type": "code",
   "execution_count": null,
   "id": "368ea57f-bb6d-4abe-a816-f0d5ee90d126",
   "metadata": {},
   "outputs": [],
   "source": [
    "sd = np.std(hrv_visual['SDNN'])"
   ]
  },
  {
   "cell_type": "code",
   "execution_count": null,
   "id": "802e8bbc-8ae2-4e2f-9018-d6debcbbe109",
   "metadata": {},
   "outputs": [],
   "source": [
    "hrv_visual.mean()"
   ]
  },
  {
   "cell_type": "code",
   "execution_count": null,
   "id": "a22d078e-df25-4eed-b613-464c7f6f36e5",
   "metadata": {},
   "outputs": [],
   "source": [
    "hrv_visual.std()"
   ]
  },
  {
   "cell_type": "code",
   "execution_count": null,
   "id": "804fe77e-bafc-440c-8cdb-452d72af7d9b",
   "metadata": {},
   "outputs": [],
   "source": []
  },
  {
   "cell_type": "code",
   "execution_count": null,
   "id": "706b4bef-3cc3-4c69-87b9-0992c93293a6",
   "metadata": {},
   "outputs": [],
   "source": []
  },
  {
   "cell_type": "code",
   "execution_count": null,
   "id": "2c7ef63b-db64-436a-a1bc-882444e8749f",
   "metadata": {},
   "outputs": [],
   "source": []
  },
  {
   "cell_type": "markdown",
   "id": "9866d96f-443a-4c2c-b3ab-55a0e673586c",
   "metadata": {},
   "source": [
    "## Regression Coefficients"
   ]
  },
  {
   "cell_type": "markdown",
   "id": "f713e1b3-d792-48b8-b1f1-11746c8ebcf1",
   "metadata": {},
   "source": [
    "* To generate new dataset from each feature distribution, we have to realize the correlation and regression coefficients."
   ]
  },
  {
   "cell_type": "code",
   "execution_count": null,
   "id": "395dcf10-0d05-403b-8d60-30b5d5aa1421",
   "metadata": {},
   "outputs": [],
   "source": [
    "hrv_visual.columns"
   ]
  },
  {
   "cell_type": "code",
   "execution_count": null,
   "id": "c7c24702-07a8-46fd-ae96-58054f6cc314",
   "metadata": {},
   "outputs": [],
   "source": [
    "# features = hrv_visual[['SDNN', 'NN50', 'PNN50', 'RMSSD', 'VLF', 'LF', 'HF', 'LF/HF', 'POWER', 'HR', 'RESP', 'SC', 'TEMP']]\n",
    "# features = hrv_visual[['SDNN', 'NN50', 'PNN50', 'RMSSD', 'LF/HF', 'HR']]\n",
    "features = hrv_visual[['PNN50', 'LF/HF', 'HR']] ## variables that mentioned from previous research.(professor Jeon.)\n",
    "\n",
    "disorder = hrv_visual[['disorder']]"
   ]
  },
  {
   "cell_type": "code",
   "execution_count": null,
   "id": "40961a24-4bb5-4a1a-8113-a1ff16186870",
   "metadata": {},
   "outputs": [],
   "source": [
    "train_features, test_features, train_labels, test_labels = train_test_split(features, disorder)"
   ]
  },
  {
   "cell_type": "code",
   "execution_count": null,
   "id": "7bba72db-42c1-4de8-8a13-d3f38fb59085",
   "metadata": {},
   "outputs": [],
   "source": [
    "model = LogisticRegression()\n",
    "model.fit(train_features, train_labels)"
   ]
  },
  {
   "cell_type": "code",
   "execution_count": null,
   "id": "dc434e95-f473-4728-9da3-336a798c5077",
   "metadata": {},
   "outputs": [],
   "source": [
    "print(model.score(train_features, train_labels))"
   ]
  },
  {
   "cell_type": "code",
   "execution_count": null,
   "id": "8bc1cd08-383d-426d-8e62-b40f6f510a0a",
   "metadata": {},
   "outputs": [],
   "source": [
    "print(model.coef_)"
   ]
  },
  {
   "cell_type": "code",
   "execution_count": null,
   "id": "422e60a9-69ce-45d1-a604-edf9634db1ec",
   "metadata": {},
   "outputs": [],
   "source": []
  },
  {
   "cell_type": "code",
   "execution_count": null,
   "id": "9631c58a-f77d-4912-aadc-9a896245e9f9",
   "metadata": {},
   "outputs": [],
   "source": []
  },
  {
   "cell_type": "code",
   "execution_count": null,
   "id": "aec731d5-6bbc-471c-97e8-5fa1445b0435",
   "metadata": {},
   "outputs": [],
   "source": []
  },
  {
   "cell_type": "code",
   "execution_count": null,
   "id": "7d4eb8bd-6d4b-4e03-8fea-8ebb6ea23b06",
   "metadata": {},
   "outputs": [],
   "source": []
  },
  {
   "cell_type": "code",
   "execution_count": null,
   "id": "4af28ee1-504e-481f-a5e6-3c80e8d09454",
   "metadata": {},
   "outputs": [],
   "source": []
  },
  {
   "cell_type": "code",
   "execution_count": null,
   "id": "de8168ec-c9cc-4ba6-b920-d097a296101e",
   "metadata": {},
   "outputs": [],
   "source": []
  },
  {
   "cell_type": "markdown",
   "id": "62142bbe-f5d7-4c2c-bcd3-23386002aa6e",
   "metadata": {},
   "source": [
    "- - -"
   ]
  },
  {
   "cell_type": "markdown",
   "id": "ad9170f5-1c38-4105-b63f-d2d3aed26da7",
   "metadata": {},
   "source": [
    "# Data Analysis"
   ]
  },
  {
   "cell_type": "markdown",
   "id": "9db586c8-d2a3-4f08-9db5-84f91d05bcc9",
   "metadata": {},
   "source": [
    "## Autoencoder"
   ]
  },
  {
   "cell_type": "markdown",
   "id": "b5a37154-676c-4db0-88ed-c5ddc594b99b",
   "metadata": {},
   "source": [
    "* Here, we are going to use autoencoder algorithm to effectively extract the core features from dataset\n",
    "* Autoencoder is useful for reducing high-dimensionality dataset"
   ]
  },
  {
   "cell_type": "code",
   "execution_count": null,
   "id": "85e71ace-a2a9-4ea1-b92d-e678b8e86816",
   "metadata": {},
   "outputs": [],
   "source": [
    "print(len(train_loader))\n",
    "print(len(test_loader))"
   ]
  },
  {
   "cell_type": "code",
   "execution_count": null,
   "id": "4827650f-a7b5-4135-84c2-72a65fd8cbf7",
   "metadata": {},
   "outputs": [],
   "source": []
  },
  {
   "cell_type": "code",
   "execution_count": null,
   "id": "06722f4d-4b53-4ae6-a949-bc8466809261",
   "metadata": {},
   "outputs": [],
   "source": []
  },
  {
   "cell_type": "markdown",
   "id": "71f7a194-3ca7-464a-bdc2-0e7a8ecee4db",
   "metadata": {},
   "source": [
    "### Autoencoder Model"
   ]
  },
  {
   "cell_type": "code",
   "execution_count": null,
   "id": "951ef849-81dc-412a-888c-299ce1943a02",
   "metadata": {},
   "outputs": [],
   "source": [
    "class Autoencoder(nn.Module):\n",
    "    def __init__(self):\n",
    "        super(Autoencoder, self).__init__()\n",
    "        ## encoder layers ##\n",
    "        # conv layer (depth from 3 --> 16), with 3x3 kernels\n",
    "        self.conv1 = nn.Conv2d(3, 16, 3, padding=1)  \n",
    "        # conv layer (depth from 16 --> 4), 3x3 kernels\n",
    "        self.conv2 = nn.Conv2d(16, 4, 3, padding=1)\n",
    "        # pooling layer to reduce x-y dims by two; kernel and stride of 2\n",
    "        self.pool = nn.MaxPool2d(2, 2)\n",
    "        \n",
    "        ## decoder layers ##\n",
    "        ## a kernel of 2 and a stride of 2 will increase the spatial dims by 2\n",
    "        self.t_conv1 = nn.ConvTranspose2d(4, 16, 2, stride=2)\n",
    "        self.t_conv2 = nn.ConvTranspose2d(16, 3, 2, stride=2)\n",
    "\n",
    "    def forward(self, x):\n",
    "        ## encode ##\n",
    "        # add hidden layers with relu activation function\n",
    "        # and maxpooling after\n",
    "        x = F.relu(self.conv1(x))\n",
    "        x = self.pool(x)\n",
    "        # add second hidden layer\n",
    "        x = F.relu(self.conv2(x))\n",
    "        x = self.pool(x)  # compressed representation\n",
    "        \n",
    "        ## decode ##\n",
    "        # add transpose conv layers, with relu activation function\n",
    "        x = F.relu(self.t_conv1(x))\n",
    "        # output layer (with sigmoid for scaling from 0 to 1)\n",
    "        x = F.sigmoid(self.t_conv2(x))\n",
    "                \n",
    "        return x"
   ]
  },
  {
   "cell_type": "code",
   "execution_count": null,
   "id": "76805a5b-6e1f-4961-a679-598358bace61",
   "metadata": {},
   "outputs": [],
   "source": [
    "# initialize the NN\n",
    "model = ConvAutoencoder()\n",
    "print(model)"
   ]
  },
  {
   "cell_type": "code",
   "execution_count": null,
   "id": "20a9a30f-732e-4d92-a2e8-9c08b8887bfc",
   "metadata": {},
   "outputs": [],
   "source": []
  },
  {
   "cell_type": "code",
   "execution_count": null,
   "id": "2e214080-4160-4710-bc28-adbfadeebf1d",
   "metadata": {},
   "outputs": [],
   "source": []
  },
  {
   "cell_type": "code",
   "execution_count": null,
   "id": "354ed94c-e3a8-4ab0-91bf-3bede1f68cd3",
   "metadata": {},
   "outputs": [],
   "source": [
    "# class Autoencoder(nn.Module):\n",
    "#     def __init__(self):\n",
    "#         super(Autoencoder, self).__init__()\n",
    "        \n",
    "#         ## encoder is similar to the simple neural network\n",
    "#         self.encoder = nn.Sequential(\n",
    "#             nn.Linear(28*28, 128), # gradually reducing dimensionality\n",
    "#             nn.ReLU(),\n",
    "#             nn.Linear(128, 64),\n",
    "#             nn.ReLU(),\n",
    "#             nn.Linear(64, 12),\n",
    "#             nn.ReLU(),\n",
    "#             nn.Linear(12, 3)\n",
    "#         )\n",
    "#         ## decoder is recovering the dimensionality to origianl dataset size\n",
    "#         self.decoder = nn.Sequential(\n",
    "#             nn.Linear(3, 12), # gradually increasing dimensionality\n",
    "#             nn.ReLU(),\n",
    "#             nn.Linear(12, 64),\n",
    "#             nn.ReLU(),\n",
    "#             nn.Linear(64, 128),\n",
    "#             nn.ReLU(),\n",
    "#             nn.Linear(128, 28*28),\n",
    "#         )\n",
    "        \n",
    "#     def forward(self, x):\n",
    "#         encoded = self.encoder(x)         ## creating latent varialbe 'encoder'\n",
    "#         decoded = self.decoder(encoded)   ## generating recovered image 'decoded'\n",
    "#         return encoded, decoded"
   ]
  },
  {
   "cell_type": "code",
   "execution_count": null,
   "id": "9f43094e-36d0-41be-9eb2-1b6c018339ed",
   "metadata": {},
   "outputs": [],
   "source": []
  },
  {
   "cell_type": "markdown",
   "id": "4b89257b-dffa-45fa-b1f5-558fbab4e60d",
   "metadata": {},
   "source": [
    "### Loss and optimization function"
   ]
  },
  {
   "cell_type": "code",
   "execution_count": null,
   "id": "0c5281c8-09ce-4f96-9a36-2231d2edfe2a",
   "metadata": {},
   "outputs": [],
   "source": [
    "autoencoder = Autoencoder().to(DEVICE)\n",
    "optimizer = torch.optim.Adam(autoencoder.parameters(), lr = args.lr)  ## Adam for optimization function.\n",
    "criterion = nn.MSELoss()  ## Using MSE(Mean Squared Error) to calculate the differences between original data and decoded data"
   ]
  },
  {
   "cell_type": "code",
   "execution_count": null,
   "id": "ba729f26-1cfb-4b0c-b15b-eb5379edbf98",
   "metadata": {},
   "outputs": [],
   "source": []
  },
  {
   "cell_type": "code",
   "execution_count": null,
   "id": "94b883b8-7731-4d80-81f4-80f082e520d6",
   "metadata": {},
   "outputs": [],
   "source": []
  },
  {
   "cell_type": "code",
   "execution_count": null,
   "id": "0be81d4d-0a97-424c-8bed-3c3a85599e9e",
   "metadata": {},
   "outputs": [],
   "source": []
  },
  {
   "cell_type": "code",
   "execution_count": null,
   "id": "ff8d4af4-1f4e-4028-96c8-43905e48d9d7",
   "metadata": {},
   "outputs": [],
   "source": []
  },
  {
   "cell_type": "code",
   "execution_count": null,
   "id": "14395297-1a8c-4b95-b9a8-d2b99bdbcbb2",
   "metadata": {},
   "outputs": [],
   "source": []
  },
  {
   "cell_type": "code",
   "execution_count": null,
   "id": "9bc8ffd6-4bc7-4cb8-a42e-2c5c3efb065a",
   "metadata": {},
   "outputs": [],
   "source": []
  },
  {
   "cell_type": "code",
   "execution_count": null,
   "id": "5e8fed35-82e6-4b15-9cba-d6e834a3e2f0",
   "metadata": {},
   "outputs": [],
   "source": []
  },
  {
   "cell_type": "code",
   "execution_count": null,
   "id": "404a93cc-72bf-4d8c-a090-98e02a4de828",
   "metadata": {},
   "outputs": [],
   "source": []
  },
  {
   "cell_type": "code",
   "execution_count": null,
   "id": "f234463d-ab75-4f9e-a516-4dee29089bd8",
   "metadata": {},
   "outputs": [],
   "source": []
  },
  {
   "cell_type": "code",
   "execution_count": null,
   "id": "c73b947d-0bed-41aa-b5f0-7028b4982d9c",
   "metadata": {},
   "outputs": [],
   "source": []
  },
  {
   "cell_type": "code",
   "execution_count": null,
   "id": "2d3cdb83-040f-4998-b0a6-5acef005d1cc",
   "metadata": {},
   "outputs": [],
   "source": []
  },
  {
   "cell_type": "code",
   "execution_count": null,
   "id": "d1d5ec00-7717-4ac9-b990-2f4da640f0fe",
   "metadata": {},
   "outputs": [],
   "source": []
  },
  {
   "cell_type": "code",
   "execution_count": null,
   "id": "8d510f72-3e3c-4a51-a8f3-b04d8a5718c1",
   "metadata": {},
   "outputs": [],
   "source": []
  },
  {
   "cell_type": "code",
   "execution_count": null,
   "id": "53cfe0af-4247-487a-9e8b-05b7e836914b",
   "metadata": {},
   "outputs": [],
   "source": []
  },
  {
   "cell_type": "code",
   "execution_count": null,
   "id": "f9d24d97-d9df-4f23-bef0-02294ba48be2",
   "metadata": {},
   "outputs": [],
   "source": []
  },
  {
   "cell_type": "code",
   "execution_count": null,
   "id": "cffce6fc-746f-40e9-a100-9456fc2f7261",
   "metadata": {},
   "outputs": [],
   "source": []
  },
  {
   "cell_type": "code",
   "execution_count": null,
   "id": "21153f41-4fa8-4661-a93f-75af82081fcc",
   "metadata": {},
   "outputs": [],
   "source": []
  },
  {
   "cell_type": "code",
   "execution_count": null,
   "id": "98ad804f-eeec-4a51-9451-17d8ef494845",
   "metadata": {},
   "outputs": [],
   "source": []
  },
  {
   "cell_type": "code",
   "execution_count": null,
   "id": "7815f0ab-1d6a-4927-a36d-f51d7712d7c9",
   "metadata": {},
   "outputs": [],
   "source": []
  },
  {
   "cell_type": "code",
   "execution_count": null,
   "id": "db2d0d44-7a92-478b-855a-9061947bfaa6",
   "metadata": {},
   "outputs": [],
   "source": []
  },
  {
   "cell_type": "code",
   "execution_count": null,
   "id": "7cc4781c-68d3-4992-a263-213572165143",
   "metadata": {},
   "outputs": [],
   "source": []
  },
  {
   "cell_type": "code",
   "execution_count": null,
   "id": "927e3a8d-6cce-40e6-99e9-23a4faa57036",
   "metadata": {},
   "outputs": [],
   "source": []
  },
  {
   "cell_type": "code",
   "execution_count": null,
   "id": "5918eb07-16ac-4eef-8431-f14a2c8b7641",
   "metadata": {},
   "outputs": [],
   "source": []
  }
 ],
 "metadata": {
  "kernelspec": {
   "display_name": "Python 3",
   "language": "python",
   "name": "python3"
  },
  "language_info": {
   "codemirror_mode": {
    "name": "ipython",
    "version": 3
   },
   "file_extension": ".py",
   "mimetype": "text/x-python",
   "name": "python",
   "nbconvert_exporter": "python",
   "pygments_lexer": "ipython3",
   "version": "3.8.10"
  }
 },
 "nbformat": 4,
 "nbformat_minor": 5
}
