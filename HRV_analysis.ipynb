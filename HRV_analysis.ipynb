{
 "cells": [
  {
   "cell_type": "markdown",
   "id": "9c1d493f-d163-4701-992a-6bd8340bdac5",
   "metadata": {},
   "source": [
    "# Major Depressive Disorder Diagnosis"
   ]
  },
  {
   "cell_type": "markdown",
   "id": "4bf94dd5-7a74-4448-a39a-7df8056a1fda",
   "metadata": {},
   "source": [
    " - - -"
   ]
  },
  {
   "cell_type": "markdown",
   "id": "de953dae-79e0-417d-9028-9befb8bee163",
   "metadata": {},
   "source": [
    "## Previous Research Summary"
   ]
  },
  {
   "cell_type": "markdown",
   "id": "64e2e343-d70f-4e14-a940-df9b349284aa",
   "metadata": {},
   "source": [
    "Title: \"Heart rate variability for treatment response between patients with major depressive disorder versus panic disorder: A 12-week follow-up study\" (K.W. Choi et al.)\n",
    "> Hypothesis #1: Patients with MDD and PD showed differenct HRV profiles compared to healthy controls. \\\n",
    "> Hypothesis #2: It is possible to predict the responder groups in the MDD and PD patients, using differences in HRV indicies between the stress and rest phases. \\\n",
    "> Methods: 28 MDD patients, 29 PD patients, 39 healthy control subjects - for 12 weeks follow-up. \\\n",
    "> Results: \n",
    ">> pNN50 --- Patients with MDD and PD demonstrated lower pNN50. \\\n",
    ">> LF/HF ratio --- Patients with MDD and PD showed higher LF/HF ratio than control during 'stress' phase. \\\n",
    ">> LF/HF ratio --- Responders in the PD group showed lower LF/HF ratio during 'stress' phase compared to non-responders. \\\n",
    ">> Heart Rate --- Responders in the MDD group showed lower heart rate during 'all three' phases compared to non-responders. \\\n",
    ">> LF/HF ratio and pNN50 --- Possible to predict treatment response in patients with MDD using LF/HF ratio and pNN50. \\"
   ]
  },
  {
   "cell_type": "markdown",
   "id": "cde9c9a3-8cc2-4e13-9058-cbc42b268807",
   "metadata": {},
   "source": [
    "> Variables(time-domain): \\\n",
    ">> SDNN (Standard deviation of average normal-normal intervals) -- sympathetic and parasympathetic activities. \\\n",
    ">> RMSSD (Root mean square of successive differences) -- parasympathetic modulation. \\\n",
    ">> pNN50 -- parasympathetic modulation. \\"
   ]
  },
  {
   "cell_type": "markdown",
   "id": "13b8f266-1797-4e3f-a8e9-fcd09edbd71d",
   "metadata": {},
   "source": [
    "> Variables(frequency-domain): \\\n",
    ">> LF (low frequency, 0.04 ~ 0.15 Hz) -- modulated by sympathetic and parasympathetic activities. \\\n",
    ">> HF (high frequency, 0.15 ~ 0.4 Hz) -- modulated by parasympathetic activities. \\\n",
    ">> LF/HF ratio -- ratio of LF and HF -- measures balance between sympathetic and parasympathetic activities. \\"
   ]
  },
  {
   "cell_type": "code",
   "execution_count": null,
   "id": "a70fc6e7-b8be-4683-8a41-a20ecdbd011f",
   "metadata": {},
   "outputs": [],
   "source": []
  },
  {
   "cell_type": "markdown",
   "id": "0f2c32e7-8ab6-4122-87c1-cb019d61a23c",
   "metadata": {},
   "source": [
    "- - -"
   ]
  },
  {
   "cell_type": "code",
   "execution_count": 1,
   "id": "5b1bf08b-872d-42ad-b6d2-ce8bd6c6225f",
   "metadata": {},
   "outputs": [],
   "source": [
    "import os\n",
    "import time\n",
    "import random\n",
    "import pandas as pd\n",
    "import numpy as np\n",
    "import matplotlib.pyplot as plt\n",
    "import seaborn as sns\n",
    "\n",
    "import torch\n",
    "import torchvision\n",
    "import torch.nn as nn"
   ]
  },
  {
   "cell_type": "code",
   "execution_count": 2,
   "id": "c5471670-ce8b-474e-bc05-0e5b42f6d71a",
   "metadata": {},
   "outputs": [],
   "source": [
    "from scipy.stats.stats import pearsonr\n",
    "from scipy.stats import ttest_ind\n",
    "from scipy.stats import bartlett\n",
    "from scipy.stats import ks_2samp\n",
    "from scipy.stats import shapiro\n",
    "from sklearn.model_selection import train_test_split\n",
    "from sklearn.linear_model import LogisticRegression\n",
    "from sklearn.metrics import classification_report,confusion_matrix\n",
    "from sklearn.tree import DecisionTreeClassifier\n",
    "from sklearn.ensemble import RandomForestClassifier\n",
    "from sklearn.preprocessing import MinMaxScaler\n",
    "from xgboost import XGBClassifier\n",
    "\n",
    "from torch.nn import functional as F\n",
    "from torch.autograd import Variable\n",
    "from torch.utils.data import Dataset, TensorDataset"
   ]
  },
  {
   "cell_type": "code",
   "execution_count": 3,
   "id": "37b5e4b2-e635-4618-8e85-1c316fe67b90",
   "metadata": {},
   "outputs": [
    {
     "name": "stdout",
     "output_type": "stream",
     "text": [
      "PyTorch Version:  1.7.1\n",
      "Torchvision Version:  0.8.2\n"
     ]
    }
   ],
   "source": [
    "print(\"PyTorch Version: \",torch.__version__)\n",
    "print(\"Torchvision Version: \",torchvision.__version__)"
   ]
  },
  {
   "cell_type": "code",
   "execution_count": null,
   "id": "8a8a0ae8-cb1d-4676-811a-d8bc99366bc0",
   "metadata": {},
   "outputs": [],
   "source": []
  },
  {
   "cell_type": "code",
   "execution_count": 4,
   "id": "df21af29-496d-4c39-9c06-8c7591043367",
   "metadata": {},
   "outputs": [
    {
     "data": {
      "text/plain": [
       "<torch._C.Generator at 0x22db755d050>"
      ]
     },
     "execution_count": 4,
     "metadata": {},
     "output_type": "execute_result"
    }
   ],
   "source": [
    "class Args:\n",
    "    # arugments\n",
    "    epochs=50\n",
    "    bs=16\n",
    "    lr=0.001\n",
    "    momentum=0.9\n",
    "    num_classes=3\n",
    "    verbose='store_true'\n",
    "    seed=674\n",
    "\n",
    "args = Args()    \n",
    "\n",
    "np.random.seed(args.seed)\n",
    "random.seed(args.seed)\n",
    "torch.manual_seed(args.seed)"
   ]
  },
  {
   "cell_type": "code",
   "execution_count": 5,
   "id": "681e45c9-6294-4ca2-a735-24c9b9de10ea",
   "metadata": {},
   "outputs": [
    {
     "name": "stdout",
     "output_type": "stream",
     "text": [
      "Using PyTorch version: 1.7.1  Device:  cuda\n"
     ]
    }
   ],
   "source": [
    "#Setting torch environment\n",
    "\n",
    "if torch.cuda.is_available():\n",
    "    DEVICE = torch.device('cuda')\n",
    "else:\n",
    "    DEVICE = torch.device('cpu')\n",
    "    \n",
    "print('Using PyTorch version:', torch.__version__, ' Device: ', DEVICE)"
   ]
  },
  {
   "cell_type": "code",
   "execution_count": null,
   "id": "61fd42ca-1275-4028-948a-c3eea66ae59e",
   "metadata": {},
   "outputs": [],
   "source": []
  },
  {
   "cell_type": "code",
   "execution_count": null,
   "id": "1788e659-d1a2-4d45-85c7-7a95d2f8d01f",
   "metadata": {},
   "outputs": [],
   "source": []
  },
  {
   "cell_type": "code",
   "execution_count": null,
   "id": "3f055e64-ca34-4657-8360-a0259cb69906",
   "metadata": {},
   "outputs": [],
   "source": []
  },
  {
   "cell_type": "markdown",
   "id": "e566e357-512b-4061-9062-bd66a306c61e",
   "metadata": {},
   "source": [
    "- - -"
   ]
  },
  {
   "cell_type": "markdown",
   "id": "a8dc1558-6521-4c2f-a5e9-5e6688ea1155",
   "metadata": {},
   "source": [
    "# Data Handling"
   ]
  },
  {
   "cell_type": "code",
   "execution_count": null,
   "id": "1bda56ee-9a9f-440c-961b-2420c6953bb6",
   "metadata": {},
   "outputs": [],
   "source": []
  },
  {
   "cell_type": "markdown",
   "id": "9d252d9f-ea2a-48e9-867b-228f125f4afa",
   "metadata": {},
   "source": [
    "## Dataset check"
   ]
  },
  {
   "cell_type": "code",
   "execution_count": 6,
   "id": "4d74f513-96e5-4e66-a34d-3e15732b38ac",
   "metadata": {},
   "outputs": [
    {
     "data": {
      "text/html": [
       "<div>\n",
       "<style scoped>\n",
       "    .dataframe tbody tr th:only-of-type {\n",
       "        vertical-align: middle;\n",
       "    }\n",
       "\n",
       "    .dataframe tbody tr th {\n",
       "        vertical-align: top;\n",
       "    }\n",
       "\n",
       "    .dataframe thead th {\n",
       "        text-align: right;\n",
       "    }\n",
       "</style>\n",
       "<table border=\"1\" class=\"dataframe\">\n",
       "  <thead>\n",
       "    <tr style=\"text-align: right;\">\n",
       "      <th></th>\n",
       "      <th>sub</th>\n",
       "      <th>VISIT</th>\n",
       "      <th>disorder</th>\n",
       "      <th>age</th>\n",
       "      <th>gender</th>\n",
       "      <th>HAMD</th>\n",
       "      <th>HAMA</th>\n",
       "      <th>PDSS</th>\n",
       "      <th>ASI</th>\n",
       "      <th>APPQ</th>\n",
       "      <th>...</th>\n",
       "      <th>cRMSSD</th>\n",
       "      <th>cVLF</th>\n",
       "      <th>cLF</th>\n",
       "      <th>cHF</th>\n",
       "      <th>cLF/HF</th>\n",
       "      <th>cPOWER</th>\n",
       "      <th>cHR</th>\n",
       "      <th>cRESP</th>\n",
       "      <th>cSC</th>\n",
       "      <th>cTEMP</th>\n",
       "    </tr>\n",
       "  </thead>\n",
       "  <tbody>\n",
       "    <tr>\n",
       "      <th>0</th>\n",
       "      <td>E001</td>\n",
       "      <td>4</td>\n",
       "      <td>2</td>\n",
       "      <td>23</td>\n",
       "      <td>1</td>\n",
       "      <td>2</td>\n",
       "      <td>2</td>\n",
       "      <td>1</td>\n",
       "      <td>12</td>\n",
       "      <td>22</td>\n",
       "      <td>...</td>\n",
       "      <td>41.544667</td>\n",
       "      <td>190.107000</td>\n",
       "      <td>298.508333</td>\n",
       "      <td>206.862333</td>\n",
       "      <td>1.284000</td>\n",
       "      <td>695.477333</td>\n",
       "      <td>65.707000</td>\n",
       "      <td>14.054333</td>\n",
       "      <td>3.911333</td>\n",
       "      <td>34.998000</td>\n",
       "    </tr>\n",
       "    <tr>\n",
       "      <th>1</th>\n",
       "      <td>E001</td>\n",
       "      <td>5</td>\n",
       "      <td>2</td>\n",
       "      <td>23</td>\n",
       "      <td>1</td>\n",
       "      <td>12</td>\n",
       "      <td>7</td>\n",
       "      <td>0</td>\n",
       "      <td>12</td>\n",
       "      <td>24</td>\n",
       "      <td>...</td>\n",
       "      <td>39.825333</td>\n",
       "      <td>143.756667</td>\n",
       "      <td>115.695333</td>\n",
       "      <td>202.602667</td>\n",
       "      <td>0.585000</td>\n",
       "      <td>462.054667</td>\n",
       "      <td>69.040000</td>\n",
       "      <td>14.117333</td>\n",
       "      <td>6.255000</td>\n",
       "      <td>35.544333</td>\n",
       "    </tr>\n",
       "    <tr>\n",
       "      <th>2</th>\n",
       "      <td>E002</td>\n",
       "      <td>1</td>\n",
       "      <td>2</td>\n",
       "      <td>38</td>\n",
       "      <td>1</td>\n",
       "      <td>14</td>\n",
       "      <td>17</td>\n",
       "      <td>14</td>\n",
       "      <td>31</td>\n",
       "      <td>122</td>\n",
       "      <td>...</td>\n",
       "      <td>20.052000</td>\n",
       "      <td>22.006000</td>\n",
       "      <td>50.182000</td>\n",
       "      <td>32.529333</td>\n",
       "      <td>2.499333</td>\n",
       "      <td>104.717000</td>\n",
       "      <td>92.789333</td>\n",
       "      <td>11.013333</td>\n",
       "      <td>0.945667</td>\n",
       "      <td>35.086000</td>\n",
       "    </tr>\n",
       "    <tr>\n",
       "      <th>3</th>\n",
       "      <td>E002</td>\n",
       "      <td>2</td>\n",
       "      <td>2</td>\n",
       "      <td>38</td>\n",
       "      <td>1</td>\n",
       "      <td>13</td>\n",
       "      <td>36</td>\n",
       "      <td>16</td>\n",
       "      <td>32</td>\n",
       "      <td>139</td>\n",
       "      <td>...</td>\n",
       "      <td>20.201667</td>\n",
       "      <td>55.579000</td>\n",
       "      <td>84.441000</td>\n",
       "      <td>18.754000</td>\n",
       "      <td>5.803000</td>\n",
       "      <td>158.774333</td>\n",
       "      <td>85.980667</td>\n",
       "      <td>12.608333</td>\n",
       "      <td>0.785667</td>\n",
       "      <td>36.141000</td>\n",
       "    </tr>\n",
       "    <tr>\n",
       "      <th>4</th>\n",
       "      <td>E002</td>\n",
       "      <td>3</td>\n",
       "      <td>2</td>\n",
       "      <td>38</td>\n",
       "      <td>1</td>\n",
       "      <td>7</td>\n",
       "      <td>10</td>\n",
       "      <td>11</td>\n",
       "      <td>23</td>\n",
       "      <td>70</td>\n",
       "      <td>...</td>\n",
       "      <td>74.788000</td>\n",
       "      <td>182.229000</td>\n",
       "      <td>530.565667</td>\n",
       "      <td>546.574000</td>\n",
       "      <td>1.685667</td>\n",
       "      <td>1259.368667</td>\n",
       "      <td>84.368667</td>\n",
       "      <td>14.285667</td>\n",
       "      <td>0.648000</td>\n",
       "      <td>35.879000</td>\n",
       "    </tr>\n",
       "  </tbody>\n",
       "</table>\n",
       "<p>5 rows × 93 columns</p>\n",
       "</div>"
      ],
      "text/plain": [
       "    sub  VISIT  disorder  age  gender  HAMD  HAMA  PDSS  ASI  APPQ  ...  \\\n",
       "0  E001      4         2   23       1     2     2     1   12    22  ...   \n",
       "1  E001      5         2   23       1    12     7     0   12    24  ...   \n",
       "2  E002      1         2   38       1    14    17    14   31   122  ...   \n",
       "3  E002      2         2   38       1    13    36    16   32   139  ...   \n",
       "4  E002      3         2   38       1     7    10    11   23    70  ...   \n",
       "\n",
       "      cRMSSD        cVLF         cLF         cHF    cLF/HF       cPOWER  \\\n",
       "0  41.544667  190.107000  298.508333  206.862333  1.284000   695.477333   \n",
       "1  39.825333  143.756667  115.695333  202.602667  0.585000   462.054667   \n",
       "2  20.052000   22.006000   50.182000   32.529333  2.499333   104.717000   \n",
       "3  20.201667   55.579000   84.441000   18.754000  5.803000   158.774333   \n",
       "4  74.788000  182.229000  530.565667  546.574000  1.685667  1259.368667   \n",
       "\n",
       "         cHR      cRESP       cSC      cTEMP  \n",
       "0  65.707000  14.054333  3.911333  34.998000  \n",
       "1  69.040000  14.117333  6.255000  35.544333  \n",
       "2  92.789333  11.013333  0.945667  35.086000  \n",
       "3  85.980667  12.608333  0.785667  36.141000  \n",
       "4  84.368667  14.285667  0.648000  35.879000  \n",
       "\n",
       "[5 rows x 93 columns]"
      ]
     },
     "execution_count": 6,
     "metadata": {},
     "output_type": "execute_result"
    }
   ],
   "source": [
    "# HRV 데이터셋 불러오기\n",
    "hrv_df = pd.read_csv('E:/RESEARCH/Datasets/HRV/HRV_samsung/HRV_REV_all.csv', sep=',')\n",
    "hrv_df.head()"
   ]
  },
  {
   "cell_type": "code",
   "execution_count": null,
   "id": "9ba21a72-3750-42fd-9edc-d7a9266a96ea",
   "metadata": {},
   "outputs": [],
   "source": []
  },
  {
   "cell_type": "code",
   "execution_count": 7,
   "id": "37e232bf-753a-41dd-8fc3-d1ef00cc9441",
   "metadata": {},
   "outputs": [
    {
     "data": {
      "text/plain": [
       "(479, 93)"
      ]
     },
     "execution_count": 7,
     "metadata": {},
     "output_type": "execute_result"
    }
   ],
   "source": [
    "hrv_df.shape"
   ]
  },
  {
   "cell_type": "markdown",
   "id": "467f36b6-4543-492a-83c9-e76143be1d20",
   "metadata": {},
   "source": []
  },
  {
   "cell_type": "markdown",
   "id": "1ce6e5a7-5ec6-4b51-bd37-5e76d18f82d4",
   "metadata": {},
   "source": [
    "HRV measuring steps\n",
    "* b1 - s - b2 - r - b3 - c\n",
    "* Phase: b(baseline between each phase), s(stress phase), r(relaxation phase), c(recovery phase)\n",
    "* Disorder(=label): 1(Depression), 2(Panic Disorder), 3(Control)\n",
    "* Each has following variables (Total 13 variables)\n",
    "> SDNN, NN50, PNN50, RMSSD, VLF, LF, HF, LF/HF, POWER, HR, RESP, SC, TEMP"
   ]
  },
  {
   "cell_type": "code",
   "execution_count": 8,
   "id": "b751f12b-c544-4e44-a1c5-017c62a23940",
   "metadata": {},
   "outputs": [
    {
     "data": {
      "text/plain": [
       "Index(['sub', 'VISIT', 'disorder', 'age', 'gender', 'HAMD', 'HAMA', 'PDSS',\n",
       "       'ASI', 'APPQ', 'PSWQ', 'SPI', 'PSS', 'BIS', 'SSI', 'b1SDNN', 'b1NN50',\n",
       "       'b1PNN50', 'b1RMSSD', 'b1VLF', 'b1LF', 'b1HF', 'b1LF/HF', 'b1POWER',\n",
       "       'b1HR', 'b1RESP', 'b1SC', 'b1TEMP', 'sSDNN', 'sNN50', 'sPNN50',\n",
       "       'sRMSSD', 'sVLF', 'sLF', 'sHF', 'sLF/HF', 'sPOWER', 'sHR', 'sRESP',\n",
       "       'sSC', 'sTEMP', 'b2SDNN', 'b2NN50', 'b2PNN50', 'b2RMSSD', 'b2VLF',\n",
       "       'b2LF', 'b2HF', 'b2LF/HF', 'b2POWER', 'b2HR', 'b2RESP', 'b2SC',\n",
       "       'b2TEMP', 'rSDNN', 'rNN50', 'rPNN50', 'rRMSSD', 'rVLF', 'rLF', 'rHF',\n",
       "       'rLF/HF', 'rPOWER', 'rHR', 'rRESP', 'rSC', 'rTEMP', 'b3SDNN', 'b3NN50',\n",
       "       'b3PNN50', 'b3RMSSD', 'b3VLF', 'b3LF', 'b3HF', 'b3LF/HF', 'b3POWER',\n",
       "       'b3HR', 'b3RESP', 'b3SC', 'b3TEMP', 'cSDNN', 'cNN50', 'cPNN50',\n",
       "       'cRMSSD', 'cVLF', 'cLF', 'cHF', 'cLF/HF', 'cPOWER', 'cHR', 'cRESP',\n",
       "       'cSC', 'cTEMP'],\n",
       "      dtype='object')"
      ]
     },
     "execution_count": 8,
     "metadata": {},
     "output_type": "execute_result"
    }
   ],
   "source": [
    "hrv_df.columns"
   ]
  },
  {
   "cell_type": "code",
   "execution_count": 9,
   "id": "aba422cd-bc59-4e49-8d7a-d3e18ae84c09",
   "metadata": {},
   "outputs": [
    {
     "data": {
      "text/plain": [
       "3    194\n",
       "2    149\n",
       "1    136\n",
       "Name: disorder, dtype: int64"
      ]
     },
     "execution_count": 9,
     "metadata": {},
     "output_type": "execute_result"
    }
   ],
   "source": [
    "hrv_df[\"disorder\"].value_counts() ## MDD 136, PD 149, Control 194"
   ]
  },
  {
   "cell_type": "code",
   "execution_count": null,
   "id": "08524512-6555-44b4-ad51-fe2c4ae9b0da",
   "metadata": {},
   "outputs": [],
   "source": []
  },
  {
   "cell_type": "markdown",
   "id": "b6ba43f8-ad9c-42f4-a345-a46780383bf0",
   "metadata": {},
   "source": [
    "- - -"
   ]
  },
  {
   "cell_type": "markdown",
   "id": "d14dcf14-14eb-447e-8f34-4dc75d4b108f",
   "metadata": {},
   "source": [
    "## Data preprocessing"
   ]
  },
  {
   "cell_type": "markdown",
   "id": "fcf15524-6ff0-43f8-9ce7-8635b8847540",
   "metadata": {},
   "source": [
    "* Select the analysis task\n",
    "> MDDPD, MDDC, PDC, none"
   ]
  },
  {
   "cell_type": "code",
   "execution_count": 10,
   "id": "82b15c38-039d-4ed2-bdde-b69d81edefeb",
   "metadata": {},
   "outputs": [],
   "source": [
    "## Select the task to be analyzed\n",
    "# task = \"MDDC\"\n",
    "task = \"NONE\""
   ]
  },
  {
   "cell_type": "code",
   "execution_count": 11,
   "id": "77215c88-9579-48b1-9c01-3926b26f3722",
   "metadata": {},
   "outputs": [],
   "source": [
    "if task == \"MDDPD\":\n",
    "    hrv = hrv_df[hrv_df[\"disorder\"].isin([1,2])] ## for MDD vs PD task\n",
    "elif task == \"MDDC\":\n",
    "    hrv = hrv_df[hrv_df[\"disorder\"].isin([1,3])] ## for MDD vs Control task\n",
    "elif task == \"PDC\":\n",
    "    hrv = hrv_df[hrv_df[\"disorder\"].isin([2,3])]       ## for PD  vs Control task\n",
    "else:\n",
    "    hrv = hrv_df ## for MDD vs PD vs Control task"
   ]
  },
  {
   "cell_type": "code",
   "execution_count": 12,
   "id": "10d663cb-c4aa-4b4c-999c-140c28d6cf41",
   "metadata": {},
   "outputs": [
    {
     "data": {
      "text/plain": [
       "(479, 93)"
      ]
     },
     "execution_count": 12,
     "metadata": {},
     "output_type": "execute_result"
    }
   ],
   "source": [
    "hrv.shape"
   ]
  },
  {
   "cell_type": "code",
   "execution_count": null,
   "id": "033644c8-1af3-4f52-b228-98b04f4681cf",
   "metadata": {},
   "outputs": [],
   "source": []
  },
  {
   "cell_type": "code",
   "execution_count": 13,
   "id": "e6df8e60-da0b-40fb-813e-b675e5d28620",
   "metadata": {},
   "outputs": [],
   "source": [
    "## scaler setting for data standardization.\n",
    "scaler = MinMaxScaler()"
   ]
  },
  {
   "cell_type": "code",
   "execution_count": 14,
   "id": "57157422-fba8-4e40-9140-9ff23592b059",
   "metadata": {},
   "outputs": [],
   "source": [
    "## Separating HRV dataset by experimental steps.\n",
    "hrv_only = hrv.drop(columns=['sub', 'VISIT', 'disorder', 'age','gender','HAMD', 'HAMA', 'PDSS', 'ASI', 'APPQ','PSWQ','SPI','PSS','BIS','SSI']) ##leave the variables only about HRV features.\n",
    "hrv_only[:] = scaler.fit_transform(hrv_only[:])  ##Standardizing. if not necessary, delete.  \n",
    "hrv_b1 = hrv.filter(regex='^b1')\n",
    "hrv_s = hrv.filter(regex='^s')\n",
    "hrv_b2 = hrv.filter(regex='^b2')\n",
    "hrv_r = hrv.filter(regex='^r')\n",
    "hrv_b3 = hrv.filter(regex='^b3')\n",
    "hrv_c = hrv.filter(regex='^c')"
   ]
  },
  {
   "cell_type": "code",
   "execution_count": 15,
   "id": "3afcedab-482c-4e88-884e-9bce72543555",
   "metadata": {},
   "outputs": [
    {
     "data": {
      "text/html": [
       "<div>\n",
       "<style scoped>\n",
       "    .dataframe tbody tr th:only-of-type {\n",
       "        vertical-align: middle;\n",
       "    }\n",
       "\n",
       "    .dataframe tbody tr th {\n",
       "        vertical-align: top;\n",
       "    }\n",
       "\n",
       "    .dataframe thead th {\n",
       "        text-align: right;\n",
       "    }\n",
       "</style>\n",
       "<table border=\"1\" class=\"dataframe\">\n",
       "  <thead>\n",
       "    <tr style=\"text-align: right;\">\n",
       "      <th></th>\n",
       "      <th>b1SDNN</th>\n",
       "      <th>b1NN50</th>\n",
       "      <th>b1PNN50</th>\n",
       "      <th>b1RMSSD</th>\n",
       "      <th>b1VLF</th>\n",
       "      <th>b1LF</th>\n",
       "      <th>b1HF</th>\n",
       "      <th>b1LF/HF</th>\n",
       "      <th>b1POWER</th>\n",
       "      <th>b1HR</th>\n",
       "      <th>...</th>\n",
       "      <th>cRMSSD</th>\n",
       "      <th>cVLF</th>\n",
       "      <th>cLF</th>\n",
       "      <th>cHF</th>\n",
       "      <th>cLF/HF</th>\n",
       "      <th>cPOWER</th>\n",
       "      <th>cHR</th>\n",
       "      <th>cRESP</th>\n",
       "      <th>cSC</th>\n",
       "      <th>cTEMP</th>\n",
       "    </tr>\n",
       "  </thead>\n",
       "  <tbody>\n",
       "    <tr>\n",
       "      <th>0</th>\n",
       "      <td>0.075757</td>\n",
       "      <td>0.344</td>\n",
       "      <td>0.495745</td>\n",
       "      <td>0.054862</td>\n",
       "      <td>0.000710</td>\n",
       "      <td>0.000565</td>\n",
       "      <td>0.003834</td>\n",
       "      <td>0.007478</td>\n",
       "      <td>0.001303</td>\n",
       "      <td>0.145328</td>\n",
       "      <td>...</td>\n",
       "      <td>0.047600</td>\n",
       "      <td>0.001651</td>\n",
       "      <td>0.001531</td>\n",
       "      <td>0.001556</td>\n",
       "      <td>0.026915</td>\n",
       "      <td>0.001560</td>\n",
       "      <td>0.219382</td>\n",
       "      <td>0.553832</td>\n",
       "      <td>0.264775</td>\n",
       "      <td>0.879143</td>\n",
       "    </tr>\n",
       "    <tr>\n",
       "      <th>1</th>\n",
       "      <td>0.064662</td>\n",
       "      <td>0.328</td>\n",
       "      <td>0.446809</td>\n",
       "      <td>0.044981</td>\n",
       "      <td>0.000722</td>\n",
       "      <td>0.001170</td>\n",
       "      <td>0.002868</td>\n",
       "      <td>0.027090</td>\n",
       "      <td>0.001374</td>\n",
       "      <td>0.192303</td>\n",
       "      <td>...</td>\n",
       "      <td>0.045500</td>\n",
       "      <td>0.001244</td>\n",
       "      <td>0.000591</td>\n",
       "      <td>0.001524</td>\n",
       "      <td>0.010246</td>\n",
       "      <td>0.001029</td>\n",
       "      <td>0.259603</td>\n",
       "      <td>0.561629</td>\n",
       "      <td>0.424709</td>\n",
       "      <td>0.927001</td>\n",
       "    </tr>\n",
       "    <tr>\n",
       "      <th>2</th>\n",
       "      <td>0.034528</td>\n",
       "      <td>0.000</td>\n",
       "      <td>0.000000</td>\n",
       "      <td>0.012500</td>\n",
       "      <td>0.000932</td>\n",
       "      <td>0.000505</td>\n",
       "      <td>0.000515</td>\n",
       "      <td>0.091000</td>\n",
       "      <td>0.000661</td>\n",
       "      <td>0.549465</td>\n",
       "      <td>...</td>\n",
       "      <td>0.021346</td>\n",
       "      <td>0.000173</td>\n",
       "      <td>0.000254</td>\n",
       "      <td>0.000241</td>\n",
       "      <td>0.055897</td>\n",
       "      <td>0.000216</td>\n",
       "      <td>0.546196</td>\n",
       "      <td>0.177502</td>\n",
       "      <td>0.062395</td>\n",
       "      <td>0.886851</td>\n",
       "    </tr>\n",
       "    <tr>\n",
       "      <th>3</th>\n",
       "      <td>0.031088</td>\n",
       "      <td>0.000</td>\n",
       "      <td>0.000000</td>\n",
       "      <td>0.010866</td>\n",
       "      <td>0.000941</td>\n",
       "      <td>0.001012</td>\n",
       "      <td>0.000574</td>\n",
       "      <td>0.151341</td>\n",
       "      <td>0.000902</td>\n",
       "      <td>0.525489</td>\n",
       "      <td>...</td>\n",
       "      <td>0.021529</td>\n",
       "      <td>0.000469</td>\n",
       "      <td>0.000430</td>\n",
       "      <td>0.000138</td>\n",
       "      <td>0.134680</td>\n",
       "      <td>0.000339</td>\n",
       "      <td>0.464033</td>\n",
       "      <td>0.374887</td>\n",
       "      <td>0.051476</td>\n",
       "      <td>0.979268</td>\n",
       "    </tr>\n",
       "    <tr>\n",
       "      <th>4</th>\n",
       "      <td>0.116386</td>\n",
       "      <td>0.144</td>\n",
       "      <td>0.141135</td>\n",
       "      <td>0.087233</td>\n",
       "      <td>0.000600</td>\n",
       "      <td>0.001868</td>\n",
       "      <td>0.003691</td>\n",
       "      <td>0.023884</td>\n",
       "      <td>0.001814</td>\n",
       "      <td>0.539072</td>\n",
       "      <td>...</td>\n",
       "      <td>0.088209</td>\n",
       "      <td>0.001582</td>\n",
       "      <td>0.002726</td>\n",
       "      <td>0.004118</td>\n",
       "      <td>0.036494</td>\n",
       "      <td>0.002843</td>\n",
       "      <td>0.444581</td>\n",
       "      <td>0.582460</td>\n",
       "      <td>0.042082</td>\n",
       "      <td>0.956317</td>\n",
       "    </tr>\n",
       "  </tbody>\n",
       "</table>\n",
       "<p>5 rows × 78 columns</p>\n",
       "</div>"
      ],
      "text/plain": [
       "     b1SDNN  b1NN50   b1PNN50   b1RMSSD     b1VLF      b1LF      b1HF  \\\n",
       "0  0.075757   0.344  0.495745  0.054862  0.000710  0.000565  0.003834   \n",
       "1  0.064662   0.328  0.446809  0.044981  0.000722  0.001170  0.002868   \n",
       "2  0.034528   0.000  0.000000  0.012500  0.000932  0.000505  0.000515   \n",
       "3  0.031088   0.000  0.000000  0.010866  0.000941  0.001012  0.000574   \n",
       "4  0.116386   0.144  0.141135  0.087233  0.000600  0.001868  0.003691   \n",
       "\n",
       "    b1LF/HF   b1POWER      b1HR  ...    cRMSSD      cVLF       cLF       cHF  \\\n",
       "0  0.007478  0.001303  0.145328  ...  0.047600  0.001651  0.001531  0.001556   \n",
       "1  0.027090  0.001374  0.192303  ...  0.045500  0.001244  0.000591  0.001524   \n",
       "2  0.091000  0.000661  0.549465  ...  0.021346  0.000173  0.000254  0.000241   \n",
       "3  0.151341  0.000902  0.525489  ...  0.021529  0.000469  0.000430  0.000138   \n",
       "4  0.023884  0.001814  0.539072  ...  0.088209  0.001582  0.002726  0.004118   \n",
       "\n",
       "     cLF/HF    cPOWER       cHR     cRESP       cSC     cTEMP  \n",
       "0  0.026915  0.001560  0.219382  0.553832  0.264775  0.879143  \n",
       "1  0.010246  0.001029  0.259603  0.561629  0.424709  0.927001  \n",
       "2  0.055897  0.000216  0.546196  0.177502  0.062395  0.886851  \n",
       "3  0.134680  0.000339  0.464033  0.374887  0.051476  0.979268  \n",
       "4  0.036494  0.002843  0.444581  0.582460  0.042082  0.956317  \n",
       "\n",
       "[5 rows x 78 columns]"
      ]
     },
     "execution_count": 15,
     "metadata": {},
     "output_type": "execute_result"
    }
   ],
   "source": [
    "hrv_only.head()"
   ]
  },
  {
   "cell_type": "code",
   "execution_count": 16,
   "id": "37aca40b-6e9d-413e-8793-8f6d141a959d",
   "metadata": {},
   "outputs": [
    {
     "data": {
      "text/plain": [
       "(479, 78)"
      ]
     },
     "execution_count": 16,
     "metadata": {},
     "output_type": "execute_result"
    }
   ],
   "source": [
    "hrv_only.shape"
   ]
  },
  {
   "cell_type": "code",
   "execution_count": 17,
   "id": "ebeb4a97-c0ba-43f6-9808-0fd188c4657f",
   "metadata": {},
   "outputs": [
    {
     "name": "stdout",
     "output_type": "stream",
     "text": [
      "HRV baseline #1 shape is: 13\n",
      "HRV stress shape is: 14\n",
      "HRV baseline #2 shape is: 13\n",
      "HRV rest shape is: 13\n",
      "HRV baseline #3 shape is: 13\n",
      "HRV c shape is: 13\n"
     ]
    }
   ],
   "source": [
    "## Check whethere each phase contains the same variables.\n",
    "print(\"HRV baseline #1 shape is:\", hrv_b1.shape[1])\n",
    "print(\"HRV stress shape is:\", hrv_s.shape[1])\n",
    "print(\"HRV baseline #2 shape is:\", hrv_b2.shape[1])\n",
    "print(\"HRV rest shape is:\", hrv_r.shape[1])\n",
    "print(\"HRV baseline #3 shape is:\", hrv_b3.shape[1])\n",
    "print(\"HRV c shape is:\", hrv_b1.shape[1])"
   ]
  },
  {
   "cell_type": "code",
   "execution_count": 18,
   "id": "967ac4be-0ac5-4fb8-bf11-c3714162028d",
   "metadata": {},
   "outputs": [],
   "source": [
    "hrv_s = hrv_s.drop(columns=['sub'])"
   ]
  },
  {
   "cell_type": "code",
   "execution_count": null,
   "id": "73fe4b23-9c5a-4b62-9389-3972924f4b26",
   "metadata": {},
   "outputs": [],
   "source": []
  },
  {
   "cell_type": "code",
   "execution_count": 19,
   "id": "f9241cba-39ef-4dd4-abeb-cfab2ea31e63",
   "metadata": {},
   "outputs": [],
   "source": [
    "## Renaming the columns for further calculation.\n",
    "## We need to generate new dataframes to compare the phases.\n",
    "hrv_sub = hrv.loc[:, ['sub']]\n",
    "hrv_disorder = hrv.loc[:,['disorder']] -1 ## 0(Depression), 1(Panic Disorder), 2(Control)\n",
    "hrv_gender = hrv.loc[:,['gender']]\n",
    "hrv_HAMD = hrv.loc[:,['HAMD']]\n",
    "hrv_PDSS = hrv.loc[:,['PDSS']]\n",
    "\n",
    "hrv_variables = [\"SDNN\", \"NN50\", \"PNN50\", \"RMSSD\", \"VLF\", \"LF\", \"HF\", \"LF/HF\", \"POWER\", \"HR\", \"RESP\", \"SC\", \"TEMP\"]\n",
    "hrv_b1_rename = hrv_b1.set_axis([\"SDNN\", \"NN50\", \"PNN50\", \"RMSSD\", \"VLF\", \"LF\", \"HF\", \"LF/HF\", \"POWER\", \"HR\", \"RESP\", \"SC\", \"TEMP\"], axis=1)\n",
    "hrv_b2_rename = hrv_b2.set_axis([\"SDNN\", \"NN50\", \"PNN50\", \"RMSSD\", \"VLF\", \"LF\", \"HF\", \"LF/HF\", \"POWER\", \"HR\", \"RESP\", \"SC\", \"TEMP\"], axis=1)\n",
    "hrv_b3_rename = hrv_b3.set_axis([\"SDNN\", \"NN50\", \"PNN50\", \"RMSSD\", \"VLF\", \"LF\", \"HF\", \"LF/HF\", \"POWER\", \"HR\", \"RESP\", \"SC\", \"TEMP\"], axis=1)\n",
    "hrv_s_rename = hrv_s.set_axis([\"SDNN\", \"NN50\", \"PNN50\", \"RMSSD\", \"VLF\", \"LF\", \"HF\", \"LF/HF\", \"POWER\", \"HR\", \"RESP\", \"SC\", \"TEMP\"], axis=1)\n",
    "hrv_r_rename = hrv_r.set_axis([\"SDNN\", \"NN50\", \"PNN50\", \"RMSSD\", \"VLF\", \"LF\", \"HF\", \"LF/HF\", \"POWER\", \"HR\", \"RESP\", \"SC\", \"TEMP\"], axis=1)\n",
    "hrv_c_rename = hrv_c.set_axis([\"SDNN\", \"NN50\", \"PNN50\", \"RMSSD\", \"VLF\", \"LF\", \"HF\", \"LF/HF\", \"POWER\", \"HR\", \"RESP\", \"SC\", \"TEMP\"], axis=1)"
   ]
  },
  {
   "cell_type": "code",
   "execution_count": 20,
   "id": "4b64ea93-83c3-4e05-81a7-5a28a10ea859",
   "metadata": {},
   "outputs": [
    {
     "data": {
      "text/plain": [
       "disorder\n",
       "2           194\n",
       "1           149\n",
       "0           136\n",
       "dtype: int64"
      ]
     },
     "execution_count": 20,
     "metadata": {},
     "output_type": "execute_result"
    }
   ],
   "source": [
    "hrv_disorder.value_counts()"
   ]
  },
  {
   "cell_type": "code",
   "execution_count": null,
   "id": "be3403c5-4804-4366-ad40-7821cec140bc",
   "metadata": {},
   "outputs": [],
   "source": []
  },
  {
   "cell_type": "markdown",
   "id": "11cd7a80-2ac5-41de-abab-61cc10d63bbd",
   "metadata": {},
   "source": [
    "- - -"
   ]
  },
  {
   "cell_type": "markdown",
   "id": "952c1137-a7d9-4ff7-b32b-bb1f625153ce",
   "metadata": {},
   "source": [
    "## Comparisons between Phases"
   ]
  },
  {
   "cell_type": "markdown",
   "id": "23641f3e-6bbd-4f97-99ba-f6c22aaca19f",
   "metadata": {},
   "source": [
    "* HRV measuring steps: b1 - s - b2 - r - b3 - c\n",
    "* Each has following variables (Total 13 variables): SDNN, NN50, PNN50, RMSSD, VLF, LF, HF, LF/HF, POWER, HR, RESP, SC, TEMP"
   ]
  },
  {
   "cell_type": "markdown",
   "id": "bf0fc8f4-1e22-4129-be79-0a0b9e7cf148",
   "metadata": {},
   "source": [
    "Since the experimental phase steps are \"b1-s-b2-r-b3-c\", there are total 5 between phases"
   ]
  },
  {
   "cell_type": "markdown",
   "id": "4a1cc872-0081-45e5-8168-6131b5c36b0a",
   "metadata": {},
   "source": [
    "### 1) Baseline 1 - Stress phase"
   ]
  },
  {
   "cell_type": "code",
   "execution_count": 21,
   "id": "cec2bbc3-c39e-4788-978a-86967f0536b5",
   "metadata": {},
   "outputs": [
    {
     "data": {
      "text/html": [
       "<div>\n",
       "<style scoped>\n",
       "    .dataframe tbody tr th:only-of-type {\n",
       "        vertical-align: middle;\n",
       "    }\n",
       "\n",
       "    .dataframe tbody tr th {\n",
       "        vertical-align: top;\n",
       "    }\n",
       "\n",
       "    .dataframe thead th {\n",
       "        text-align: right;\n",
       "    }\n",
       "</style>\n",
       "<table border=\"1\" class=\"dataframe\">\n",
       "  <thead>\n",
       "    <tr style=\"text-align: right;\">\n",
       "      <th></th>\n",
       "      <th>SDNN</th>\n",
       "      <th>NN50</th>\n",
       "      <th>PNN50</th>\n",
       "      <th>RMSSD</th>\n",
       "      <th>VLF</th>\n",
       "      <th>LF</th>\n",
       "      <th>HF</th>\n",
       "      <th>LF/HF</th>\n",
       "      <th>POWER</th>\n",
       "      <th>HR</th>\n",
       "      <th>RESP</th>\n",
       "      <th>SC</th>\n",
       "      <th>TEMP</th>\n",
       "    </tr>\n",
       "  </thead>\n",
       "  <tbody>\n",
       "    <tr>\n",
       "      <th>0</th>\n",
       "      <td>0.287667</td>\n",
       "      <td>4.666667</td>\n",
       "      <td>0.086333</td>\n",
       "      <td>10.664333</td>\n",
       "      <td>-2.756000</td>\n",
       "      <td>-279.967000</td>\n",
       "      <td>184.906667</td>\n",
       "      <td>-2.611000</td>\n",
       "      <td>-97.816333</td>\n",
       "      <td>-4.520333</td>\n",
       "      <td>2.624333</td>\n",
       "      <td>-4.828000</td>\n",
       "      <td>1.002000</td>\n",
       "    </tr>\n",
       "    <tr>\n",
       "      <th>1</th>\n",
       "      <td>-21.138333</td>\n",
       "      <td>3.666667</td>\n",
       "      <td>0.070667</td>\n",
       "      <td>-24.260667</td>\n",
       "      <td>-373.648667</td>\n",
       "      <td>-1140.831334</td>\n",
       "      <td>-1154.247667</td>\n",
       "      <td>-1.071333</td>\n",
       "      <td>-2668.727667</td>\n",
       "      <td>-8.211000</td>\n",
       "      <td>1.535000</td>\n",
       "      <td>-9.487000</td>\n",
       "      <td>0.614000</td>\n",
       "    </tr>\n",
       "    <tr>\n",
       "      <th>2</th>\n",
       "      <td>2.049333</td>\n",
       "      <td>0.000000</td>\n",
       "      <td>0.000000</td>\n",
       "      <td>-1.726000</td>\n",
       "      <td>76.143333</td>\n",
       "      <td>-29.314667</td>\n",
       "      <td>-26.714333</td>\n",
       "      <td>1.287667</td>\n",
       "      <td>20.114667</td>\n",
       "      <td>-2.449667</td>\n",
       "      <td>2.892333</td>\n",
       "      <td>-0.319667</td>\n",
       "      <td>-0.020333</td>\n",
       "    </tr>\n",
       "    <tr>\n",
       "      <th>3</th>\n",
       "      <td>6.312333</td>\n",
       "      <td>0.000000</td>\n",
       "      <td>0.000000</td>\n",
       "      <td>1.099333</td>\n",
       "      <td>98.432667</td>\n",
       "      <td>136.848000</td>\n",
       "      <td>24.599000</td>\n",
       "      <td>2.798000</td>\n",
       "      <td>259.880333</td>\n",
       "      <td>-0.202667</td>\n",
       "      <td>4.266333</td>\n",
       "      <td>-0.033667</td>\n",
       "      <td>-0.057667</td>\n",
       "    </tr>\n",
       "    <tr>\n",
       "      <th>4</th>\n",
       "      <td>28.445667</td>\n",
       "      <td>3.000000</td>\n",
       "      <td>0.032667</td>\n",
       "      <td>43.376000</td>\n",
       "      <td>57.050333</td>\n",
       "      <td>46.734333</td>\n",
       "      <td>59.237667</td>\n",
       "      <td>-0.705667</td>\n",
       "      <td>163.023000</td>\n",
       "      <td>2.514667</td>\n",
       "      <td>3.533000</td>\n",
       "      <td>-0.017000</td>\n",
       "      <td>-0.001000</td>\n",
       "    </tr>\n",
       "  </tbody>\n",
       "</table>\n",
       "</div>"
      ],
      "text/plain": [
       "        SDNN      NN50     PNN50      RMSSD         VLF           LF  \\\n",
       "0   0.287667  4.666667  0.086333  10.664333   -2.756000  -279.967000   \n",
       "1 -21.138333  3.666667  0.070667 -24.260667 -373.648667 -1140.831334   \n",
       "2   2.049333  0.000000  0.000000  -1.726000   76.143333   -29.314667   \n",
       "3   6.312333  0.000000  0.000000   1.099333   98.432667   136.848000   \n",
       "4  28.445667  3.000000  0.032667  43.376000   57.050333    46.734333   \n",
       "\n",
       "            HF     LF/HF        POWER        HR      RESP        SC      TEMP  \n",
       "0   184.906667 -2.611000   -97.816333 -4.520333  2.624333 -4.828000  1.002000  \n",
       "1 -1154.247667 -1.071333 -2668.727667 -8.211000  1.535000 -9.487000  0.614000  \n",
       "2   -26.714333  1.287667    20.114667 -2.449667  2.892333 -0.319667 -0.020333  \n",
       "3    24.599000  2.798000   259.880333 -0.202667  4.266333 -0.033667 -0.057667  \n",
       "4    59.237667 -0.705667   163.023000  2.514667  3.533000 -0.017000 -0.001000  "
      ]
     },
     "execution_count": 21,
     "metadata": {},
     "output_type": "execute_result"
    }
   ],
   "source": [
    "hrv_b1_s_sub = hrv_b1_rename - hrv_s_rename\n",
    "hrv_b1_s_sub.head()"
   ]
  },
  {
   "cell_type": "code",
   "execution_count": null,
   "id": "aa63b0af-528b-4c06-bbab-b606f1395075",
   "metadata": {},
   "outputs": [],
   "source": []
  },
  {
   "cell_type": "markdown",
   "id": "a749cd83-297e-482f-b4d3-68dcfffd4293",
   "metadata": {},
   "source": [
    "### 2) Stress - Baseline 2 phase"
   ]
  },
  {
   "cell_type": "code",
   "execution_count": 22,
   "id": "ec0c53bf-fae3-4e90-af09-7a983f64c45e",
   "metadata": {},
   "outputs": [
    {
     "data": {
      "text/html": [
       "<div>\n",
       "<style scoped>\n",
       "    .dataframe tbody tr th:only-of-type {\n",
       "        vertical-align: middle;\n",
       "    }\n",
       "\n",
       "    .dataframe tbody tr th {\n",
       "        vertical-align: top;\n",
       "    }\n",
       "\n",
       "    .dataframe thead th {\n",
       "        text-align: right;\n",
       "    }\n",
       "</style>\n",
       "<table border=\"1\" class=\"dataframe\">\n",
       "  <thead>\n",
       "    <tr style=\"text-align: right;\">\n",
       "      <th></th>\n",
       "      <th>SDNN</th>\n",
       "      <th>NN50</th>\n",
       "      <th>PNN50</th>\n",
       "      <th>RMSSD</th>\n",
       "      <th>VLF</th>\n",
       "      <th>LF</th>\n",
       "      <th>HF</th>\n",
       "      <th>LF/HF</th>\n",
       "      <th>POWER</th>\n",
       "      <th>HR</th>\n",
       "      <th>RESP</th>\n",
       "      <th>SC</th>\n",
       "      <th>TEMP</th>\n",
       "    </tr>\n",
       "  </thead>\n",
       "  <tbody>\n",
       "    <tr>\n",
       "      <th>0</th>\n",
       "      <td>-11.360000</td>\n",
       "      <td>-5.333333</td>\n",
       "      <td>-0.096667</td>\n",
       "      <td>-18.286000</td>\n",
       "      <td>-58.710000</td>\n",
       "      <td>-66.028667</td>\n",
       "      <td>-406.971333</td>\n",
       "      <td>2.004000</td>\n",
       "      <td>-531.710000</td>\n",
       "      <td>4.353333</td>\n",
       "      <td>-1.105333</td>\n",
       "      <td>-0.297667</td>\n",
       "      <td>-0.856667</td>\n",
       "    </tr>\n",
       "    <tr>\n",
       "      <th>1</th>\n",
       "      <td>9.035667</td>\n",
       "      <td>-4.333333</td>\n",
       "      <td>-0.080333</td>\n",
       "      <td>20.483333</td>\n",
       "      <td>234.864333</td>\n",
       "      <td>1052.266334</td>\n",
       "      <td>993.647000</td>\n",
       "      <td>1.265333</td>\n",
       "      <td>2280.777667</td>\n",
       "      <td>8.344667</td>\n",
       "      <td>0.931000</td>\n",
       "      <td>2.270000</td>\n",
       "      <td>0.033667</td>\n",
       "    </tr>\n",
       "    <tr>\n",
       "      <th>2</th>\n",
       "      <td>2.347000</td>\n",
       "      <td>0.000000</td>\n",
       "      <td>0.000000</td>\n",
       "      <td>3.369000</td>\n",
       "      <td>13.332333</td>\n",
       "      <td>71.931667</td>\n",
       "      <td>45.656333</td>\n",
       "      <td>-0.551333</td>\n",
       "      <td>130.920000</td>\n",
       "      <td>3.359667</td>\n",
       "      <td>-1.622667</td>\n",
       "      <td>0.132000</td>\n",
       "      <td>0.003000</td>\n",
       "    </tr>\n",
       "    <tr>\n",
       "      <th>3</th>\n",
       "      <td>-5.727667</td>\n",
       "      <td>0.000000</td>\n",
       "      <td>0.000000</td>\n",
       "      <td>-2.342667</td>\n",
       "      <td>-48.445667</td>\n",
       "      <td>-33.052000</td>\n",
       "      <td>-11.412000</td>\n",
       "      <td>0.121000</td>\n",
       "      <td>-92.909667</td>\n",
       "      <td>4.459000</td>\n",
       "      <td>-3.775667</td>\n",
       "      <td>0.003333</td>\n",
       "      <td>-0.043667</td>\n",
       "    </tr>\n",
       "    <tr>\n",
       "      <th>4</th>\n",
       "      <td>25.174667</td>\n",
       "      <td>1.666667</td>\n",
       "      <td>0.018333</td>\n",
       "      <td>16.042000</td>\n",
       "      <td>-6.794000</td>\n",
       "      <td>182.404333</td>\n",
       "      <td>200.162000</td>\n",
       "      <td>-0.467333</td>\n",
       "      <td>375.771667</td>\n",
       "      <td>2.845333</td>\n",
       "      <td>-3.480667</td>\n",
       "      <td>-0.013333</td>\n",
       "      <td>-0.057667</td>\n",
       "    </tr>\n",
       "  </tbody>\n",
       "</table>\n",
       "</div>"
      ],
      "text/plain": [
       "        SDNN      NN50     PNN50      RMSSD         VLF           LF  \\\n",
       "0 -11.360000 -5.333333 -0.096667 -18.286000  -58.710000   -66.028667   \n",
       "1   9.035667 -4.333333 -0.080333  20.483333  234.864333  1052.266334   \n",
       "2   2.347000  0.000000  0.000000   3.369000   13.332333    71.931667   \n",
       "3  -5.727667  0.000000  0.000000  -2.342667  -48.445667   -33.052000   \n",
       "4  25.174667  1.666667  0.018333  16.042000   -6.794000   182.404333   \n",
       "\n",
       "           HF     LF/HF        POWER        HR      RESP        SC      TEMP  \n",
       "0 -406.971333  2.004000  -531.710000  4.353333 -1.105333 -0.297667 -0.856667  \n",
       "1  993.647000  1.265333  2280.777667  8.344667  0.931000  2.270000  0.033667  \n",
       "2   45.656333 -0.551333   130.920000  3.359667 -1.622667  0.132000  0.003000  \n",
       "3  -11.412000  0.121000   -92.909667  4.459000 -3.775667  0.003333 -0.043667  \n",
       "4  200.162000 -0.467333   375.771667  2.845333 -3.480667 -0.013333 -0.057667  "
      ]
     },
     "execution_count": 22,
     "metadata": {},
     "output_type": "execute_result"
    }
   ],
   "source": [
    "hrv_s_b2_sub = hrv_s_rename - hrv_b2_rename\n",
    "hrv_s_b2_sub.head()"
   ]
  },
  {
   "cell_type": "code",
   "execution_count": null,
   "id": "7acb0917-7080-43b8-9839-28eea1e4915f",
   "metadata": {},
   "outputs": [],
   "source": []
  },
  {
   "cell_type": "markdown",
   "id": "f4554a7c-a3af-466f-80b1-0abc7ddd01da",
   "metadata": {},
   "source": [
    "### 3) Baseline2 - Rest phase"
   ]
  },
  {
   "cell_type": "code",
   "execution_count": 23,
   "id": "7b53e579-c314-4100-81fd-ac4d21a14f1f",
   "metadata": {},
   "outputs": [
    {
     "data": {
      "text/html": [
       "<div>\n",
       "<style scoped>\n",
       "    .dataframe tbody tr th:only-of-type {\n",
       "        vertical-align: middle;\n",
       "    }\n",
       "\n",
       "    .dataframe tbody tr th {\n",
       "        vertical-align: top;\n",
       "    }\n",
       "\n",
       "    .dataframe thead th {\n",
       "        text-align: right;\n",
       "    }\n",
       "</style>\n",
       "<table border=\"1\" class=\"dataframe\">\n",
       "  <thead>\n",
       "    <tr style=\"text-align: right;\">\n",
       "      <th></th>\n",
       "      <th>SDNN</th>\n",
       "      <th>NN50</th>\n",
       "      <th>PNN50</th>\n",
       "      <th>RMSSD</th>\n",
       "      <th>VLF</th>\n",
       "      <th>LF</th>\n",
       "      <th>HF</th>\n",
       "      <th>LF/HF</th>\n",
       "      <th>POWER</th>\n",
       "      <th>HR</th>\n",
       "      <th>RESP</th>\n",
       "      <th>SC</th>\n",
       "      <th>TEMP</th>\n",
       "    </tr>\n",
       "  </thead>\n",
       "  <tbody>\n",
       "    <tr>\n",
       "      <th>0</th>\n",
       "      <td>10.395333</td>\n",
       "      <td>-1.000000</td>\n",
       "      <td>-0.012000</td>\n",
       "      <td>6.659000</td>\n",
       "      <td>-44.986000</td>\n",
       "      <td>-60.517000</td>\n",
       "      <td>89.346333</td>\n",
       "      <td>-0.140000</td>\n",
       "      <td>-16.157000</td>\n",
       "      <td>-0.738333</td>\n",
       "      <td>-0.327333</td>\n",
       "      <td>2.811667</td>\n",
       "      <td>-0.516667</td>\n",
       "    </tr>\n",
       "    <tr>\n",
       "      <th>1</th>\n",
       "      <td>8.564000</td>\n",
       "      <td>2.333333</td>\n",
       "      <td>0.038667</td>\n",
       "      <td>4.713000</td>\n",
       "      <td>88.049333</td>\n",
       "      <td>-244.483333</td>\n",
       "      <td>115.041667</td>\n",
       "      <td>-0.824333</td>\n",
       "      <td>-41.393000</td>\n",
       "      <td>-1.832333</td>\n",
       "      <td>-0.871000</td>\n",
       "      <td>4.765000</td>\n",
       "      <td>-0.102333</td>\n",
       "    </tr>\n",
       "    <tr>\n",
       "      <th>2</th>\n",
       "      <td>3.167333</td>\n",
       "      <td>0.000000</td>\n",
       "      <td>0.000000</td>\n",
       "      <td>0.588667</td>\n",
       "      <td>-18.453333</td>\n",
       "      <td>-2.815667</td>\n",
       "      <td>-6.873333</td>\n",
       "      <td>0.441000</td>\n",
       "      <td>-28.142000</td>\n",
       "      <td>-2.467333</td>\n",
       "      <td>0.249667</td>\n",
       "      <td>0.058333</td>\n",
       "      <td>0.066000</td>\n",
       "    </tr>\n",
       "    <tr>\n",
       "      <th>3</th>\n",
       "      <td>-10.102333</td>\n",
       "      <td>-1.000000</td>\n",
       "      <td>-0.012000</td>\n",
       "      <td>-6.834000</td>\n",
       "      <td>7.107667</td>\n",
       "      <td>-150.309000</td>\n",
       "      <td>-52.806333</td>\n",
       "      <td>-0.724000</td>\n",
       "      <td>-196.007667</td>\n",
       "      <td>2.282000</td>\n",
       "      <td>0.243467</td>\n",
       "      <td>-0.048667</td>\n",
       "      <td>0.001667</td>\n",
       "    </tr>\n",
       "    <tr>\n",
       "      <th>4</th>\n",
       "      <td>-60.977000</td>\n",
       "      <td>-1.333333</td>\n",
       "      <td>-0.016333</td>\n",
       "      <td>-79.491000</td>\n",
       "      <td>-46.755667</td>\n",
       "      <td>-70.231333</td>\n",
       "      <td>-440.990333</td>\n",
       "      <td>1.082333</td>\n",
       "      <td>-557.976667</td>\n",
       "      <td>1.675667</td>\n",
       "      <td>-0.406267</td>\n",
       "      <td>-0.018333</td>\n",
       "      <td>-0.025000</td>\n",
       "    </tr>\n",
       "  </tbody>\n",
       "</table>\n",
       "</div>"
      ],
      "text/plain": [
       "        SDNN      NN50     PNN50      RMSSD        VLF          LF  \\\n",
       "0  10.395333 -1.000000 -0.012000   6.659000 -44.986000  -60.517000   \n",
       "1   8.564000  2.333333  0.038667   4.713000  88.049333 -244.483333   \n",
       "2   3.167333  0.000000  0.000000   0.588667 -18.453333   -2.815667   \n",
       "3 -10.102333 -1.000000 -0.012000  -6.834000   7.107667 -150.309000   \n",
       "4 -60.977000 -1.333333 -0.016333 -79.491000 -46.755667  -70.231333   \n",
       "\n",
       "           HF     LF/HF       POWER        HR      RESP        SC      TEMP  \n",
       "0   89.346333 -0.140000  -16.157000 -0.738333 -0.327333  2.811667 -0.516667  \n",
       "1  115.041667 -0.824333  -41.393000 -1.832333 -0.871000  4.765000 -0.102333  \n",
       "2   -6.873333  0.441000  -28.142000 -2.467333  0.249667  0.058333  0.066000  \n",
       "3  -52.806333 -0.724000 -196.007667  2.282000  0.243467 -0.048667  0.001667  \n",
       "4 -440.990333  1.082333 -557.976667  1.675667 -0.406267 -0.018333 -0.025000  "
      ]
     },
     "execution_count": 23,
     "metadata": {},
     "output_type": "execute_result"
    }
   ],
   "source": [
    "hrv_b2_r_sub = hrv_b2_rename - hrv_r_rename\n",
    "hrv_b2_r_sub.head()"
   ]
  },
  {
   "cell_type": "code",
   "execution_count": null,
   "id": "dd149b0a-72ff-4413-9679-a426d2b19734",
   "metadata": {},
   "outputs": [],
   "source": []
  },
  {
   "cell_type": "markdown",
   "id": "62a0d66a-2863-45f3-84b6-1cf1fbccff0d",
   "metadata": {},
   "source": [
    "### 4) Rest - Baseline 3 phase"
   ]
  },
  {
   "cell_type": "code",
   "execution_count": 24,
   "id": "400bbe45-aa22-4c52-9af4-b1a566df78e6",
   "metadata": {},
   "outputs": [
    {
     "data": {
      "text/html": [
       "<div>\n",
       "<style scoped>\n",
       "    .dataframe tbody tr th:only-of-type {\n",
       "        vertical-align: middle;\n",
       "    }\n",
       "\n",
       "    .dataframe tbody tr th {\n",
       "        vertical-align: top;\n",
       "    }\n",
       "\n",
       "    .dataframe thead th {\n",
       "        text-align: right;\n",
       "    }\n",
       "</style>\n",
       "<table border=\"1\" class=\"dataframe\">\n",
       "  <thead>\n",
       "    <tr style=\"text-align: right;\">\n",
       "      <th></th>\n",
       "      <th>SDNN</th>\n",
       "      <th>NN50</th>\n",
       "      <th>PNN50</th>\n",
       "      <th>RMSSD</th>\n",
       "      <th>VLF</th>\n",
       "      <th>LF</th>\n",
       "      <th>HF</th>\n",
       "      <th>LF/HF</th>\n",
       "      <th>POWER</th>\n",
       "      <th>HR</th>\n",
       "      <th>RESP</th>\n",
       "      <th>SC</th>\n",
       "      <th>TEMP</th>\n",
       "    </tr>\n",
       "  </thead>\n",
       "  <tbody>\n",
       "    <tr>\n",
       "      <th>0</th>\n",
       "      <td>0.013000</td>\n",
       "      <td>3.000000</td>\n",
       "      <td>0.052333</td>\n",
       "      <td>4.031000</td>\n",
       "      <td>103.554000</td>\n",
       "      <td>184.618000</td>\n",
       "      <td>56.917333</td>\n",
       "      <td>0.183000</td>\n",
       "      <td>345.089000</td>\n",
       "      <td>-1.751333</td>\n",
       "      <td>-0.039000</td>\n",
       "      <td>0.217000</td>\n",
       "      <td>0.008000</td>\n",
       "    </tr>\n",
       "    <tr>\n",
       "      <th>1</th>\n",
       "      <td>-10.302000</td>\n",
       "      <td>4.000000</td>\n",
       "      <td>0.066667</td>\n",
       "      <td>2.679000</td>\n",
       "      <td>-335.397667</td>\n",
       "      <td>-1035.652000</td>\n",
       "      <td>-117.790667</td>\n",
       "      <td>-1.463000</td>\n",
       "      <td>-1488.840000</td>\n",
       "      <td>-3.499333</td>\n",
       "      <td>-0.183000</td>\n",
       "      <td>0.000333</td>\n",
       "      <td>0.033667</td>\n",
       "    </tr>\n",
       "    <tr>\n",
       "      <th>2</th>\n",
       "      <td>-6.370000</td>\n",
       "      <td>0.000000</td>\n",
       "      <td>0.000000</td>\n",
       "      <td>-0.883333</td>\n",
       "      <td>-9.966667</td>\n",
       "      <td>-36.395667</td>\n",
       "      <td>0.591667</td>\n",
       "      <td>-0.573000</td>\n",
       "      <td>-45.771000</td>\n",
       "      <td>0.824667</td>\n",
       "      <td>0.156333</td>\n",
       "      <td>0.031000</td>\n",
       "      <td>-0.006333</td>\n",
       "    </tr>\n",
       "    <tr>\n",
       "      <th>3</th>\n",
       "      <td>2.291667</td>\n",
       "      <td>0.333333</td>\n",
       "      <td>0.004000</td>\n",
       "      <td>0.361000</td>\n",
       "      <td>-9.414000</td>\n",
       "      <td>29.256667</td>\n",
       "      <td>20.084333</td>\n",
       "      <td>-0.369000</td>\n",
       "      <td>39.926667</td>\n",
       "      <td>0.664667</td>\n",
       "      <td>0.459533</td>\n",
       "      <td>-0.097667</td>\n",
       "      <td>0.031000</td>\n",
       "    </tr>\n",
       "    <tr>\n",
       "      <th>4</th>\n",
       "      <td>22.474000</td>\n",
       "      <td>-2.000000</td>\n",
       "      <td>-0.024000</td>\n",
       "      <td>29.576000</td>\n",
       "      <td>-33.946333</td>\n",
       "      <td>-416.315333</td>\n",
       "      <td>-38.017000</td>\n",
       "      <td>-0.863333</td>\n",
       "      <td>-488.278333</td>\n",
       "      <td>1.778333</td>\n",
       "      <td>1.090933</td>\n",
       "      <td>-0.048000</td>\n",
       "      <td>0.232333</td>\n",
       "    </tr>\n",
       "  </tbody>\n",
       "</table>\n",
       "</div>"
      ],
      "text/plain": [
       "        SDNN      NN50     PNN50      RMSSD         VLF           LF  \\\n",
       "0   0.013000  3.000000  0.052333   4.031000  103.554000   184.618000   \n",
       "1 -10.302000  4.000000  0.066667   2.679000 -335.397667 -1035.652000   \n",
       "2  -6.370000  0.000000  0.000000  -0.883333   -9.966667   -36.395667   \n",
       "3   2.291667  0.333333  0.004000   0.361000   -9.414000    29.256667   \n",
       "4  22.474000 -2.000000 -0.024000  29.576000  -33.946333  -416.315333   \n",
       "\n",
       "           HF     LF/HF        POWER        HR      RESP        SC      TEMP  \n",
       "0   56.917333  0.183000   345.089000 -1.751333 -0.039000  0.217000  0.008000  \n",
       "1 -117.790667 -1.463000 -1488.840000 -3.499333 -0.183000  0.000333  0.033667  \n",
       "2    0.591667 -0.573000   -45.771000  0.824667  0.156333  0.031000 -0.006333  \n",
       "3   20.084333 -0.369000    39.926667  0.664667  0.459533 -0.097667  0.031000  \n",
       "4  -38.017000 -0.863333  -488.278333  1.778333  1.090933 -0.048000  0.232333  "
      ]
     },
     "execution_count": 24,
     "metadata": {},
     "output_type": "execute_result"
    }
   ],
   "source": [
    "hrv_r_b3_sub = hrv_r_rename - hrv_b3_rename\n",
    "hrv_r_b3_sub.head()"
   ]
  },
  {
   "cell_type": "code",
   "execution_count": null,
   "id": "c29fa1a7-3f00-4e82-a6e1-a5e9dbe4753c",
   "metadata": {},
   "outputs": [],
   "source": []
  },
  {
   "cell_type": "markdown",
   "id": "2a4c8d8b-3430-4a5b-8c97-476798a5f25d",
   "metadata": {},
   "source": [
    "### 5) Baseline 3 - Recovery phase"
   ]
  },
  {
   "cell_type": "code",
   "execution_count": 25,
   "id": "72e75782-6310-46e7-9508-2ac9dadad7c3",
   "metadata": {},
   "outputs": [
    {
     "data": {
      "text/html": [
       "<div>\n",
       "<style scoped>\n",
       "    .dataframe tbody tr th:only-of-type {\n",
       "        vertical-align: middle;\n",
       "    }\n",
       "\n",
       "    .dataframe tbody tr th {\n",
       "        vertical-align: top;\n",
       "    }\n",
       "\n",
       "    .dataframe thead th {\n",
       "        text-align: right;\n",
       "    }\n",
       "</style>\n",
       "<table border=\"1\" class=\"dataframe\">\n",
       "  <thead>\n",
       "    <tr style=\"text-align: right;\">\n",
       "      <th></th>\n",
       "      <th>SDNN</th>\n",
       "      <th>NN50</th>\n",
       "      <th>PNN50</th>\n",
       "      <th>RMSSD</th>\n",
       "      <th>VLF</th>\n",
       "      <th>LF</th>\n",
       "      <th>HF</th>\n",
       "      <th>LF/HF</th>\n",
       "      <th>POWER</th>\n",
       "      <th>HR</th>\n",
       "      <th>RESP</th>\n",
       "      <th>SC</th>\n",
       "      <th>TEMP</th>\n",
       "    </tr>\n",
       "  </thead>\n",
       "  <tbody>\n",
       "    <tr>\n",
       "      <th>0</th>\n",
       "      <td>12.304667</td>\n",
       "      <td>5.000000</td>\n",
       "      <td>0.082000</td>\n",
       "      <td>11.538000</td>\n",
       "      <td>-87.053000</td>\n",
       "      <td>22.708667</td>\n",
       "      <td>183.949333</td>\n",
       "      <td>-0.400667</td>\n",
       "      <td>119.605667</td>\n",
       "      <td>-2.086000</td>\n",
       "      <td>0.554000</td>\n",
       "      <td>-0.973000</td>\n",
       "      <td>0.049667</td>\n",
       "    </tr>\n",
       "    <tr>\n",
       "      <th>1</th>\n",
       "      <td>11.430000</td>\n",
       "      <td>0.000000</td>\n",
       "      <td>-0.000333</td>\n",
       "      <td>3.136000</td>\n",
       "      <td>344.203333</td>\n",
       "      <td>1457.863334</td>\n",
       "      <td>196.513333</td>\n",
       "      <td>2.423000</td>\n",
       "      <td>1998.580333</td>\n",
       "      <td>0.804333</td>\n",
       "      <td>-0.045667</td>\n",
       "      <td>-3.214333</td>\n",
       "      <td>-0.499667</td>\n",
       "    </tr>\n",
       "    <tr>\n",
       "      <th>2</th>\n",
       "      <td>5.140667</td>\n",
       "      <td>-0.333333</td>\n",
       "      <td>-0.003667</td>\n",
       "      <td>-6.298333</td>\n",
       "      <td>47.976667</td>\n",
       "      <td>35.215667</td>\n",
       "      <td>-2.485667</td>\n",
       "      <td>-0.249000</td>\n",
       "      <td>80.707333</td>\n",
       "      <td>0.584667</td>\n",
       "      <td>4.988667</td>\n",
       "      <td>-0.041000</td>\n",
       "      <td>0.039000</td>\n",
       "    </tr>\n",
       "    <tr>\n",
       "      <th>3</th>\n",
       "      <td>7.316333</td>\n",
       "      <td>0.666667</td>\n",
       "      <td>0.008000</td>\n",
       "      <td>1.034000</td>\n",
       "      <td>28.962333</td>\n",
       "      <td>110.159333</td>\n",
       "      <td>48.298000</td>\n",
       "      <td>-2.942667</td>\n",
       "      <td>187.419333</td>\n",
       "      <td>-2.421667</td>\n",
       "      <td>4.454000</td>\n",
       "      <td>0.009333</td>\n",
       "      <td>0.096667</td>\n",
       "    </tr>\n",
       "    <tr>\n",
       "      <th>4</th>\n",
       "      <td>-4.424000</td>\n",
       "      <td>-4.333333</td>\n",
       "      <td>-0.051333</td>\n",
       "      <td>3.227667</td>\n",
       "      <td>-66.960667</td>\n",
       "      <td>53.581000</td>\n",
       "      <td>-23.631000</td>\n",
       "      <td>0.085667</td>\n",
       "      <td>-37.011334</td>\n",
       "      <td>-1.356000</td>\n",
       "      <td>2.324333</td>\n",
       "      <td>-0.033333</td>\n",
       "      <td>-0.065667</td>\n",
       "    </tr>\n",
       "  </tbody>\n",
       "</table>\n",
       "</div>"
      ],
      "text/plain": [
       "        SDNN      NN50     PNN50      RMSSD         VLF           LF  \\\n",
       "0  12.304667  5.000000  0.082000  11.538000  -87.053000    22.708667   \n",
       "1  11.430000  0.000000 -0.000333   3.136000  344.203333  1457.863334   \n",
       "2   5.140667 -0.333333 -0.003667  -6.298333   47.976667    35.215667   \n",
       "3   7.316333  0.666667  0.008000   1.034000   28.962333   110.159333   \n",
       "4  -4.424000 -4.333333 -0.051333   3.227667  -66.960667    53.581000   \n",
       "\n",
       "           HF     LF/HF        POWER        HR      RESP        SC      TEMP  \n",
       "0  183.949333 -0.400667   119.605667 -2.086000  0.554000 -0.973000  0.049667  \n",
       "1  196.513333  2.423000  1998.580333  0.804333 -0.045667 -3.214333 -0.499667  \n",
       "2   -2.485667 -0.249000    80.707333  0.584667  4.988667 -0.041000  0.039000  \n",
       "3   48.298000 -2.942667   187.419333 -2.421667  4.454000  0.009333  0.096667  \n",
       "4  -23.631000  0.085667   -37.011334 -1.356000  2.324333 -0.033333 -0.065667  "
      ]
     },
     "execution_count": 25,
     "metadata": {},
     "output_type": "execute_result"
    }
   ],
   "source": [
    "hrv_b3_c_sub = hrv_b3_rename - hrv_c_rename\n",
    "hrv_b3_c_sub.head()"
   ]
  },
  {
   "cell_type": "code",
   "execution_count": null,
   "id": "074e178b-75db-4c36-b804-b910667dd848",
   "metadata": {},
   "outputs": [],
   "source": []
  },
  {
   "cell_type": "markdown",
   "id": "3a92554c-202b-4b81-a0e4-96117f8c4db2",
   "metadata": {},
   "source": [
    "### 6) Stress - Rest phase"
   ]
  },
  {
   "cell_type": "markdown",
   "id": "142631a8-4fc5-47ab-b950-4a3655bd0e48",
   "metadata": {},
   "source": [
    "* This is what SMC checks for the research"
   ]
  },
  {
   "cell_type": "code",
   "execution_count": 26,
   "id": "668cf1e4-7f05-417f-897b-8a7609c91a22",
   "metadata": {},
   "outputs": [
    {
     "data": {
      "text/html": [
       "<div>\n",
       "<style scoped>\n",
       "    .dataframe tbody tr th:only-of-type {\n",
       "        vertical-align: middle;\n",
       "    }\n",
       "\n",
       "    .dataframe tbody tr th {\n",
       "        vertical-align: top;\n",
       "    }\n",
       "\n",
       "    .dataframe thead th {\n",
       "        text-align: right;\n",
       "    }\n",
       "</style>\n",
       "<table border=\"1\" class=\"dataframe\">\n",
       "  <thead>\n",
       "    <tr style=\"text-align: right;\">\n",
       "      <th></th>\n",
       "      <th>SDNN</th>\n",
       "      <th>NN50</th>\n",
       "      <th>PNN50</th>\n",
       "      <th>RMSSD</th>\n",
       "      <th>VLF</th>\n",
       "      <th>LF</th>\n",
       "      <th>HF</th>\n",
       "      <th>LF/HF</th>\n",
       "      <th>POWER</th>\n",
       "      <th>HR</th>\n",
       "      <th>RESP</th>\n",
       "      <th>SC</th>\n",
       "      <th>TEMP</th>\n",
       "    </tr>\n",
       "  </thead>\n",
       "  <tbody>\n",
       "    <tr>\n",
       "      <th>0</th>\n",
       "      <td>-0.964667</td>\n",
       "      <td>-6.333333</td>\n",
       "      <td>-0.108667</td>\n",
       "      <td>-11.627000</td>\n",
       "      <td>-103.696000</td>\n",
       "      <td>-126.545667</td>\n",
       "      <td>-317.625000</td>\n",
       "      <td>1.864000</td>\n",
       "      <td>-547.867000</td>\n",
       "      <td>3.615000</td>\n",
       "      <td>-1.432667</td>\n",
       "      <td>2.514000</td>\n",
       "      <td>-1.373333</td>\n",
       "    </tr>\n",
       "    <tr>\n",
       "      <th>1</th>\n",
       "      <td>17.599667</td>\n",
       "      <td>-2.000000</td>\n",
       "      <td>-0.041667</td>\n",
       "      <td>25.196333</td>\n",
       "      <td>322.913667</td>\n",
       "      <td>807.783000</td>\n",
       "      <td>1108.688667</td>\n",
       "      <td>0.441000</td>\n",
       "      <td>2239.384667</td>\n",
       "      <td>6.512333</td>\n",
       "      <td>0.060000</td>\n",
       "      <td>7.035000</td>\n",
       "      <td>-0.068667</td>\n",
       "    </tr>\n",
       "    <tr>\n",
       "      <th>2</th>\n",
       "      <td>5.514333</td>\n",
       "      <td>0.000000</td>\n",
       "      <td>0.000000</td>\n",
       "      <td>3.957667</td>\n",
       "      <td>-5.121000</td>\n",
       "      <td>69.116000</td>\n",
       "      <td>38.783000</td>\n",
       "      <td>-0.110333</td>\n",
       "      <td>102.778000</td>\n",
       "      <td>0.892333</td>\n",
       "      <td>-1.373000</td>\n",
       "      <td>0.190333</td>\n",
       "      <td>0.069000</td>\n",
       "    </tr>\n",
       "    <tr>\n",
       "      <th>3</th>\n",
       "      <td>-15.830000</td>\n",
       "      <td>-1.000000</td>\n",
       "      <td>-0.012000</td>\n",
       "      <td>-9.176667</td>\n",
       "      <td>-41.338000</td>\n",
       "      <td>-183.361000</td>\n",
       "      <td>-64.218333</td>\n",
       "      <td>-0.603000</td>\n",
       "      <td>-288.917333</td>\n",
       "      <td>6.741000</td>\n",
       "      <td>-3.532200</td>\n",
       "      <td>-0.045333</td>\n",
       "      <td>-0.042000</td>\n",
       "    </tr>\n",
       "    <tr>\n",
       "      <th>4</th>\n",
       "      <td>-35.802333</td>\n",
       "      <td>0.333333</td>\n",
       "      <td>0.002000</td>\n",
       "      <td>-63.449000</td>\n",
       "      <td>-53.549667</td>\n",
       "      <td>112.173000</td>\n",
       "      <td>-240.828333</td>\n",
       "      <td>0.615000</td>\n",
       "      <td>-182.205000</td>\n",
       "      <td>4.521000</td>\n",
       "      <td>-3.886933</td>\n",
       "      <td>-0.031667</td>\n",
       "      <td>-0.082667</td>\n",
       "    </tr>\n",
       "  </tbody>\n",
       "</table>\n",
       "</div>"
      ],
      "text/plain": [
       "        SDNN      NN50     PNN50      RMSSD         VLF          LF  \\\n",
       "0  -0.964667 -6.333333 -0.108667 -11.627000 -103.696000 -126.545667   \n",
       "1  17.599667 -2.000000 -0.041667  25.196333  322.913667  807.783000   \n",
       "2   5.514333  0.000000  0.000000   3.957667   -5.121000   69.116000   \n",
       "3 -15.830000 -1.000000 -0.012000  -9.176667  -41.338000 -183.361000   \n",
       "4 -35.802333  0.333333  0.002000 -63.449000  -53.549667  112.173000   \n",
       "\n",
       "            HF     LF/HF        POWER        HR      RESP        SC      TEMP  \n",
       "0  -317.625000  1.864000  -547.867000  3.615000 -1.432667  2.514000 -1.373333  \n",
       "1  1108.688667  0.441000  2239.384667  6.512333  0.060000  7.035000 -0.068667  \n",
       "2    38.783000 -0.110333   102.778000  0.892333 -1.373000  0.190333  0.069000  \n",
       "3   -64.218333 -0.603000  -288.917333  6.741000 -3.532200 -0.045333 -0.042000  \n",
       "4  -240.828333  0.615000  -182.205000  4.521000 -3.886933 -0.031667 -0.082667  "
      ]
     },
     "execution_count": 26,
     "metadata": {},
     "output_type": "execute_result"
    }
   ],
   "source": [
    "hrv_s_r_sub = hrv_s_rename - hrv_r_rename\n",
    "hrv_s_r_sub.head()"
   ]
  },
  {
   "cell_type": "code",
   "execution_count": null,
   "id": "a547d5a9-46e5-4a68-80d0-d9fbe2015614",
   "metadata": {},
   "outputs": [],
   "source": []
  },
  {
   "cell_type": "markdown",
   "id": "1f3f096b-fe2c-4c22-9f67-00d793ba6205",
   "metadata": {},
   "source": [
    "- - -"
   ]
  },
  {
   "cell_type": "markdown",
   "id": "eb5ee775-d694-4088-866c-3e12d91b0bad",
   "metadata": {},
   "source": [
    "## Data preprocessing for ML"
   ]
  },
  {
   "cell_type": "markdown",
   "id": "f625558c-3702-4dcf-8807-b6c35a5c6eab",
   "metadata": {},
   "source": [
    "* The \"hrv_only\" data shows all hrv features from all three phases"
   ]
  },
  {
   "cell_type": "code",
   "execution_count": 27,
   "id": "a98a962e-1186-49ff-b265-0cfc4680725d",
   "metadata": {},
   "outputs": [
    {
     "data": {
      "text/plain": [
       "(479, 78)"
      ]
     },
     "execution_count": 27,
     "metadata": {},
     "output_type": "execute_result"
    }
   ],
   "source": [
    "hrv_only.shape"
   ]
  },
  {
   "cell_type": "code",
   "execution_count": 28,
   "id": "321c371b-f767-48c3-a7ac-1be97013e412",
   "metadata": {},
   "outputs": [
    {
     "data": {
      "text/plain": [
       "(479, 78)"
      ]
     },
     "execution_count": 28,
     "metadata": {},
     "output_type": "execute_result"
    }
   ],
   "source": [
    "hrv_arr = hrv_only.values\n",
    "hrv_arr.shape"
   ]
  },
  {
   "cell_type": "code",
   "execution_count": 29,
   "id": "89f287bf-5bb7-4b5c-92da-17d313847248",
   "metadata": {},
   "outputs": [
    {
     "data": {
      "text/plain": [
       "array([7.57572050e-02, 3.43999725e-01, 4.95744681e-01, 5.48618085e-02,\n",
       "       7.10357963e-04, 5.65109044e-04, 3.83375473e-03, 7.47808460e-03,\n",
       "       1.30291727e-03, 1.45327715e-01, 7.25296070e-01, 7.06635623e-02,\n",
       "       8.41094174e-01, 8.10983949e-02, 2.31999814e-01, 3.26409738e-01,\n",
       "       5.04428727e-02, 2.13408362e-03, 3.17540086e-03, 2.40447750e-03,\n",
       "       1.39438493e-01, 3.38000089e-03, 1.69496955e-01, 4.68541897e-01,\n",
       "       3.24184689e-01, 7.52053590e-01, 7.52630775e-02, 3.75000000e-01,\n",
       "       5.55133501e-01, 5.30970595e-02, 7.66940642e-04, 1.09823017e-03,\n",
       "       3.43297987e-03, 2.91039443e-02, 1.48142601e-03, 1.62446843e-01,\n",
       "       5.92977238e-01, 3.31017139e-01, 8.30780599e-01, 5.91833662e-02,\n",
       "       3.55555556e-01, 5.45584045e-01, 5.14524622e-02, 1.30938566e-03,\n",
       "       1.30544502e-03, 4.43996783e-03, 3.41954354e-02, 1.79000209e-03,\n",
       "       1.78733418e-01, 6.13257952e-01, 2.07225812e-01, 8.75418475e-01,\n",
       "       1.35503971e-01, 2.70833333e-01, 4.43877875e-01, 9.17960003e-02,\n",
       "       2.84491487e-03, 2.73978406e-03, 1.43310805e-02, 1.59724439e-02,\n",
       "       4.50089505e-03, 2.21065456e-01, 6.58884115e-01, 2.14073912e-01,\n",
       "       8.79993003e-01, 6.49259482e-02, 1.95121951e-01, 2.57995736e-01,\n",
       "       4.76003212e-02, 1.65133220e-03, 1.53143704e-03, 1.55602310e-03,\n",
       "       2.69153328e-02, 1.56045063e-03, 2.19382220e-01, 5.53832191e-01,\n",
       "       2.64774725e-01, 8.79142698e-01])"
      ]
     },
     "execution_count": 29,
     "metadata": {},
     "output_type": "execute_result"
    }
   ],
   "source": [
    "hrv_arr[0]"
   ]
  },
  {
   "cell_type": "code",
   "execution_count": null,
   "id": "ddbc14d7-9575-44b2-b3d8-da653f07a5ba",
   "metadata": {},
   "outputs": [],
   "source": []
  },
  {
   "cell_type": "code",
   "execution_count": null,
   "id": "4c5297c5-9668-46ac-90e6-3fc848df94e1",
   "metadata": {},
   "outputs": [],
   "source": []
  },
  {
   "cell_type": "code",
   "execution_count": null,
   "id": "22aa473b-576c-4a14-86c5-4149ae08ea0f",
   "metadata": {},
   "outputs": [],
   "source": []
  },
  {
   "cell_type": "code",
   "execution_count": null,
   "id": "449612de-611f-46c4-bd3f-dbbc4aa760c4",
   "metadata": {},
   "outputs": [],
   "source": []
  },
  {
   "cell_type": "code",
   "execution_count": null,
   "id": "d6a2aa33-3d8e-4682-a966-611518fb1b56",
   "metadata": {},
   "outputs": [],
   "source": []
  },
  {
   "cell_type": "code",
   "execution_count": null,
   "id": "2f5c45b2-a77b-44b1-8105-fc4c5801a75e",
   "metadata": {},
   "outputs": [],
   "source": []
  },
  {
   "cell_type": "code",
   "execution_count": null,
   "id": "15f67af3-cd91-4362-a370-c4d9d80221cd",
   "metadata": {},
   "outputs": [],
   "source": []
  },
  {
   "cell_type": "markdown",
   "id": "b338dad3-305e-4ede-a35c-804e2b3d8340",
   "metadata": {},
   "source": [
    "- - -"
   ]
  },
  {
   "cell_type": "markdown",
   "id": "460d29ed-6b45-4579-8cd5-9ec237cc957b",
   "metadata": {},
   "source": [
    "# Data Visualization"
   ]
  },
  {
   "cell_type": "code",
   "execution_count": 30,
   "id": "163fbea3-2510-430f-ac86-7c69d7bbb8e4",
   "metadata": {},
   "outputs": [
    {
     "data": {
      "text/html": [
       "<div>\n",
       "<style scoped>\n",
       "    .dataframe tbody tr th:only-of-type {\n",
       "        vertical-align: middle;\n",
       "    }\n",
       "\n",
       "    .dataframe tbody tr th {\n",
       "        vertical-align: top;\n",
       "    }\n",
       "\n",
       "    .dataframe thead th {\n",
       "        text-align: right;\n",
       "    }\n",
       "</style>\n",
       "<table border=\"1\" class=\"dataframe\">\n",
       "  <thead>\n",
       "    <tr style=\"text-align: right;\">\n",
       "      <th></th>\n",
       "      <th>VISIT</th>\n",
       "      <th>disorder</th>\n",
       "      <th>age</th>\n",
       "      <th>gender</th>\n",
       "      <th>HAMD</th>\n",
       "      <th>HAMA</th>\n",
       "      <th>PDSS</th>\n",
       "      <th>ASI</th>\n",
       "      <th>APPQ</th>\n",
       "      <th>PSWQ</th>\n",
       "      <th>...</th>\n",
       "      <th>cRMSSD</th>\n",
       "      <th>cVLF</th>\n",
       "      <th>cLF</th>\n",
       "      <th>cHF</th>\n",
       "      <th>cLF/HF</th>\n",
       "      <th>cPOWER</th>\n",
       "      <th>cHR</th>\n",
       "      <th>cRESP</th>\n",
       "      <th>cSC</th>\n",
       "      <th>cTEMP</th>\n",
       "    </tr>\n",
       "  </thead>\n",
       "  <tbody>\n",
       "    <tr>\n",
       "      <th>count</th>\n",
       "      <td>479.000000</td>\n",
       "      <td>479.000000</td>\n",
       "      <td>479.000000</td>\n",
       "      <td>479.000000</td>\n",
       "      <td>479.000000</td>\n",
       "      <td>479.000000</td>\n",
       "      <td>479.000000</td>\n",
       "      <td>479.000000</td>\n",
       "      <td>479.000000</td>\n",
       "      <td>479.000000</td>\n",
       "      <td>...</td>\n",
       "      <td>479.000000</td>\n",
       "      <td>479.000000</td>\n",
       "      <td>479.000000</td>\n",
       "      <td>479.000000</td>\n",
       "      <td>479.000000</td>\n",
       "      <td>479.000000</td>\n",
       "      <td>479.000000</td>\n",
       "      <td>479.000000</td>\n",
       "      <td>479.000000</td>\n",
       "      <td>479.000000</td>\n",
       "    </tr>\n",
       "    <tr>\n",
       "      <th>mean</th>\n",
       "      <td>2.974948</td>\n",
       "      <td>2.121086</td>\n",
       "      <td>42.532359</td>\n",
       "      <td>1.632568</td>\n",
       "      <td>8.008351</td>\n",
       "      <td>8.219207</td>\n",
       "      <td>3.507307</td>\n",
       "      <td>18.162839</td>\n",
       "      <td>47.572025</td>\n",
       "      <td>36.989562</td>\n",
       "      <td>...</td>\n",
       "      <td>42.563534</td>\n",
       "      <td>744.246592</td>\n",
       "      <td>1426.855802</td>\n",
       "      <td>771.903076</td>\n",
       "      <td>4.183280</td>\n",
       "      <td>2943.003597</td>\n",
       "      <td>75.006544</td>\n",
       "      <td>13.081257</td>\n",
       "      <td>1.303557</td>\n",
       "      <td>34.374669</td>\n",
       "    </tr>\n",
       "    <tr>\n",
       "      <th>std</th>\n",
       "      <td>1.416947</td>\n",
       "      <td>0.822000</td>\n",
       "      <td>15.300289</td>\n",
       "      <td>0.482610</td>\n",
       "      <td>8.100825</td>\n",
       "      <td>8.629276</td>\n",
       "      <td>5.782625</td>\n",
       "      <td>17.470555</td>\n",
       "      <td>44.416187</td>\n",
       "      <td>13.641322</td>\n",
       "      <td>...</td>\n",
       "      <td>82.030173</td>\n",
       "      <td>6903.326101</td>\n",
       "      <td>13187.594245</td>\n",
       "      <td>6726.684231</td>\n",
       "      <td>4.731616</td>\n",
       "      <td>25833.234563</td>\n",
       "      <td>11.431874</td>\n",
       "      <td>1.472192</td>\n",
       "      <td>1.801047</td>\n",
       "      <td>1.451210</td>\n",
       "    </tr>\n",
       "    <tr>\n",
       "      <th>min</th>\n",
       "      <td>1.000000</td>\n",
       "      <td>1.000000</td>\n",
       "      <td>19.000000</td>\n",
       "      <td>1.000000</td>\n",
       "      <td>0.000000</td>\n",
       "      <td>0.000000</td>\n",
       "      <td>0.000000</td>\n",
       "      <td>0.000000</td>\n",
       "      <td>0.000000</td>\n",
       "      <td>0.000000</td>\n",
       "      <td>...</td>\n",
       "      <td>2.577330</td>\n",
       "      <td>2.278330</td>\n",
       "      <td>0.921000</td>\n",
       "      <td>0.503333</td>\n",
       "      <td>0.155333</td>\n",
       "      <td>9.594670</td>\n",
       "      <td>47.527300</td>\n",
       "      <td>9.579000</td>\n",
       "      <td>0.031333</td>\n",
       "      <td>24.962000</td>\n",
       "    </tr>\n",
       "    <tr>\n",
       "      <th>25%</th>\n",
       "      <td>2.000000</td>\n",
       "      <td>1.000000</td>\n",
       "      <td>28.000000</td>\n",
       "      <td>1.000000</td>\n",
       "      <td>1.000000</td>\n",
       "      <td>1.000000</td>\n",
       "      <td>0.000000</td>\n",
       "      <td>3.000000</td>\n",
       "      <td>13.000000</td>\n",
       "      <td>29.000000</td>\n",
       "      <td>...</td>\n",
       "      <td>15.506333</td>\n",
       "      <td>30.754333</td>\n",
       "      <td>33.446000</td>\n",
       "      <td>14.076667</td>\n",
       "      <td>1.406165</td>\n",
       "      <td>105.663500</td>\n",
       "      <td>67.601333</td>\n",
       "      <td>12.115850</td>\n",
       "      <td>0.355166</td>\n",
       "      <td>33.870000</td>\n",
       "    </tr>\n",
       "    <tr>\n",
       "      <th>50%</th>\n",
       "      <td>3.000000</td>\n",
       "      <td>2.000000</td>\n",
       "      <td>42.000000</td>\n",
       "      <td>2.000000</td>\n",
       "      <td>6.000000</td>\n",
       "      <td>5.000000</td>\n",
       "      <td>0.000000</td>\n",
       "      <td>12.000000</td>\n",
       "      <td>34.000000</td>\n",
       "      <td>35.000000</td>\n",
       "      <td>...</td>\n",
       "      <td>23.415333</td>\n",
       "      <td>66.181333</td>\n",
       "      <td>86.571333</td>\n",
       "      <td>34.782667</td>\n",
       "      <td>2.770330</td>\n",
       "      <td>212.532333</td>\n",
       "      <td>73.683667</td>\n",
       "      <td>12.983700</td>\n",
       "      <td>0.669333</td>\n",
       "      <td>34.704000</td>\n",
       "    </tr>\n",
       "    <tr>\n",
       "      <th>75%</th>\n",
       "      <td>4.000000</td>\n",
       "      <td>3.000000</td>\n",
       "      <td>55.000000</td>\n",
       "      <td>2.000000</td>\n",
       "      <td>13.500000</td>\n",
       "      <td>13.000000</td>\n",
       "      <td>6.000000</td>\n",
       "      <td>29.000000</td>\n",
       "      <td>72.500000</td>\n",
       "      <td>46.000000</td>\n",
       "      <td>...</td>\n",
       "      <td>38.666333</td>\n",
       "      <td>153.559833</td>\n",
       "      <td>212.945333</td>\n",
       "      <td>96.863483</td>\n",
       "      <td>5.028835</td>\n",
       "      <td>488.143167</td>\n",
       "      <td>81.246000</td>\n",
       "      <td>13.959317</td>\n",
       "      <td>1.420333</td>\n",
       "      <td>35.298667</td>\n",
       "    </tr>\n",
       "    <tr>\n",
       "      <th>max</th>\n",
       "      <td>5.000000</td>\n",
       "      <td>3.000000</td>\n",
       "      <td>77.000000</td>\n",
       "      <td>2.000000</td>\n",
       "      <td>32.000000</td>\n",
       "      <td>37.000000</td>\n",
       "      <td>26.000000</td>\n",
       "      <td>68.000000</td>\n",
       "      <td>208.000000</td>\n",
       "      <td>91.000000</td>\n",
       "      <td>...</td>\n",
       "      <td>821.213333</td>\n",
       "      <td>113746.000000</td>\n",
       "      <td>194319.933300</td>\n",
       "      <td>132620.000000</td>\n",
       "      <td>42.089300</td>\n",
       "      <td>439551.000000</td>\n",
       "      <td>130.395000</td>\n",
       "      <td>17.659667</td>\n",
       "      <td>14.685300</td>\n",
       "      <td>36.377667</td>\n",
       "    </tr>\n",
       "  </tbody>\n",
       "</table>\n",
       "<p>8 rows × 92 columns</p>\n",
       "</div>"
      ],
      "text/plain": [
       "            VISIT    disorder         age      gender        HAMD        HAMA  \\\n",
       "count  479.000000  479.000000  479.000000  479.000000  479.000000  479.000000   \n",
       "mean     2.974948    2.121086   42.532359    1.632568    8.008351    8.219207   \n",
       "std      1.416947    0.822000   15.300289    0.482610    8.100825    8.629276   \n",
       "min      1.000000    1.000000   19.000000    1.000000    0.000000    0.000000   \n",
       "25%      2.000000    1.000000   28.000000    1.000000    1.000000    1.000000   \n",
       "50%      3.000000    2.000000   42.000000    2.000000    6.000000    5.000000   \n",
       "75%      4.000000    3.000000   55.000000    2.000000   13.500000   13.000000   \n",
       "max      5.000000    3.000000   77.000000    2.000000   32.000000   37.000000   \n",
       "\n",
       "             PDSS         ASI        APPQ        PSWQ  ...      cRMSSD  \\\n",
       "count  479.000000  479.000000  479.000000  479.000000  ...  479.000000   \n",
       "mean     3.507307   18.162839   47.572025   36.989562  ...   42.563534   \n",
       "std      5.782625   17.470555   44.416187   13.641322  ...   82.030173   \n",
       "min      0.000000    0.000000    0.000000    0.000000  ...    2.577330   \n",
       "25%      0.000000    3.000000   13.000000   29.000000  ...   15.506333   \n",
       "50%      0.000000   12.000000   34.000000   35.000000  ...   23.415333   \n",
       "75%      6.000000   29.000000   72.500000   46.000000  ...   38.666333   \n",
       "max     26.000000   68.000000  208.000000   91.000000  ...  821.213333   \n",
       "\n",
       "                cVLF            cLF            cHF      cLF/HF         cPOWER  \\\n",
       "count     479.000000     479.000000     479.000000  479.000000     479.000000   \n",
       "mean      744.246592    1426.855802     771.903076    4.183280    2943.003597   \n",
       "std      6903.326101   13187.594245    6726.684231    4.731616   25833.234563   \n",
       "min         2.278330       0.921000       0.503333    0.155333       9.594670   \n",
       "25%        30.754333      33.446000      14.076667    1.406165     105.663500   \n",
       "50%        66.181333      86.571333      34.782667    2.770330     212.532333   \n",
       "75%       153.559833     212.945333      96.863483    5.028835     488.143167   \n",
       "max    113746.000000  194319.933300  132620.000000   42.089300  439551.000000   \n",
       "\n",
       "              cHR       cRESP         cSC       cTEMP  \n",
       "count  479.000000  479.000000  479.000000  479.000000  \n",
       "mean    75.006544   13.081257    1.303557   34.374669  \n",
       "std     11.431874    1.472192    1.801047    1.451210  \n",
       "min     47.527300    9.579000    0.031333   24.962000  \n",
       "25%     67.601333   12.115850    0.355166   33.870000  \n",
       "50%     73.683667   12.983700    0.669333   34.704000  \n",
       "75%     81.246000   13.959317    1.420333   35.298667  \n",
       "max    130.395000   17.659667   14.685300   36.377667  \n",
       "\n",
       "[8 rows x 92 columns]"
      ]
     },
     "execution_count": 30,
     "metadata": {},
     "output_type": "execute_result"
    }
   ],
   "source": [
    "hrv.describe()"
   ]
  },
  {
   "cell_type": "code",
   "execution_count": null,
   "id": "a0c4e244-9153-4f4f-9b63-10eefe9738b6",
   "metadata": {},
   "outputs": [],
   "source": []
  },
  {
   "cell_type": "markdown",
   "id": "e77cd19a-2cd0-4362-bf30-b4874d38bdf2",
   "metadata": {},
   "source": [
    "## Age and Disorder"
   ]
  },
  {
   "cell_type": "code",
   "execution_count": 31,
   "id": "827f67d0-3e02-4a72-b26f-77ad5fa7310e",
   "metadata": {},
   "outputs": [
    {
     "data": {
      "text/plain": [
       "<seaborn.axisgrid.FacetGrid at 0x22dc2ddb700>"
      ]
     },
     "execution_count": 31,
     "metadata": {},
     "output_type": "execute_result"
    },
    {
     "data": {
      "image/png": "[encoded data removed]",
      "text/plain": [
       "<Figure size 648x216 with 3 Axes>"
      ]
     },
     "metadata": {},
     "output_type": "display_data"
    }
   ],
   "source": [
    "sns.set_style('whitegrid')\n",
    "g = sns.FacetGrid(hrv, col='disorder')\n",
    "g.map(plt.hist, 'age', bins=20)"
   ]
  },
  {
   "cell_type": "code",
   "execution_count": null,
   "id": "0cdc22af-47f6-4180-bc25-bc837134d721",
   "metadata": {},
   "outputs": [],
   "source": []
  },
  {
   "cell_type": "markdown",
   "id": "e837919d-85f0-45b6-9475-a5291170ed0a",
   "metadata": {},
   "source": [
    "## Gender and Disorder"
   ]
  },
  {
   "cell_type": "code",
   "execution_count": 32,
   "id": "102eff17-9d7d-477d-8cd0-18dcf1a5d20f",
   "metadata": {},
   "outputs": [
    {
     "data": {
      "text/plain": [
       "<seaborn.axisgrid.FacetGrid at 0x22dc2f79910>"
      ]
     },
     "execution_count": 32,
     "metadata": {},
     "output_type": "execute_result"
    },
    {
     "data": {
      "image/png": "[encoded data removed]",
      "text/plain": [
       "<Figure size 648x216 with 3 Axes>"
      ]
     },
     "metadata": {},
     "output_type": "display_data"
    }
   ],
   "source": [
    "sns.set_style('whitegrid')\n",
    "g = sns.FacetGrid(hrv, col='disorder')\n",
    "g.map(plt.hist, 'gender', bins=20)"
   ]
  },
  {
   "cell_type": "code",
   "execution_count": null,
   "id": "e5cbe28f-9953-4245-865c-da729d2a7472",
   "metadata": {},
   "outputs": [],
   "source": []
  },
  {
   "cell_type": "code",
   "execution_count": null,
   "id": "df7707dc-e941-41a3-9627-dac3435f6810",
   "metadata": {},
   "outputs": [],
   "source": []
  },
  {
   "cell_type": "markdown",
   "id": "d3c46531-14b1-4f51-9094-6e753b425d6d",
   "metadata": {},
   "source": [
    "- - -"
   ]
  },
  {
   "cell_type": "markdown",
   "id": "fa881943-cb66-49e8-8b03-7bb67946b8b3",
   "metadata": {},
   "source": [
    "# Statistical Approaches"
   ]
  },
  {
   "cell_type": "markdown",
   "id": "89e39cf4-79b2-44ff-8217-b8746661862a",
   "metadata": {},
   "source": [
    "* Concept: How about generating additional dataset from current limited dataset, based on statistical theories?\n",
    "> 1. Check the distribution of each data features(SDNN, ...) and visualize.\n",
    "> 2. Calculate correlation coefficients between variables based on regression.\n",
    "> 3. Calculate their mean, sd, and other statistics to find out its distribution.\n",
    ">> However, most of them would be from normal distribution with different μ and σ based on the CLT.\n",
    "> 4. Generate random dataset based on its distribution, correlation, and regression coefficients."
   ]
  },
  {
   "cell_type": "markdown",
   "id": "259e85f5-0403-483c-aaa9-b64bf4675cf1",
   "metadata": {},
   "source": [
    "## HRV Variable Distributions"
   ]
  },
  {
   "cell_type": "markdown",
   "id": "3da0df5f-f912-49fb-880c-42ac92a3cbc7",
   "metadata": {},
   "source": [
    "* dataset lists:\n",
    "> baseline1 ~ stress  -- hrv_b1_s_sub \\\n",
    "> stress ~ baseline2  -- hrv_s_b2_sub \\\n",
    "> baseline2 ~ rest    -- hrv_b2_r_sub \\\n",
    "> rest ~ baseline3    -- hrv_r_b3_sub \\\n",
    "> baseline3 ~ recovery -- hrv_b3_c_sub \\\n",
    "> stress ~ rest  -- hrv_s_r_sub"
   ]
  },
  {
   "cell_type": "code",
   "execution_count": 33,
   "id": "bf278089-cb2f-444f-b056-a05524beb9fa",
   "metadata": {
    "tags": []
   },
   "outputs": [],
   "source": [
    "data_vis = hrv_s_r_sub"
   ]
  },
  {
   "cell_type": "markdown",
   "id": "93f857bd-868e-4045-9c76-2ddd71d065ce",
   "metadata": {},
   "source": [
    "* Generating new dataframe that we want to check the distribution of."
   ]
  },
  {
   "cell_type": "code",
   "execution_count": 34,
   "id": "2f5a291e-8ecd-4580-9855-8d73361bf877",
   "metadata": {},
   "outputs": [],
   "source": [
    "hrv_visual = pd.concat([data_vis, hrv_disorder],axis=1)"
   ]
  },
  {
   "cell_type": "code",
   "execution_count": null,
   "id": "7826e12b-fa43-44b7-949b-46c60bb6fe95",
   "metadata": {},
   "outputs": [],
   "source": []
  },
  {
   "cell_type": "code",
   "execution_count": 35,
   "id": "c2cb42fc-216e-4446-b607-bf99378a4727",
   "metadata": {},
   "outputs": [],
   "source": [
    "## Separating dataframe into three different groups (CONTROL, MDD, PD)\n",
    "hrv_CON = hrv_visual[hrv_visual[\"disorder\"] == 2]\n",
    "hrv_MDD = hrv_visual[hrv_visual[\"disorder\"] == 0]\n",
    "hrv_PD = hrv_visual[hrv_visual[\"disorder\"] == 1]"
   ]
  },
  {
   "cell_type": "code",
   "execution_count": null,
   "id": "4372cbe2-bd80-4836-bdaa-f10ab83bff92",
   "metadata": {},
   "outputs": [],
   "source": []
  },
  {
   "cell_type": "markdown",
   "id": "ab9f2ad7-f340-4326-a0c0-f0a10ad2a991",
   "metadata": {},
   "source": [
    "* Total 13 variables: SDNN, NN50, PNN50, RMSSD, VLF, LF, HF, LF/HF, POWER, HR, RESP, SC, TEMP"
   ]
  },
  {
   "cell_type": "code",
   "execution_count": 36,
   "id": "344fe618-fb1c-4410-8695-a6af6f992f1c",
   "metadata": {},
   "outputs": [],
   "source": [
    "## Set the variable that we want to check\n",
    "var = \"TEMP\""
   ]
  },
  {
   "cell_type": "code",
   "execution_count": 37,
   "id": "3f424e55-38bf-4b98-9b9f-03beaa691449",
   "metadata": {},
   "outputs": [],
   "source": [
    "CON = hrv_CON[var]\n",
    "MDD = hrv_MDD[var]\n",
    "PD = hrv_PD[var]"
   ]
  },
  {
   "cell_type": "markdown",
   "id": "19c89794-6e36-4e9d-bea5-424e8eb987b8",
   "metadata": {},
   "source": [
    "* Comparing one variable for three groups"
   ]
  },
  {
   "cell_type": "code",
   "execution_count": 38,
   "id": "5fd359ee-c0bd-4d32-a1de-93091e993064",
   "metadata": {},
   "outputs": [
    {
     "data": {
      "text/plain": [
       "<matplotlib.legend.Legend at 0x22dc30f11c0>"
      ]
     },
     "execution_count": 38,
     "metadata": {},
     "output_type": "execute_result"
    },
    {
     "data": {
      "image/png": "[encoded data removed]",
      "text/plain": [
       "<Figure size 720x360 with 1 Axes>"
      ]
     },
     "metadata": {},
     "output_type": "display_data"
    }
   ],
   "source": [
    "plt.figure(figsize = (10,5))\n",
    "sns.set_style(\"whitegrid\")\n",
    "plt.grid(True)\n",
    "plt.xlabel('Variable: LF/HF ratio',fontsize=10)\n",
    "plt.ylabel('Density',fontsize=10)\n",
    "\n",
    "sns.kdeplot(CON)\n",
    "sns.kdeplot(MDD)\n",
    "sns.kdeplot(PD)\n",
    "\n",
    "# plt.legend()\n",
    "plt.legend(['Control', 'Major Depressive Disorder', 'Panic Disorder'], fontsize=10)\n",
    "\n",
    "# plt.savefig('./data/figures/distributions/stress_rest/TEMP.png')"
   ]
  },
  {
   "cell_type": "code",
   "execution_count": null,
   "id": "629abd8a-2f8c-4a9f-a542-d9c7282441ab",
   "metadata": {},
   "outputs": [],
   "source": []
  },
  {
   "cell_type": "code",
   "execution_count": 39,
   "id": "4c354084-f4ad-4862-b583-bbfc3564afea",
   "metadata": {},
   "outputs": [
    {
     "name": "stdout",
     "output_type": "stream",
     "text": [
      ">T-TEST\n",
      "Mean value check for CON and MDD, p-value: 0.013\n",
      "Mean value check for CON and PD, p-value: 0.006\n",
      "Mean value check for MDD and PD, p-value: 0.907\n",
      "-----------------------------------------------\n",
      ">Bartlett-test\n",
      "Equal Variability test for CON and MDD, p-value: 0.549\n",
      "Equal Variability test for CON and PD, p-value: 0.001\n",
      "Equal Variability test for MDD and PD, p-value: 0.000\n",
      "-----------------------------------------------\n",
      ">Shapiro-Wilks test\n",
      "Normal distribution test for CON, p-value: 0.000\n",
      "Normal distribution test for MDD, p-value: 0.000\n",
      "Normal distribution test for PD, p-value: 0.000\n",
      "-----------------------------------------------\n",
      ">Kolmogorov-Smirnov test\n",
      "Equal distributions test between CON and MDD, p-value: 0.016\n",
      "Equal distributions test between CON and PD, p-value: 0.002\n",
      "Equal distributions test between MDD and PD, p-value: 0.792\n",
      "-----------------------------------------------\n"
     ]
    }
   ],
   "source": [
    "## T-test for equal mean value check\n",
    "## if p-value < 0.05, two distributions do not have equal mean values.\n",
    "print(\">T-TEST\")\n",
    "print(\"Mean value check for CON and MDD, p-value: {:.3f}\".format(ttest_ind(CON, MDD).pvalue))\n",
    "print(\"Mean value check for CON and PD, p-value: {:.3f}\".format(ttest_ind(CON, PD).pvalue))\n",
    "print(\"Mean value check for MDD and PD, p-value: {:.3f}\".format(ttest_ind(MDD, PD).pvalue))\n",
    "print(\"-----------------------------------------------\")\n",
    "\n",
    "\n",
    "## Bartlett-test for equal variability check\n",
    "## if p-value < 0.05, two distributions do not have equal variance.\n",
    "print(\">Bartlett-test\")\n",
    "print(\"Equal Variability test for CON and MDD, p-value: {:.3f}\".format(bartlett(CON, MDD).pvalue))\n",
    "print(\"Equal Variability test for CON and PD, p-value: {:.3f}\".format(bartlett(CON, PD).pvalue))\n",
    "print(\"Equal Variability test for MDD and PD, p-value: {:.3f}\".format(bartlett(MDD, PD).pvalue))\n",
    "print(\"-----------------------------------------------\")\n",
    "\n",
    "\n",
    "## Shapiro-Wilk test for normal distribution check\n",
    "## if p-value < 0.05, distribution is not following normal distribution.\n",
    "print(\">Shapiro-Wilks test\")\n",
    "print(\"Normal distribution test for CON, p-value: {:.3f}\".format(shapiro(CON).pvalue))\n",
    "print(\"Normal distribution test for MDD, p-value: {:.3f}\".format(shapiro(MDD).pvalue))\n",
    "print(\"Normal distribution test for PD, p-value: {:.3f}\".format(shapiro(PD).pvalue))\n",
    "print(\"-----------------------------------------------\")\n",
    "\n",
    "\n",
    "## Kolmogorov-Smirnov test for equal distribution check\n",
    "## if p-value < 0.05, two distributions are not following same distribution. \n",
    "print(\">Kolmogorov-Smirnov test\")\n",
    "print(\"Equal distributions test between CON and MDD, p-value: {:.3f}\".format(ks_2samp(CON, MDD).pvalue))\n",
    "print(\"Equal distributions test between CON and PD, p-value: {:.3f}\".format(ks_2samp(CON, PD).pvalue))\n",
    "print(\"Equal distributions test between MDD and PD, p-value: {:.3f}\".format(ks_2samp(MDD, PD).pvalue))\n",
    "print(\"-----------------------------------------------\")"
   ]
  },
  {
   "cell_type": "code",
   "execution_count": null,
   "id": "786e4844-a760-4ae9-86ae-98b1fd725959",
   "metadata": {},
   "outputs": [],
   "source": []
  },
  {
   "cell_type": "code",
   "execution_count": null,
   "id": "ed14c233-bbd1-4576-b7c3-d25851073b87",
   "metadata": {},
   "outputs": [],
   "source": []
  },
  {
   "cell_type": "code",
   "execution_count": null,
   "id": "46874edd-3f4a-4dd4-9c51-ad8dda4c234e",
   "metadata": {},
   "outputs": [],
   "source": []
  },
  {
   "cell_type": "code",
   "execution_count": null,
   "id": "5d981caa-130d-4e12-bab6-cb165a9cbbe3",
   "metadata": {},
   "outputs": [],
   "source": [
    "SDNN = hrv_only['b1SDNN']\n",
    "NN50 = hrv_only['b1NN50']\n",
    "PNN50 = hrv_only['b1PNN50']\n",
    "RMSSD = hrv_only['b1RMSSD']\n",
    "VLF = hrv_only['b1VLF']\n",
    "LF = hrv_only['b1LF']\n",
    "HF = hrv_only['b1HF']\n",
    "LFHF = hrv_only['b1LF/HF']\n",
    "POWER = hrv_only['b1POWER']\n",
    "RESP = hrv_only['b1RESP']\n",
    "TEMP = hrv_only['b1TEMP']\n",
    "HR = hrv_only['b1HR']"
   ]
  },
  {
   "cell_type": "markdown",
   "id": "de969f45-7022-47c7-8a9c-30184c0edbda",
   "metadata": {},
   "source": [
    "* All variables"
   ]
  },
  {
   "cell_type": "code",
   "execution_count": null,
   "id": "3d4949a9-87e9-445e-90b2-854d7efe71a7",
   "metadata": {
    "tags": []
   },
   "outputs": [],
   "source": [
    "plt.figure(figsize = (10,5))\n",
    "sns.set_style(\"whitegrid\")\n",
    "plt.grid(True)\n",
    "plt.xlabel('Standardized Variables',fontsize=10)\n",
    "plt.ylabel('Density',fontsize=10)\n",
    "\n",
    "sns.kdeplot(b1SDNN)\n",
    "sns.kdeplot(b1NN50)\n",
    "sns.kdeplot(b1RMSSD)\n",
    "# sns.kdeplot(b1VLF)\n",
    "sns.kdeplot(b1LF)\n",
    "# sns.kdeplot(b1HF)\n",
    "sns.kdeplot(b1LFHF)\n",
    "# sns.kdeplot(b1POWER)\n",
    "# sns.kdeplot(b1PNN50)\n",
    "sns.kdeplot(b1RESP)\n",
    "sns.kdeplot(b1TEMP)\n",
    "sns.kdeplot(b1HR)\n",
    "\n",
    "# plt.legend()\n",
    "plt.legend(['b1SDNN', 'b1NN50', 'b1RMSSD', 'b1LF', 'b1LF/HF', 'b1RESP', 'b1TEMP', 'b1HR'], fontsize=10)"
   ]
  },
  {
   "cell_type": "code",
   "execution_count": null,
   "id": "ad5784c5-4d1c-4320-ab01-4d7b963398ce",
   "metadata": {},
   "outputs": [],
   "source": []
  },
  {
   "cell_type": "code",
   "execution_count": null,
   "id": "a8576e1d-52ad-4d27-95f3-75c7ce1169ec",
   "metadata": {},
   "outputs": [],
   "source": []
  },
  {
   "cell_type": "markdown",
   "id": "f5fbe143-ba32-4b53-b5ea-71ccd94459f6",
   "metadata": {},
   "source": [
    "- - -"
   ]
  },
  {
   "cell_type": "markdown",
   "id": "fe34daea-1349-4df9-8ac5-271aa2259949",
   "metadata": {},
   "source": [
    "## Central Limit Theorem approach"
   ]
  },
  {
   "cell_type": "code",
   "execution_count": null,
   "id": "9ff012e9-c162-4487-860a-6525993b1130",
   "metadata": {},
   "outputs": [],
   "source": []
  },
  {
   "cell_type": "code",
   "execution_count": null,
   "id": "0cb30435-811b-4bbf-acee-5706b6eb69b0",
   "metadata": {},
   "outputs": [],
   "source": []
  },
  {
   "cell_type": "code",
   "execution_count": null,
   "id": "f75a4f64-5980-4e1a-9650-ebac23aa902f",
   "metadata": {},
   "outputs": [],
   "source": []
  },
  {
   "cell_type": "code",
   "execution_count": null,
   "id": "a53d55ea-c248-4bb7-a303-7e3568c01e7f",
   "metadata": {},
   "outputs": [],
   "source": []
  },
  {
   "cell_type": "code",
   "execution_count": null,
   "id": "12f87ce0-cc23-42d9-8d03-5b575662c500",
   "metadata": {},
   "outputs": [],
   "source": []
  },
  {
   "cell_type": "code",
   "execution_count": null,
   "id": "cd4ad914-0af7-4451-a14e-64f3c544b61f",
   "metadata": {},
   "outputs": [],
   "source": []
  },
  {
   "cell_type": "code",
   "execution_count": null,
   "id": "e8f6cd64-14b2-4f61-9110-623b55afa91b",
   "metadata": {},
   "outputs": [],
   "source": []
  },
  {
   "cell_type": "code",
   "execution_count": null,
   "id": "27092adb-8364-4e96-808c-8a94ca999434",
   "metadata": {},
   "outputs": [],
   "source": []
  },
  {
   "cell_type": "code",
   "execution_count": null,
   "id": "bb0fff58-d79f-44dd-aa5e-b1fa0a25544f",
   "metadata": {},
   "outputs": [],
   "source": []
  },
  {
   "cell_type": "code",
   "execution_count": null,
   "id": "3a2ee8a8-f9c8-49e9-b2bc-731aa45166b9",
   "metadata": {},
   "outputs": [],
   "source": []
  },
  {
   "cell_type": "code",
   "execution_count": null,
   "id": "052c5743-1cb8-4a89-b40a-21e1a22878ef",
   "metadata": {},
   "outputs": [],
   "source": []
  },
  {
   "cell_type": "code",
   "execution_count": null,
   "id": "a75ec81a-7dad-4516-82c8-930c2ce0761a",
   "metadata": {},
   "outputs": [],
   "source": []
  },
  {
   "cell_type": "markdown",
   "id": "13b23ded-1437-49bd-89b1-2c749f354375",
   "metadata": {},
   "source": [
    "- - -"
   ]
  },
  {
   "cell_type": "markdown",
   "id": "85aa4641-af6f-4d09-8f9f-c6c8f6e3062f",
   "metadata": {},
   "source": [
    "## Correlation between data features"
   ]
  },
  {
   "cell_type": "markdown",
   "id": "8524b485-113a-4b4a-84e7-4a33be077364",
   "metadata": {},
   "source": [
    "* To generate new dataset from each feature distribution, we have to realize the correlation and regression coefficients."
   ]
  },
  {
   "cell_type": "code",
   "execution_count": null,
   "id": "8d15e46a-6d5d-44ae-bf20-391382c05192",
   "metadata": {},
   "outputs": [],
   "source": [
    "hrv_visual.columns"
   ]
  },
  {
   "cell_type": "code",
   "execution_count": null,
   "id": "7cdc693e-0ddf-4f46-a5d4-8dd14f43b888",
   "metadata": {},
   "outputs": [],
   "source": [
    "hrv_visual.corr()"
   ]
  },
  {
   "cell_type": "markdown",
   "id": "a58dadf7-3aac-4769-a7bd-f16491618a23",
   "metadata": {},
   "source": [
    "* Visualize the correlation"
   ]
  },
  {
   "cell_type": "code",
   "execution_count": null,
   "id": "9d27f327-0e66-49da-85d3-029f2177f07d",
   "metadata": {},
   "outputs": [],
   "source": [
    "plt.figure(figsize = (15,15))\n",
    "corrMat = hrv_visual.corr()\n",
    "sns.heatmap(corrMat, annot=True)\n",
    "plt.show()"
   ]
  },
  {
   "cell_type": "code",
   "execution_count": null,
   "id": "a3096974-86de-439d-bc0c-14227ff27e99",
   "metadata": {},
   "outputs": [],
   "source": []
  },
  {
   "cell_type": "markdown",
   "id": "05eecd6c-8ce7-4857-94cd-249a631556b5",
   "metadata": {},
   "source": [
    "* Check whether each correlation coefficient is reliable"
   ]
  },
  {
   "cell_type": "code",
   "execution_count": null,
   "id": "64130b48-45f5-4bf8-8c4a-8bc763934508",
   "metadata": {},
   "outputs": [],
   "source": [
    "## pearsonr function shows individual correlation coefficient with p-value\n",
    "pearsonr(hrv_visual['SDNN'], hrv_visual['NN50'])"
   ]
  },
  {
   "cell_type": "code",
   "execution_count": null,
   "id": "00913230-c279-48e9-9815-fb472531e53f",
   "metadata": {},
   "outputs": [],
   "source": [
    "## for loop to calculate correlation coefficient and following p-values for every variables.\n",
    "col = list(hrv_visual)\n",
    "corr_result = []\n",
    "for i in range(0,len(col)-1):\n",
    "    a = hrv_visual[hrv_visual.columns[i]]\n",
    "    i += 1\n",
    "    b = hrv_visual[hrv_visual.columns[i]]\n",
    "    cor = pearsonr(a, b)\n",
    "    corr_result.append(cor)"
   ]
  },
  {
   "cell_type": "code",
   "execution_count": null,
   "id": "3f9d18e5-47c6-45cf-b121-3adebbf7294f",
   "metadata": {},
   "outputs": [],
   "source": [
    "corr_result_df = pd.DataFrame(corr_result, columns=['correlation', 'p-value'])"
   ]
  },
  {
   "cell_type": "code",
   "execution_count": null,
   "id": "ef8509cd-a25c-4c52-a55a-2460d7f37f39",
   "metadata": {},
   "outputs": [],
   "source": [
    "var_names = []\n",
    "for i in range(0,len(col)-1):\n",
    "    cur_var = (col[i], col[i+1])\n",
    "    var_names.append(cur_var)"
   ]
  },
  {
   "cell_type": "code",
   "execution_count": null,
   "id": "430515ed-e684-42e8-afb3-69fa7a5fd2b5",
   "metadata": {},
   "outputs": [],
   "source": [
    "var_names_df = pd.DataFrame(var_names, columns=['Variable #1', 'Variable #2'])"
   ]
  },
  {
   "cell_type": "code",
   "execution_count": null,
   "id": "0f78b2ed-c727-4884-b1e1-48665bd1616e",
   "metadata": {},
   "outputs": [],
   "source": [
    "correlation_df = pd.concat([var_names_df, corr_result_df], axis=1)"
   ]
  },
  {
   "cell_type": "code",
   "execution_count": null,
   "id": "b770d8a8-9ae5-4e1c-a295-e9d053cec9d0",
   "metadata": {},
   "outputs": [],
   "source": [
    "correlation_df['reliability'] = np.where(correlation_df['p-value']<0.05, \"o\", \"x\")"
   ]
  },
  {
   "cell_type": "code",
   "execution_count": null,
   "id": "71c56217-da01-4f88-8d10-aff131c248b4",
   "metadata": {},
   "outputs": [],
   "source": [
    "correlation_df"
   ]
  },
  {
   "cell_type": "code",
   "execution_count": null,
   "id": "368ea57f-bb6d-4abe-a816-f0d5ee90d126",
   "metadata": {},
   "outputs": [],
   "source": [
    "sd = np.std(hrv_visual['SDNN'])"
   ]
  },
  {
   "cell_type": "code",
   "execution_count": null,
   "id": "802e8bbc-8ae2-4e2f-9018-d6debcbbe109",
   "metadata": {},
   "outputs": [],
   "source": [
    "hrv_visual.mean()"
   ]
  },
  {
   "cell_type": "code",
   "execution_count": null,
   "id": "a22d078e-df25-4eed-b613-464c7f6f36e5",
   "metadata": {},
   "outputs": [],
   "source": [
    "hrv_visual.std()"
   ]
  },
  {
   "cell_type": "code",
   "execution_count": null,
   "id": "804fe77e-bafc-440c-8cdb-452d72af7d9b",
   "metadata": {},
   "outputs": [],
   "source": []
  },
  {
   "cell_type": "code",
   "execution_count": null,
   "id": "706b4bef-3cc3-4c69-87b9-0992c93293a6",
   "metadata": {},
   "outputs": [],
   "source": []
  },
  {
   "cell_type": "code",
   "execution_count": null,
   "id": "2c7ef63b-db64-436a-a1bc-882444e8749f",
   "metadata": {},
   "outputs": [],
   "source": []
  },
  {
   "cell_type": "markdown",
   "id": "9866d96f-443a-4c2c-b3ab-55a0e673586c",
   "metadata": {},
   "source": [
    "## Regression Coefficients"
   ]
  },
  {
   "cell_type": "markdown",
   "id": "f713e1b3-d792-48b8-b1f1-11746c8ebcf1",
   "metadata": {},
   "source": [
    "* To generate new dataset from each feature distribution, we have to realize the correlation and regression coefficients."
   ]
  },
  {
   "cell_type": "code",
   "execution_count": null,
   "id": "395dcf10-0d05-403b-8d60-30b5d5aa1421",
   "metadata": {},
   "outputs": [],
   "source": [
    "hrv_visual.columns"
   ]
  },
  {
   "cell_type": "code",
   "execution_count": null,
   "id": "c7c24702-07a8-46fd-ae96-58054f6cc314",
   "metadata": {},
   "outputs": [],
   "source": [
    "# features = hrv_visual[['SDNN', 'NN50', 'PNN50', 'RMSSD', 'VLF', 'LF', 'HF', 'LF/HF', 'POWER', 'HR', 'RESP', 'SC', 'TEMP']]\n",
    "# features = hrv_visual[['SDNN', 'NN50', 'PNN50', 'RMSSD', 'LF/HF', 'HR']]\n",
    "features = hrv_visual[['PNN50', 'LF/HF', 'HR']] ## variables that mentioned from previous research.(professor Jeon.)\n",
    "\n",
    "disorder = hrv_visual[['disorder']]"
   ]
  },
  {
   "cell_type": "code",
   "execution_count": null,
   "id": "40961a24-4bb5-4a1a-8113-a1ff16186870",
   "metadata": {},
   "outputs": [],
   "source": [
    "train_features, test_features, train_labels, test_labels = train_test_split(features, disorder)"
   ]
  },
  {
   "cell_type": "code",
   "execution_count": null,
   "id": "7bba72db-42c1-4de8-8a13-d3f38fb59085",
   "metadata": {},
   "outputs": [],
   "source": [
    "model = LogisticRegression()\n",
    "model.fit(train_features, train_labels)"
   ]
  },
  {
   "cell_type": "code",
   "execution_count": null,
   "id": "dc434e95-f473-4728-9da3-336a798c5077",
   "metadata": {},
   "outputs": [],
   "source": [
    "print(model.score(train_features, train_labels))"
   ]
  },
  {
   "cell_type": "code",
   "execution_count": null,
   "id": "8bc1cd08-383d-426d-8e62-b40f6f510a0a",
   "metadata": {},
   "outputs": [],
   "source": [
    "print(model.coef_)"
   ]
  },
  {
   "cell_type": "code",
   "execution_count": null,
   "id": "422e60a9-69ce-45d1-a604-edf9634db1ec",
   "metadata": {},
   "outputs": [],
   "source": []
  },
  {
   "cell_type": "code",
   "execution_count": null,
   "id": "9631c58a-f77d-4912-aadc-9a896245e9f9",
   "metadata": {},
   "outputs": [],
   "source": []
  },
  {
   "cell_type": "code",
   "execution_count": null,
   "id": "aec731d5-6bbc-471c-97e8-5fa1445b0435",
   "metadata": {},
   "outputs": [],
   "source": []
  },
  {
   "cell_type": "code",
   "execution_count": null,
   "id": "7d4eb8bd-6d4b-4e03-8fea-8ebb6ea23b06",
   "metadata": {},
   "outputs": [],
   "source": []
  },
  {
   "cell_type": "code",
   "execution_count": null,
   "id": "4af28ee1-504e-481f-a5e6-3c80e8d09454",
   "metadata": {},
   "outputs": [],
   "source": []
  },
  {
   "cell_type": "code",
   "execution_count": null,
   "id": "de8168ec-c9cc-4ba6-b920-d097a296101e",
   "metadata": {},
   "outputs": [],
   "source": []
  },
  {
   "cell_type": "markdown",
   "id": "62142bbe-f5d7-4c2c-bcd3-23386002aa6e",
   "metadata": {},
   "source": [
    "- - -"
   ]
  },
  {
   "cell_type": "markdown",
   "id": "ad9170f5-1c38-4105-b63f-d2d3aed26da7",
   "metadata": {},
   "source": [
    "# Data Analysis"
   ]
  },
  {
   "cell_type": "markdown",
   "id": "a23b1357-253a-449b-abbc-7455fd193d48",
   "metadata": {},
   "source": [
    "## Data Selection"
   ]
  },
  {
   "cell_type": "code",
   "execution_count": null,
   "id": "d1981a31-ace3-43be-8d2d-9e64f6ef1274",
   "metadata": {},
   "outputs": [],
   "source": []
  },
  {
   "cell_type": "code",
   "execution_count": null,
   "id": "02303895-5138-44f1-8162-f3096451d775",
   "metadata": {},
   "outputs": [],
   "source": [
    "X = hrv_b1_s_sub\n",
    "Y = hrv_disorder"
   ]
  },
  {
   "cell_type": "code",
   "execution_count": null,
   "id": "01a6a042-69a5-4bd6-bd64-9f2a77436f1f",
   "metadata": {},
   "outputs": [],
   "source": [
    "var_selection = [\"SDNN\", \"NN50\",\"PNN50\", \"RMSSD\", \"LF\", \"HF\", \"LF/HF\", \"HR\"] ## Choose the variables that must be adopted for input values\n",
    "X = X.loc[:,var_selection]"
   ]
  },
  {
   "cell_type": "code",
   "execution_count": null,
   "id": "2291ef38-e933-420a-8810-38cf7423cfd7",
   "metadata": {},
   "outputs": [],
   "source": [
    "## Generating dataset with y label on it. \n",
    "hrv_data = pd.concat([hrv_s_r_sub, hrv_disorder], axis=1)"
   ]
  },
  {
   "cell_type": "code",
   "execution_count": null,
   "id": "5b9bc6c6-0d12-4bce-9749-15a3666fca2e",
   "metadata": {},
   "outputs": [],
   "source": [
    "hrv_data.head()"
   ]
  },
  {
   "cell_type": "code",
   "execution_count": null,
   "id": "50ff9723-818d-4535-95ae-ce7288baa0cd",
   "metadata": {},
   "outputs": [],
   "source": []
  },
  {
   "cell_type": "code",
   "execution_count": null,
   "id": "b5a68736-1212-47fb-81a3-1c9df68781ce",
   "metadata": {},
   "outputs": [],
   "source": []
  },
  {
   "cell_type": "markdown",
   "id": "8f315e61-ba7d-454e-9d16-1ac020718772",
   "metadata": {},
   "source": [
    "## Train-Test Split"
   ]
  },
  {
   "cell_type": "code",
   "execution_count": null,
   "id": "7f965837-5694-419f-9fee-a3040129eab7",
   "metadata": {},
   "outputs": [],
   "source": [
    "X.columns"
   ]
  },
  {
   "cell_type": "code",
   "execution_count": null,
   "id": "843c5d6e-7baa-42ae-a8b3-af922139e450",
   "metadata": {},
   "outputs": [],
   "source": []
  },
  {
   "cell_type": "code",
   "execution_count": null,
   "id": "fabbe65b-a459-43ac-92b2-1d1c1e374159",
   "metadata": {},
   "outputs": [],
   "source": [
    "## Split X and Y into training dataset and test dataset\n",
    "x_train, x_test, y_train, y_test = train_test_split(X, Y, test_size = 0.2, random_state = 42)"
   ]
  },
  {
   "cell_type": "code",
   "execution_count": null,
   "id": "2ecc0d6e-9532-4331-8311-51fdf6e94536",
   "metadata": {},
   "outputs": [],
   "source": [
    "print(\"x_train dataset shape is\", x_train.shape)\n",
    "print(\"y_train dataset shape is\", y_train.shape)\n",
    "\n",
    "print(\"x_test dataset shape is\", x_test.shape)\n",
    "print(\"y_test dataset shape is\", y_test.shape)"
   ]
  },
  {
   "cell_type": "code",
   "execution_count": null,
   "id": "930207c7-7115-41c9-bc45-5a0d6567014e",
   "metadata": {},
   "outputs": [],
   "source": []
  },
  {
   "cell_type": "code",
   "execution_count": null,
   "id": "6afb822f-f4c6-4e8b-8b59-9629910dcacc",
   "metadata": {},
   "outputs": [],
   "source": []
  },
  {
   "cell_type": "code",
   "execution_count": null,
   "id": "16e4a3f0-6cee-4488-83a2-a3c107c1eaa0",
   "metadata": {},
   "outputs": [],
   "source": [
    "## Converting dataframe format into numpy array\n",
    "x_train_np = x_train.to_numpy()\n",
    "y_train_np = y_train.to_numpy()\n",
    "x_test_np = x_test.to_numpy()\n",
    "y_test_np = y_test.to_numpy()"
   ]
  },
  {
   "cell_type": "code",
   "execution_count": null,
   "id": "3560ee40-7fba-4caa-8773-9a690db21407",
   "metadata": {},
   "outputs": [],
   "source": [
    "## Use TensorDataset to create dataset with ndarray\n",
    "train_dataset = TensorDataset(torch.tensor(x_train_np), torch.tensor(y_train_np))\n",
    "test_dataset = TensorDataset(torch.tensor(x_test_np), torch.tensor(y_test_np))"
   ]
  },
  {
   "cell_type": "code",
   "execution_count": null,
   "id": "c59c827c-c73a-4934-84da-3af4fe8c4d40",
   "metadata": {},
   "outputs": [],
   "source": [
    "## Setting trainloader and testloader for training\n",
    "train_loader = torch.utils.data.DataLoader(train_dataset, batch_size=args.bs, shuffle=True, num_workers=4)\n",
    "test_loader = torch.utils.data.DataLoader(test_dataset, batch_size=args.bs, shuffle=False, num_workers=4)"
   ]
  },
  {
   "cell_type": "code",
   "execution_count": null,
   "id": "a15e9e97-052a-4d93-ab12-9f88996a6d44",
   "metadata": {},
   "outputs": [],
   "source": []
  },
  {
   "cell_type": "code",
   "execution_count": null,
   "id": "d1a43e78-62f2-4a3a-9136-93585e97ed93",
   "metadata": {},
   "outputs": [],
   "source": []
  },
  {
   "cell_type": "markdown",
   "id": "74690609-aa50-4093-b3a0-7b2f59849655",
   "metadata": {},
   "source": [
    "- - -"
   ]
  },
  {
   "cell_type": "markdown",
   "id": "6795e6ea-4fe6-44f2-bb78-14c4e825a6c6",
   "metadata": {},
   "source": [
    "## Regression"
   ]
  },
  {
   "cell_type": "code",
   "execution_count": null,
   "id": "ef019a5c-5db9-4037-ad4d-5676c42394b3",
   "metadata": {},
   "outputs": [],
   "source": [
    "logistic_reg = LogisticRegression(solver='lbfgs', max_iter = 4000)\n",
    "logistic_reg.fit(x_train, y_train.values.ravel())"
   ]
  },
  {
   "cell_type": "code",
   "execution_count": null,
   "id": "e061d059-8ca5-4840-ab29-099a2a4de488",
   "metadata": {},
   "outputs": [],
   "source": [
    "predictions = logistic_reg.predict(x_test)"
   ]
  },
  {
   "cell_type": "code",
   "execution_count": null,
   "id": "86efdff9-a4a1-4135-9288-1c8c75cc1e3c",
   "metadata": {},
   "outputs": [],
   "source": [
    "print(confusion_matrix(y_test,predictions))"
   ]
  },
  {
   "cell_type": "code",
   "execution_count": null,
   "id": "c8ca54ea-18b2-4f63-b945-30f1493f0008",
   "metadata": {},
   "outputs": [],
   "source": []
  },
  {
   "cell_type": "markdown",
   "id": "8f084415-37de-4989-92b8-da7747f5d07f",
   "metadata": {},
   "source": [
    "- - -"
   ]
  },
  {
   "cell_type": "markdown",
   "id": "736bf1d5-e205-490b-b0ba-0c2cc409b124",
   "metadata": {},
   "source": [
    "## Decision Tree"
   ]
  },
  {
   "cell_type": "code",
   "execution_count": null,
   "id": "3531ce01-d683-4f8d-870c-a05cbffea806",
   "metadata": {},
   "outputs": [],
   "source": [
    "dt_model=DecisionTreeClassifier()\n",
    "dt_model.fit(x_train, y_train)"
   ]
  },
  {
   "cell_type": "code",
   "execution_count": null,
   "id": "81a22415-8d85-453a-ab31-e4008ee33564",
   "metadata": {},
   "outputs": [],
   "source": [
    "dt_pred = dt_model.predict(x_test)"
   ]
  },
  {
   "cell_type": "code",
   "execution_count": null,
   "id": "776835b9-a243-4b30-90d4-81adee062717",
   "metadata": {},
   "outputs": [],
   "source": [
    "print(confusion_matrix(y_test,dt_pred))"
   ]
  },
  {
   "cell_type": "code",
   "execution_count": null,
   "id": "0706e83e-32fe-4c94-9674-42304cb2f51f",
   "metadata": {},
   "outputs": [],
   "source": [
    "print(classification_report(y_test,dt_pred))"
   ]
  },
  {
   "cell_type": "code",
   "execution_count": null,
   "id": "3f0e09ba-65da-45cd-af60-f095a9dd04f9",
   "metadata": {},
   "outputs": [],
   "source": []
  },
  {
   "cell_type": "markdown",
   "id": "baaa5217-74e9-423f-a585-4a37c8d0d401",
   "metadata": {},
   "source": [
    "- - -"
   ]
  },
  {
   "cell_type": "markdown",
   "id": "ffbc3f79-3f12-4188-b4d1-79358136124e",
   "metadata": {},
   "source": [
    "## Random Forest Classification"
   ]
  },
  {
   "cell_type": "code",
   "execution_count": null,
   "id": "4bddfbf0-2eb9-4242-9aea-9101ace007c8",
   "metadata": {},
   "outputs": [],
   "source": [
    "rf= RandomForestClassifier(n_estimators=5000)\n",
    "rf.fit(x_train, y_train.values.ravel())"
   ]
  },
  {
   "cell_type": "code",
   "execution_count": null,
   "id": "883b1dce-77e2-41e6-9377-77b11f83d691",
   "metadata": {},
   "outputs": [],
   "source": [
    "rf_pre=rf.predict(x_test)"
   ]
  },
  {
   "cell_type": "code",
   "execution_count": null,
   "id": "8b73d1a3-6948-4036-b41e-546b20949fb8",
   "metadata": {},
   "outputs": [],
   "source": [
    "print(confusion_matrix(y_test, rf_pre))"
   ]
  },
  {
   "cell_type": "code",
   "execution_count": null,
   "id": "cf00cfe5-a377-477a-8349-2c2529128304",
   "metadata": {},
   "outputs": [],
   "source": [
    "print(classification_report(y_test, rf_pre))"
   ]
  },
  {
   "cell_type": "code",
   "execution_count": null,
   "id": "f217e23e-b0de-4b08-b35a-910184e199b5",
   "metadata": {},
   "outputs": [],
   "source": []
  },
  {
   "cell_type": "markdown",
   "id": "17871a6c-a5e4-413f-81cb-e057fd845718",
   "metadata": {},
   "source": [
    "- - -"
   ]
  },
  {
   "cell_type": "markdown",
   "id": "ad19e5fc-0143-4787-be0f-d435f9471292",
   "metadata": {},
   "source": [
    "## XGBoosts Classifier"
   ]
  },
  {
   "cell_type": "code",
   "execution_count": null,
   "id": "298965e5-2dd7-4849-a5ee-a757387931ee",
   "metadata": {},
   "outputs": [],
   "source": [
    "xgboost = XGBClassifier(n_estimators=1000, eval_metric='mlogloss')\n",
    "xgboost.fit(x_train, y_train)"
   ]
  },
  {
   "cell_type": "code",
   "execution_count": null,
   "id": "d45feadb-fdea-4c0a-a522-ec4009dfdaf5",
   "metadata": {},
   "outputs": [],
   "source": [
    "xg_pred = xgboost.predict(x_test)"
   ]
  },
  {
   "cell_type": "code",
   "execution_count": null,
   "id": "8ce5a47a-ca31-40db-babb-f9c9ddd7998b",
   "metadata": {},
   "outputs": [],
   "source": [
    "print(confusion_matrix(y_test, xg_pred))"
   ]
  },
  {
   "cell_type": "code",
   "execution_count": null,
   "id": "56e3fc4b-2344-47fa-bbd7-c8875f4eed79",
   "metadata": {},
   "outputs": [],
   "source": [
    "print(classification_report(y_test, xg_pred))"
   ]
  },
  {
   "cell_type": "code",
   "execution_count": null,
   "id": "50aa2b3a-7cd6-4e98-ba38-4a214fa0ac9f",
   "metadata": {},
   "outputs": [],
   "source": []
  },
  {
   "cell_type": "markdown",
   "id": "ace07912-163d-45d7-b9ec-46acca28ba8f",
   "metadata": {},
   "source": [
    "- - -"
   ]
  },
  {
   "cell_type": "markdown",
   "id": "97d16dea-a4ab-4bc7-9c7e-3c1a69dfc1ac",
   "metadata": {},
   "source": [
    "## Multi-Layer Perceptron"
   ]
  },
  {
   "cell_type": "markdown",
   "id": "c782dc49-1085-4638-be96-b005a7885d49",
   "metadata": {},
   "source": [
    "* Simple MLP"
   ]
  },
  {
   "cell_type": "code",
   "execution_count": null,
   "id": "d5fdb456-c3eb-476f-bf27-adecb7d628eb",
   "metadata": {},
   "outputs": [],
   "source": [
    "input_size = x_train.shape[1]"
   ]
  },
  {
   "cell_type": "code",
   "execution_count": null,
   "id": "338a9c99-b3b0-406c-ba98-99eeb1dff339",
   "metadata": {},
   "outputs": [],
   "source": [
    "class MLP_HRV(nn.Module):\n",
    "    def __init__(self):\n",
    "        super(MLP_HRV, self).__init__()\n",
    "        self.layer1 = nn.Linear(input_size, 128)\n",
    "        self.layer2 = nn.Linear(128, 128)\n",
    "        self.layer3 = nn.Linear(128, 3)\n",
    "\n",
    "    def forward(self, x):\n",
    "        x = x.view(-1, input_size)\n",
    "        x = self.layer1(x)\n",
    "        x = F.relu(x)\n",
    "        x = self.layer2(x)\n",
    "        x = F.relu(x)\n",
    "        x = self.layer3(x)\n",
    "        x = F.log_softmax(x, dim=1)\n",
    "        return x"
   ]
  },
  {
   "cell_type": "code",
   "execution_count": null,
   "id": "16fcceb0-985b-44a3-8989-e5d9280eeb07",
   "metadata": {},
   "outputs": [],
   "source": [
    "model = MLP_HRV().to(DEVICE)\n",
    "print(model)"
   ]
  },
  {
   "cell_type": "code",
   "execution_count": null,
   "id": "1e7b4ad0-8b6e-49ab-b73f-b7de74a4e0b5",
   "metadata": {},
   "outputs": [],
   "source": []
  },
  {
   "cell_type": "code",
   "execution_count": null,
   "id": "e11733c1-8861-4b2a-8c93-32d95bddfd23",
   "metadata": {},
   "outputs": [],
   "source": [
    "criterion = nn.CrossEntropyLoss()\n",
    "optimizer = torch.optim.SGD(model.parameters(), lr=0.01)"
   ]
  },
  {
   "cell_type": "code",
   "execution_count": null,
   "id": "28aab48d-cf2a-453a-9198-e21f2a1f457d",
   "metadata": {},
   "outputs": [],
   "source": [
    "x_train = torch.tensor(x_train.values)"
   ]
  },
  {
   "cell_type": "code",
   "execution_count": null,
   "id": "ac34b200-30f7-413d-8ced-cdecfb9c0a4c",
   "metadata": {
    "tags": []
   },
   "outputs": [],
   "source": [
    "for epoch in range(args.epochs):\n",
    "    loss = 0\n",
    "    batch = len(train_loader)\n",
    "\n",
    "    for images, labels in train_loader: \n",
    "        images = images.view(-1, input_size).to(DEVICE) \n",
    "        labels = labels.to(DEVICE)\n",
    "        \n",
    "        optimizer.zero_grad()\n",
    "        hypothesis = model(images)\n",
    "        cost = criterion(hypothesis, labels)\n",
    "        cost.backward()\n",
    "        optimizer.step()\n",
    "        loss += cost / batch\n",
    "\n",
    "    print('Epoch:', '%03d' % (epoch + 1), 'Training loss =', '{:.5f}'.format(loss))"
   ]
  },
  {
   "cell_type": "code",
   "execution_count": null,
   "id": "94578667-23e7-4bf5-99ed-7eebb191bcdd",
   "metadata": {},
   "outputs": [],
   "source": []
  },
  {
   "cell_type": "code",
   "execution_count": null,
   "id": "a3c3105f-75d1-4c90-a849-a45930a855e3",
   "metadata": {},
   "outputs": [],
   "source": []
  },
  {
   "cell_type": "code",
   "execution_count": null,
   "id": "c2f9ff84-005c-4074-8298-8be5877b697c",
   "metadata": {},
   "outputs": [],
   "source": []
  },
  {
   "cell_type": "code",
   "execution_count": null,
   "id": "79dc468b-4b75-4354-962d-fdb8aee5bf83",
   "metadata": {},
   "outputs": [],
   "source": []
  },
  {
   "cell_type": "markdown",
   "id": "5dfb4496-0a53-4f2e-904b-6b7549e3a385",
   "metadata": {},
   "source": [
    "- - -"
   ]
  },
  {
   "cell_type": "markdown",
   "id": "692b3a2a-4c99-4368-8aac-6bbcb91f4ef3",
   "metadata": {},
   "source": [
    "## Convolutional Neural Network"
   ]
  },
  {
   "cell_type": "code",
   "execution_count": null,
   "id": "ecc05c32-356f-40a3-8b6d-3263f931786a",
   "metadata": {},
   "outputs": [],
   "source": [
    "print(\"X shape is \", X.shape)\n",
    "print(\"Y shape is \", Y.shape)"
   ]
  },
  {
   "cell_type": "code",
   "execution_count": null,
   "id": "a5c7301f-4dc8-467e-a9b0-01569e80f303",
   "metadata": {},
   "outputs": [],
   "source": [
    "X.head()"
   ]
  },
  {
   "cell_type": "code",
   "execution_count": null,
   "id": "82ba0b42-111e-405e-b73e-9fa044d6f23f",
   "metadata": {},
   "outputs": [],
   "source": []
  },
  {
   "cell_type": "code",
   "execution_count": null,
   "id": "212bbd2d-801c-4656-8277-c0778555b483",
   "metadata": {},
   "outputs": [],
   "source": []
  },
  {
   "cell_type": "code",
   "execution_count": null,
   "id": "bb752707-68e7-4c47-a752-a00db3ee4a2b",
   "metadata": {},
   "outputs": [],
   "source": []
  },
  {
   "cell_type": "code",
   "execution_count": null,
   "id": "c71ed47b-d4fe-4dcf-83ed-0f0be1d82b11",
   "metadata": {},
   "outputs": [],
   "source": []
  },
  {
   "cell_type": "code",
   "execution_count": null,
   "id": "b050d792-785c-4756-b313-7f6780921d55",
   "metadata": {},
   "outputs": [],
   "source": []
  },
  {
   "cell_type": "code",
   "execution_count": null,
   "id": "dd27dfc2-4053-4931-b89e-d5ab1149207f",
   "metadata": {},
   "outputs": [],
   "source": []
  },
  {
   "cell_type": "code",
   "execution_count": null,
   "id": "8ec3ca56-166e-4c3f-8b51-6e26b2316ade",
   "metadata": {},
   "outputs": [],
   "source": []
  },
  {
   "cell_type": "code",
   "execution_count": null,
   "id": "6b91d262-b8bf-4c6c-bde9-a411453434f7",
   "metadata": {},
   "outputs": [],
   "source": []
  },
  {
   "cell_type": "markdown",
   "id": "29f2f6d8-d410-44f8-b629-ae7165fe8c94",
   "metadata": {},
   "source": [
    "- - -"
   ]
  },
  {
   "cell_type": "markdown",
   "id": "9db586c8-d2a3-4f08-9db5-84f91d05bcc9",
   "metadata": {},
   "source": [
    "## Autoencoder"
   ]
  },
  {
   "cell_type": "markdown",
   "id": "b5a37154-676c-4db0-88ed-c5ddc594b99b",
   "metadata": {},
   "source": [
    "* Here, we are going to use autoencoder algorithm to effectively extract the core features from dataset\n",
    "* Autoencoder is useful for reducing high-dimensionality dataset"
   ]
  },
  {
   "cell_type": "code",
   "execution_count": null,
   "id": "09257593-fb9c-4fe0-9b2d-a3daf1534d07",
   "metadata": {},
   "outputs": [],
   "source": [
    "task = hrv_s_b2_sub\n",
    "# data_auto = pd.concat([task, hrv_disorder], axis=1)\n",
    "data_auto = pd.concat([hrv_only, hrv_disorder], axis=1)"
   ]
  },
  {
   "cell_type": "code",
   "execution_count": null,
   "id": "ed6e2976-4d18-4a75-b5a9-4d88cc49c68e",
   "metadata": {},
   "outputs": [],
   "source": [
    "data_auto.head()"
   ]
  },
  {
   "cell_type": "code",
   "execution_count": null,
   "id": "354ed94c-e3a8-4ab0-91bf-3bede1f68cd3",
   "metadata": {},
   "outputs": [],
   "source": [
    "class Autoencoder(nn.Module):\n",
    "    def __init__(self):\n",
    "        super(Autoencoder, self).__init__()\n",
    "        \n",
    "        ## encoder is similar to the simple neural network\n",
    "        self.encoder = nn.Sequential(\n",
    "            nn.Linear(), # gradually reducing dimensionality\n",
    "            nn.ReLU(),\n",
    "            nn.Linear(),\n",
    "            nn.ReLU(),\n",
    "            nn.Linear(),\n",
    "        )\n",
    "        ## decoder is recovering the dimensionality to origianl dataset size\n",
    "        self.decoder = nn.Sequential(\n",
    "            nn.Linear(), # gradually increasing dimensionality\n",
    "            nn.ReLU(),\n",
    "            nn.Linear(),\n",
    "            nn.ReLU(),\n",
    "            nn.Linear(),            \n",
    "        )\n",
    "        \n",
    "    def forward(self, x):\n",
    "        encoded = self.encoder(x)         ## creating latent varialbe 'encoder'\n",
    "        decoded = self.decoder(encoded)   ## generating recovered image 'decoded'\n",
    "        return encoded, decoded"
   ]
  },
  {
   "cell_type": "code",
   "execution_count": null,
   "id": "0c5281c8-09ce-4f96-9a36-2231d2edfe2a",
   "metadata": {},
   "outputs": [],
   "source": [
    "autoencoder = Autoencoder().to(DEVICE)\n",
    "optimizer = torch.optim.Adam(autoencoder.parameters(), lr = args.lr)  ## Adam for optimization function.\n",
    "criterion = nn.MSELoss()  ## Using MSE(Mean Squared Error) to calculate the differences between original data and decoded data"
   ]
  },
  {
   "cell_type": "code",
   "execution_count": null,
   "id": "45d41c8b-0ca2-4707-8797-27fef3cae62b",
   "metadata": {},
   "outputs": [],
   "source": []
  },
  {
   "cell_type": "code",
   "execution_count": null,
   "id": "8728d0ad-c233-41e5-9b3f-dc3c73cf75c7",
   "metadata": {},
   "outputs": [],
   "source": []
  },
  {
   "cell_type": "code",
   "execution_count": null,
   "id": "ba729f26-1cfb-4b0c-b15b-eb5379edbf98",
   "metadata": {},
   "outputs": [],
   "source": []
  },
  {
   "cell_type": "code",
   "execution_count": null,
   "id": "94b883b8-7731-4d80-81f4-80f082e520d6",
   "metadata": {},
   "outputs": [],
   "source": []
  },
  {
   "cell_type": "code",
   "execution_count": null,
   "id": "7815f0ab-1d6a-4927-a36d-f51d7712d7c9",
   "metadata": {},
   "outputs": [],
   "source": []
  },
  {
   "cell_type": "code",
   "execution_count": null,
   "id": "db2d0d44-7a92-478b-855a-9061947bfaa6",
   "metadata": {},
   "outputs": [],
   "source": []
  },
  {
   "cell_type": "code",
   "execution_count": null,
   "id": "7cc4781c-68d3-4992-a263-213572165143",
   "metadata": {},
   "outputs": [],
   "source": []
  },
  {
   "cell_type": "code",
   "execution_count": null,
   "id": "927e3a8d-6cce-40e6-99e9-23a4faa57036",
   "metadata": {},
   "outputs": [],
   "source": []
  },
  {
   "cell_type": "code",
   "execution_count": null,
   "id": "5918eb07-16ac-4eef-8431-f14a2c8b7641",
   "metadata": {},
   "outputs": [],
   "source": []
  }
 ],
 "metadata": {
  "kernelspec": {
   "display_name": "Python 3",
   "language": "python",
   "name": "python3"
  },
  "language_info": {
   "codemirror_mode": {
    "name": "ipython",
    "version": 3
   },
   "file_extension": ".py",
   "mimetype": "text/x-python",
   "name": "python",
   "nbconvert_exporter": "python",
   "pygments_lexer": "ipython3",
   "version": "3.8.10"
  }
 },
 "nbformat": 4,
 "nbformat_minor": 5
}
