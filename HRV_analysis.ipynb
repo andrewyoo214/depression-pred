{
 "cells": [
  {
   "cell_type": "markdown",
   "id": "9c1d493f-d163-4701-992a-6bd8340bdac5",
   "metadata": {},
   "source": [
    "# Major Depressive Disorder Diagnosis"
   ]
  },
  {
   "cell_type": "code",
   "execution_count": 1,
   "id": "5b1bf08b-872d-42ad-b6d2-ce8bd6c6225f",
   "metadata": {},
   "outputs": [],
   "source": [
    "import os\n",
    "import time\n",
    "import random\n",
    "import pandas as pd\n",
    "import numpy as np\n",
    "import matplotlib.pyplot as plt\n",
    "import seaborn as sns\n",
    "\n",
    "import torch\n",
    "import torchvision\n",
    "import torch.nn as nn"
   ]
  },
  {
   "cell_type": "code",
   "execution_count": 2,
   "id": "c5471670-ce8b-474e-bc05-0e5b42f6d71a",
   "metadata": {},
   "outputs": [],
   "source": [
    "from sklearn.model_selection import train_test_split\n",
    "from sklearn.linear_model import LogisticRegression\n",
    "from sklearn.metrics import classification_report,confusion_matrix\n",
    "from sklearn.tree import DecisionTreeClassifier\n",
    "from sklearn.ensemble import RandomForestClassifier\n",
    "from sklearn.preprocessing import MinMaxScaler\n",
    "from xgboost import XGBClassifier\n",
    "\n",
    "from torch.nn import functional as F\n",
    "from torch.autograd import Variable"
   ]
  },
  {
   "cell_type": "code",
   "execution_count": 3,
   "id": "37b5e4b2-e635-4618-8e85-1c316fe67b90",
   "metadata": {},
   "outputs": [
    {
     "name": "stdout",
     "output_type": "stream",
     "text": [
      "PyTorch Version:  1.7.1\n",
      "Torchvision Version:  0.8.2\n"
     ]
    }
   ],
   "source": [
    "print(\"PyTorch Version: \",torch.__version__)\n",
    "print(\"Torchvision Version: \",torchvision.__version__)"
   ]
  },
  {
   "cell_type": "code",
   "execution_count": null,
   "id": "8a8a0ae8-cb1d-4676-811a-d8bc99366bc0",
   "metadata": {},
   "outputs": [],
   "source": []
  },
  {
   "cell_type": "code",
   "execution_count": 4,
   "id": "df21af29-496d-4c39-9c06-8c7591043367",
   "metadata": {},
   "outputs": [
    {
     "data": {
      "text/plain": [
       "<torch._C.Generator at 0x1edfc781b50>"
      ]
     },
     "execution_count": 4,
     "metadata": {},
     "output_type": "execute_result"
    }
   ],
   "source": [
    "class Args:\n",
    "    # arugments\n",
    "    epochs=50\n",
    "    bs=16\n",
    "    lr=0.001\n",
    "    momentum=0.9\n",
    "    num_classes=3\n",
    "    verbose='store_true'\n",
    "    seed=674\n",
    "\n",
    "args = Args()    \n",
    "\n",
    "np.random.seed(args.seed)\n",
    "random.seed(args.seed)\n",
    "torch.manual_seed(args.seed)"
   ]
  },
  {
   "cell_type": "code",
   "execution_count": 5,
   "id": "681e45c9-6294-4ca2-a735-24c9b9de10ea",
   "metadata": {},
   "outputs": [
    {
     "name": "stdout",
     "output_type": "stream",
     "text": [
      "Using PyTorch version: 1.7.1  Device:  cuda\n"
     ]
    }
   ],
   "source": [
    "#Setting torch environment\n",
    "\n",
    "if torch.cuda.is_available():\n",
    "    DEVICE = torch.device('cuda')\n",
    "else:\n",
    "    DEVICE = torch.device('cpu')\n",
    "    \n",
    "print('Using PyTorch version:', torch.__version__, ' Device: ', DEVICE)"
   ]
  },
  {
   "cell_type": "code",
   "execution_count": null,
   "id": "61fd42ca-1275-4028-948a-c3eea66ae59e",
   "metadata": {},
   "outputs": [],
   "source": []
  },
  {
   "cell_type": "code",
   "execution_count": null,
   "id": "1788e659-d1a2-4d45-85c7-7a95d2f8d01f",
   "metadata": {},
   "outputs": [],
   "source": []
  },
  {
   "cell_type": "code",
   "execution_count": null,
   "id": "3f055e64-ca34-4657-8360-a0259cb69906",
   "metadata": {},
   "outputs": [],
   "source": []
  },
  {
   "cell_type": "markdown",
   "id": "e566e357-512b-4061-9062-bd66a306c61e",
   "metadata": {},
   "source": [
    "- - -"
   ]
  },
  {
   "cell_type": "markdown",
   "id": "a8dc1558-6521-4c2f-a5e9-5e6688ea1155",
   "metadata": {},
   "source": [
    "# Data Handling"
   ]
  },
  {
   "cell_type": "code",
   "execution_count": null,
   "id": "1bda56ee-9a9f-440c-961b-2420c6953bb6",
   "metadata": {},
   "outputs": [],
   "source": []
  },
  {
   "cell_type": "markdown",
   "id": "9d252d9f-ea2a-48e9-867b-228f125f4afa",
   "metadata": {},
   "source": [
    "## Dataset check"
   ]
  },
  {
   "cell_type": "code",
   "execution_count": 6,
   "id": "4d74f513-96e5-4e66-a34d-3e15732b38ac",
   "metadata": {},
   "outputs": [
    {
     "data": {
      "text/html": [
       "<div>\n",
       "<style scoped>\n",
       "    .dataframe tbody tr th:only-of-type {\n",
       "        vertical-align: middle;\n",
       "    }\n",
       "\n",
       "    .dataframe tbody tr th {\n",
       "        vertical-align: top;\n",
       "    }\n",
       "\n",
       "    .dataframe thead th {\n",
       "        text-align: right;\n",
       "    }\n",
       "</style>\n",
       "<table border=\"1\" class=\"dataframe\">\n",
       "  <thead>\n",
       "    <tr style=\"text-align: right;\">\n",
       "      <th></th>\n",
       "      <th>sub</th>\n",
       "      <th>VISIT</th>\n",
       "      <th>disorder</th>\n",
       "      <th>age</th>\n",
       "      <th>gender</th>\n",
       "      <th>HAMD</th>\n",
       "      <th>HAMA</th>\n",
       "      <th>PDSS</th>\n",
       "      <th>ASI</th>\n",
       "      <th>APPQ</th>\n",
       "      <th>...</th>\n",
       "      <th>cRMSSD</th>\n",
       "      <th>cVLF</th>\n",
       "      <th>cLF</th>\n",
       "      <th>cHF</th>\n",
       "      <th>cLF/HF</th>\n",
       "      <th>cPOWER</th>\n",
       "      <th>cHR</th>\n",
       "      <th>cRESP</th>\n",
       "      <th>cSC</th>\n",
       "      <th>cTEMP</th>\n",
       "    </tr>\n",
       "  </thead>\n",
       "  <tbody>\n",
       "    <tr>\n",
       "      <th>0</th>\n",
       "      <td>E001</td>\n",
       "      <td>4</td>\n",
       "      <td>2</td>\n",
       "      <td>23</td>\n",
       "      <td>1</td>\n",
       "      <td>2</td>\n",
       "      <td>2</td>\n",
       "      <td>1</td>\n",
       "      <td>12</td>\n",
       "      <td>22</td>\n",
       "      <td>...</td>\n",
       "      <td>41.544667</td>\n",
       "      <td>190.107000</td>\n",
       "      <td>298.508333</td>\n",
       "      <td>206.862333</td>\n",
       "      <td>1.284000</td>\n",
       "      <td>695.477333</td>\n",
       "      <td>65.707000</td>\n",
       "      <td>14.054333</td>\n",
       "      <td>3.911333</td>\n",
       "      <td>34.998000</td>\n",
       "    </tr>\n",
       "    <tr>\n",
       "      <th>1</th>\n",
       "      <td>E001</td>\n",
       "      <td>5</td>\n",
       "      <td>2</td>\n",
       "      <td>23</td>\n",
       "      <td>1</td>\n",
       "      <td>12</td>\n",
       "      <td>7</td>\n",
       "      <td>0</td>\n",
       "      <td>12</td>\n",
       "      <td>24</td>\n",
       "      <td>...</td>\n",
       "      <td>39.825333</td>\n",
       "      <td>143.756667</td>\n",
       "      <td>115.695333</td>\n",
       "      <td>202.602667</td>\n",
       "      <td>0.585000</td>\n",
       "      <td>462.054667</td>\n",
       "      <td>69.040000</td>\n",
       "      <td>14.117333</td>\n",
       "      <td>6.255000</td>\n",
       "      <td>35.544333</td>\n",
       "    </tr>\n",
       "    <tr>\n",
       "      <th>2</th>\n",
       "      <td>E002</td>\n",
       "      <td>1</td>\n",
       "      <td>2</td>\n",
       "      <td>38</td>\n",
       "      <td>1</td>\n",
       "      <td>14</td>\n",
       "      <td>17</td>\n",
       "      <td>14</td>\n",
       "      <td>31</td>\n",
       "      <td>122</td>\n",
       "      <td>...</td>\n",
       "      <td>20.052000</td>\n",
       "      <td>22.006000</td>\n",
       "      <td>50.182000</td>\n",
       "      <td>32.529333</td>\n",
       "      <td>2.499333</td>\n",
       "      <td>104.717000</td>\n",
       "      <td>92.789333</td>\n",
       "      <td>11.013333</td>\n",
       "      <td>0.945667</td>\n",
       "      <td>35.086000</td>\n",
       "    </tr>\n",
       "    <tr>\n",
       "      <th>3</th>\n",
       "      <td>E002</td>\n",
       "      <td>2</td>\n",
       "      <td>2</td>\n",
       "      <td>38</td>\n",
       "      <td>1</td>\n",
       "      <td>13</td>\n",
       "      <td>36</td>\n",
       "      <td>16</td>\n",
       "      <td>32</td>\n",
       "      <td>139</td>\n",
       "      <td>...</td>\n",
       "      <td>20.201667</td>\n",
       "      <td>55.579000</td>\n",
       "      <td>84.441000</td>\n",
       "      <td>18.754000</td>\n",
       "      <td>5.803000</td>\n",
       "      <td>158.774333</td>\n",
       "      <td>85.980667</td>\n",
       "      <td>12.608333</td>\n",
       "      <td>0.785667</td>\n",
       "      <td>36.141000</td>\n",
       "    </tr>\n",
       "    <tr>\n",
       "      <th>4</th>\n",
       "      <td>E002</td>\n",
       "      <td>3</td>\n",
       "      <td>2</td>\n",
       "      <td>38</td>\n",
       "      <td>1</td>\n",
       "      <td>7</td>\n",
       "      <td>10</td>\n",
       "      <td>11</td>\n",
       "      <td>23</td>\n",
       "      <td>70</td>\n",
       "      <td>...</td>\n",
       "      <td>74.788000</td>\n",
       "      <td>182.229000</td>\n",
       "      <td>530.565667</td>\n",
       "      <td>546.574000</td>\n",
       "      <td>1.685667</td>\n",
       "      <td>1259.368667</td>\n",
       "      <td>84.368667</td>\n",
       "      <td>14.285667</td>\n",
       "      <td>0.648000</td>\n",
       "      <td>35.879000</td>\n",
       "    </tr>\n",
       "  </tbody>\n",
       "</table>\n",
       "<p>5 rows × 93 columns</p>\n",
       "</div>"
      ],
      "text/plain": [
       "    sub  VISIT  disorder  age  gender  HAMD  HAMA  PDSS  ASI  APPQ  ...  \\\n",
       "0  E001      4         2   23       1     2     2     1   12    22  ...   \n",
       "1  E001      5         2   23       1    12     7     0   12    24  ...   \n",
       "2  E002      1         2   38       1    14    17    14   31   122  ...   \n",
       "3  E002      2         2   38       1    13    36    16   32   139  ...   \n",
       "4  E002      3         2   38       1     7    10    11   23    70  ...   \n",
       "\n",
       "      cRMSSD        cVLF         cLF         cHF    cLF/HF       cPOWER  \\\n",
       "0  41.544667  190.107000  298.508333  206.862333  1.284000   695.477333   \n",
       "1  39.825333  143.756667  115.695333  202.602667  0.585000   462.054667   \n",
       "2  20.052000   22.006000   50.182000   32.529333  2.499333   104.717000   \n",
       "3  20.201667   55.579000   84.441000   18.754000  5.803000   158.774333   \n",
       "4  74.788000  182.229000  530.565667  546.574000  1.685667  1259.368667   \n",
       "\n",
       "         cHR      cRESP       cSC      cTEMP  \n",
       "0  65.707000  14.054333  3.911333  34.998000  \n",
       "1  69.040000  14.117333  6.255000  35.544333  \n",
       "2  92.789333  11.013333  0.945667  35.086000  \n",
       "3  85.980667  12.608333  0.785667  36.141000  \n",
       "4  84.368667  14.285667  0.648000  35.879000  \n",
       "\n",
       "[5 rows x 93 columns]"
      ]
     },
     "execution_count": 6,
     "metadata": {},
     "output_type": "execute_result"
    }
   ],
   "source": [
    "# HRV 데이터셋 불러오기\n",
    "hrv_df = pd.read_csv('E:/RESEARCH/Datasets/HRV/HRV_samsung/HRV_REV_all.csv', sep=',')\n",
    "hrv_df.head()"
   ]
  },
  {
   "cell_type": "markdown",
   "id": "467f36b6-4543-492a-83c9-e76143be1d20",
   "metadata": {},
   "source": [
    "* disorder(=label): 1(Depression), 2(Panic Disorder), 3(Control)"
   ]
  },
  {
   "cell_type": "code",
   "execution_count": null,
   "id": "9ba21a72-3750-42fd-9edc-d7a9266a96ea",
   "metadata": {},
   "outputs": [],
   "source": []
  },
  {
   "cell_type": "code",
   "execution_count": 7,
   "id": "37e232bf-753a-41dd-8fc3-d1ef00cc9441",
   "metadata": {},
   "outputs": [
    {
     "data": {
      "text/plain": [
       "(479, 93)"
      ]
     },
     "execution_count": 7,
     "metadata": {},
     "output_type": "execute_result"
    }
   ],
   "source": [
    "hrv_df.shape"
   ]
  },
  {
   "cell_type": "markdown",
   "id": "1ce6e5a7-5ec6-4b51-bd37-5e76d18f82d4",
   "metadata": {},
   "source": [
    "HRV measuring steps\n",
    "* b1 - s - b2 - r - b3 - c\n",
    "* Each has following variables (Total 13 variables)\n",
    "> SDNN, NN50, PNN50, RMSSD, VLF, LF, HF, LF/HF, POWER, HR, RESP, SC, TEMP"
   ]
  },
  {
   "cell_type": "code",
   "execution_count": null,
   "id": "e0039abe-4f2d-4ab2-9b9c-ff8bd8994cc0",
   "metadata": {},
   "outputs": [],
   "source": []
  },
  {
   "cell_type": "markdown",
   "id": "f7f5583f-17e7-493d-b32c-f0d8d6d1bf34",
   "metadata": {},
   "source": [
    "## Dataset Separation"
   ]
  },
  {
   "cell_type": "markdown",
   "id": "ce17610f-f04d-4f8b-aa81-b5a07d9b406b",
   "metadata": {},
   "source": [
    "* disorder= 1:(Depression), 2:(Panic Disorder), 3:(Control)"
   ]
  },
  {
   "cell_type": "code",
   "execution_count": 8,
   "id": "b751f12b-c544-4e44-a1c5-017c62a23940",
   "metadata": {},
   "outputs": [
    {
     "data": {
      "text/plain": [
       "Index(['sub', 'VISIT', 'disorder', 'age', 'gender', 'HAMD', 'HAMA', 'PDSS',\n",
       "       'ASI', 'APPQ', 'PSWQ', 'SPI', 'PSS', 'BIS', 'SSI', 'b1SDNN', 'b1NN50',\n",
       "       'b1PNN50', 'b1RMSSD', 'b1VLF', 'b1LF', 'b1HF', 'b1LF/HF', 'b1POWER',\n",
       "       'b1HR', 'b1RESP', 'b1SC', 'b1TEMP', 'sSDNN', 'sNN50', 'sPNN50',\n",
       "       'sRMSSD', 'sVLF', 'sLF', 'sHF', 'sLF/HF', 'sPOWER', 'sHR', 'sRESP',\n",
       "       'sSC', 'sTEMP', 'b2SDNN', 'b2NN50', 'b2PNN50', 'b2RMSSD', 'b2VLF',\n",
       "       'b2LF', 'b2HF', 'b2LF/HF', 'b2POWER', 'b2HR', 'b2RESP', 'b2SC',\n",
       "       'b2TEMP', 'rSDNN', 'rNN50', 'rPNN50', 'rRMSSD', 'rVLF', 'rLF', 'rHF',\n",
       "       'rLF/HF', 'rPOWER', 'rHR', 'rRESP', 'rSC', 'rTEMP', 'b3SDNN', 'b3NN50',\n",
       "       'b3PNN50', 'b3RMSSD', 'b3VLF', 'b3LF', 'b3HF', 'b3LF/HF', 'b3POWER',\n",
       "       'b3HR', 'b3RESP', 'b3SC', 'b3TEMP', 'cSDNN', 'cNN50', 'cPNN50',\n",
       "       'cRMSSD', 'cVLF', 'cLF', 'cHF', 'cLF/HF', 'cPOWER', 'cHR', 'cRESP',\n",
       "       'cSC', 'cTEMP'],\n",
       "      dtype='object')"
      ]
     },
     "execution_count": 8,
     "metadata": {},
     "output_type": "execute_result"
    }
   ],
   "source": [
    "hrv_df.columns"
   ]
  },
  {
   "cell_type": "code",
   "execution_count": 9,
   "id": "aba422cd-bc59-4e49-8d7a-d3e18ae84c09",
   "metadata": {},
   "outputs": [
    {
     "data": {
      "text/plain": [
       "3    194\n",
       "2    149\n",
       "1    136\n",
       "Name: disorder, dtype: int64"
      ]
     },
     "execution_count": 9,
     "metadata": {},
     "output_type": "execute_result"
    }
   ],
   "source": [
    "hrv_df[\"disorder\"].value_counts() ## MDD 136, PD 149, Control 194"
   ]
  },
  {
   "cell_type": "code",
   "execution_count": 10,
   "id": "38da6f5f-7c9e-4a9f-aaf3-4920946b2498",
   "metadata": {},
   "outputs": [],
   "source": [
    "hrv_ALL = hrv_df\n",
    "hrv_MDDPD = hrv_df[hrv_df[\"disorder\"].isin([1,2])]  ## for MDD vs PD task\n",
    "hrv_MDDC = hrv_df[hrv_df[\"disorder\"].isin([1,3])]   ## for MDD vs Control task\n",
    "hrv_PDC = hrv_df[hrv_df[\"disorder\"].isin([2,3])]    ## for PD  vs Control task"
   ]
  },
  {
   "cell_type": "code",
   "execution_count": 14,
   "id": "efcfd122-d7d0-474b-9459-681500ba8892",
   "metadata": {},
   "outputs": [
    {
     "data": {
      "text/plain": [
       "(330, 93)"
      ]
     },
     "execution_count": 14,
     "metadata": {},
     "output_type": "execute_result"
    }
   ],
   "source": [
    "hrv_MDDC.shape"
   ]
  },
  {
   "cell_type": "code",
   "execution_count": null,
   "id": "f1a0f9e5-dffa-40fe-a222-eb29e02433b4",
   "metadata": {},
   "outputs": [],
   "source": []
  },
  {
   "cell_type": "markdown",
   "id": "b6ba43f8-ad9c-42f4-a345-a46780383bf0",
   "metadata": {},
   "source": [
    "- - -"
   ]
  },
  {
   "cell_type": "markdown",
   "id": "d14dcf14-14eb-447e-8f34-4dc75d4b108f",
   "metadata": {},
   "source": [
    "## Data preprocessing"
   ]
  },
  {
   "cell_type": "code",
   "execution_count": 13,
   "id": "e6df8e60-da0b-40fb-813e-b675e5d28620",
   "metadata": {},
   "outputs": [],
   "source": [
    "## scaler setting for data standardization.\n",
    "scaler = MinMaxScaler()"
   ]
  },
  {
   "cell_type": "code",
   "execution_count": 18,
   "id": "c53fde13-0c6b-435e-ace0-984855f45db3",
   "metadata": {},
   "outputs": [],
   "source": [
    "## Selecting hrv dataset for the task\n",
    "# hrv = hrv_ALL\n",
    "# hrv = hrv_MDDPD\n",
    "hrv = hrv_MDDC\n",
    "# hrv = hrv_PDC"
   ]
  },
  {
   "cell_type": "code",
   "execution_count": 19,
   "id": "10d663cb-c4aa-4b4c-999c-140c28d6cf41",
   "metadata": {},
   "outputs": [
    {
     "data": {
      "text/html": [
       "<div>\n",
       "<style scoped>\n",
       "    .dataframe tbody tr th:only-of-type {\n",
       "        vertical-align: middle;\n",
       "    }\n",
       "\n",
       "    .dataframe tbody tr th {\n",
       "        vertical-align: top;\n",
       "    }\n",
       "\n",
       "    .dataframe thead th {\n",
       "        text-align: right;\n",
       "    }\n",
       "</style>\n",
       "<table border=\"1\" class=\"dataframe\">\n",
       "  <thead>\n",
       "    <tr style=\"text-align: right;\">\n",
       "      <th></th>\n",
       "      <th>sub</th>\n",
       "      <th>VISIT</th>\n",
       "      <th>disorder</th>\n",
       "      <th>age</th>\n",
       "      <th>gender</th>\n",
       "      <th>HAMD</th>\n",
       "      <th>HAMA</th>\n",
       "      <th>PDSS</th>\n",
       "      <th>ASI</th>\n",
       "      <th>APPQ</th>\n",
       "      <th>...</th>\n",
       "      <th>cRMSSD</th>\n",
       "      <th>cVLF</th>\n",
       "      <th>cLF</th>\n",
       "      <th>cHF</th>\n",
       "      <th>cLF/HF</th>\n",
       "      <th>cPOWER</th>\n",
       "      <th>cHR</th>\n",
       "      <th>cRESP</th>\n",
       "      <th>cSC</th>\n",
       "      <th>cTEMP</th>\n",
       "    </tr>\n",
       "  </thead>\n",
       "  <tbody>\n",
       "    <tr>\n",
       "      <th>7</th>\n",
       "      <td>E003</td>\n",
       "      <td>1</td>\n",
       "      <td>1</td>\n",
       "      <td>57</td>\n",
       "      <td>2</td>\n",
       "      <td>17</td>\n",
       "      <td>7</td>\n",
       "      <td>0</td>\n",
       "      <td>7</td>\n",
       "      <td>24</td>\n",
       "      <td>...</td>\n",
       "      <td>11.042667</td>\n",
       "      <td>132.564333</td>\n",
       "      <td>85.853000</td>\n",
       "      <td>15.020333</td>\n",
       "      <td>5.159667</td>\n",
       "      <td>233.437667</td>\n",
       "      <td>76.412667</td>\n",
       "      <td>12.575667</td>\n",
       "      <td>0.655000</td>\n",
       "      <td>35.631333</td>\n",
       "    </tr>\n",
       "    <tr>\n",
       "      <th>8</th>\n",
       "      <td>E003</td>\n",
       "      <td>2</td>\n",
       "      <td>1</td>\n",
       "      <td>57</td>\n",
       "      <td>2</td>\n",
       "      <td>7</td>\n",
       "      <td>7</td>\n",
       "      <td>0</td>\n",
       "      <td>16</td>\n",
       "      <td>23</td>\n",
       "      <td>...</td>\n",
       "      <td>17.207000</td>\n",
       "      <td>38.888000</td>\n",
       "      <td>33.040000</td>\n",
       "      <td>12.504333</td>\n",
       "      <td>3.691333</td>\n",
       "      <td>84.432667</td>\n",
       "      <td>56.474000</td>\n",
       "      <td>12.367667</td>\n",
       "      <td>0.347000</td>\n",
       "      <td>33.237000</td>\n",
       "    </tr>\n",
       "    <tr>\n",
       "      <th>9</th>\n",
       "      <td>E003</td>\n",
       "      <td>3</td>\n",
       "      <td>1</td>\n",
       "      <td>57</td>\n",
       "      <td>2</td>\n",
       "      <td>5</td>\n",
       "      <td>3</td>\n",
       "      <td>0</td>\n",
       "      <td>6</td>\n",
       "      <td>11</td>\n",
       "      <td>...</td>\n",
       "      <td>58.545667</td>\n",
       "      <td>30.004333</td>\n",
       "      <td>26.829333</td>\n",
       "      <td>59.476000</td>\n",
       "      <td>0.653000</td>\n",
       "      <td>116.309667</td>\n",
       "      <td>53.746667</td>\n",
       "      <td>13.226667</td>\n",
       "      <td>0.575000</td>\n",
       "      <td>32.853000</td>\n",
       "    </tr>\n",
       "    <tr>\n",
       "      <th>10</th>\n",
       "      <td>E003</td>\n",
       "      <td>4</td>\n",
       "      <td>1</td>\n",
       "      <td>57</td>\n",
       "      <td>2</td>\n",
       "      <td>1</td>\n",
       "      <td>1</td>\n",
       "      <td>0</td>\n",
       "      <td>20</td>\n",
       "      <td>31</td>\n",
       "      <td>...</td>\n",
       "      <td>17.261000</td>\n",
       "      <td>37.713333</td>\n",
       "      <td>34.427333</td>\n",
       "      <td>16.011333</td>\n",
       "      <td>2.146000</td>\n",
       "      <td>88.152000</td>\n",
       "      <td>62.778667</td>\n",
       "      <td>12.404000</td>\n",
       "      <td>0.773000</td>\n",
       "      <td>35.046000</td>\n",
       "    </tr>\n",
       "    <tr>\n",
       "      <th>11</th>\n",
       "      <td>E003</td>\n",
       "      <td>5</td>\n",
       "      <td>1</td>\n",
       "      <td>57</td>\n",
       "      <td>2</td>\n",
       "      <td>12</td>\n",
       "      <td>13</td>\n",
       "      <td>0</td>\n",
       "      <td>3</td>\n",
       "      <td>12</td>\n",
       "      <td>...</td>\n",
       "      <td>34.473333</td>\n",
       "      <td>40.431333</td>\n",
       "      <td>18.012333</td>\n",
       "      <td>52.686667</td>\n",
       "      <td>0.343333</td>\n",
       "      <td>111.129667</td>\n",
       "      <td>63.868000</td>\n",
       "      <td>10.994667</td>\n",
       "      <td>2.080333</td>\n",
       "      <td>34.751667</td>\n",
       "    </tr>\n",
       "    <tr>\n",
       "      <th>...</th>\n",
       "      <td>...</td>\n",
       "      <td>...</td>\n",
       "      <td>...</td>\n",
       "      <td>...</td>\n",
       "      <td>...</td>\n",
       "      <td>...</td>\n",
       "      <td>...</td>\n",
       "      <td>...</td>\n",
       "      <td>...</td>\n",
       "      <td>...</td>\n",
       "      <td>...</td>\n",
       "      <td>...</td>\n",
       "      <td>...</td>\n",
       "      <td>...</td>\n",
       "      <td>...</td>\n",
       "      <td>...</td>\n",
       "      <td>...</td>\n",
       "      <td>...</td>\n",
       "      <td>...</td>\n",
       "      <td>...</td>\n",
       "      <td>...</td>\n",
       "    </tr>\n",
       "    <tr>\n",
       "      <th>455</th>\n",
       "      <td>E103</td>\n",
       "      <td>1</td>\n",
       "      <td>1</td>\n",
       "      <td>71</td>\n",
       "      <td>1</td>\n",
       "      <td>20</td>\n",
       "      <td>14</td>\n",
       "      <td>0</td>\n",
       "      <td>47</td>\n",
       "      <td>114</td>\n",
       "      <td>...</td>\n",
       "      <td>13.506000</td>\n",
       "      <td>10.706000</td>\n",
       "      <td>13.746700</td>\n",
       "      <td>12.347300</td>\n",
       "      <td>14.575300</td>\n",
       "      <td>36.799700</td>\n",
       "      <td>86.526300</td>\n",
       "      <td>10.268700</td>\n",
       "      <td>4.586330</td>\n",
       "      <td>34.528700</td>\n",
       "    </tr>\n",
       "    <tr>\n",
       "      <th>456</th>\n",
       "      <td>E103</td>\n",
       "      <td>2</td>\n",
       "      <td>1</td>\n",
       "      <td>71</td>\n",
       "      <td>1</td>\n",
       "      <td>14</td>\n",
       "      <td>3</td>\n",
       "      <td>0</td>\n",
       "      <td>41</td>\n",
       "      <td>84</td>\n",
       "      <td>...</td>\n",
       "      <td>11.523700</td>\n",
       "      <td>34.633700</td>\n",
       "      <td>16.170700</td>\n",
       "      <td>3.551670</td>\n",
       "      <td>5.129330</td>\n",
       "      <td>54.356000</td>\n",
       "      <td>74.020700</td>\n",
       "      <td>11.658700</td>\n",
       "      <td>3.782000</td>\n",
       "      <td>33.023700</td>\n",
       "    </tr>\n",
       "    <tr>\n",
       "      <th>457</th>\n",
       "      <td>E103</td>\n",
       "      <td>3</td>\n",
       "      <td>1</td>\n",
       "      <td>71</td>\n",
       "      <td>1</td>\n",
       "      <td>16</td>\n",
       "      <td>15</td>\n",
       "      <td>0</td>\n",
       "      <td>33</td>\n",
       "      <td>56</td>\n",
       "      <td>...</td>\n",
       "      <td>22.506700</td>\n",
       "      <td>18.495700</td>\n",
       "      <td>22.447300</td>\n",
       "      <td>38.283000</td>\n",
       "      <td>1.808670</td>\n",
       "      <td>79.226300</td>\n",
       "      <td>73.282300</td>\n",
       "      <td>12.570000</td>\n",
       "      <td>4.173670</td>\n",
       "      <td>32.164700</td>\n",
       "    </tr>\n",
       "    <tr>\n",
       "      <th>458</th>\n",
       "      <td>E103</td>\n",
       "      <td>4</td>\n",
       "      <td>1</td>\n",
       "      <td>71</td>\n",
       "      <td>1</td>\n",
       "      <td>0</td>\n",
       "      <td>0</td>\n",
       "      <td>0</td>\n",
       "      <td>28</td>\n",
       "      <td>65</td>\n",
       "      <td>...</td>\n",
       "      <td>69.218700</td>\n",
       "      <td>41.291700</td>\n",
       "      <td>39.600700</td>\n",
       "      <td>225.653000</td>\n",
       "      <td>0.177000</td>\n",
       "      <td>306.545000</td>\n",
       "      <td>65.475700</td>\n",
       "      <td>13.548300</td>\n",
       "      <td>1.566000</td>\n",
       "      <td>31.549000</td>\n",
       "    </tr>\n",
       "    <tr>\n",
       "      <th>459</th>\n",
       "      <td>E103</td>\n",
       "      <td>5</td>\n",
       "      <td>1</td>\n",
       "      <td>71</td>\n",
       "      <td>1</td>\n",
       "      <td>0</td>\n",
       "      <td>0</td>\n",
       "      <td>0</td>\n",
       "      <td>30</td>\n",
       "      <td>66</td>\n",
       "      <td>...</td>\n",
       "      <td>12.725700</td>\n",
       "      <td>63.823000</td>\n",
       "      <td>81.082700</td>\n",
       "      <td>6.910000</td>\n",
       "      <td>12.088300</td>\n",
       "      <td>151.816000</td>\n",
       "      <td>73.644000</td>\n",
       "      <td>13.146300</td>\n",
       "      <td>4.998330</td>\n",
       "      <td>34.477000</td>\n",
       "    </tr>\n",
       "  </tbody>\n",
       "</table>\n",
       "<p>330 rows × 93 columns</p>\n",
       "</div>"
      ],
      "text/plain": [
       "      sub  VISIT  disorder  age  gender  HAMD  HAMA  PDSS  ASI  APPQ  ...  \\\n",
       "7    E003      1         1   57       2    17     7     0    7    24  ...   \n",
       "8    E003      2         1   57       2     7     7     0   16    23  ...   \n",
       "9    E003      3         1   57       2     5     3     0    6    11  ...   \n",
       "10   E003      4         1   57       2     1     1     0   20    31  ...   \n",
       "11   E003      5         1   57       2    12    13     0    3    12  ...   \n",
       "..    ...    ...       ...  ...     ...   ...   ...   ...  ...   ...  ...   \n",
       "455  E103      1         1   71       1    20    14     0   47   114  ...   \n",
       "456  E103      2         1   71       1    14     3     0   41    84  ...   \n",
       "457  E103      3         1   71       1    16    15     0   33    56  ...   \n",
       "458  E103      4         1   71       1     0     0     0   28    65  ...   \n",
       "459  E103      5         1   71       1     0     0     0   30    66  ...   \n",
       "\n",
       "        cRMSSD        cVLF        cLF         cHF     cLF/HF      cPOWER  \\\n",
       "7    11.042667  132.564333  85.853000   15.020333   5.159667  233.437667   \n",
       "8    17.207000   38.888000  33.040000   12.504333   3.691333   84.432667   \n",
       "9    58.545667   30.004333  26.829333   59.476000   0.653000  116.309667   \n",
       "10   17.261000   37.713333  34.427333   16.011333   2.146000   88.152000   \n",
       "11   34.473333   40.431333  18.012333   52.686667   0.343333  111.129667   \n",
       "..         ...         ...        ...         ...        ...         ...   \n",
       "455  13.506000   10.706000  13.746700   12.347300  14.575300   36.799700   \n",
       "456  11.523700   34.633700  16.170700    3.551670   5.129330   54.356000   \n",
       "457  22.506700   18.495700  22.447300   38.283000   1.808670   79.226300   \n",
       "458  69.218700   41.291700  39.600700  225.653000   0.177000  306.545000   \n",
       "459  12.725700   63.823000  81.082700    6.910000  12.088300  151.816000   \n",
       "\n",
       "           cHR      cRESP       cSC      cTEMP  \n",
       "7    76.412667  12.575667  0.655000  35.631333  \n",
       "8    56.474000  12.367667  0.347000  33.237000  \n",
       "9    53.746667  13.226667  0.575000  32.853000  \n",
       "10   62.778667  12.404000  0.773000  35.046000  \n",
       "11   63.868000  10.994667  2.080333  34.751667  \n",
       "..         ...        ...       ...        ...  \n",
       "455  86.526300  10.268700  4.586330  34.528700  \n",
       "456  74.020700  11.658700  3.782000  33.023700  \n",
       "457  73.282300  12.570000  4.173670  32.164700  \n",
       "458  65.475700  13.548300  1.566000  31.549000  \n",
       "459  73.644000  13.146300  4.998330  34.477000  \n",
       "\n",
       "[330 rows x 93 columns]"
      ]
     },
     "execution_count": 19,
     "metadata": {},
     "output_type": "execute_result"
    }
   ],
   "source": [
    "hrv"
   ]
  },
  {
   "cell_type": "code",
   "execution_count": 20,
   "id": "57157422-fba8-4e40-9140-9ff23592b059",
   "metadata": {},
   "outputs": [],
   "source": [
    "## Separating HRV dataset by experimental steps.\n",
    "hrv_only = hrv.drop(columns=['sub', 'VISIT', 'disorder', 'age','gender','HAMD', 'HAMA', 'PDSS', 'ASI', 'APPQ','PSWQ','SPI','PSS','BIS','SSI']) ##leave the variables only about HRV features.\n",
    "hrv_only[:] = scaler.fit_transform(hrv_only[:])  ##Standardizing. if not necessary, delete.  \n",
    "hrv_b1 = hrv.filter(regex='^b1')\n",
    "hrv_s = hrv.filter(regex='^s')\n",
    "hrv_b2 = hrv.filter(regex='^b2')\n",
    "hrv_r = hrv.filter(regex='^r')\n",
    "hrv_b3 = hrv.filter(regex='^b3')\n",
    "hrv_c = hrv.filter(regex='^c')"
   ]
  },
  {
   "cell_type": "code",
   "execution_count": 21,
   "id": "3afcedab-482c-4e88-884e-9bce72543555",
   "metadata": {},
   "outputs": [
    {
     "data": {
      "text/html": [
       "<div>\n",
       "<style scoped>\n",
       "    .dataframe tbody tr th:only-of-type {\n",
       "        vertical-align: middle;\n",
       "    }\n",
       "\n",
       "    .dataframe tbody tr th {\n",
       "        vertical-align: top;\n",
       "    }\n",
       "\n",
       "    .dataframe thead th {\n",
       "        text-align: right;\n",
       "    }\n",
       "</style>\n",
       "<table border=\"1\" class=\"dataframe\">\n",
       "  <thead>\n",
       "    <tr style=\"text-align: right;\">\n",
       "      <th></th>\n",
       "      <th>b1SDNN</th>\n",
       "      <th>b1NN50</th>\n",
       "      <th>b1PNN50</th>\n",
       "      <th>b1RMSSD</th>\n",
       "      <th>b1VLF</th>\n",
       "      <th>b1LF</th>\n",
       "      <th>b1HF</th>\n",
       "      <th>b1LF/HF</th>\n",
       "      <th>b1POWER</th>\n",
       "      <th>b1HR</th>\n",
       "      <th>...</th>\n",
       "      <th>cRMSSD</th>\n",
       "      <th>cVLF</th>\n",
       "      <th>cLF</th>\n",
       "      <th>cHF</th>\n",
       "      <th>cLF/HF</th>\n",
       "      <th>cPOWER</th>\n",
       "      <th>cHR</th>\n",
       "      <th>cRESP</th>\n",
       "      <th>cSC</th>\n",
       "      <th>cTEMP</th>\n",
       "    </tr>\n",
       "  </thead>\n",
       "  <tbody>\n",
       "    <tr>\n",
       "      <th>7</th>\n",
       "      <td>0.029739</td>\n",
       "      <td>0.000000</td>\n",
       "      <td>0.000000</td>\n",
       "      <td>0.013392</td>\n",
       "      <td>0.001768</td>\n",
       "      <td>0.000557</td>\n",
       "      <td>0.001484</td>\n",
       "      <td>0.021171</td>\n",
       "      <td>0.001327</td>\n",
       "      <td>0.424606</td>\n",
       "      <td>...</td>\n",
       "      <td>0.007717</td>\n",
       "      <td>0.001743</td>\n",
       "      <td>0.000415</td>\n",
       "      <td>0.000355</td>\n",
       "      <td>0.145641</td>\n",
       "      <td>0.000741</td>\n",
       "      <td>0.429173</td>\n",
       "      <td>0.370844</td>\n",
       "      <td>0.042560</td>\n",
       "      <td>0.934622</td>\n",
       "    </tr>\n",
       "    <tr>\n",
       "      <th>8</th>\n",
       "      <td>0.080975</td>\n",
       "      <td>0.000000</td>\n",
       "      <td>0.000000</td>\n",
       "      <td>0.041879</td>\n",
       "      <td>0.005922</td>\n",
       "      <td>0.001584</td>\n",
       "      <td>0.004429</td>\n",
       "      <td>0.020513</td>\n",
       "      <td>0.004320</td>\n",
       "      <td>0.093100</td>\n",
       "      <td>...</td>\n",
       "      <td>0.015267</td>\n",
       "      <td>0.000490</td>\n",
       "      <td>0.000143</td>\n",
       "      <td>0.000292</td>\n",
       "      <td>0.102908</td>\n",
       "      <td>0.000239</td>\n",
       "      <td>0.132928</td>\n",
       "      <td>0.345104</td>\n",
       "      <td>0.021541</td>\n",
       "      <td>0.724881</td>\n",
       "    </tr>\n",
       "    <tr>\n",
       "      <th>9</th>\n",
       "      <td>0.684928</td>\n",
       "      <td>0.105263</td>\n",
       "      <td>0.134041</td>\n",
       "      <td>0.473378</td>\n",
       "      <td>0.044866</td>\n",
       "      <td>0.022810</td>\n",
       "      <td>0.058072</td>\n",
       "      <td>0.021797</td>\n",
       "      <td>0.045589</td>\n",
       "      <td>0.155741</td>\n",
       "      <td>...</td>\n",
       "      <td>0.065897</td>\n",
       "      <td>0.000371</td>\n",
       "      <td>0.000111</td>\n",
       "      <td>0.001478</td>\n",
       "      <td>0.014484</td>\n",
       "      <td>0.000347</td>\n",
       "      <td>0.092406</td>\n",
       "      <td>0.451407</td>\n",
       "      <td>0.037100</td>\n",
       "      <td>0.691243</td>\n",
       "    </tr>\n",
       "    <tr>\n",
       "      <th>10</th>\n",
       "      <td>0.076520</td>\n",
       "      <td>0.052632</td>\n",
       "      <td>0.060752</td>\n",
       "      <td>0.055723</td>\n",
       "      <td>0.004645</td>\n",
       "      <td>0.001566</td>\n",
       "      <td>0.006871</td>\n",
       "      <td>0.010026</td>\n",
       "      <td>0.004524</td>\n",
       "      <td>0.188282</td>\n",
       "      <td>...</td>\n",
       "      <td>0.015333</td>\n",
       "      <td>0.000474</td>\n",
       "      <td>0.000151</td>\n",
       "      <td>0.000380</td>\n",
       "      <td>0.057934</td>\n",
       "      <td>0.000252</td>\n",
       "      <td>0.226602</td>\n",
       "      <td>0.349600</td>\n",
       "      <td>0.050612</td>\n",
       "      <td>0.883347</td>\n",
       "    </tr>\n",
       "    <tr>\n",
       "      <th>11</th>\n",
       "      <td>0.148438</td>\n",
       "      <td>0.039474</td>\n",
       "      <td>0.047252</td>\n",
       "      <td>0.146307</td>\n",
       "      <td>0.005542</td>\n",
       "      <td>0.005562</td>\n",
       "      <td>0.041980</td>\n",
       "      <td>0.006874</td>\n",
       "      <td>0.017082</td>\n",
       "      <td>0.161077</td>\n",
       "      <td>...</td>\n",
       "      <td>0.036414</td>\n",
       "      <td>0.000510</td>\n",
       "      <td>0.000066</td>\n",
       "      <td>0.001307</td>\n",
       "      <td>0.005471</td>\n",
       "      <td>0.000329</td>\n",
       "      <td>0.242787</td>\n",
       "      <td>0.175192</td>\n",
       "      <td>0.139826</td>\n",
       "      <td>0.857564</td>\n",
       "    </tr>\n",
       "  </tbody>\n",
       "</table>\n",
       "<p>5 rows × 78 columns</p>\n",
       "</div>"
      ],
      "text/plain": [
       "      b1SDNN    b1NN50   b1PNN50   b1RMSSD     b1VLF      b1LF      b1HF  \\\n",
       "7   0.029739  0.000000  0.000000  0.013392  0.001768  0.000557  0.001484   \n",
       "8   0.080975  0.000000  0.000000  0.041879  0.005922  0.001584  0.004429   \n",
       "9   0.684928  0.105263  0.134041  0.473378  0.044866  0.022810  0.058072   \n",
       "10  0.076520  0.052632  0.060752  0.055723  0.004645  0.001566  0.006871   \n",
       "11  0.148438  0.039474  0.047252  0.146307  0.005542  0.005562  0.041980   \n",
       "\n",
       "     b1LF/HF   b1POWER      b1HR  ...    cRMSSD      cVLF       cLF       cHF  \\\n",
       "7   0.021171  0.001327  0.424606  ...  0.007717  0.001743  0.000415  0.000355   \n",
       "8   0.020513  0.004320  0.093100  ...  0.015267  0.000490  0.000143  0.000292   \n",
       "9   0.021797  0.045589  0.155741  ...  0.065897  0.000371  0.000111  0.001478   \n",
       "10  0.010026  0.004524  0.188282  ...  0.015333  0.000474  0.000151  0.000380   \n",
       "11  0.006874  0.017082  0.161077  ...  0.036414  0.000510  0.000066  0.001307   \n",
       "\n",
       "      cLF/HF    cPOWER       cHR     cRESP       cSC     cTEMP  \n",
       "7   0.145641  0.000741  0.429173  0.370844  0.042560  0.934622  \n",
       "8   0.102908  0.000239  0.132928  0.345104  0.021541  0.724881  \n",
       "9   0.014484  0.000347  0.092406  0.451407  0.037100  0.691243  \n",
       "10  0.057934  0.000252  0.226602  0.349600  0.050612  0.883347  \n",
       "11  0.005471  0.000329  0.242787  0.175192  0.139826  0.857564  \n",
       "\n",
       "[5 rows x 78 columns]"
      ]
     },
     "execution_count": 21,
     "metadata": {},
     "output_type": "execute_result"
    }
   ],
   "source": [
    "hrv_only.head()"
   ]
  },
  {
   "cell_type": "code",
   "execution_count": 22,
   "id": "37aca40b-6e9d-413e-8793-8f6d141a959d",
   "metadata": {},
   "outputs": [
    {
     "data": {
      "text/plain": [
       "(330, 78)"
      ]
     },
     "execution_count": 22,
     "metadata": {},
     "output_type": "execute_result"
    }
   ],
   "source": [
    "hrv_only.shape"
   ]
  },
  {
   "cell_type": "code",
   "execution_count": 23,
   "id": "ebeb4a97-c0ba-43f6-9808-0fd188c4657f",
   "metadata": {},
   "outputs": [
    {
     "name": "stdout",
     "output_type": "stream",
     "text": [
      "HRV baseline #1 shape is: 13\n",
      "HRV stress shape is: 14\n",
      "HRV baseline #2 shape is: 13\n",
      "HRV rest shape is: 13\n",
      "HRV baseline #3 shape is: 13\n",
      "HRV c shape is: 13\n"
     ]
    }
   ],
   "source": [
    "## Check whethere each phase contains the same variables.\n",
    "print(\"HRV baseline #1 shape is:\", hrv_b1.shape[1])\n",
    "print(\"HRV stress shape is:\", hrv_s.shape[1])\n",
    "print(\"HRV baseline #2 shape is:\", hrv_b2.shape[1])\n",
    "print(\"HRV rest shape is:\", hrv_r.shape[1])\n",
    "print(\"HRV baseline #3 shape is:\", hrv_b3.shape[1])\n",
    "print(\"HRV c shape is:\", hrv_b1.shape[1])"
   ]
  },
  {
   "cell_type": "code",
   "execution_count": 24,
   "id": "967ac4be-0ac5-4fb8-bf11-c3714162028d",
   "metadata": {},
   "outputs": [],
   "source": [
    "hrv_s = hrv_s.drop(columns=['sub'])"
   ]
  },
  {
   "cell_type": "code",
   "execution_count": null,
   "id": "73fe4b23-9c5a-4b62-9389-3972924f4b26",
   "metadata": {},
   "outputs": [],
   "source": []
  },
  {
   "cell_type": "code",
   "execution_count": 99,
   "id": "f9241cba-39ef-4dd4-abeb-cfab2ea31e63",
   "metadata": {},
   "outputs": [],
   "source": [
    "## Renaming the columns for further calculation.\n",
    "## We need to generate new dataframes to compare the phases.\n",
    "hrv_sub = hrv.loc[:, ['sub']]\n",
    "hrv_disorder = hrv.loc[:,['disorder']] -1 ## 0(Depression), 1(Panic Disorder), 2(Control)\n",
    "hrv_gender = hrv.loc[:,['gender']]\n",
    "hrv_HAMD = hrv.loc[:,['HAMD']]\n",
    "hrv_PDSS = hrv.loc[:,['PDSS']]\n",
    "\n",
    "hrv_variables = [\"SDNN\", \"NN50\", \"PNN50\", \"RMSSD\", \"VLF\", \"LF\", \"HF\", \"LF/HF\", \"POWER\", \"HR\", \"RESP\", \"SC\", \"TEMP\"]\n",
    "hrv_b1_rename = hrv_b1.set_axis([\"SDNN\", \"NN50\", \"PNN50\", \"RMSSD\", \"VLF\", \"LF\", \"HF\", \"LF/HF\", \"POWER\", \"HR\", \"RESP\", \"SC\", \"TEMP\"], axis=1)\n",
    "hrv_b2_rename = hrv_b2.set_axis([\"SDNN\", \"NN50\", \"PNN50\", \"RMSSD\", \"VLF\", \"LF\", \"HF\", \"LF/HF\", \"POWER\", \"HR\", \"RESP\", \"SC\", \"TEMP\"], axis=1)\n",
    "hrv_b3_rename = hrv_b3.set_axis([\"SDNN\", \"NN50\", \"PNN50\", \"RMSSD\", \"VLF\", \"LF\", \"HF\", \"LF/HF\", \"POWER\", \"HR\", \"RESP\", \"SC\", \"TEMP\"], axis=1)\n",
    "hrv_s_rename = hrv_s.set_axis([\"SDNN\", \"NN50\", \"PNN50\", \"RMSSD\", \"VLF\", \"LF\", \"HF\", \"LF/HF\", \"POWER\", \"HR\", \"RESP\", \"SC\", \"TEMP\"], axis=1)\n",
    "hrv_r_rename = hrv_r.set_axis([\"SDNN\", \"NN50\", \"PNN50\", \"RMSSD\", \"VLF\", \"LF\", \"HF\", \"LF/HF\", \"POWER\", \"HR\", \"RESP\", \"SC\", \"TEMP\"], axis=1)\n",
    "hrv_c_rename = hrv_c.set_axis([\"SDNN\", \"NN50\", \"PNN50\", \"RMSSD\", \"VLF\", \"LF\", \"HF\", \"LF/HF\", \"POWER\", \"HR\", \"RESP\", \"SC\", \"TEMP\"], axis=1)"
   ]
  },
  {
   "cell_type": "code",
   "execution_count": 26,
   "id": "4b64ea93-83c3-4e05-81a7-5a28a10ea859",
   "metadata": {},
   "outputs": [
    {
     "data": {
      "text/plain": [
       "disorder\n",
       "2           194\n",
       "0           136\n",
       "dtype: int64"
      ]
     },
     "execution_count": 26,
     "metadata": {},
     "output_type": "execute_result"
    }
   ],
   "source": [
    "hrv_disorder.value_counts()"
   ]
  },
  {
   "cell_type": "code",
   "execution_count": null,
   "id": "be3403c5-4804-4366-ad40-7821cec140bc",
   "metadata": {},
   "outputs": [],
   "source": []
  },
  {
   "cell_type": "markdown",
   "id": "11cd7a80-2ac5-41de-abab-61cc10d63bbd",
   "metadata": {},
   "source": [
    "- - -"
   ]
  },
  {
   "cell_type": "markdown",
   "id": "952c1137-a7d9-4ff7-b32b-bb1f625153ce",
   "metadata": {},
   "source": [
    "## Comparisons between Phases"
   ]
  },
  {
   "cell_type": "markdown",
   "id": "23641f3e-6bbd-4f97-99ba-f6c22aaca19f",
   "metadata": {},
   "source": [
    "* HRV measuring steps: b1 - s - b2 - r - b3 - c\n",
    "* Each has following variables (Total 13 variables): SDNN, NN50, PNN50, RMSSD, VLF, LF, HF, LF/HF, POWER, HR, RESP, SC, TEMP"
   ]
  },
  {
   "cell_type": "markdown",
   "id": "bf0fc8f4-1e22-4129-be79-0a0b9e7cf148",
   "metadata": {},
   "source": [
    "Since the experimental phase steps are \"b1-s-b2-r-b3-c\", there are total 5 between phases"
   ]
  },
  {
   "cell_type": "markdown",
   "id": "4a1cc872-0081-45e5-8168-6131b5c36b0a",
   "metadata": {},
   "source": [
    "### 1) Baseline 1 - Stress phase"
   ]
  },
  {
   "cell_type": "code",
   "execution_count": 27,
   "id": "cec2bbc3-c39e-4788-978a-86967f0536b5",
   "metadata": {},
   "outputs": [
    {
     "data": {
      "text/html": [
       "<div>\n",
       "<style scoped>\n",
       "    .dataframe tbody tr th:only-of-type {\n",
       "        vertical-align: middle;\n",
       "    }\n",
       "\n",
       "    .dataframe tbody tr th {\n",
       "        vertical-align: top;\n",
       "    }\n",
       "\n",
       "    .dataframe thead th {\n",
       "        text-align: right;\n",
       "    }\n",
       "</style>\n",
       "<table border=\"1\" class=\"dataframe\">\n",
       "  <thead>\n",
       "    <tr style=\"text-align: right;\">\n",
       "      <th></th>\n",
       "      <th>SDNN</th>\n",
       "      <th>NN50</th>\n",
       "      <th>PNN50</th>\n",
       "      <th>RMSSD</th>\n",
       "      <th>VLF</th>\n",
       "      <th>LF</th>\n",
       "      <th>HF</th>\n",
       "      <th>LF/HF</th>\n",
       "      <th>POWER</th>\n",
       "      <th>HR</th>\n",
       "      <th>RESP</th>\n",
       "      <th>SC</th>\n",
       "      <th>TEMP</th>\n",
       "    </tr>\n",
       "  </thead>\n",
       "  <tbody>\n",
       "    <tr>\n",
       "      <th>7</th>\n",
       "      <td>-7.393333</td>\n",
       "      <td>0.000000</td>\n",
       "      <td>0.000000</td>\n",
       "      <td>-3.564667</td>\n",
       "      <td>2.731333</td>\n",
       "      <td>-32.349333</td>\n",
       "      <td>-12.728667</td>\n",
       "      <td>-1.022000</td>\n",
       "      <td>-42.347000</td>\n",
       "      <td>-6.320333</td>\n",
       "      <td>3.604333</td>\n",
       "      <td>-0.458333</td>\n",
       "      <td>-0.341000</td>\n",
       "    </tr>\n",
       "    <tr>\n",
       "      <th>8</th>\n",
       "      <td>0.515667</td>\n",
       "      <td>-1.666667</td>\n",
       "      <td>-0.028333</td>\n",
       "      <td>-6.201667</td>\n",
       "      <td>55.459000</td>\n",
       "      <td>-43.157000</td>\n",
       "      <td>-17.901000</td>\n",
       "      <td>-1.011667</td>\n",
       "      <td>-5.598667</td>\n",
       "      <td>-2.875000</td>\n",
       "      <td>-2.257667</td>\n",
       "      <td>-0.598333</td>\n",
       "      <td>-0.356000</td>\n",
       "    </tr>\n",
       "    <tr>\n",
       "      <th>9</th>\n",
       "      <td>74.491667</td>\n",
       "      <td>-2.000000</td>\n",
       "      <td>-0.033333</td>\n",
       "      <td>75.039667</td>\n",
       "      <td>48.674000</td>\n",
       "      <td>-334.605333</td>\n",
       "      <td>-874.947000</td>\n",
       "      <td>0.138000</td>\n",
       "      <td>-1160.878667</td>\n",
       "      <td>2.646667</td>\n",
       "      <td>-2.360333</td>\n",
       "      <td>-0.524000</td>\n",
       "      <td>0.002333</td>\n",
       "    </tr>\n",
       "    <tr>\n",
       "      <th>10</th>\n",
       "      <td>-6.059000</td>\n",
       "      <td>-2.666667</td>\n",
       "      <td>-0.039000</td>\n",
       "      <td>-8.579333</td>\n",
       "      <td>30.772000</td>\n",
       "      <td>-70.413000</td>\n",
       "      <td>-11.943000</td>\n",
       "      <td>-0.968000</td>\n",
       "      <td>-51.584667</td>\n",
       "      <td>-3.645333</td>\n",
       "      <td>-1.146333</td>\n",
       "      <td>-0.455667</td>\n",
       "      <td>-0.111000</td>\n",
       "    </tr>\n",
       "    <tr>\n",
       "      <th>11</th>\n",
       "      <td>-5.136667</td>\n",
       "      <td>-6.000000</td>\n",
       "      <td>-0.088333</td>\n",
       "      <td>4.703667</td>\n",
       "      <td>-36.013333</td>\n",
       "      <td>-217.416667</td>\n",
       "      <td>217.847000</td>\n",
       "      <td>-2.355333</td>\n",
       "      <td>-35.583333</td>\n",
       "      <td>-5.977000</td>\n",
       "      <td>0.106333</td>\n",
       "      <td>-0.869667</td>\n",
       "      <td>0.350333</td>\n",
       "    </tr>\n",
       "  </tbody>\n",
       "</table>\n",
       "</div>"
      ],
      "text/plain": [
       "         SDNN      NN50     PNN50      RMSSD        VLF          LF  \\\n",
       "7   -7.393333  0.000000  0.000000  -3.564667   2.731333  -32.349333   \n",
       "8    0.515667 -1.666667 -0.028333  -6.201667  55.459000  -43.157000   \n",
       "9   74.491667 -2.000000 -0.033333  75.039667  48.674000 -334.605333   \n",
       "10  -6.059000 -2.666667 -0.039000  -8.579333  30.772000  -70.413000   \n",
       "11  -5.136667 -6.000000 -0.088333   4.703667 -36.013333 -217.416667   \n",
       "\n",
       "            HF     LF/HF        POWER        HR      RESP        SC      TEMP  \n",
       "7   -12.728667 -1.022000   -42.347000 -6.320333  3.604333 -0.458333 -0.341000  \n",
       "8   -17.901000 -1.011667    -5.598667 -2.875000 -2.257667 -0.598333 -0.356000  \n",
       "9  -874.947000  0.138000 -1160.878667  2.646667 -2.360333 -0.524000  0.002333  \n",
       "10  -11.943000 -0.968000   -51.584667 -3.645333 -1.146333 -0.455667 -0.111000  \n",
       "11  217.847000 -2.355333   -35.583333 -5.977000  0.106333 -0.869667  0.350333  "
      ]
     },
     "execution_count": 27,
     "metadata": {},
     "output_type": "execute_result"
    }
   ],
   "source": [
    "hrv_b1_s_sub = hrv_b1_rename - hrv_s_rename\n",
    "hrv_b1_s_sub.head()"
   ]
  },
  {
   "cell_type": "code",
   "execution_count": null,
   "id": "aa63b0af-528b-4c06-bbab-b606f1395075",
   "metadata": {},
   "outputs": [],
   "source": []
  },
  {
   "cell_type": "markdown",
   "id": "a749cd83-297e-482f-b4d3-68dcfffd4293",
   "metadata": {},
   "source": [
    "### 2) Stress - Baseline 2 phase"
   ]
  },
  {
   "cell_type": "code",
   "execution_count": 28,
   "id": "ec0c53bf-fae3-4e90-af09-7a983f64c45e",
   "metadata": {},
   "outputs": [
    {
     "data": {
      "text/html": [
       "<div>\n",
       "<style scoped>\n",
       "    .dataframe tbody tr th:only-of-type {\n",
       "        vertical-align: middle;\n",
       "    }\n",
       "\n",
       "    .dataframe tbody tr th {\n",
       "        vertical-align: top;\n",
       "    }\n",
       "\n",
       "    .dataframe thead th {\n",
       "        text-align: right;\n",
       "    }\n",
       "</style>\n",
       "<table border=\"1\" class=\"dataframe\">\n",
       "  <thead>\n",
       "    <tr style=\"text-align: right;\">\n",
       "      <th></th>\n",
       "      <th>SDNN</th>\n",
       "      <th>NN50</th>\n",
       "      <th>PNN50</th>\n",
       "      <th>RMSSD</th>\n",
       "      <th>VLF</th>\n",
       "      <th>LF</th>\n",
       "      <th>HF</th>\n",
       "      <th>LF/HF</th>\n",
       "      <th>POWER</th>\n",
       "      <th>HR</th>\n",
       "      <th>RESP</th>\n",
       "      <th>SC</th>\n",
       "      <th>TEMP</th>\n",
       "    </tr>\n",
       "  </thead>\n",
       "  <tbody>\n",
       "    <tr>\n",
       "      <th>7</th>\n",
       "      <td>6.122667</td>\n",
       "      <td>0.000000</td>\n",
       "      <td>0.000000</td>\n",
       "      <td>3.410333</td>\n",
       "      <td>-3.117000</td>\n",
       "      <td>21.98300</td>\n",
       "      <td>13.936333</td>\n",
       "      <td>0.095333</td>\n",
       "      <td>32.802333</td>\n",
       "      <td>6.173667</td>\n",
       "      <td>-0.887000</td>\n",
       "      <td>0.186000</td>\n",
       "      <td>-0.106667</td>\n",
       "    </tr>\n",
       "    <tr>\n",
       "      <th>8</th>\n",
       "      <td>3.979667</td>\n",
       "      <td>1.333333</td>\n",
       "      <td>0.022333</td>\n",
       "      <td>7.626333</td>\n",
       "      <td>-15.517333</td>\n",
       "      <td>25.58100</td>\n",
       "      <td>32.232667</td>\n",
       "      <td>-0.229667</td>\n",
       "      <td>42.296333</td>\n",
       "      <td>2.492667</td>\n",
       "      <td>1.902333</td>\n",
       "      <td>0.487000</td>\n",
       "      <td>-0.727000</td>\n",
       "    </tr>\n",
       "    <tr>\n",
       "      <th>9</th>\n",
       "      <td>-258.083333</td>\n",
       "      <td>-2.666667</td>\n",
       "      <td>-0.046333</td>\n",
       "      <td>-394.522667</td>\n",
       "      <td>-14999.453670</td>\n",
       "      <td>-24896.51867</td>\n",
       "      <td>-4831.064000</td>\n",
       "      <td>-2.002333</td>\n",
       "      <td>-44727.035670</td>\n",
       "      <td>-6.971000</td>\n",
       "      <td>1.244667</td>\n",
       "      <td>0.400000</td>\n",
       "      <td>0.178000</td>\n",
       "    </tr>\n",
       "    <tr>\n",
       "      <th>10</th>\n",
       "      <td>8.444667</td>\n",
       "      <td>4.000000</td>\n",
       "      <td>0.060000</td>\n",
       "      <td>16.226667</td>\n",
       "      <td>-33.200333</td>\n",
       "      <td>71.10100</td>\n",
       "      <td>51.684000</td>\n",
       "      <td>-0.322000</td>\n",
       "      <td>89.585000</td>\n",
       "      <td>3.215000</td>\n",
       "      <td>2.236000</td>\n",
       "      <td>0.229667</td>\n",
       "      <td>0.222667</td>\n",
       "    </tr>\n",
       "    <tr>\n",
       "      <th>11</th>\n",
       "      <td>23.653333</td>\n",
       "      <td>6.666667</td>\n",
       "      <td>0.099333</td>\n",
       "      <td>26.199333</td>\n",
       "      <td>77.795000</td>\n",
       "      <td>256.78800</td>\n",
       "      <td>76.952333</td>\n",
       "      <td>0.631333</td>\n",
       "      <td>411.535333</td>\n",
       "      <td>4.801667</td>\n",
       "      <td>2.372333</td>\n",
       "      <td>0.432667</td>\n",
       "      <td>-0.193667</td>\n",
       "    </tr>\n",
       "  </tbody>\n",
       "</table>\n",
       "</div>"
      ],
      "text/plain": [
       "          SDNN      NN50     PNN50       RMSSD           VLF           LF  \\\n",
       "7     6.122667  0.000000  0.000000    3.410333     -3.117000     21.98300   \n",
       "8     3.979667  1.333333  0.022333    7.626333    -15.517333     25.58100   \n",
       "9  -258.083333 -2.666667 -0.046333 -394.522667 -14999.453670 -24896.51867   \n",
       "10    8.444667  4.000000  0.060000   16.226667    -33.200333     71.10100   \n",
       "11   23.653333  6.666667  0.099333   26.199333     77.795000    256.78800   \n",
       "\n",
       "             HF     LF/HF         POWER        HR      RESP        SC  \\\n",
       "7     13.936333  0.095333     32.802333  6.173667 -0.887000  0.186000   \n",
       "8     32.232667 -0.229667     42.296333  2.492667  1.902333  0.487000   \n",
       "9  -4831.064000 -2.002333 -44727.035670 -6.971000  1.244667  0.400000   \n",
       "10    51.684000 -0.322000     89.585000  3.215000  2.236000  0.229667   \n",
       "11    76.952333  0.631333    411.535333  4.801667  2.372333  0.432667   \n",
       "\n",
       "        TEMP  \n",
       "7  -0.106667  \n",
       "8  -0.727000  \n",
       "9   0.178000  \n",
       "10  0.222667  \n",
       "11 -0.193667  "
      ]
     },
     "execution_count": 28,
     "metadata": {},
     "output_type": "execute_result"
    }
   ],
   "source": [
    "hrv_s_b2_sub = hrv_s_rename - hrv_b2_rename\n",
    "hrv_s_b2_sub.head()"
   ]
  },
  {
   "cell_type": "code",
   "execution_count": null,
   "id": "7acb0917-7080-43b8-9839-28eea1e4915f",
   "metadata": {},
   "outputs": [],
   "source": []
  },
  {
   "cell_type": "markdown",
   "id": "f4554a7c-a3af-466f-80b1-0abc7ddd01da",
   "metadata": {},
   "source": [
    "### 3) Baseline2 - Rest phase"
   ]
  },
  {
   "cell_type": "code",
   "execution_count": 29,
   "id": "7b53e579-c314-4100-81fd-ac4d21a14f1f",
   "metadata": {},
   "outputs": [
    {
     "data": {
      "text/html": [
       "<div>\n",
       "<style scoped>\n",
       "    .dataframe tbody tr th:only-of-type {\n",
       "        vertical-align: middle;\n",
       "    }\n",
       "\n",
       "    .dataframe tbody tr th {\n",
       "        vertical-align: top;\n",
       "    }\n",
       "\n",
       "    .dataframe thead th {\n",
       "        text-align: right;\n",
       "    }\n",
       "</style>\n",
       "<table border=\"1\" class=\"dataframe\">\n",
       "  <thead>\n",
       "    <tr style=\"text-align: right;\">\n",
       "      <th></th>\n",
       "      <th>SDNN</th>\n",
       "      <th>NN50</th>\n",
       "      <th>PNN50</th>\n",
       "      <th>RMSSD</th>\n",
       "      <th>VLF</th>\n",
       "      <th>LF</th>\n",
       "      <th>HF</th>\n",
       "      <th>LF/HF</th>\n",
       "      <th>POWER</th>\n",
       "      <th>HR</th>\n",
       "      <th>RESP</th>\n",
       "      <th>SC</th>\n",
       "      <th>TEMP</th>\n",
       "    </tr>\n",
       "  </thead>\n",
       "  <tbody>\n",
       "    <tr>\n",
       "      <th>7</th>\n",
       "      <td>-21.490333</td>\n",
       "      <td>0.000000</td>\n",
       "      <td>0.000000</td>\n",
       "      <td>-8.399667</td>\n",
       "      <td>-281.650333</td>\n",
       "      <td>-129.093333</td>\n",
       "      <td>-37.269000</td>\n",
       "      <td>-1.768000</td>\n",
       "      <td>-448.012333</td>\n",
       "      <td>-0.113333</td>\n",
       "      <td>-0.301533</td>\n",
       "      <td>0.064667</td>\n",
       "      <td>-0.437000</td>\n",
       "    </tr>\n",
       "    <tr>\n",
       "      <th>8</th>\n",
       "      <td>-2.142333</td>\n",
       "      <td>0.333333</td>\n",
       "      <td>0.006000</td>\n",
       "      <td>-0.066333</td>\n",
       "      <td>-19.280333</td>\n",
       "      <td>25.987667</td>\n",
       "      <td>-3.229000</td>\n",
       "      <td>1.378333</td>\n",
       "      <td>3.478333</td>\n",
       "      <td>0.265000</td>\n",
       "      <td>-0.769400</td>\n",
       "      <td>0.091000</td>\n",
       "      <td>-0.101667</td>\n",
       "    </tr>\n",
       "    <tr>\n",
       "      <th>9</th>\n",
       "      <td>246.299333</td>\n",
       "      <td>5.000000</td>\n",
       "      <td>0.084333</td>\n",
       "      <td>373.393667</td>\n",
       "      <td>15329.818003</td>\n",
       "      <td>25166.595003</td>\n",
       "      <td>2971.524334</td>\n",
       "      <td>2.179000</td>\n",
       "      <td>43467.936670</td>\n",
       "      <td>8.244333</td>\n",
       "      <td>-0.343400</td>\n",
       "      <td>0.223333</td>\n",
       "      <td>-0.013667</td>\n",
       "    </tr>\n",
       "    <tr>\n",
       "      <th>10</th>\n",
       "      <td>-1.649333</td>\n",
       "      <td>-0.666667</td>\n",
       "      <td>-0.010333</td>\n",
       "      <td>-5.992000</td>\n",
       "      <td>-4.815333</td>\n",
       "      <td>-8.711667</td>\n",
       "      <td>-12.078000</td>\n",
       "      <td>0.375667</td>\n",
       "      <td>-25.605000</td>\n",
       "      <td>-0.277000</td>\n",
       "      <td>-3.969667</td>\n",
       "      <td>0.096667</td>\n",
       "      <td>0.017667</td>\n",
       "    </tr>\n",
       "    <tr>\n",
       "      <th>11</th>\n",
       "      <td>-3.302333</td>\n",
       "      <td>-0.666667</td>\n",
       "      <td>-0.011333</td>\n",
       "      <td>-7.278000</td>\n",
       "      <td>5.790000</td>\n",
       "      <td>21.553333</td>\n",
       "      <td>-6.970333</td>\n",
       "      <td>1.707000</td>\n",
       "      <td>20.373333</td>\n",
       "      <td>2.330333</td>\n",
       "      <td>-0.845000</td>\n",
       "      <td>0.260333</td>\n",
       "      <td>-0.011667</td>\n",
       "    </tr>\n",
       "  </tbody>\n",
       "</table>\n",
       "</div>"
      ],
      "text/plain": [
       "          SDNN      NN50     PNN50       RMSSD           VLF            LF  \\\n",
       "7   -21.490333  0.000000  0.000000   -8.399667   -281.650333   -129.093333   \n",
       "8    -2.142333  0.333333  0.006000   -0.066333    -19.280333     25.987667   \n",
       "9   246.299333  5.000000  0.084333  373.393667  15329.818003  25166.595003   \n",
       "10   -1.649333 -0.666667 -0.010333   -5.992000     -4.815333     -8.711667   \n",
       "11   -3.302333 -0.666667 -0.011333   -7.278000      5.790000     21.553333   \n",
       "\n",
       "             HF     LF/HF         POWER        HR      RESP        SC  \\\n",
       "7    -37.269000 -1.768000   -448.012333 -0.113333 -0.301533  0.064667   \n",
       "8     -3.229000  1.378333      3.478333  0.265000 -0.769400  0.091000   \n",
       "9   2971.524334  2.179000  43467.936670  8.244333 -0.343400  0.223333   \n",
       "10   -12.078000  0.375667    -25.605000 -0.277000 -3.969667  0.096667   \n",
       "11    -6.970333  1.707000     20.373333  2.330333 -0.845000  0.260333   \n",
       "\n",
       "        TEMP  \n",
       "7  -0.437000  \n",
       "8  -0.101667  \n",
       "9  -0.013667  \n",
       "10  0.017667  \n",
       "11 -0.011667  "
      ]
     },
     "execution_count": 29,
     "metadata": {},
     "output_type": "execute_result"
    }
   ],
   "source": [
    "hrv_b2_r_sub = hrv_b2_rename - hrv_r_rename\n",
    "hrv_b2_r_sub.head()"
   ]
  },
  {
   "cell_type": "code",
   "execution_count": null,
   "id": "dd149b0a-72ff-4413-9679-a426d2b19734",
   "metadata": {},
   "outputs": [],
   "source": []
  },
  {
   "cell_type": "markdown",
   "id": "62a0d66a-2863-45f3-84b6-1cf1fbccff0d",
   "metadata": {},
   "source": [
    "### 4) Rest - Baseline 3 phase"
   ]
  },
  {
   "cell_type": "code",
   "execution_count": 30,
   "id": "400bbe45-aa22-4c52-9af4-b1a566df78e6",
   "metadata": {},
   "outputs": [
    {
     "data": {
      "text/html": [
       "<div>\n",
       "<style scoped>\n",
       "    .dataframe tbody tr th:only-of-type {\n",
       "        vertical-align: middle;\n",
       "    }\n",
       "\n",
       "    .dataframe tbody tr th {\n",
       "        vertical-align: top;\n",
       "    }\n",
       "\n",
       "    .dataframe thead th {\n",
       "        text-align: right;\n",
       "    }\n",
       "</style>\n",
       "<table border=\"1\" class=\"dataframe\">\n",
       "  <thead>\n",
       "    <tr style=\"text-align: right;\">\n",
       "      <th></th>\n",
       "      <th>SDNN</th>\n",
       "      <th>NN50</th>\n",
       "      <th>PNN50</th>\n",
       "      <th>RMSSD</th>\n",
       "      <th>VLF</th>\n",
       "      <th>LF</th>\n",
       "      <th>HF</th>\n",
       "      <th>LF/HF</th>\n",
       "      <th>POWER</th>\n",
       "      <th>HR</th>\n",
       "      <th>RESP</th>\n",
       "      <th>SC</th>\n",
       "      <th>TEMP</th>\n",
       "    </tr>\n",
       "  </thead>\n",
       "  <tbody>\n",
       "    <tr>\n",
       "      <th>7</th>\n",
       "      <td>15.283333</td>\n",
       "      <td>0.000000</td>\n",
       "      <td>0.000000</td>\n",
       "      <td>7.927667</td>\n",
       "      <td>229.294667</td>\n",
       "      <td>108.769000</td>\n",
       "      <td>36.793000</td>\n",
       "      <td>-0.268667</td>\n",
       "      <td>374.856000</td>\n",
       "      <td>0.032333</td>\n",
       "      <td>0.617533</td>\n",
       "      <td>0.027667</td>\n",
       "      <td>-0.020667</td>\n",
       "    </tr>\n",
       "    <tr>\n",
       "      <th>8</th>\n",
       "      <td>-5.297333</td>\n",
       "      <td>0.000000</td>\n",
       "      <td>0.000000</td>\n",
       "      <td>-2.739000</td>\n",
       "      <td>-12.043000</td>\n",
       "      <td>-35.270000</td>\n",
       "      <td>-11.795000</td>\n",
       "      <td>-0.684667</td>\n",
       "      <td>-59.107333</td>\n",
       "      <td>-1.786333</td>\n",
       "      <td>-1.007600</td>\n",
       "      <td>0.018000</td>\n",
       "      <td>1.268667</td>\n",
       "    </tr>\n",
       "    <tr>\n",
       "      <th>9</th>\n",
       "      <td>-78.737333</td>\n",
       "      <td>-2.000000</td>\n",
       "      <td>-0.035667</td>\n",
       "      <td>-91.039333</td>\n",
       "      <td>-933.084333</td>\n",
       "      <td>-3555.846000</td>\n",
       "      <td>-2.801667</td>\n",
       "      <td>-0.442000</td>\n",
       "      <td>-4491.731667</td>\n",
       "      <td>-1.204667</td>\n",
       "      <td>-1.336933</td>\n",
       "      <td>0.005667</td>\n",
       "      <td>0.526333</td>\n",
       "    </tr>\n",
       "    <tr>\n",
       "      <th>10</th>\n",
       "      <td>-8.230000</td>\n",
       "      <td>0.000000</td>\n",
       "      <td>-0.000333</td>\n",
       "      <td>-2.272000</td>\n",
       "      <td>-115.838000</td>\n",
       "      <td>-10.116667</td>\n",
       "      <td>-16.952000</td>\n",
       "      <td>0.152000</td>\n",
       "      <td>-142.906000</td>\n",
       "      <td>2.137333</td>\n",
       "      <td>1.328000</td>\n",
       "      <td>-0.058667</td>\n",
       "      <td>-0.123667</td>\n",
       "    </tr>\n",
       "    <tr>\n",
       "      <th>11</th>\n",
       "      <td>-9.034000</td>\n",
       "      <td>-2.333333</td>\n",
       "      <td>-0.038333</td>\n",
       "      <td>-9.288333</td>\n",
       "      <td>-30.323000</td>\n",
       "      <td>-41.615333</td>\n",
       "      <td>-19.606333</td>\n",
       "      <td>-0.787333</td>\n",
       "      <td>-91.544667</td>\n",
       "      <td>-0.878333</td>\n",
       "      <td>-0.207000</td>\n",
       "      <td>-0.298000</td>\n",
       "      <td>0.174667</td>\n",
       "    </tr>\n",
       "  </tbody>\n",
       "</table>\n",
       "</div>"
      ],
      "text/plain": [
       "         SDNN      NN50     PNN50      RMSSD         VLF           LF  \\\n",
       "7   15.283333  0.000000  0.000000   7.927667  229.294667   108.769000   \n",
       "8   -5.297333  0.000000  0.000000  -2.739000  -12.043000   -35.270000   \n",
       "9  -78.737333 -2.000000 -0.035667 -91.039333 -933.084333 -3555.846000   \n",
       "10  -8.230000  0.000000 -0.000333  -2.272000 -115.838000   -10.116667   \n",
       "11  -9.034000 -2.333333 -0.038333  -9.288333  -30.323000   -41.615333   \n",
       "\n",
       "           HF     LF/HF        POWER        HR      RESP        SC      TEMP  \n",
       "7   36.793000 -0.268667   374.856000  0.032333  0.617533  0.027667 -0.020667  \n",
       "8  -11.795000 -0.684667   -59.107333 -1.786333 -1.007600  0.018000  1.268667  \n",
       "9   -2.801667 -0.442000 -4491.731667 -1.204667 -1.336933  0.005667  0.526333  \n",
       "10 -16.952000  0.152000  -142.906000  2.137333  1.328000 -0.058667 -0.123667  \n",
       "11 -19.606333 -0.787333   -91.544667 -0.878333 -0.207000 -0.298000  0.174667  "
      ]
     },
     "execution_count": 30,
     "metadata": {},
     "output_type": "execute_result"
    }
   ],
   "source": [
    "hrv_r_b3_sub = hrv_r_rename - hrv_b3_rename\n",
    "hrv_r_b3_sub.head()"
   ]
  },
  {
   "cell_type": "code",
   "execution_count": null,
   "id": "c29fa1a7-3f00-4e82-a6e1-a5e9dbe4753c",
   "metadata": {},
   "outputs": [],
   "source": []
  },
  {
   "cell_type": "markdown",
   "id": "2a4c8d8b-3430-4a5b-8c97-476798a5f25d",
   "metadata": {},
   "source": [
    "### 5) Baseline 3 - Recovery phase"
   ]
  },
  {
   "cell_type": "code",
   "execution_count": 31,
   "id": "72e75782-6310-46e7-9508-2ac9dadad7c3",
   "metadata": {},
   "outputs": [
    {
     "data": {
      "text/html": [
       "<div>\n",
       "<style scoped>\n",
       "    .dataframe tbody tr th:only-of-type {\n",
       "        vertical-align: middle;\n",
       "    }\n",
       "\n",
       "    .dataframe tbody tr th {\n",
       "        vertical-align: top;\n",
       "    }\n",
       "\n",
       "    .dataframe thead th {\n",
       "        text-align: right;\n",
       "    }\n",
       "</style>\n",
       "<table border=\"1\" class=\"dataframe\">\n",
       "  <thead>\n",
       "    <tr style=\"text-align: right;\">\n",
       "      <th></th>\n",
       "      <th>SDNN</th>\n",
       "      <th>NN50</th>\n",
       "      <th>PNN50</th>\n",
       "      <th>RMSSD</th>\n",
       "      <th>VLF</th>\n",
       "      <th>LF</th>\n",
       "      <th>HF</th>\n",
       "      <th>LF/HF</th>\n",
       "      <th>POWER</th>\n",
       "      <th>HR</th>\n",
       "      <th>RESP</th>\n",
       "      <th>SC</th>\n",
       "      <th>TEMP</th>\n",
       "    </tr>\n",
       "  </thead>\n",
       "  <tbody>\n",
       "    <tr>\n",
       "      <th>7</th>\n",
       "      <td>-3.581333</td>\n",
       "      <td>0.000000</td>\n",
       "      <td>0.000000</td>\n",
       "      <td>-2.860000</td>\n",
       "      <td>-58.629667</td>\n",
       "      <td>-46.155667</td>\n",
       "      <td>-3.755333</td>\n",
       "      <td>-1.461333</td>\n",
       "      <td>-108.540333</td>\n",
       "      <td>1.794333</td>\n",
       "      <td>0.239667</td>\n",
       "      <td>-0.258000</td>\n",
       "      <td>0.444667</td>\n",
       "    </tr>\n",
       "    <tr>\n",
       "      <th>8</th>\n",
       "      <td>3.489000</td>\n",
       "      <td>-0.333333</td>\n",
       "      <td>-0.006000</td>\n",
       "      <td>-0.143000</td>\n",
       "      <td>17.172000</td>\n",
       "      <td>15.998667</td>\n",
       "      <td>23.115667</td>\n",
       "      <td>-2.428667</td>\n",
       "      <td>56.285333</td>\n",
       "      <td>1.231333</td>\n",
       "      <td>0.252333</td>\n",
       "      <td>-0.055667</td>\n",
       "      <td>0.063667</td>\n",
       "    </tr>\n",
       "    <tr>\n",
       "      <th>9</th>\n",
       "      <td>101.116333</td>\n",
       "      <td>1.333333</td>\n",
       "      <td>0.021333</td>\n",
       "      <td>117.364000</td>\n",
       "      <td>996.370667</td>\n",
       "      <td>3888.013334</td>\n",
       "      <td>3130.417000</td>\n",
       "      <td>0.228333</td>\n",
       "      <td>8014.801000</td>\n",
       "      <td>3.530333</td>\n",
       "      <td>-0.780333</td>\n",
       "      <td>-0.282667</td>\n",
       "      <td>-0.188000</td>\n",
       "    </tr>\n",
       "    <tr>\n",
       "      <th>10</th>\n",
       "      <td>0.299333</td>\n",
       "      <td>-0.333333</td>\n",
       "      <td>-0.005333</td>\n",
       "      <td>2.988333</td>\n",
       "      <td>136.682667</td>\n",
       "      <td>5.673667</td>\n",
       "      <td>27.218000</td>\n",
       "      <td>-0.987000</td>\n",
       "      <td>169.573667</td>\n",
       "      <td>-2.039333</td>\n",
       "      <td>0.146000</td>\n",
       "      <td>-0.263000</td>\n",
       "      <td>0.193667</td>\n",
       "    </tr>\n",
       "    <tr>\n",
       "      <th>11</th>\n",
       "      <td>-1.378333</td>\n",
       "      <td>-2.666667</td>\n",
       "      <td>-0.038000</td>\n",
       "      <td>-3.335667</td>\n",
       "      <td>3.015333</td>\n",
       "      <td>35.892667</td>\n",
       "      <td>6.395333</td>\n",
       "      <td>0.762000</td>\n",
       "      <td>45.304000</td>\n",
       "      <td>-3.795333</td>\n",
       "      <td>0.831667</td>\n",
       "      <td>-0.620333</td>\n",
       "      <td>0.182667</td>\n",
       "    </tr>\n",
       "  </tbody>\n",
       "</table>\n",
       "</div>"
      ],
      "text/plain": [
       "          SDNN      NN50     PNN50       RMSSD         VLF           LF  \\\n",
       "7    -3.581333  0.000000  0.000000   -2.860000  -58.629667   -46.155667   \n",
       "8     3.489000 -0.333333 -0.006000   -0.143000   17.172000    15.998667   \n",
       "9   101.116333  1.333333  0.021333  117.364000  996.370667  3888.013334   \n",
       "10    0.299333 -0.333333 -0.005333    2.988333  136.682667     5.673667   \n",
       "11   -1.378333 -2.666667 -0.038000   -3.335667    3.015333    35.892667   \n",
       "\n",
       "             HF     LF/HF        POWER        HR      RESP        SC      TEMP  \n",
       "7     -3.755333 -1.461333  -108.540333  1.794333  0.239667 -0.258000  0.444667  \n",
       "8     23.115667 -2.428667    56.285333  1.231333  0.252333 -0.055667  0.063667  \n",
       "9   3130.417000  0.228333  8014.801000  3.530333 -0.780333 -0.282667 -0.188000  \n",
       "10    27.218000 -0.987000   169.573667 -2.039333  0.146000 -0.263000  0.193667  \n",
       "11     6.395333  0.762000    45.304000 -3.795333  0.831667 -0.620333  0.182667  "
      ]
     },
     "execution_count": 31,
     "metadata": {},
     "output_type": "execute_result"
    }
   ],
   "source": [
    "hrv_b3_c_sub = hrv_b3_rename - hrv_c_rename\n",
    "hrv_b3_c_sub.head()"
   ]
  },
  {
   "cell_type": "code",
   "execution_count": null,
   "id": "074e178b-75db-4c36-b804-b910667dd848",
   "metadata": {},
   "outputs": [],
   "source": []
  },
  {
   "cell_type": "markdown",
   "id": "3a92554c-202b-4b81-a0e4-96117f8c4db2",
   "metadata": {},
   "source": [
    "### 6) Stress - Rest phase"
   ]
  },
  {
   "cell_type": "markdown",
   "id": "142631a8-4fc5-47ab-b950-4a3655bd0e48",
   "metadata": {},
   "source": [
    "* This is what SMC checks for the research"
   ]
  },
  {
   "cell_type": "code",
   "execution_count": 32,
   "id": "668cf1e4-7f05-417f-897b-8a7609c91a22",
   "metadata": {},
   "outputs": [
    {
     "data": {
      "text/html": [
       "<div>\n",
       "<style scoped>\n",
       "    .dataframe tbody tr th:only-of-type {\n",
       "        vertical-align: middle;\n",
       "    }\n",
       "\n",
       "    .dataframe tbody tr th {\n",
       "        vertical-align: top;\n",
       "    }\n",
       "\n",
       "    .dataframe thead th {\n",
       "        text-align: right;\n",
       "    }\n",
       "</style>\n",
       "<table border=\"1\" class=\"dataframe\">\n",
       "  <thead>\n",
       "    <tr style=\"text-align: right;\">\n",
       "      <th></th>\n",
       "      <th>SDNN</th>\n",
       "      <th>NN50</th>\n",
       "      <th>PNN50</th>\n",
       "      <th>RMSSD</th>\n",
       "      <th>VLF</th>\n",
       "      <th>LF</th>\n",
       "      <th>HF</th>\n",
       "      <th>LF/HF</th>\n",
       "      <th>POWER</th>\n",
       "      <th>HR</th>\n",
       "      <th>RESP</th>\n",
       "      <th>SC</th>\n",
       "      <th>TEMP</th>\n",
       "    </tr>\n",
       "  </thead>\n",
       "  <tbody>\n",
       "    <tr>\n",
       "      <th>7</th>\n",
       "      <td>-15.367667</td>\n",
       "      <td>0.000000</td>\n",
       "      <td>0.000000</td>\n",
       "      <td>-4.989333</td>\n",
       "      <td>-284.767333</td>\n",
       "      <td>-107.110333</td>\n",
       "      <td>-23.332667</td>\n",
       "      <td>-1.672667</td>\n",
       "      <td>-415.210000</td>\n",
       "      <td>6.060333</td>\n",
       "      <td>-1.188533</td>\n",
       "      <td>0.250667</td>\n",
       "      <td>-0.543667</td>\n",
       "    </tr>\n",
       "    <tr>\n",
       "      <th>8</th>\n",
       "      <td>1.837333</td>\n",
       "      <td>1.666667</td>\n",
       "      <td>0.028333</td>\n",
       "      <td>7.560000</td>\n",
       "      <td>-34.797667</td>\n",
       "      <td>51.568667</td>\n",
       "      <td>29.003667</td>\n",
       "      <td>1.148667</td>\n",
       "      <td>45.774667</td>\n",
       "      <td>2.757667</td>\n",
       "      <td>1.132933</td>\n",
       "      <td>0.578000</td>\n",
       "      <td>-0.828667</td>\n",
       "    </tr>\n",
       "    <tr>\n",
       "      <th>9</th>\n",
       "      <td>-11.784000</td>\n",
       "      <td>2.333333</td>\n",
       "      <td>0.038000</td>\n",
       "      <td>-21.129000</td>\n",
       "      <td>330.364333</td>\n",
       "      <td>270.076333</td>\n",
       "      <td>-1859.539666</td>\n",
       "      <td>0.176667</td>\n",
       "      <td>-1259.099000</td>\n",
       "      <td>1.273333</td>\n",
       "      <td>0.901267</td>\n",
       "      <td>0.623333</td>\n",
       "      <td>0.164333</td>\n",
       "    </tr>\n",
       "    <tr>\n",
       "      <th>10</th>\n",
       "      <td>6.795333</td>\n",
       "      <td>3.333333</td>\n",
       "      <td>0.049667</td>\n",
       "      <td>10.234667</td>\n",
       "      <td>-38.015667</td>\n",
       "      <td>62.389333</td>\n",
       "      <td>39.606000</td>\n",
       "      <td>0.053667</td>\n",
       "      <td>63.980000</td>\n",
       "      <td>2.938000</td>\n",
       "      <td>-1.733667</td>\n",
       "      <td>0.326333</td>\n",
       "      <td>0.240333</td>\n",
       "    </tr>\n",
       "    <tr>\n",
       "      <th>11</th>\n",
       "      <td>20.351000</td>\n",
       "      <td>6.000000</td>\n",
       "      <td>0.088000</td>\n",
       "      <td>18.921333</td>\n",
       "      <td>83.585000</td>\n",
       "      <td>278.341333</td>\n",
       "      <td>69.982000</td>\n",
       "      <td>2.338333</td>\n",
       "      <td>431.908667</td>\n",
       "      <td>7.132000</td>\n",
       "      <td>1.527333</td>\n",
       "      <td>0.693000</td>\n",
       "      <td>-0.205333</td>\n",
       "    </tr>\n",
       "  </tbody>\n",
       "</table>\n",
       "</div>"
      ],
      "text/plain": [
       "         SDNN      NN50     PNN50      RMSSD         VLF          LF  \\\n",
       "7  -15.367667  0.000000  0.000000  -4.989333 -284.767333 -107.110333   \n",
       "8    1.837333  1.666667  0.028333   7.560000  -34.797667   51.568667   \n",
       "9  -11.784000  2.333333  0.038000 -21.129000  330.364333  270.076333   \n",
       "10   6.795333  3.333333  0.049667  10.234667  -38.015667   62.389333   \n",
       "11  20.351000  6.000000  0.088000  18.921333   83.585000  278.341333   \n",
       "\n",
       "             HF     LF/HF        POWER        HR      RESP        SC      TEMP  \n",
       "7    -23.332667 -1.672667  -415.210000  6.060333 -1.188533  0.250667 -0.543667  \n",
       "8     29.003667  1.148667    45.774667  2.757667  1.132933  0.578000 -0.828667  \n",
       "9  -1859.539666  0.176667 -1259.099000  1.273333  0.901267  0.623333  0.164333  \n",
       "10    39.606000  0.053667    63.980000  2.938000 -1.733667  0.326333  0.240333  \n",
       "11    69.982000  2.338333   431.908667  7.132000  1.527333  0.693000 -0.205333  "
      ]
     },
     "execution_count": 32,
     "metadata": {},
     "output_type": "execute_result"
    }
   ],
   "source": [
    "hrv_s_r_sub = hrv_s_rename - hrv_r_rename\n",
    "hrv_s_r_sub.head()"
   ]
  },
  {
   "cell_type": "code",
   "execution_count": null,
   "id": "a547d5a9-46e5-4a68-80d0-d9fbe2015614",
   "metadata": {},
   "outputs": [],
   "source": []
  },
  {
   "cell_type": "markdown",
   "id": "b338dad3-305e-4ede-a35c-804e2b3d8340",
   "metadata": {},
   "source": [
    "- - -"
   ]
  },
  {
   "cell_type": "markdown",
   "id": "460d29ed-6b45-4579-8cd5-9ec237cc957b",
   "metadata": {},
   "source": [
    "# Data Visualization"
   ]
  },
  {
   "cell_type": "code",
   "execution_count": 38,
   "id": "163fbea3-2510-430f-ac86-7c69d7bbb8e4",
   "metadata": {},
   "outputs": [
    {
     "data": {
      "text/html": [
       "<div>\n",
       "<style scoped>\n",
       "    .dataframe tbody tr th:only-of-type {\n",
       "        vertical-align: middle;\n",
       "    }\n",
       "\n",
       "    .dataframe tbody tr th {\n",
       "        vertical-align: top;\n",
       "    }\n",
       "\n",
       "    .dataframe thead th {\n",
       "        text-align: right;\n",
       "    }\n",
       "</style>\n",
       "<table border=\"1\" class=\"dataframe\">\n",
       "  <thead>\n",
       "    <tr style=\"text-align: right;\">\n",
       "      <th></th>\n",
       "      <th>VISIT</th>\n",
       "      <th>disorder</th>\n",
       "      <th>age</th>\n",
       "      <th>gender</th>\n",
       "      <th>HAMD</th>\n",
       "      <th>HAMA</th>\n",
       "      <th>PDSS</th>\n",
       "      <th>ASI</th>\n",
       "      <th>APPQ</th>\n",
       "      <th>PSWQ</th>\n",
       "      <th>...</th>\n",
       "      <th>cRMSSD</th>\n",
       "      <th>cVLF</th>\n",
       "      <th>cLF</th>\n",
       "      <th>cHF</th>\n",
       "      <th>cLF/HF</th>\n",
       "      <th>cPOWER</th>\n",
       "      <th>cHR</th>\n",
       "      <th>cRESP</th>\n",
       "      <th>cSC</th>\n",
       "      <th>cTEMP</th>\n",
       "    </tr>\n",
       "  </thead>\n",
       "  <tbody>\n",
       "    <tr>\n",
       "      <th>count</th>\n",
       "      <td>330.000000</td>\n",
       "      <td>330.000000</td>\n",
       "      <td>330.000000</td>\n",
       "      <td>330.000000</td>\n",
       "      <td>330.000000</td>\n",
       "      <td>330.000000</td>\n",
       "      <td>330.000000</td>\n",
       "      <td>330.000000</td>\n",
       "      <td>330.000000</td>\n",
       "      <td>330.000000</td>\n",
       "      <td>...</td>\n",
       "      <td>330.000000</td>\n",
       "      <td>330.000000</td>\n",
       "      <td>330.000000</td>\n",
       "      <td>330.000000</td>\n",
       "      <td>330.000000</td>\n",
       "      <td>330.000000</td>\n",
       "      <td>330.000000</td>\n",
       "      <td>330.000000</td>\n",
       "      <td>330.000000</td>\n",
       "      <td>330.000000</td>\n",
       "    </tr>\n",
       "    <tr>\n",
       "      <th>mean</th>\n",
       "      <td>2.978788</td>\n",
       "      <td>2.175758</td>\n",
       "      <td>41.657576</td>\n",
       "      <td>1.660606</td>\n",
       "      <td>6.472727</td>\n",
       "      <td>6.039394</td>\n",
       "      <td>0.875758</td>\n",
       "      <td>13.163636</td>\n",
       "      <td>35.754545</td>\n",
       "      <td>34.387879</td>\n",
       "      <td>...</td>\n",
       "      <td>43.669894</td>\n",
       "      <td>655.276951</td>\n",
       "      <td>1241.578498</td>\n",
       "      <td>513.758725</td>\n",
       "      <td>4.321076</td>\n",
       "      <td>2410.614499</td>\n",
       "      <td>74.315256</td>\n",
       "      <td>12.973306</td>\n",
       "      <td>1.272926</td>\n",
       "      <td>34.347977</td>\n",
       "    </tr>\n",
       "    <tr>\n",
       "      <th>std</th>\n",
       "      <td>1.412979</td>\n",
       "      <td>0.985928</td>\n",
       "      <td>16.279689</td>\n",
       "      <td>0.474223</td>\n",
       "      <td>8.240359</td>\n",
       "      <td>7.623450</td>\n",
       "      <td>2.685040</td>\n",
       "      <td>15.833016</td>\n",
       "      <td>37.156742</td>\n",
       "      <td>13.510139</td>\n",
       "      <td>...</td>\n",
       "      <td>76.679374</td>\n",
       "      <td>5482.108350</td>\n",
       "      <td>11591.265918</td>\n",
       "      <td>3063.010314</td>\n",
       "      <td>4.374765</td>\n",
       "      <td>19127.366046</td>\n",
       "      <td>10.333847</td>\n",
       "      <td>1.413546</td>\n",
       "      <td>1.880320</td>\n",
       "      <td>1.503981</td>\n",
       "    </tr>\n",
       "    <tr>\n",
       "      <th>min</th>\n",
       "      <td>1.000000</td>\n",
       "      <td>1.000000</td>\n",
       "      <td>19.000000</td>\n",
       "      <td>1.000000</td>\n",
       "      <td>0.000000</td>\n",
       "      <td>0.000000</td>\n",
       "      <td>0.000000</td>\n",
       "      <td>0.000000</td>\n",
       "      <td>0.000000</td>\n",
       "      <td>0.000000</td>\n",
       "      <td>...</td>\n",
       "      <td>4.742333</td>\n",
       "      <td>2.278330</td>\n",
       "      <td>5.177670</td>\n",
       "      <td>0.952000</td>\n",
       "      <td>0.155333</td>\n",
       "      <td>13.472300</td>\n",
       "      <td>47.527300</td>\n",
       "      <td>9.579000</td>\n",
       "      <td>0.031333</td>\n",
       "      <td>24.962000</td>\n",
       "    </tr>\n",
       "    <tr>\n",
       "      <th>25%</th>\n",
       "      <td>2.000000</td>\n",
       "      <td>1.000000</td>\n",
       "      <td>27.000000</td>\n",
       "      <td>1.000000</td>\n",
       "      <td>0.000000</td>\n",
       "      <td>0.250000</td>\n",
       "      <td>0.000000</td>\n",
       "      <td>1.000000</td>\n",
       "      <td>8.250000</td>\n",
       "      <td>26.000000</td>\n",
       "      <td>...</td>\n",
       "      <td>16.977167</td>\n",
       "      <td>34.590425</td>\n",
       "      <td>40.576525</td>\n",
       "      <td>17.362917</td>\n",
       "      <td>1.377832</td>\n",
       "      <td>116.734250</td>\n",
       "      <td>67.796667</td>\n",
       "      <td>12.049950</td>\n",
       "      <td>0.349667</td>\n",
       "      <td>33.856500</td>\n",
       "    </tr>\n",
       "    <tr>\n",
       "      <th>50%</th>\n",
       "      <td>3.000000</td>\n",
       "      <td>3.000000</td>\n",
       "      <td>40.000000</td>\n",
       "      <td>2.000000</td>\n",
       "      <td>2.000000</td>\n",
       "      <td>2.500000</td>\n",
       "      <td>0.000000</td>\n",
       "      <td>7.000000</td>\n",
       "      <td>24.000000</td>\n",
       "      <td>32.000000</td>\n",
       "      <td>...</td>\n",
       "      <td>24.722650</td>\n",
       "      <td>73.981350</td>\n",
       "      <td>100.258333</td>\n",
       "      <td>39.443000</td>\n",
       "      <td>3.052168</td>\n",
       "      <td>231.956333</td>\n",
       "      <td>73.649833</td>\n",
       "      <td>12.888833</td>\n",
       "      <td>0.650333</td>\n",
       "      <td>34.706833</td>\n",
       "    </tr>\n",
       "    <tr>\n",
       "      <th>75%</th>\n",
       "      <td>4.000000</td>\n",
       "      <td>3.000000</td>\n",
       "      <td>56.000000</td>\n",
       "      <td>2.000000</td>\n",
       "      <td>12.000000</td>\n",
       "      <td>10.000000</td>\n",
       "      <td>0.000000</td>\n",
       "      <td>19.000000</td>\n",
       "      <td>47.750000</td>\n",
       "      <td>41.000000</td>\n",
       "      <td>...</td>\n",
       "      <td>41.175500</td>\n",
       "      <td>165.100917</td>\n",
       "      <td>236.850000</td>\n",
       "      <td>114.432500</td>\n",
       "      <td>5.629082</td>\n",
       "      <td>523.333917</td>\n",
       "      <td>81.191600</td>\n",
       "      <td>13.713175</td>\n",
       "      <td>1.377250</td>\n",
       "      <td>35.301167</td>\n",
       "    </tr>\n",
       "    <tr>\n",
       "      <th>max</th>\n",
       "      <td>5.000000</td>\n",
       "      <td>3.000000</td>\n",
       "      <td>77.000000</td>\n",
       "      <td>2.000000</td>\n",
       "      <td>32.000000</td>\n",
       "      <td>37.000000</td>\n",
       "      <td>17.000000</td>\n",
       "      <td>68.000000</td>\n",
       "      <td>162.000000</td>\n",
       "      <td>71.000000</td>\n",
       "      <td>...</td>\n",
       "      <td>821.213333</td>\n",
       "      <td>74759.886000</td>\n",
       "      <td>194319.933300</td>\n",
       "      <td>39587.384670</td>\n",
       "      <td>34.516000</td>\n",
       "      <td>296679.451000</td>\n",
       "      <td>114.832000</td>\n",
       "      <td>17.659667</td>\n",
       "      <td>14.685300</td>\n",
       "      <td>36.377667</td>\n",
       "    </tr>\n",
       "  </tbody>\n",
       "</table>\n",
       "<p>8 rows × 92 columns</p>\n",
       "</div>"
      ],
      "text/plain": [
       "            VISIT    disorder         age      gender        HAMD        HAMA  \\\n",
       "count  330.000000  330.000000  330.000000  330.000000  330.000000  330.000000   \n",
       "mean     2.978788    2.175758   41.657576    1.660606    6.472727    6.039394   \n",
       "std      1.412979    0.985928   16.279689    0.474223    8.240359    7.623450   \n",
       "min      1.000000    1.000000   19.000000    1.000000    0.000000    0.000000   \n",
       "25%      2.000000    1.000000   27.000000    1.000000    0.000000    0.250000   \n",
       "50%      3.000000    3.000000   40.000000    2.000000    2.000000    2.500000   \n",
       "75%      4.000000    3.000000   56.000000    2.000000   12.000000   10.000000   \n",
       "max      5.000000    3.000000   77.000000    2.000000   32.000000   37.000000   \n",
       "\n",
       "             PDSS         ASI        APPQ        PSWQ  ...      cRMSSD  \\\n",
       "count  330.000000  330.000000  330.000000  330.000000  ...  330.000000   \n",
       "mean     0.875758   13.163636   35.754545   34.387879  ...   43.669894   \n",
       "std      2.685040   15.833016   37.156742   13.510139  ...   76.679374   \n",
       "min      0.000000    0.000000    0.000000    0.000000  ...    4.742333   \n",
       "25%      0.000000    1.000000    8.250000   26.000000  ...   16.977167   \n",
       "50%      0.000000    7.000000   24.000000   32.000000  ...   24.722650   \n",
       "75%      0.000000   19.000000   47.750000   41.000000  ...   41.175500   \n",
       "max     17.000000   68.000000  162.000000   71.000000  ...  821.213333   \n",
       "\n",
       "               cVLF            cLF           cHF      cLF/HF         cPOWER  \\\n",
       "count    330.000000     330.000000    330.000000  330.000000     330.000000   \n",
       "mean     655.276951    1241.578498    513.758725    4.321076    2410.614499   \n",
       "std     5482.108350   11591.265918   3063.010314    4.374765   19127.366046   \n",
       "min        2.278330       5.177670      0.952000    0.155333      13.472300   \n",
       "25%       34.590425      40.576525     17.362917    1.377832     116.734250   \n",
       "50%       73.981350     100.258333     39.443000    3.052168     231.956333   \n",
       "75%      165.100917     236.850000    114.432500    5.629082     523.333917   \n",
       "max    74759.886000  194319.933300  39587.384670   34.516000  296679.451000   \n",
       "\n",
       "              cHR       cRESP         cSC       cTEMP  \n",
       "count  330.000000  330.000000  330.000000  330.000000  \n",
       "mean    74.315256   12.973306    1.272926   34.347977  \n",
       "std     10.333847    1.413546    1.880320    1.503981  \n",
       "min     47.527300    9.579000    0.031333   24.962000  \n",
       "25%     67.796667   12.049950    0.349667   33.856500  \n",
       "50%     73.649833   12.888833    0.650333   34.706833  \n",
       "75%     81.191600   13.713175    1.377250   35.301167  \n",
       "max    114.832000   17.659667   14.685300   36.377667  \n",
       "\n",
       "[8 rows x 92 columns]"
      ]
     },
     "execution_count": 38,
     "metadata": {},
     "output_type": "execute_result"
    }
   ],
   "source": [
    "hrv.describe()"
   ]
  },
  {
   "cell_type": "code",
   "execution_count": null,
   "id": "a0c4e244-9153-4f4f-9b63-10eefe9738b6",
   "metadata": {},
   "outputs": [],
   "source": []
  },
  {
   "cell_type": "markdown",
   "id": "e77cd19a-2cd0-4362-bf30-b4874d38bdf2",
   "metadata": {},
   "source": [
    "## Age and Disorder"
   ]
  },
  {
   "cell_type": "code",
   "execution_count": 37,
   "id": "827f67d0-3e02-4a72-b26f-77ad5fa7310e",
   "metadata": {},
   "outputs": [
    {
     "data": {
      "text/plain": [
       "<seaborn.axisgrid.FacetGrid at 0x1ed88773b50>"
      ]
     },
     "execution_count": 37,
     "metadata": {},
     "output_type": "execute_result"
    },
    {
     "data": {
      "image/png": "[encoded data removed]",
      "text/plain": [
       "<Figure size 432x216 with 2 Axes>"
      ]
     },
     "metadata": {},
     "output_type": "display_data"
    }
   ],
   "source": [
    "sns.set_style('whitegrid')\n",
    "g = sns.FacetGrid(hrv, col='disorder')\n",
    "g.map(plt.hist, 'age', bins=20)"
   ]
  },
  {
   "cell_type": "code",
   "execution_count": null,
   "id": "0cdc22af-47f6-4180-bc25-bc837134d721",
   "metadata": {},
   "outputs": [],
   "source": []
  },
  {
   "cell_type": "markdown",
   "id": "e837919d-85f0-45b6-9475-a5291170ed0a",
   "metadata": {},
   "source": [
    "## Gender and Disorder"
   ]
  },
  {
   "cell_type": "code",
   "execution_count": 39,
   "id": "102eff17-9d7d-477d-8cd0-18dcf1a5d20f",
   "metadata": {},
   "outputs": [
    {
     "data": {
      "text/plain": [
       "<seaborn.axisgrid.FacetGrid at 0x1ed88a9a400>"
      ]
     },
     "execution_count": 39,
     "metadata": {},
     "output_type": "execute_result"
    },
    {
     "data": {
      "image/png": "[encoded data removed]",
      "text/plain": [
       "<Figure size 432x216 with 2 Axes>"
      ]
     },
     "metadata": {},
     "output_type": "display_data"
    }
   ],
   "source": [
    "sns.set_style('whitegrid')\n",
    "g = sns.FacetGrid(hrv, col='disorder')\n",
    "g.map(plt.hist, 'gender', bins=20)"
   ]
  },
  {
   "cell_type": "code",
   "execution_count": null,
   "id": "e5cbe28f-9953-4245-865c-da729d2a7472",
   "metadata": {},
   "outputs": [],
   "source": []
  },
  {
   "cell_type": "code",
   "execution_count": null,
   "id": "df7707dc-e941-41a3-9627-dac3435f6810",
   "metadata": {},
   "outputs": [],
   "source": []
  },
  {
   "cell_type": "code",
   "execution_count": null,
   "id": "7cdc693e-0ddf-4f46-a5d4-8dd14f43b888",
   "metadata": {},
   "outputs": [],
   "source": []
  },
  {
   "cell_type": "code",
   "execution_count": null,
   "id": "c7c24702-07a8-46fd-ae96-58054f6cc314",
   "metadata": {},
   "outputs": [],
   "source": []
  },
  {
   "cell_type": "code",
   "execution_count": null,
   "id": "4af28ee1-504e-481f-a5e6-3c80e8d09454",
   "metadata": {},
   "outputs": [],
   "source": []
  },
  {
   "cell_type": "code",
   "execution_count": null,
   "id": "de8168ec-c9cc-4ba6-b920-d097a296101e",
   "metadata": {},
   "outputs": [],
   "source": []
  },
  {
   "cell_type": "markdown",
   "id": "62142bbe-f5d7-4c2c-bcd3-23386002aa6e",
   "metadata": {},
   "source": [
    "- - -"
   ]
  },
  {
   "cell_type": "markdown",
   "id": "ad9170f5-1c38-4105-b63f-d2d3aed26da7",
   "metadata": {},
   "source": [
    "# Data Analysis"
   ]
  },
  {
   "cell_type": "markdown",
   "id": "a23b1357-253a-449b-abbc-7455fd193d48",
   "metadata": {},
   "source": [
    "## Data Selection"
   ]
  },
  {
   "cell_type": "code",
   "execution_count": 134,
   "id": "2291ef38-e933-420a-8810-38cf7423cfd7",
   "metadata": {},
   "outputs": [],
   "source": [
    "## Generating dataset with y label on it. \n",
    "hrv_data = pd.concat([hrv_s_r_sub, hrv_disorder], axis=1)"
   ]
  },
  {
   "cell_type": "code",
   "execution_count": 135,
   "id": "5b9bc6c6-0d12-4bce-9749-15a3666fca2e",
   "metadata": {},
   "outputs": [
    {
     "data": {
      "text/html": [
       "<div>\n",
       "<style scoped>\n",
       "    .dataframe tbody tr th:only-of-type {\n",
       "        vertical-align: middle;\n",
       "    }\n",
       "\n",
       "    .dataframe tbody tr th {\n",
       "        vertical-align: top;\n",
       "    }\n",
       "\n",
       "    .dataframe thead th {\n",
       "        text-align: right;\n",
       "    }\n",
       "</style>\n",
       "<table border=\"1\" class=\"dataframe\">\n",
       "  <thead>\n",
       "    <tr style=\"text-align: right;\">\n",
       "      <th></th>\n",
       "      <th>SDNN</th>\n",
       "      <th>NN50</th>\n",
       "      <th>PNN50</th>\n",
       "      <th>RMSSD</th>\n",
       "      <th>VLF</th>\n",
       "      <th>LF</th>\n",
       "      <th>HF</th>\n",
       "      <th>LF/HF</th>\n",
       "      <th>POWER</th>\n",
       "      <th>HR</th>\n",
       "      <th>RESP</th>\n",
       "      <th>SC</th>\n",
       "      <th>TEMP</th>\n",
       "      <th>disorder</th>\n",
       "    </tr>\n",
       "  </thead>\n",
       "  <tbody>\n",
       "    <tr>\n",
       "      <th>7</th>\n",
       "      <td>-15.367667</td>\n",
       "      <td>0.000000</td>\n",
       "      <td>0.000000</td>\n",
       "      <td>-4.989333</td>\n",
       "      <td>-284.767333</td>\n",
       "      <td>-107.110333</td>\n",
       "      <td>-23.332667</td>\n",
       "      <td>-1.672667</td>\n",
       "      <td>-415.210000</td>\n",
       "      <td>6.060333</td>\n",
       "      <td>-1.188533</td>\n",
       "      <td>0.250667</td>\n",
       "      <td>-0.543667</td>\n",
       "      <td>0</td>\n",
       "    </tr>\n",
       "    <tr>\n",
       "      <th>8</th>\n",
       "      <td>1.837333</td>\n",
       "      <td>1.666667</td>\n",
       "      <td>0.028333</td>\n",
       "      <td>7.560000</td>\n",
       "      <td>-34.797667</td>\n",
       "      <td>51.568667</td>\n",
       "      <td>29.003667</td>\n",
       "      <td>1.148667</td>\n",
       "      <td>45.774667</td>\n",
       "      <td>2.757667</td>\n",
       "      <td>1.132933</td>\n",
       "      <td>0.578000</td>\n",
       "      <td>-0.828667</td>\n",
       "      <td>0</td>\n",
       "    </tr>\n",
       "    <tr>\n",
       "      <th>9</th>\n",
       "      <td>-11.784000</td>\n",
       "      <td>2.333333</td>\n",
       "      <td>0.038000</td>\n",
       "      <td>-21.129000</td>\n",
       "      <td>330.364333</td>\n",
       "      <td>270.076333</td>\n",
       "      <td>-1859.539666</td>\n",
       "      <td>0.176667</td>\n",
       "      <td>-1259.099000</td>\n",
       "      <td>1.273333</td>\n",
       "      <td>0.901267</td>\n",
       "      <td>0.623333</td>\n",
       "      <td>0.164333</td>\n",
       "      <td>0</td>\n",
       "    </tr>\n",
       "    <tr>\n",
       "      <th>10</th>\n",
       "      <td>6.795333</td>\n",
       "      <td>3.333333</td>\n",
       "      <td>0.049667</td>\n",
       "      <td>10.234667</td>\n",
       "      <td>-38.015667</td>\n",
       "      <td>62.389333</td>\n",
       "      <td>39.606000</td>\n",
       "      <td>0.053667</td>\n",
       "      <td>63.980000</td>\n",
       "      <td>2.938000</td>\n",
       "      <td>-1.733667</td>\n",
       "      <td>0.326333</td>\n",
       "      <td>0.240333</td>\n",
       "      <td>0</td>\n",
       "    </tr>\n",
       "    <tr>\n",
       "      <th>11</th>\n",
       "      <td>20.351000</td>\n",
       "      <td>6.000000</td>\n",
       "      <td>0.088000</td>\n",
       "      <td>18.921333</td>\n",
       "      <td>83.585000</td>\n",
       "      <td>278.341333</td>\n",
       "      <td>69.982000</td>\n",
       "      <td>2.338333</td>\n",
       "      <td>431.908667</td>\n",
       "      <td>7.132000</td>\n",
       "      <td>1.527333</td>\n",
       "      <td>0.693000</td>\n",
       "      <td>-0.205333</td>\n",
       "      <td>0</td>\n",
       "    </tr>\n",
       "    <tr>\n",
       "      <th>...</th>\n",
       "      <td>...</td>\n",
       "      <td>...</td>\n",
       "      <td>...</td>\n",
       "      <td>...</td>\n",
       "      <td>...</td>\n",
       "      <td>...</td>\n",
       "      <td>...</td>\n",
       "      <td>...</td>\n",
       "      <td>...</td>\n",
       "      <td>...</td>\n",
       "      <td>...</td>\n",
       "      <td>...</td>\n",
       "      <td>...</td>\n",
       "      <td>...</td>\n",
       "    </tr>\n",
       "    <tr>\n",
       "      <th>455</th>\n",
       "      <td>-8.292970</td>\n",
       "      <td>-1.333330</td>\n",
       "      <td>-0.015333</td>\n",
       "      <td>-16.972330</td>\n",
       "      <td>-1.679000</td>\n",
       "      <td>9.547300</td>\n",
       "      <td>-3.531670</td>\n",
       "      <td>1.538000</td>\n",
       "      <td>4.336300</td>\n",
       "      <td>3.323400</td>\n",
       "      <td>-2.190300</td>\n",
       "      <td>-0.112670</td>\n",
       "      <td>0.597000</td>\n",
       "      <td>0</td>\n",
       "    </tr>\n",
       "    <tr>\n",
       "      <th>456</th>\n",
       "      <td>-5.058300</td>\n",
       "      <td>0.000000</td>\n",
       "      <td>0.000000</td>\n",
       "      <td>-5.294370</td>\n",
       "      <td>-62.180700</td>\n",
       "      <td>-75.469600</td>\n",
       "      <td>-9.382630</td>\n",
       "      <td>-3.316000</td>\n",
       "      <td>-147.033000</td>\n",
       "      <td>7.859300</td>\n",
       "      <td>0.742000</td>\n",
       "      <td>-0.357000</td>\n",
       "      <td>-0.168000</td>\n",
       "      <td>0</td>\n",
       "    </tr>\n",
       "    <tr>\n",
       "      <th>457</th>\n",
       "      <td>2.379000</td>\n",
       "      <td>-0.333333</td>\n",
       "      <td>-0.004667</td>\n",
       "      <td>-4.420370</td>\n",
       "      <td>-60.123700</td>\n",
       "      <td>-26.759000</td>\n",
       "      <td>-3.662600</td>\n",
       "      <td>-0.289340</td>\n",
       "      <td>-90.546000</td>\n",
       "      <td>6.704000</td>\n",
       "      <td>0.422300</td>\n",
       "      <td>-0.093670</td>\n",
       "      <td>0.606400</td>\n",
       "      <td>0</td>\n",
       "    </tr>\n",
       "    <tr>\n",
       "      <th>458</th>\n",
       "      <td>4.187300</td>\n",
       "      <td>6.333370</td>\n",
       "      <td>0.084666</td>\n",
       "      <td>8.228300</td>\n",
       "      <td>-569.375000</td>\n",
       "      <td>-3152.014000</td>\n",
       "      <td>-2908.017000</td>\n",
       "      <td>0.717003</td>\n",
       "      <td>-6629.406000</td>\n",
       "      <td>4.631300</td>\n",
       "      <td>-2.345400</td>\n",
       "      <td>0.528670</td>\n",
       "      <td>0.278700</td>\n",
       "      <td>0</td>\n",
       "    </tr>\n",
       "    <tr>\n",
       "      <th>459</th>\n",
       "      <td>-2.747000</td>\n",
       "      <td>0.000000</td>\n",
       "      <td>0.000000</td>\n",
       "      <td>-2.088700</td>\n",
       "      <td>-23.851400</td>\n",
       "      <td>1.579000</td>\n",
       "      <td>-6.189330</td>\n",
       "      <td>1.385000</td>\n",
       "      <td>-28.462000</td>\n",
       "      <td>7.406000</td>\n",
       "      <td>-1.699700</td>\n",
       "      <td>0.040000</td>\n",
       "      <td>0.000700</td>\n",
       "      <td>0</td>\n",
       "    </tr>\n",
       "  </tbody>\n",
       "</table>\n",
       "<p>330 rows × 14 columns</p>\n",
       "</div>"
      ],
      "text/plain": [
       "          SDNN      NN50     PNN50      RMSSD         VLF           LF  \\\n",
       "7   -15.367667  0.000000  0.000000  -4.989333 -284.767333  -107.110333   \n",
       "8     1.837333  1.666667  0.028333   7.560000  -34.797667    51.568667   \n",
       "9   -11.784000  2.333333  0.038000 -21.129000  330.364333   270.076333   \n",
       "10    6.795333  3.333333  0.049667  10.234667  -38.015667    62.389333   \n",
       "11   20.351000  6.000000  0.088000  18.921333   83.585000   278.341333   \n",
       "..         ...       ...       ...        ...         ...          ...   \n",
       "455  -8.292970 -1.333330 -0.015333 -16.972330   -1.679000     9.547300   \n",
       "456  -5.058300  0.000000  0.000000  -5.294370  -62.180700   -75.469600   \n",
       "457   2.379000 -0.333333 -0.004667  -4.420370  -60.123700   -26.759000   \n",
       "458   4.187300  6.333370  0.084666   8.228300 -569.375000 -3152.014000   \n",
       "459  -2.747000  0.000000  0.000000  -2.088700  -23.851400     1.579000   \n",
       "\n",
       "              HF     LF/HF        POWER        HR      RESP        SC  \\\n",
       "7     -23.332667 -1.672667  -415.210000  6.060333 -1.188533  0.250667   \n",
       "8      29.003667  1.148667    45.774667  2.757667  1.132933  0.578000   \n",
       "9   -1859.539666  0.176667 -1259.099000  1.273333  0.901267  0.623333   \n",
       "10     39.606000  0.053667    63.980000  2.938000 -1.733667  0.326333   \n",
       "11     69.982000  2.338333   431.908667  7.132000  1.527333  0.693000   \n",
       "..           ...       ...          ...       ...       ...       ...   \n",
       "455    -3.531670  1.538000     4.336300  3.323400 -2.190300 -0.112670   \n",
       "456    -9.382630 -3.316000  -147.033000  7.859300  0.742000 -0.357000   \n",
       "457    -3.662600 -0.289340   -90.546000  6.704000  0.422300 -0.093670   \n",
       "458 -2908.017000  0.717003 -6629.406000  4.631300 -2.345400  0.528670   \n",
       "459    -6.189330  1.385000   -28.462000  7.406000 -1.699700  0.040000   \n",
       "\n",
       "         TEMP  disorder  \n",
       "7   -0.543667         0  \n",
       "8   -0.828667         0  \n",
       "9    0.164333         0  \n",
       "10   0.240333         0  \n",
       "11  -0.205333         0  \n",
       "..        ...       ...  \n",
       "455  0.597000         0  \n",
       "456 -0.168000         0  \n",
       "457  0.606400         0  \n",
       "458  0.278700         0  \n",
       "459  0.000700         0  \n",
       "\n",
       "[330 rows x 14 columns]"
      ]
     },
     "execution_count": 135,
     "metadata": {},
     "output_type": "execute_result"
    }
   ],
   "source": [
    "hrv_data"
   ]
  },
  {
   "cell_type": "code",
   "execution_count": null,
   "id": "d1981a31-ace3-43be-8d2d-9e64f6ef1274",
   "metadata": {},
   "outputs": [],
   "source": []
  },
  {
   "cell_type": "code",
   "execution_count": 173,
   "id": "02303895-5138-44f1-8162-f3096451d775",
   "metadata": {},
   "outputs": [],
   "source": [
    "X = hrv_b1_s_sub\n",
    "Y = hrv_disorder"
   ]
  },
  {
   "cell_type": "code",
   "execution_count": 174,
   "id": "01a6a042-69a5-4bd6-bd64-9f2a77436f1f",
   "metadata": {},
   "outputs": [],
   "source": [
    "var_selection = [\"SDNN\", \"NN50\",\"PNN50\", \"RMSSD\", \"LF\", \"HF\", \"LF/HF\", \"HR\"] ## Choose the variables that must be adopted for input values\n",
    "X = X.loc[:,var_selection]"
   ]
  },
  {
   "cell_type": "code",
   "execution_count": null,
   "id": "50ff9723-818d-4535-95ae-ce7288baa0cd",
   "metadata": {},
   "outputs": [],
   "source": []
  },
  {
   "cell_type": "code",
   "execution_count": null,
   "id": "b5a68736-1212-47fb-81a3-1c9df68781ce",
   "metadata": {},
   "outputs": [],
   "source": []
  },
  {
   "cell_type": "markdown",
   "id": "8f315e61-ba7d-454e-9d16-1ac020718772",
   "metadata": {},
   "source": [
    "## Train-Test Split"
   ]
  },
  {
   "cell_type": "code",
   "execution_count": 175,
   "id": "7f965837-5694-419f-9fee-a3040129eab7",
   "metadata": {},
   "outputs": [
    {
     "data": {
      "text/plain": [
       "Index(['SDNN', 'NN50', 'PNN50', 'RMSSD', 'LF', 'HF', 'LF/HF', 'HR'], dtype='object')"
      ]
     },
     "execution_count": 175,
     "metadata": {},
     "output_type": "execute_result"
    }
   ],
   "source": [
    "X.columns"
   ]
  },
  {
   "cell_type": "code",
   "execution_count": null,
   "id": "843c5d6e-7baa-42ae-a8b3-af922139e450",
   "metadata": {},
   "outputs": [],
   "source": []
  },
  {
   "cell_type": "code",
   "execution_count": 176,
   "id": "fabbe65b-a459-43ac-92b2-1d1c1e374159",
   "metadata": {},
   "outputs": [],
   "source": [
    "## Split X and Y into training dataset and test dataset\n",
    "x_train, x_test, y_train, y_test = train_test_split(X, Y, test_size = 0.2, random_state = 42)"
   ]
  },
  {
   "cell_type": "code",
   "execution_count": 177,
   "id": "2ecc0d6e-9532-4331-8311-51fdf6e94536",
   "metadata": {},
   "outputs": [
    {
     "name": "stdout",
     "output_type": "stream",
     "text": [
      "x_train dataset shape is (264, 8)\n",
      "y_train dataset shape is (264, 1)\n",
      "x_test dataset shape is (66, 8)\n",
      "y_test dataset shape is (66, 1)\n"
     ]
    }
   ],
   "source": [
    "print(\"x_train dataset shape is\", x_train.shape)\n",
    "print(\"y_train dataset shape is\", y_train.shape)\n",
    "\n",
    "print(\"x_test dataset shape is\", x_test.shape)\n",
    "print(\"y_test dataset shape is\", y_test.shape)"
   ]
  },
  {
   "cell_type": "code",
   "execution_count": null,
   "id": "c59c827c-c73a-4934-84da-3af4fe8c4d40",
   "metadata": {},
   "outputs": [],
   "source": [
    "train_loader = torch.utils.data.DataLoader(train_dataset, batch_size=args.bs, shuffle=True, num_workers=4)\n",
    "test_loader = torch.utils.data.DataLoader(test_dataset, batch_size=args.bs, shuffle=False, num_workers=4)"
   ]
  },
  {
   "cell_type": "code",
   "execution_count": null,
   "id": "a15e9e97-052a-4d93-ab12-9f88996a6d44",
   "metadata": {},
   "outputs": [],
   "source": []
  },
  {
   "cell_type": "code",
   "execution_count": null,
   "id": "d1a43e78-62f2-4a3a-9136-93585e97ed93",
   "metadata": {},
   "outputs": [],
   "source": []
  },
  {
   "cell_type": "markdown",
   "id": "74690609-aa50-4093-b3a0-7b2f59849655",
   "metadata": {},
   "source": [
    "- - -"
   ]
  },
  {
   "cell_type": "markdown",
   "id": "6795e6ea-4fe6-44f2-bb78-14c4e825a6c6",
   "metadata": {},
   "source": [
    "## Regression"
   ]
  },
  {
   "cell_type": "code",
   "execution_count": 178,
   "id": "ef019a5c-5db9-4037-ad4d-5676c42394b3",
   "metadata": {},
   "outputs": [
    {
     "data": {
      "text/plain": [
       "LogisticRegression(max_iter=4000)"
      ]
     },
     "execution_count": 178,
     "metadata": {},
     "output_type": "execute_result"
    }
   ],
   "source": [
    "logistic_reg = LogisticRegression(solver='lbfgs', max_iter = 4000)\n",
    "logistic_reg.fit(x_train, y_train.values.ravel())"
   ]
  },
  {
   "cell_type": "code",
   "execution_count": 179,
   "id": "e061d059-8ca5-4840-ab29-099a2a4de488",
   "metadata": {},
   "outputs": [],
   "source": [
    "predictions = logistic_reg.predict(x_test)"
   ]
  },
  {
   "cell_type": "code",
   "execution_count": 180,
   "id": "86efdff9-a4a1-4135-9288-1c8c75cc1e3c",
   "metadata": {},
   "outputs": [
    {
     "name": "stdout",
     "output_type": "stream",
     "text": [
      "[[ 7 19]\n",
      " [12 28]]\n"
     ]
    }
   ],
   "source": [
    "print(confusion_matrix(y_test,predictions))"
   ]
  },
  {
   "cell_type": "code",
   "execution_count": null,
   "id": "c8ca54ea-18b2-4f63-b945-30f1493f0008",
   "metadata": {},
   "outputs": [],
   "source": []
  },
  {
   "cell_type": "markdown",
   "id": "8f084415-37de-4989-92b8-da7747f5d07f",
   "metadata": {},
   "source": [
    "- - -"
   ]
  },
  {
   "cell_type": "markdown",
   "id": "736bf1d5-e205-490b-b0ba-0c2cc409b124",
   "metadata": {},
   "source": [
    "## Decision Tree"
   ]
  },
  {
   "cell_type": "code",
   "execution_count": 181,
   "id": "3531ce01-d683-4f8d-870c-a05cbffea806",
   "metadata": {},
   "outputs": [
    {
     "data": {
      "text/plain": [
       "DecisionTreeClassifier()"
      ]
     },
     "execution_count": 181,
     "metadata": {},
     "output_type": "execute_result"
    }
   ],
   "source": [
    "dt_model=DecisionTreeClassifier()\n",
    "dt_model.fit(x_train, y_train)"
   ]
  },
  {
   "cell_type": "code",
   "execution_count": 182,
   "id": "81a22415-8d85-453a-ab31-e4008ee33564",
   "metadata": {},
   "outputs": [],
   "source": [
    "dt_pred = dt_model.predict(x_test)"
   ]
  },
  {
   "cell_type": "code",
   "execution_count": 183,
   "id": "776835b9-a243-4b30-90d4-81adee062717",
   "metadata": {},
   "outputs": [
    {
     "name": "stdout",
     "output_type": "stream",
     "text": [
      "[[13 13]\n",
      " [11 29]]\n"
     ]
    }
   ],
   "source": [
    "print(confusion_matrix(y_test,dt_pred))"
   ]
  },
  {
   "cell_type": "code",
   "execution_count": 184,
   "id": "0706e83e-32fe-4c94-9674-42304cb2f51f",
   "metadata": {},
   "outputs": [
    {
     "name": "stdout",
     "output_type": "stream",
     "text": [
      "              precision    recall  f1-score   support\n",
      "\n",
      "           0       0.54      0.50      0.52        26\n",
      "           2       0.69      0.72      0.71        40\n",
      "\n",
      "    accuracy                           0.64        66\n",
      "   macro avg       0.62      0.61      0.61        66\n",
      "weighted avg       0.63      0.64      0.63        66\n",
      "\n"
     ]
    }
   ],
   "source": [
    "print(classification_report(y_test,dt_pred))"
   ]
  },
  {
   "cell_type": "code",
   "execution_count": null,
   "id": "3f0e09ba-65da-45cd-af60-f095a9dd04f9",
   "metadata": {},
   "outputs": [],
   "source": []
  },
  {
   "cell_type": "markdown",
   "id": "baaa5217-74e9-423f-a585-4a37c8d0d401",
   "metadata": {},
   "source": [
    "- - -"
   ]
  },
  {
   "cell_type": "markdown",
   "id": "ffbc3f79-3f12-4188-b4d1-79358136124e",
   "metadata": {},
   "source": [
    "## Random Forest Classification"
   ]
  },
  {
   "cell_type": "code",
   "execution_count": 185,
   "id": "4bddfbf0-2eb9-4242-9aea-9101ace007c8",
   "metadata": {},
   "outputs": [
    {
     "data": {
      "text/plain": [
       "RandomForestClassifier(n_estimators=5000)"
      ]
     },
     "execution_count": 185,
     "metadata": {},
     "output_type": "execute_result"
    }
   ],
   "source": [
    "rf= RandomForestClassifier(n_estimators=5000)\n",
    "rf.fit(x_train, y_train.values.ravel())"
   ]
  },
  {
   "cell_type": "code",
   "execution_count": 186,
   "id": "883b1dce-77e2-41e6-9377-77b11f83d691",
   "metadata": {},
   "outputs": [],
   "source": [
    "rf_pre=rf.predict(x_test)"
   ]
  },
  {
   "cell_type": "code",
   "execution_count": 187,
   "id": "8b73d1a3-6948-4036-b41e-546b20949fb8",
   "metadata": {},
   "outputs": [
    {
     "name": "stdout",
     "output_type": "stream",
     "text": [
      "[[11 15]\n",
      " [14 26]]\n"
     ]
    }
   ],
   "source": [
    "print(confusion_matrix(y_test, rf_pre))"
   ]
  },
  {
   "cell_type": "code",
   "execution_count": 188,
   "id": "cf00cfe5-a377-477a-8349-2c2529128304",
   "metadata": {},
   "outputs": [
    {
     "name": "stdout",
     "output_type": "stream",
     "text": [
      "              precision    recall  f1-score   support\n",
      "\n",
      "           0       0.44      0.42      0.43        26\n",
      "           2       0.63      0.65      0.64        40\n",
      "\n",
      "    accuracy                           0.56        66\n",
      "   macro avg       0.54      0.54      0.54        66\n",
      "weighted avg       0.56      0.56      0.56        66\n",
      "\n"
     ]
    }
   ],
   "source": [
    "print(classification_report(y_test, rf_pre))"
   ]
  },
  {
   "cell_type": "code",
   "execution_count": null,
   "id": "f217e23e-b0de-4b08-b35a-910184e199b5",
   "metadata": {},
   "outputs": [],
   "source": []
  },
  {
   "cell_type": "markdown",
   "id": "17871a6c-a5e4-413f-81cb-e057fd845718",
   "metadata": {},
   "source": [
    "- - -"
   ]
  },
  {
   "cell_type": "markdown",
   "id": "ad19e5fc-0143-4787-be0f-d435f9471292",
   "metadata": {},
   "source": [
    "## XGBoosts Classifier"
   ]
  },
  {
   "cell_type": "code",
   "execution_count": 189,
   "id": "298965e5-2dd7-4849-a5ee-a757387931ee",
   "metadata": {},
   "outputs": [
    {
     "name": "stderr",
     "output_type": "stream",
     "text": [
      "C:\\Users\\user\\anaconda3\\envs\\mlprac\\lib\\site-packages\\xgboost\\sklearn.py:1224: UserWarning: The use of label encoder in XGBClassifier is deprecated and will be removed in a future release. To remove this warning, do the following: 1) Pass option use_label_encoder=False when constructing XGBClassifier object; and 2) Encode your labels (y) as integers starting with 0, i.e. 0, 1, 2, ..., [num_class - 1].\n",
      "  warnings.warn(label_encoder_deprecation_msg, UserWarning)\n",
      "C:\\Users\\user\\anaconda3\\envs\\mlprac\\lib\\site-packages\\sklearn\\utils\\validation.py:63: DataConversionWarning: A column-vector y was passed when a 1d array was expected. Please change the shape of y to (n_samples, ), for example using ravel().\n",
      "  return f(*args, **kwargs)\n"
     ]
    },
    {
     "data": {
      "text/plain": [
       "XGBClassifier(base_score=0.5, booster='gbtree', colsample_bylevel=1,\n",
       "              colsample_bynode=1, colsample_bytree=1, enable_categorical=False,\n",
       "              eval_metric='mlogloss', gamma=0, gpu_id=-1, importance_type=None,\n",
       "              interaction_constraints='', learning_rate=0.300000012,\n",
       "              max_delta_step=0, max_depth=6, min_child_weight=1, missing=nan,\n",
       "              monotone_constraints='()', n_estimators=1000, n_jobs=16,\n",
       "              num_parallel_tree=1, predictor='auto', random_state=0,\n",
       "              reg_alpha=0, reg_lambda=1, scale_pos_weight=1, subsample=1,\n",
       "              tree_method='exact', validate_parameters=1, verbosity=None)"
      ]
     },
     "execution_count": 189,
     "metadata": {},
     "output_type": "execute_result"
    }
   ],
   "source": [
    "xgboost = XGBClassifier(n_estimators=1000, eval_metric='mlogloss')\n",
    "xgboost.fit(x_train, y_train)"
   ]
  },
  {
   "cell_type": "code",
   "execution_count": 190,
   "id": "d45feadb-fdea-4c0a-a522-ec4009dfdaf5",
   "metadata": {},
   "outputs": [],
   "source": [
    "xg_pred = xgboost.predict(x_test)"
   ]
  },
  {
   "cell_type": "code",
   "execution_count": 191,
   "id": "8ce5a47a-ca31-40db-babb-f9c9ddd7998b",
   "metadata": {},
   "outputs": [
    {
     "name": "stdout",
     "output_type": "stream",
     "text": [
      "[[12 14]\n",
      " [15 25]]\n"
     ]
    }
   ],
   "source": [
    "print(confusion_matrix(y_test, xg_pred))"
   ]
  },
  {
   "cell_type": "code",
   "execution_count": 192,
   "id": "56e3fc4b-2344-47fa-bbd7-c8875f4eed79",
   "metadata": {},
   "outputs": [
    {
     "name": "stdout",
     "output_type": "stream",
     "text": [
      "              precision    recall  f1-score   support\n",
      "\n",
      "           0       0.44      0.46      0.45        26\n",
      "           2       0.64      0.62      0.63        40\n",
      "\n",
      "    accuracy                           0.56        66\n",
      "   macro avg       0.54      0.54      0.54        66\n",
      "weighted avg       0.56      0.56      0.56        66\n",
      "\n"
     ]
    }
   ],
   "source": [
    "print(classification_report(y_test, xg_pred))"
   ]
  },
  {
   "cell_type": "code",
   "execution_count": null,
   "id": "50aa2b3a-7cd6-4e98-ba38-4a214fa0ac9f",
   "metadata": {},
   "outputs": [],
   "source": []
  },
  {
   "cell_type": "markdown",
   "id": "ace07912-163d-45d7-b9ec-46acca28ba8f",
   "metadata": {},
   "source": [
    "- - -"
   ]
  },
  {
   "cell_type": "markdown",
   "id": "97d16dea-a4ab-4bc7-9c7e-3c1a69dfc1ac",
   "metadata": {},
   "source": [
    "## Multi-Layer Perceptron"
   ]
  },
  {
   "cell_type": "markdown",
   "id": "c782dc49-1085-4638-be96-b005a7885d49",
   "metadata": {},
   "source": [
    "* Simple MLP"
   ]
  },
  {
   "cell_type": "code",
   "execution_count": 73,
   "id": "d5fdb456-c3eb-476f-bf27-adecb7d628eb",
   "metadata": {},
   "outputs": [],
   "source": [
    "input_size = x_train.shape[1]"
   ]
  },
  {
   "cell_type": "code",
   "execution_count": 74,
   "id": "338a9c99-b3b0-406c-ba98-99eeb1dff339",
   "metadata": {},
   "outputs": [],
   "source": [
    "class MLP_HRV(nn.Module):\n",
    "    def __init__(self):\n",
    "        super(MLP_HRV, self).__init__()\n",
    "        self.layer1 = nn.Linear(input_size, 128)\n",
    "        self.layer2 = nn.Linear(128, 128)\n",
    "        self.layer3 = nn.Linear(128, 3)\n",
    "\n",
    "    def forward(self, x):\n",
    "        x = x.view(-1, input_size)\n",
    "        x = self.layer1(x)\n",
    "        x = F.relu(x)\n",
    "        x = self.layer2(x)\n",
    "        x = F.relu(x)\n",
    "        x = self.layer3(x)\n",
    "        x = F.log_softmax(x, dim=1)\n",
    "        return x"
   ]
  },
  {
   "cell_type": "code",
   "execution_count": 75,
   "id": "16fcceb0-985b-44a3-8989-e5d9280eeb07",
   "metadata": {},
   "outputs": [
    {
     "name": "stdout",
     "output_type": "stream",
     "text": [
      "MLP_HRV(\n",
      "  (layer1): Linear(in_features=12, out_features=128, bias=True)\n",
      "  (layer2): Linear(in_features=128, out_features=128, bias=True)\n",
      "  (layer3): Linear(in_features=128, out_features=3, bias=True)\n",
      ")\n"
     ]
    }
   ],
   "source": [
    "model = MLP_HRV().to(DEVICE)\n",
    "print(model)"
   ]
  },
  {
   "cell_type": "code",
   "execution_count": null,
   "id": "1e7b4ad0-8b6e-49ab-b73f-b7de74a4e0b5",
   "metadata": {},
   "outputs": [],
   "source": []
  },
  {
   "cell_type": "code",
   "execution_count": 76,
   "id": "e11733c1-8861-4b2a-8c93-32d95bddfd23",
   "metadata": {},
   "outputs": [],
   "source": [
    "criterion = nn.CrossEntropyLoss()\n",
    "optimizer = torch.optim.SGD(model.parameters(), lr=0.01)"
   ]
  },
  {
   "cell_type": "code",
   "execution_count": 77,
   "id": "28aab48d-cf2a-453a-9198-e21f2a1f457d",
   "metadata": {},
   "outputs": [],
   "source": [
    "x_train = torch.tensor(x_train.values)"
   ]
  },
  {
   "cell_type": "code",
   "execution_count": 78,
   "id": "ac34b200-30f7-413d-8ced-cdecfb9c0a4c",
   "metadata": {},
   "outputs": [
    {
     "ename": "NameError",
     "evalue": "name 'train_loader' is not defined",
     "output_type": "error",
     "traceback": [
      "\u001b[1;31m---------------------------------------------------------------------------\u001b[0m",
      "\u001b[1;31mNameError\u001b[0m                                 Traceback (most recent call last)",
      "\u001b[1;32m<ipython-input-78-3eacfe3a4748>\u001b[0m in \u001b[0;36m<module>\u001b[1;34m\u001b[0m\n\u001b[0;32m      1\u001b[0m \u001b[1;32mfor\u001b[0m \u001b[0mepoch\u001b[0m \u001b[1;32min\u001b[0m \u001b[0mrange\u001b[0m\u001b[1;33m(\u001b[0m\u001b[0margs\u001b[0m\u001b[1;33m.\u001b[0m\u001b[0mepochs\u001b[0m\u001b[1;33m)\u001b[0m\u001b[1;33m:\u001b[0m\u001b[1;33m\u001b[0m\u001b[1;33m\u001b[0m\u001b[0m\n\u001b[0;32m      2\u001b[0m     \u001b[0mloss\u001b[0m \u001b[1;33m=\u001b[0m \u001b[1;36m0\u001b[0m\u001b[1;33m\u001b[0m\u001b[1;33m\u001b[0m\u001b[0m\n\u001b[1;32m----> 3\u001b[1;33m     \u001b[0mbatch\u001b[0m \u001b[1;33m=\u001b[0m \u001b[0mlen\u001b[0m\u001b[1;33m(\u001b[0m\u001b[0mtrain_loader\u001b[0m\u001b[1;33m)\u001b[0m\u001b[1;33m\u001b[0m\u001b[1;33m\u001b[0m\u001b[0m\n\u001b[0m\u001b[0;32m      4\u001b[0m \u001b[1;33m\u001b[0m\u001b[0m\n\u001b[0;32m      5\u001b[0m     \u001b[1;32mfor\u001b[0m \u001b[0mimages\u001b[0m\u001b[1;33m,\u001b[0m \u001b[0mlabels\u001b[0m \u001b[1;32min\u001b[0m \u001b[0mtrain_loader\u001b[0m\u001b[1;33m:\u001b[0m\u001b[1;33m\u001b[0m\u001b[1;33m\u001b[0m\u001b[0m\n",
      "\u001b[1;31mNameError\u001b[0m: name 'train_loader' is not defined"
     ]
    }
   ],
   "source": [
    "for epoch in range(args.epochs):\n",
    "    loss = 0\n",
    "    batch = len(train_loader)\n",
    "\n",
    "    for images, labels in train_loader: \n",
    "        images = images.view(-1, input_size).to(DEVICE) \n",
    "        labels = labels.to(DEVICE)\n",
    "        \n",
    "        optimizer.zero_grad()\n",
    "        hypothesis = model(images)\n",
    "        cost = criterion(hypothesis, labels)\n",
    "        cost.backward()\n",
    "        optimizer.step()\n",
    "        loss += cost / batch\n",
    "\n",
    "    print('Epoch:', '%03d' % (epoch + 1), 'Training loss =', '{:.5f}'.format(loss))"
   ]
  },
  {
   "cell_type": "code",
   "execution_count": null,
   "id": "94578667-23e7-4bf5-99ed-7eebb191bcdd",
   "metadata": {},
   "outputs": [],
   "source": []
  },
  {
   "cell_type": "code",
   "execution_count": null,
   "id": "a3c3105f-75d1-4c90-a849-a45930a855e3",
   "metadata": {},
   "outputs": [],
   "source": []
  },
  {
   "cell_type": "code",
   "execution_count": null,
   "id": "c2f9ff84-005c-4074-8298-8be5877b697c",
   "metadata": {},
   "outputs": [],
   "source": []
  },
  {
   "cell_type": "code",
   "execution_count": null,
   "id": "79dc468b-4b75-4354-962d-fdb8aee5bf83",
   "metadata": {},
   "outputs": [],
   "source": []
  },
  {
   "cell_type": "markdown",
   "id": "5dfb4496-0a53-4f2e-904b-6b7549e3a385",
   "metadata": {},
   "source": [
    "- - -"
   ]
  },
  {
   "cell_type": "markdown",
   "id": "692b3a2a-4c99-4368-8aac-6bbcb91f4ef3",
   "metadata": {},
   "source": [
    "## Convolutional Neural Network"
   ]
  },
  {
   "cell_type": "code",
   "execution_count": null,
   "id": "ecc05c32-356f-40a3-8b6d-3263f931786a",
   "metadata": {},
   "outputs": [],
   "source": [
    "print(\"X shape is \", X.shape)\n",
    "print(\"Y shape is \", Y.shape)"
   ]
  },
  {
   "cell_type": "code",
   "execution_count": null,
   "id": "a5c7301f-4dc8-467e-a9b0-01569e80f303",
   "metadata": {},
   "outputs": [],
   "source": [
    "X.head()"
   ]
  },
  {
   "cell_type": "code",
   "execution_count": null,
   "id": "82ba0b42-111e-405e-b73e-9fa044d6f23f",
   "metadata": {},
   "outputs": [],
   "source": []
  },
  {
   "cell_type": "code",
   "execution_count": null,
   "id": "212bbd2d-801c-4656-8277-c0778555b483",
   "metadata": {},
   "outputs": [],
   "source": []
  },
  {
   "cell_type": "code",
   "execution_count": null,
   "id": "bb752707-68e7-4c47-a752-a00db3ee4a2b",
   "metadata": {},
   "outputs": [],
   "source": []
  },
  {
   "cell_type": "code",
   "execution_count": null,
   "id": "c71ed47b-d4fe-4dcf-83ed-0f0be1d82b11",
   "metadata": {},
   "outputs": [],
   "source": []
  },
  {
   "cell_type": "code",
   "execution_count": null,
   "id": "b050d792-785c-4756-b313-7f6780921d55",
   "metadata": {},
   "outputs": [],
   "source": []
  },
  {
   "cell_type": "code",
   "execution_count": null,
   "id": "dd27dfc2-4053-4931-b89e-d5ab1149207f",
   "metadata": {},
   "outputs": [],
   "source": []
  },
  {
   "cell_type": "code",
   "execution_count": null,
   "id": "8ec3ca56-166e-4c3f-8b51-6e26b2316ade",
   "metadata": {},
   "outputs": [],
   "source": []
  },
  {
   "cell_type": "code",
   "execution_count": null,
   "id": "6b91d262-b8bf-4c6c-bde9-a411453434f7",
   "metadata": {},
   "outputs": [],
   "source": []
  },
  {
   "cell_type": "code",
   "execution_count": null,
   "id": "5e878ce9-ca28-474d-846a-e6491959e442",
   "metadata": {},
   "outputs": [],
   "source": []
  },
  {
   "cell_type": "code",
   "execution_count": null,
   "id": "45d41c8b-0ca2-4707-8797-27fef3cae62b",
   "metadata": {},
   "outputs": [],
   "source": []
  },
  {
   "cell_type": "code",
   "execution_count": null,
   "id": "8728d0ad-c233-41e5-9b3f-dc3c73cf75c7",
   "metadata": {},
   "outputs": [],
   "source": []
  },
  {
   "cell_type": "code",
   "execution_count": null,
   "id": "ba729f26-1cfb-4b0c-b15b-eb5379edbf98",
   "metadata": {},
   "outputs": [],
   "source": []
  },
  {
   "cell_type": "code",
   "execution_count": null,
   "id": "94b883b8-7731-4d80-81f4-80f082e520d6",
   "metadata": {},
   "outputs": [],
   "source": []
  },
  {
   "cell_type": "code",
   "execution_count": null,
   "id": "7815f0ab-1d6a-4927-a36d-f51d7712d7c9",
   "metadata": {},
   "outputs": [],
   "source": []
  },
  {
   "cell_type": "code",
   "execution_count": null,
   "id": "db2d0d44-7a92-478b-855a-9061947bfaa6",
   "metadata": {},
   "outputs": [],
   "source": []
  },
  {
   "cell_type": "code",
   "execution_count": null,
   "id": "7cc4781c-68d3-4992-a263-213572165143",
   "metadata": {},
   "outputs": [],
   "source": []
  },
  {
   "cell_type": "code",
   "execution_count": null,
   "id": "927e3a8d-6cce-40e6-99e9-23a4faa57036",
   "metadata": {},
   "outputs": [],
   "source": []
  },
  {
   "cell_type": "code",
   "execution_count": null,
   "id": "5918eb07-16ac-4eef-8431-f14a2c8b7641",
   "metadata": {},
   "outputs": [],
   "source": []
  }
 ],
 "metadata": {
  "kernelspec": {
   "display_name": "Python 3",
   "language": "python",
   "name": "python3"
  },
  "language_info": {
   "codemirror_mode": {
    "name": "ipython",
    "version": 3
   },
   "file_extension": ".py",
   "mimetype": "text/x-python",
   "name": "python",
   "nbconvert_exporter": "python",
   "pygments_lexer": "ipython3",
   "version": "3.8.10"
  }
 },
 "nbformat": 4,
 "nbformat_minor": 5
}
