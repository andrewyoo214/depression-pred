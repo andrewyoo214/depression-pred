{
 "cells": [
  {
   "cell_type": "markdown",
   "id": "9c1d493f-d163-4701-992a-6bd8340bdac5",
   "metadata": {},
   "source": [
    "# Major Depressive Disorder Diagnosis"
   ]
  },
  {
   "cell_type": "code",
   "execution_count": 102,
   "id": "5b1bf08b-872d-42ad-b6d2-ce8bd6c6225f",
   "metadata": {},
   "outputs": [],
   "source": [
    "import os\n",
    "import time\n",
    "import pandas as pd\n",
    "import numpy as np\n",
    "import matplotlib.pyplot as plt\n",
    "import seaborn as sns"
   ]
  },
  {
   "cell_type": "code",
   "execution_count": 204,
   "id": "c5471670-ce8b-474e-bc05-0e5b42f6d71a",
   "metadata": {},
   "outputs": [],
   "source": [
    "from sklearn.model_selection import train_test_split\n",
    "from sklearn.linear_model import LogisticRegression\n",
    "from sklearn.metrics import classification_report,confusion_matrix\n",
    "from sklearn.tree import DecisionTreeClassifier\n",
    "from sklearn.ensemble import RandomForestClassifier\n",
    "from xgboost import XGBClassifier"
   ]
  },
  {
   "cell_type": "code",
   "execution_count": null,
   "id": "37b5e4b2-e635-4618-8e85-1c316fe67b90",
   "metadata": {},
   "outputs": [],
   "source": []
  },
  {
   "cell_type": "markdown",
   "id": "e566e357-512b-4061-9062-bd66a306c61e",
   "metadata": {},
   "source": [
    "- - -"
   ]
  },
  {
   "cell_type": "markdown",
   "id": "a8dc1558-6521-4c2f-a5e9-5e6688ea1155",
   "metadata": {},
   "source": [
    "# Data Handling"
   ]
  },
  {
   "cell_type": "code",
   "execution_count": null,
   "id": "1bda56ee-9a9f-440c-961b-2420c6953bb6",
   "metadata": {},
   "outputs": [],
   "source": []
  },
  {
   "cell_type": "markdown",
   "id": "9d252d9f-ea2a-48e9-867b-228f125f4afa",
   "metadata": {},
   "source": [
    "## Dataset check"
   ]
  },
  {
   "cell_type": "code",
   "execution_count": 6,
   "id": "4d74f513-96e5-4e66-a34d-3e15732b38ac",
   "metadata": {},
   "outputs": [
    {
     "data": {
      "text/html": [
       "<div>\n",
       "<style scoped>\n",
       "    .dataframe tbody tr th:only-of-type {\n",
       "        vertical-align: middle;\n",
       "    }\n",
       "\n",
       "    .dataframe tbody tr th {\n",
       "        vertical-align: top;\n",
       "    }\n",
       "\n",
       "    .dataframe thead th {\n",
       "        text-align: right;\n",
       "    }\n",
       "</style>\n",
       "<table border=\"1\" class=\"dataframe\">\n",
       "  <thead>\n",
       "    <tr style=\"text-align: right;\">\n",
       "      <th></th>\n",
       "      <th>sub</th>\n",
       "      <th>VISIT</th>\n",
       "      <th>disorder</th>\n",
       "      <th>age</th>\n",
       "      <th>gender</th>\n",
       "      <th>HAMD</th>\n",
       "      <th>HAMA</th>\n",
       "      <th>PDSS</th>\n",
       "      <th>ASI</th>\n",
       "      <th>APPQ</th>\n",
       "      <th>...</th>\n",
       "      <th>cRMSSD</th>\n",
       "      <th>cVLF</th>\n",
       "      <th>cLF</th>\n",
       "      <th>cHF</th>\n",
       "      <th>cLF/HF</th>\n",
       "      <th>cPOWER</th>\n",
       "      <th>cHR</th>\n",
       "      <th>cRESP</th>\n",
       "      <th>cSC</th>\n",
       "      <th>cTEMP</th>\n",
       "    </tr>\n",
       "  </thead>\n",
       "  <tbody>\n",
       "    <tr>\n",
       "      <th>0</th>\n",
       "      <td>E001</td>\n",
       "      <td>4</td>\n",
       "      <td>2</td>\n",
       "      <td>23</td>\n",
       "      <td>1</td>\n",
       "      <td>2</td>\n",
       "      <td>2</td>\n",
       "      <td>1</td>\n",
       "      <td>12</td>\n",
       "      <td>22</td>\n",
       "      <td>...</td>\n",
       "      <td>41.544667</td>\n",
       "      <td>190.107000</td>\n",
       "      <td>298.508333</td>\n",
       "      <td>206.862333</td>\n",
       "      <td>1.284000</td>\n",
       "      <td>695.477333</td>\n",
       "      <td>65.707000</td>\n",
       "      <td>14.054333</td>\n",
       "      <td>3.911333</td>\n",
       "      <td>34.998000</td>\n",
       "    </tr>\n",
       "    <tr>\n",
       "      <th>1</th>\n",
       "      <td>E001</td>\n",
       "      <td>5</td>\n",
       "      <td>2</td>\n",
       "      <td>23</td>\n",
       "      <td>1</td>\n",
       "      <td>12</td>\n",
       "      <td>7</td>\n",
       "      <td>0</td>\n",
       "      <td>12</td>\n",
       "      <td>24</td>\n",
       "      <td>...</td>\n",
       "      <td>39.825333</td>\n",
       "      <td>143.756667</td>\n",
       "      <td>115.695333</td>\n",
       "      <td>202.602667</td>\n",
       "      <td>0.585000</td>\n",
       "      <td>462.054667</td>\n",
       "      <td>69.040000</td>\n",
       "      <td>14.117333</td>\n",
       "      <td>6.255000</td>\n",
       "      <td>35.544333</td>\n",
       "    </tr>\n",
       "    <tr>\n",
       "      <th>2</th>\n",
       "      <td>E002</td>\n",
       "      <td>1</td>\n",
       "      <td>2</td>\n",
       "      <td>38</td>\n",
       "      <td>1</td>\n",
       "      <td>14</td>\n",
       "      <td>17</td>\n",
       "      <td>14</td>\n",
       "      <td>31</td>\n",
       "      <td>122</td>\n",
       "      <td>...</td>\n",
       "      <td>20.052000</td>\n",
       "      <td>22.006000</td>\n",
       "      <td>50.182000</td>\n",
       "      <td>32.529333</td>\n",
       "      <td>2.499333</td>\n",
       "      <td>104.717000</td>\n",
       "      <td>92.789333</td>\n",
       "      <td>11.013333</td>\n",
       "      <td>0.945667</td>\n",
       "      <td>35.086000</td>\n",
       "    </tr>\n",
       "    <tr>\n",
       "      <th>3</th>\n",
       "      <td>E002</td>\n",
       "      <td>2</td>\n",
       "      <td>2</td>\n",
       "      <td>38</td>\n",
       "      <td>1</td>\n",
       "      <td>13</td>\n",
       "      <td>36</td>\n",
       "      <td>16</td>\n",
       "      <td>32</td>\n",
       "      <td>139</td>\n",
       "      <td>...</td>\n",
       "      <td>20.201667</td>\n",
       "      <td>55.579000</td>\n",
       "      <td>84.441000</td>\n",
       "      <td>18.754000</td>\n",
       "      <td>5.803000</td>\n",
       "      <td>158.774333</td>\n",
       "      <td>85.980667</td>\n",
       "      <td>12.608333</td>\n",
       "      <td>0.785667</td>\n",
       "      <td>36.141000</td>\n",
       "    </tr>\n",
       "    <tr>\n",
       "      <th>4</th>\n",
       "      <td>E002</td>\n",
       "      <td>3</td>\n",
       "      <td>2</td>\n",
       "      <td>38</td>\n",
       "      <td>1</td>\n",
       "      <td>7</td>\n",
       "      <td>10</td>\n",
       "      <td>11</td>\n",
       "      <td>23</td>\n",
       "      <td>70</td>\n",
       "      <td>...</td>\n",
       "      <td>74.788000</td>\n",
       "      <td>182.229000</td>\n",
       "      <td>530.565667</td>\n",
       "      <td>546.574000</td>\n",
       "      <td>1.685667</td>\n",
       "      <td>1259.368667</td>\n",
       "      <td>84.368667</td>\n",
       "      <td>14.285667</td>\n",
       "      <td>0.648000</td>\n",
       "      <td>35.879000</td>\n",
       "    </tr>\n",
       "  </tbody>\n",
       "</table>\n",
       "<p>5 rows × 93 columns</p>\n",
       "</div>"
      ],
      "text/plain": [
       "    sub  VISIT  disorder  age  gender  HAMD  HAMA  PDSS  ASI  APPQ  ...  \\\n",
       "0  E001      4         2   23       1     2     2     1   12    22  ...   \n",
       "1  E001      5         2   23       1    12     7     0   12    24  ...   \n",
       "2  E002      1         2   38       1    14    17    14   31   122  ...   \n",
       "3  E002      2         2   38       1    13    36    16   32   139  ...   \n",
       "4  E002      3         2   38       1     7    10    11   23    70  ...   \n",
       "\n",
       "      cRMSSD        cVLF         cLF         cHF    cLF/HF       cPOWER  \\\n",
       "0  41.544667  190.107000  298.508333  206.862333  1.284000   695.477333   \n",
       "1  39.825333  143.756667  115.695333  202.602667  0.585000   462.054667   \n",
       "2  20.052000   22.006000   50.182000   32.529333  2.499333   104.717000   \n",
       "3  20.201667   55.579000   84.441000   18.754000  5.803000   158.774333   \n",
       "4  74.788000  182.229000  530.565667  546.574000  1.685667  1259.368667   \n",
       "\n",
       "         cHR      cRESP       cSC      cTEMP  \n",
       "0  65.707000  14.054333  3.911333  34.998000  \n",
       "1  69.040000  14.117333  6.255000  35.544333  \n",
       "2  92.789333  11.013333  0.945667  35.086000  \n",
       "3  85.980667  12.608333  0.785667  36.141000  \n",
       "4  84.368667  14.285667  0.648000  35.879000  \n",
       "\n",
       "[5 rows x 93 columns]"
      ]
     },
     "execution_count": 6,
     "metadata": {},
     "output_type": "execute_result"
    }
   ],
   "source": [
    "# HRV 데이터셋 불러오기\n",
    "hrv_df = pd.read_csv('E:/RESEARCH/Datasets/HRV/HRV_samsung/HRV_REV_all.csv', sep=',')\n",
    "hrv_df.head()"
   ]
  },
  {
   "cell_type": "markdown",
   "id": "467f36b6-4543-492a-83c9-e76143be1d20",
   "metadata": {},
   "source": [
    "* disorder(=label): 1(Depression), 2(Panic Disorder), 3(Control)"
   ]
  },
  {
   "cell_type": "code",
   "execution_count": null,
   "id": "9ba21a72-3750-42fd-9edc-d7a9266a96ea",
   "metadata": {},
   "outputs": [],
   "source": []
  },
  {
   "cell_type": "code",
   "execution_count": 7,
   "id": "37e232bf-753a-41dd-8fc3-d1ef00cc9441",
   "metadata": {},
   "outputs": [
    {
     "data": {
      "text/plain": [
       "(479, 93)"
      ]
     },
     "execution_count": 7,
     "metadata": {},
     "output_type": "execute_result"
    }
   ],
   "source": [
    "hrv_df.shape"
   ]
  },
  {
   "cell_type": "markdown",
   "id": "1ce6e5a7-5ec6-4b51-bd37-5e76d18f82d4",
   "metadata": {},
   "source": [
    "HRV measuring steps\n",
    "* b1 - s - b2 - r - b3 - c\n",
    "* Each has following variables (Total 13 variables)\n",
    "> SDNN, NN50, PNN50, RMSSD, VLF, LF, HF, LF/HF, POWER, HR, RESP, SC, TEMP"
   ]
  },
  {
   "cell_type": "code",
   "execution_count": null,
   "id": "e0039abe-4f2d-4ab2-9b9c-ff8bd8994cc0",
   "metadata": {},
   "outputs": [],
   "source": []
  },
  {
   "cell_type": "code",
   "execution_count": null,
   "id": "a8d1ed78-b4db-4765-949d-41880dd9c780",
   "metadata": {},
   "outputs": [],
   "source": []
  },
  {
   "cell_type": "markdown",
   "id": "b6ba43f8-ad9c-42f4-a345-a46780383bf0",
   "metadata": {},
   "source": [
    "- - -"
   ]
  },
  {
   "cell_type": "markdown",
   "id": "d14dcf14-14eb-447e-8f34-4dc75d4b108f",
   "metadata": {},
   "source": [
    "## Data preprocessing"
   ]
  },
  {
   "cell_type": "code",
   "execution_count": 65,
   "id": "57157422-fba8-4e40-9140-9ff23592b059",
   "metadata": {},
   "outputs": [],
   "source": [
    "## Separating HRV dataset by experimental steps.\n",
    "hrv = hrv_df\n",
    "hrv_b1 = hrv_df.filter(regex='^b1')\n",
    "hrv_s = hrv_df.filter(regex='^s')\n",
    "hrv_b2 = hrv_df.filter(regex='^b2')\n",
    "hrv_r = hrv_df.filter(regex='^r')\n",
    "hrv_b3 = hrv_df.filter(regex='^b3')\n",
    "hrv_c = hrv_df.filter(regex='^c')"
   ]
  },
  {
   "cell_type": "code",
   "execution_count": 72,
   "id": "ebeb4a97-c0ba-43f6-9808-0fd188c4657f",
   "metadata": {},
   "outputs": [
    {
     "name": "stdout",
     "output_type": "stream",
     "text": [
      "HRV baseline #1 shape is: 13\n",
      "HRV stress shape is: 13\n",
      "HRV baseline #2 shape is: 13\n",
      "HRV rest shape is: 13\n",
      "HRV baseline #3 shape is: 13\n",
      "HRV c shape is: 13\n"
     ]
    }
   ],
   "source": [
    "## Check whethere each phase contains the same variables.\n",
    "print(\"HRV baseline #1 shape is:\", hrv_b1.shape[1])\n",
    "print(\"HRV stress shape is:\", hrv_s.shape[1])\n",
    "print(\"HRV baseline #2 shape is:\", hrv_b2.shape[1])\n",
    "print(\"HRV rest shape is:\", hrv_r.shape[1])\n",
    "print(\"HRV baseline #3 shape is:\", hrv_b3.shape[1])\n",
    "print(\"HRV c shape is:\", hrv_b1.shape[1])"
   ]
  },
  {
   "cell_type": "code",
   "execution_count": 70,
   "id": "967ac4be-0ac5-4fb8-bf11-c3714162028d",
   "metadata": {},
   "outputs": [],
   "source": [
    "hrv_s = hrv_s.drop(columns=['sub'])"
   ]
  },
  {
   "cell_type": "code",
   "execution_count": null,
   "id": "73fe4b23-9c5a-4b62-9389-3972924f4b26",
   "metadata": {},
   "outputs": [],
   "source": []
  },
  {
   "cell_type": "code",
   "execution_count": 212,
   "id": "f9241cba-39ef-4dd4-abeb-cfab2ea31e63",
   "metadata": {},
   "outputs": [],
   "source": [
    "## Renaming the columns for further calculation.\n",
    "## We need to generate new dataframes to compare the phases.\n",
    "hrv_sub = hrv_df.loc[:, ['sub']]\n",
    "hrv_disorder = hrv_df.loc[:,['disorder']] -1 ## 0(Depression), 1(Panic Disorder), 2(Control)\n",
    "hrv_gender = hrv_df.loc[:,['gender']]\n",
    "hrv_HAMD = hrv_df.loc[:,['HAMD']]\n",
    "hrv_PDSS = hrv_df.loc[:,['PDSS']]\n",
    "\n",
    "hrv_variables = [\"SDNN\", \"NN50\", \"PNN50\", \"RMSSD\", \"VLF\", \"LF\", \"HF\", \"LF/HF\", \"POWER\", \"HR\", \"RESP\", \"SC\", \"TEMP\"]\n",
    "hrv_b1_rename = hrv_b1.set_axis([\"SDNN\", \"NN50\", \"PNN50\", \"RMSSD\", \"VLF\", \"LF\", \"HF\", \"LF/HF\", \"POWER\", \"HR\", \"RESP\", \"SC\", \"TEMP\"], axis=1)\n",
    "hrv_b2_rename = hrv_b2.set_axis([\"SDNN\", \"NN50\", \"PNN50\", \"RMSSD\", \"VLF\", \"LF\", \"HF\", \"LF/HF\", \"POWER\", \"HR\", \"RESP\", \"SC\", \"TEMP\"], axis=1)\n",
    "hrv_b3_rename = hrv_b3.set_axis([\"SDNN\", \"NN50\", \"PNN50\", \"RMSSD\", \"VLF\", \"LF\", \"HF\", \"LF/HF\", \"POWER\", \"HR\", \"RESP\", \"SC\", \"TEMP\"], axis=1)\n",
    "hrv_s_rename = hrv_s.set_axis([\"SDNN\", \"NN50\", \"PNN50\", \"RMSSD\", \"VLF\", \"LF\", \"HF\", \"LF/HF\", \"POWER\", \"HR\", \"RESP\", \"SC\", \"TEMP\"], axis=1)\n",
    "hrv_r_rename = hrv_r.set_axis([\"SDNN\", \"NN50\", \"PNN50\", \"RMSSD\", \"VLF\", \"LF\", \"HF\", \"LF/HF\", \"POWER\", \"HR\", \"RESP\", \"SC\", \"TEMP\"], axis=1)\n",
    "hrv_c_rename = hrv_c.set_axis([\"SDNN\", \"NN50\", \"PNN50\", \"RMSSD\", \"VLF\", \"LF\", \"HF\", \"LF/HF\", \"POWER\", \"HR\", \"RESP\", \"SC\", \"TEMP\"], axis=1)"
   ]
  },
  {
   "cell_type": "code",
   "execution_count": 213,
   "id": "4b64ea93-83c3-4e05-81a7-5a28a10ea859",
   "metadata": {},
   "outputs": [
    {
     "data": {
      "text/plain": [
       "disorder\n",
       "2           194\n",
       "1           149\n",
       "0           136\n",
       "dtype: int64"
      ]
     },
     "execution_count": 213,
     "metadata": {},
     "output_type": "execute_result"
    }
   ],
   "source": [
    "hrv_disorder.value_counts()"
   ]
  },
  {
   "cell_type": "code",
   "execution_count": null,
   "id": "be3403c5-4804-4366-ad40-7821cec140bc",
   "metadata": {},
   "outputs": [],
   "source": []
  },
  {
   "cell_type": "markdown",
   "id": "11cd7a80-2ac5-41de-abab-61cc10d63bbd",
   "metadata": {},
   "source": [
    "- - -"
   ]
  },
  {
   "cell_type": "markdown",
   "id": "952c1137-a7d9-4ff7-b32b-bb1f625153ce",
   "metadata": {},
   "source": [
    "## Comparisons between Phases"
   ]
  },
  {
   "cell_type": "markdown",
   "id": "23641f3e-6bbd-4f97-99ba-f6c22aaca19f",
   "metadata": {},
   "source": [
    "* HRV measuring steps: b1 - s - b2 - r - b3 - c\n",
    "* Each has following variables (Total 13 variables): SDNN, NN50, PNN50, RMSSD, VLF, LF, HF, LF/HF, POWER, HR, RESP, SC, TEMP"
   ]
  },
  {
   "cell_type": "markdown",
   "id": "bf0fc8f4-1e22-4129-be79-0a0b9e7cf148",
   "metadata": {},
   "source": [
    "Since the experimental phase steps are \"b1-s-b2-r-b3-c\", there are total 5 between phases"
   ]
  },
  {
   "cell_type": "markdown",
   "id": "4a1cc872-0081-45e5-8168-6131b5c36b0a",
   "metadata": {},
   "source": [
    "### 1) Baseline 1 - Stress phase"
   ]
  },
  {
   "cell_type": "code",
   "execution_count": 84,
   "id": "cec2bbc3-c39e-4788-978a-86967f0536b5",
   "metadata": {},
   "outputs": [
    {
     "data": {
      "text/html": [
       "<div>\n",
       "<style scoped>\n",
       "    .dataframe tbody tr th:only-of-type {\n",
       "        vertical-align: middle;\n",
       "    }\n",
       "\n",
       "    .dataframe tbody tr th {\n",
       "        vertical-align: top;\n",
       "    }\n",
       "\n",
       "    .dataframe thead th {\n",
       "        text-align: right;\n",
       "    }\n",
       "</style>\n",
       "<table border=\"1\" class=\"dataframe\">\n",
       "  <thead>\n",
       "    <tr style=\"text-align: right;\">\n",
       "      <th></th>\n",
       "      <th>SDNN</th>\n",
       "      <th>NN50</th>\n",
       "      <th>PNN50</th>\n",
       "      <th>RMSSD</th>\n",
       "      <th>VLF</th>\n",
       "      <th>LF</th>\n",
       "      <th>HF</th>\n",
       "      <th>LF/HF</th>\n",
       "      <th>POWER</th>\n",
       "      <th>HR</th>\n",
       "      <th>RESP</th>\n",
       "      <th>SC</th>\n",
       "      <th>TEMP</th>\n",
       "    </tr>\n",
       "  </thead>\n",
       "  <tbody>\n",
       "    <tr>\n",
       "      <th>0</th>\n",
       "      <td>0.287667</td>\n",
       "      <td>4.666667</td>\n",
       "      <td>0.086333</td>\n",
       "      <td>10.664333</td>\n",
       "      <td>-2.756000</td>\n",
       "      <td>-279.967000</td>\n",
       "      <td>184.906667</td>\n",
       "      <td>-2.611000</td>\n",
       "      <td>-97.816333</td>\n",
       "      <td>-4.520333</td>\n",
       "      <td>2.624333</td>\n",
       "      <td>-4.828000</td>\n",
       "      <td>1.002000</td>\n",
       "    </tr>\n",
       "    <tr>\n",
       "      <th>1</th>\n",
       "      <td>-21.138333</td>\n",
       "      <td>3.666667</td>\n",
       "      <td>0.070667</td>\n",
       "      <td>-24.260667</td>\n",
       "      <td>-373.648667</td>\n",
       "      <td>-1140.831334</td>\n",
       "      <td>-1154.247667</td>\n",
       "      <td>-1.071333</td>\n",
       "      <td>-2668.727667</td>\n",
       "      <td>-8.211000</td>\n",
       "      <td>1.535000</td>\n",
       "      <td>-9.487000</td>\n",
       "      <td>0.614000</td>\n",
       "    </tr>\n",
       "    <tr>\n",
       "      <th>2</th>\n",
       "      <td>2.049333</td>\n",
       "      <td>0.000000</td>\n",
       "      <td>0.000000</td>\n",
       "      <td>-1.726000</td>\n",
       "      <td>76.143333</td>\n",
       "      <td>-29.314667</td>\n",
       "      <td>-26.714333</td>\n",
       "      <td>1.287667</td>\n",
       "      <td>20.114667</td>\n",
       "      <td>-2.449667</td>\n",
       "      <td>2.892333</td>\n",
       "      <td>-0.319667</td>\n",
       "      <td>-0.020333</td>\n",
       "    </tr>\n",
       "    <tr>\n",
       "      <th>3</th>\n",
       "      <td>6.312333</td>\n",
       "      <td>0.000000</td>\n",
       "      <td>0.000000</td>\n",
       "      <td>1.099333</td>\n",
       "      <td>98.432667</td>\n",
       "      <td>136.848000</td>\n",
       "      <td>24.599000</td>\n",
       "      <td>2.798000</td>\n",
       "      <td>259.880333</td>\n",
       "      <td>-0.202667</td>\n",
       "      <td>4.266333</td>\n",
       "      <td>-0.033667</td>\n",
       "      <td>-0.057667</td>\n",
       "    </tr>\n",
       "    <tr>\n",
       "      <th>4</th>\n",
       "      <td>28.445667</td>\n",
       "      <td>3.000000</td>\n",
       "      <td>0.032667</td>\n",
       "      <td>43.376000</td>\n",
       "      <td>57.050333</td>\n",
       "      <td>46.734333</td>\n",
       "      <td>59.237667</td>\n",
       "      <td>-0.705667</td>\n",
       "      <td>163.023000</td>\n",
       "      <td>2.514667</td>\n",
       "      <td>3.533000</td>\n",
       "      <td>-0.017000</td>\n",
       "      <td>-0.001000</td>\n",
       "    </tr>\n",
       "  </tbody>\n",
       "</table>\n",
       "</div>"
      ],
      "text/plain": [
       "        SDNN      NN50     PNN50      RMSSD         VLF           LF  \\\n",
       "0   0.287667  4.666667  0.086333  10.664333   -2.756000  -279.967000   \n",
       "1 -21.138333  3.666667  0.070667 -24.260667 -373.648667 -1140.831334   \n",
       "2   2.049333  0.000000  0.000000  -1.726000   76.143333   -29.314667   \n",
       "3   6.312333  0.000000  0.000000   1.099333   98.432667   136.848000   \n",
       "4  28.445667  3.000000  0.032667  43.376000   57.050333    46.734333   \n",
       "\n",
       "            HF     LF/HF        POWER        HR      RESP        SC      TEMP  \n",
       "0   184.906667 -2.611000   -97.816333 -4.520333  2.624333 -4.828000  1.002000  \n",
       "1 -1154.247667 -1.071333 -2668.727667 -8.211000  1.535000 -9.487000  0.614000  \n",
       "2   -26.714333  1.287667    20.114667 -2.449667  2.892333 -0.319667 -0.020333  \n",
       "3    24.599000  2.798000   259.880333 -0.202667  4.266333 -0.033667 -0.057667  \n",
       "4    59.237667 -0.705667   163.023000  2.514667  3.533000 -0.017000 -0.001000  "
      ]
     },
     "execution_count": 84,
     "metadata": {},
     "output_type": "execute_result"
    }
   ],
   "source": [
    "hrv_b1_s_sub = hrv_b1_rename - hrv_s_rename\n",
    "hrv_b1_s_sub.head()"
   ]
  },
  {
   "cell_type": "code",
   "execution_count": null,
   "id": "aa63b0af-528b-4c06-bbab-b606f1395075",
   "metadata": {},
   "outputs": [],
   "source": []
  },
  {
   "cell_type": "code",
   "execution_count": null,
   "id": "d62f4e67-8461-4540-b227-26615160d993",
   "metadata": {},
   "outputs": [],
   "source": []
  },
  {
   "cell_type": "markdown",
   "id": "a749cd83-297e-482f-b4d3-68dcfffd4293",
   "metadata": {},
   "source": [
    "### 2) Stress - Baseline 2 phase"
   ]
  },
  {
   "cell_type": "code",
   "execution_count": 85,
   "id": "ec0c53bf-fae3-4e90-af09-7a983f64c45e",
   "metadata": {},
   "outputs": [
    {
     "data": {
      "text/html": [
       "<div>\n",
       "<style scoped>\n",
       "    .dataframe tbody tr th:only-of-type {\n",
       "        vertical-align: middle;\n",
       "    }\n",
       "\n",
       "    .dataframe tbody tr th {\n",
       "        vertical-align: top;\n",
       "    }\n",
       "\n",
       "    .dataframe thead th {\n",
       "        text-align: right;\n",
       "    }\n",
       "</style>\n",
       "<table border=\"1\" class=\"dataframe\">\n",
       "  <thead>\n",
       "    <tr style=\"text-align: right;\">\n",
       "      <th></th>\n",
       "      <th>SDNN</th>\n",
       "      <th>NN50</th>\n",
       "      <th>PNN50</th>\n",
       "      <th>RMSSD</th>\n",
       "      <th>VLF</th>\n",
       "      <th>LF</th>\n",
       "      <th>HF</th>\n",
       "      <th>LF/HF</th>\n",
       "      <th>POWER</th>\n",
       "      <th>HR</th>\n",
       "      <th>RESP</th>\n",
       "      <th>SC</th>\n",
       "      <th>TEMP</th>\n",
       "    </tr>\n",
       "  </thead>\n",
       "  <tbody>\n",
       "    <tr>\n",
       "      <th>0</th>\n",
       "      <td>-11.360000</td>\n",
       "      <td>-5.333333</td>\n",
       "      <td>-0.096667</td>\n",
       "      <td>-18.286000</td>\n",
       "      <td>-58.710000</td>\n",
       "      <td>-66.028667</td>\n",
       "      <td>-406.971333</td>\n",
       "      <td>2.004000</td>\n",
       "      <td>-531.710000</td>\n",
       "      <td>4.353333</td>\n",
       "      <td>-1.105333</td>\n",
       "      <td>-0.297667</td>\n",
       "      <td>-0.856667</td>\n",
       "    </tr>\n",
       "    <tr>\n",
       "      <th>1</th>\n",
       "      <td>9.035667</td>\n",
       "      <td>-4.333333</td>\n",
       "      <td>-0.080333</td>\n",
       "      <td>20.483333</td>\n",
       "      <td>234.864333</td>\n",
       "      <td>1052.266334</td>\n",
       "      <td>993.647000</td>\n",
       "      <td>1.265333</td>\n",
       "      <td>2280.777667</td>\n",
       "      <td>8.344667</td>\n",
       "      <td>0.931000</td>\n",
       "      <td>2.270000</td>\n",
       "      <td>0.033667</td>\n",
       "    </tr>\n",
       "    <tr>\n",
       "      <th>2</th>\n",
       "      <td>2.347000</td>\n",
       "      <td>0.000000</td>\n",
       "      <td>0.000000</td>\n",
       "      <td>3.369000</td>\n",
       "      <td>13.332333</td>\n",
       "      <td>71.931667</td>\n",
       "      <td>45.656333</td>\n",
       "      <td>-0.551333</td>\n",
       "      <td>130.920000</td>\n",
       "      <td>3.359667</td>\n",
       "      <td>-1.622667</td>\n",
       "      <td>0.132000</td>\n",
       "      <td>0.003000</td>\n",
       "    </tr>\n",
       "    <tr>\n",
       "      <th>3</th>\n",
       "      <td>-5.727667</td>\n",
       "      <td>0.000000</td>\n",
       "      <td>0.000000</td>\n",
       "      <td>-2.342667</td>\n",
       "      <td>-48.445667</td>\n",
       "      <td>-33.052000</td>\n",
       "      <td>-11.412000</td>\n",
       "      <td>0.121000</td>\n",
       "      <td>-92.909667</td>\n",
       "      <td>4.459000</td>\n",
       "      <td>-3.775667</td>\n",
       "      <td>0.003333</td>\n",
       "      <td>-0.043667</td>\n",
       "    </tr>\n",
       "    <tr>\n",
       "      <th>4</th>\n",
       "      <td>25.174667</td>\n",
       "      <td>1.666667</td>\n",
       "      <td>0.018333</td>\n",
       "      <td>16.042000</td>\n",
       "      <td>-6.794000</td>\n",
       "      <td>182.404333</td>\n",
       "      <td>200.162000</td>\n",
       "      <td>-0.467333</td>\n",
       "      <td>375.771667</td>\n",
       "      <td>2.845333</td>\n",
       "      <td>-3.480667</td>\n",
       "      <td>-0.013333</td>\n",
       "      <td>-0.057667</td>\n",
       "    </tr>\n",
       "  </tbody>\n",
       "</table>\n",
       "</div>"
      ],
      "text/plain": [
       "        SDNN      NN50     PNN50      RMSSD         VLF           LF  \\\n",
       "0 -11.360000 -5.333333 -0.096667 -18.286000  -58.710000   -66.028667   \n",
       "1   9.035667 -4.333333 -0.080333  20.483333  234.864333  1052.266334   \n",
       "2   2.347000  0.000000  0.000000   3.369000   13.332333    71.931667   \n",
       "3  -5.727667  0.000000  0.000000  -2.342667  -48.445667   -33.052000   \n",
       "4  25.174667  1.666667  0.018333  16.042000   -6.794000   182.404333   \n",
       "\n",
       "           HF     LF/HF        POWER        HR      RESP        SC      TEMP  \n",
       "0 -406.971333  2.004000  -531.710000  4.353333 -1.105333 -0.297667 -0.856667  \n",
       "1  993.647000  1.265333  2280.777667  8.344667  0.931000  2.270000  0.033667  \n",
       "2   45.656333 -0.551333   130.920000  3.359667 -1.622667  0.132000  0.003000  \n",
       "3  -11.412000  0.121000   -92.909667  4.459000 -3.775667  0.003333 -0.043667  \n",
       "4  200.162000 -0.467333   375.771667  2.845333 -3.480667 -0.013333 -0.057667  "
      ]
     },
     "execution_count": 85,
     "metadata": {},
     "output_type": "execute_result"
    }
   ],
   "source": [
    "hrv_s_b2_sub = hrv_s_rename - hrv_b2_rename\n",
    "hrv_s_b2_sub.head()"
   ]
  },
  {
   "cell_type": "code",
   "execution_count": null,
   "id": "e948935c-f4e4-41ff-b6f1-c8ce434f2b75",
   "metadata": {},
   "outputs": [],
   "source": []
  },
  {
   "cell_type": "code",
   "execution_count": null,
   "id": "7acb0917-7080-43b8-9839-28eea1e4915f",
   "metadata": {},
   "outputs": [],
   "source": []
  },
  {
   "cell_type": "markdown",
   "id": "f4554a7c-a3af-466f-80b1-0abc7ddd01da",
   "metadata": {},
   "source": [
    "### 3) Baseline2 - Rest phase"
   ]
  },
  {
   "cell_type": "code",
   "execution_count": 86,
   "id": "7b53e579-c314-4100-81fd-ac4d21a14f1f",
   "metadata": {},
   "outputs": [
    {
     "data": {
      "text/html": [
       "<div>\n",
       "<style scoped>\n",
       "    .dataframe tbody tr th:only-of-type {\n",
       "        vertical-align: middle;\n",
       "    }\n",
       "\n",
       "    .dataframe tbody tr th {\n",
       "        vertical-align: top;\n",
       "    }\n",
       "\n",
       "    .dataframe thead th {\n",
       "        text-align: right;\n",
       "    }\n",
       "</style>\n",
       "<table border=\"1\" class=\"dataframe\">\n",
       "  <thead>\n",
       "    <tr style=\"text-align: right;\">\n",
       "      <th></th>\n",
       "      <th>SDNN</th>\n",
       "      <th>NN50</th>\n",
       "      <th>PNN50</th>\n",
       "      <th>RMSSD</th>\n",
       "      <th>VLF</th>\n",
       "      <th>LF</th>\n",
       "      <th>HF</th>\n",
       "      <th>LF/HF</th>\n",
       "      <th>POWER</th>\n",
       "      <th>HR</th>\n",
       "      <th>RESP</th>\n",
       "      <th>SC</th>\n",
       "      <th>TEMP</th>\n",
       "    </tr>\n",
       "  </thead>\n",
       "  <tbody>\n",
       "    <tr>\n",
       "      <th>0</th>\n",
       "      <td>10.395333</td>\n",
       "      <td>-1.000000</td>\n",
       "      <td>-0.012000</td>\n",
       "      <td>6.659000</td>\n",
       "      <td>-44.986000</td>\n",
       "      <td>-60.517000</td>\n",
       "      <td>89.346333</td>\n",
       "      <td>-0.140000</td>\n",
       "      <td>-16.157000</td>\n",
       "      <td>-0.738333</td>\n",
       "      <td>-0.327333</td>\n",
       "      <td>2.811667</td>\n",
       "      <td>-0.516667</td>\n",
       "    </tr>\n",
       "    <tr>\n",
       "      <th>1</th>\n",
       "      <td>8.564000</td>\n",
       "      <td>2.333333</td>\n",
       "      <td>0.038667</td>\n",
       "      <td>4.713000</td>\n",
       "      <td>88.049333</td>\n",
       "      <td>-244.483333</td>\n",
       "      <td>115.041667</td>\n",
       "      <td>-0.824333</td>\n",
       "      <td>-41.393000</td>\n",
       "      <td>-1.832333</td>\n",
       "      <td>-0.871000</td>\n",
       "      <td>4.765000</td>\n",
       "      <td>-0.102333</td>\n",
       "    </tr>\n",
       "    <tr>\n",
       "      <th>2</th>\n",
       "      <td>3.167333</td>\n",
       "      <td>0.000000</td>\n",
       "      <td>0.000000</td>\n",
       "      <td>0.588667</td>\n",
       "      <td>-18.453333</td>\n",
       "      <td>-2.815667</td>\n",
       "      <td>-6.873333</td>\n",
       "      <td>0.441000</td>\n",
       "      <td>-28.142000</td>\n",
       "      <td>-2.467333</td>\n",
       "      <td>0.249667</td>\n",
       "      <td>0.058333</td>\n",
       "      <td>0.066000</td>\n",
       "    </tr>\n",
       "    <tr>\n",
       "      <th>3</th>\n",
       "      <td>-10.102333</td>\n",
       "      <td>-1.000000</td>\n",
       "      <td>-0.012000</td>\n",
       "      <td>-6.834000</td>\n",
       "      <td>7.107667</td>\n",
       "      <td>-150.309000</td>\n",
       "      <td>-52.806333</td>\n",
       "      <td>-0.724000</td>\n",
       "      <td>-196.007667</td>\n",
       "      <td>2.282000</td>\n",
       "      <td>0.243467</td>\n",
       "      <td>-0.048667</td>\n",
       "      <td>0.001667</td>\n",
       "    </tr>\n",
       "    <tr>\n",
       "      <th>4</th>\n",
       "      <td>-60.977000</td>\n",
       "      <td>-1.333333</td>\n",
       "      <td>-0.016333</td>\n",
       "      <td>-79.491000</td>\n",
       "      <td>-46.755667</td>\n",
       "      <td>-70.231333</td>\n",
       "      <td>-440.990333</td>\n",
       "      <td>1.082333</td>\n",
       "      <td>-557.976667</td>\n",
       "      <td>1.675667</td>\n",
       "      <td>-0.406267</td>\n",
       "      <td>-0.018333</td>\n",
       "      <td>-0.025000</td>\n",
       "    </tr>\n",
       "  </tbody>\n",
       "</table>\n",
       "</div>"
      ],
      "text/plain": [
       "        SDNN      NN50     PNN50      RMSSD        VLF          LF  \\\n",
       "0  10.395333 -1.000000 -0.012000   6.659000 -44.986000  -60.517000   \n",
       "1   8.564000  2.333333  0.038667   4.713000  88.049333 -244.483333   \n",
       "2   3.167333  0.000000  0.000000   0.588667 -18.453333   -2.815667   \n",
       "3 -10.102333 -1.000000 -0.012000  -6.834000   7.107667 -150.309000   \n",
       "4 -60.977000 -1.333333 -0.016333 -79.491000 -46.755667  -70.231333   \n",
       "\n",
       "           HF     LF/HF       POWER        HR      RESP        SC      TEMP  \n",
       "0   89.346333 -0.140000  -16.157000 -0.738333 -0.327333  2.811667 -0.516667  \n",
       "1  115.041667 -0.824333  -41.393000 -1.832333 -0.871000  4.765000 -0.102333  \n",
       "2   -6.873333  0.441000  -28.142000 -2.467333  0.249667  0.058333  0.066000  \n",
       "3  -52.806333 -0.724000 -196.007667  2.282000  0.243467 -0.048667  0.001667  \n",
       "4 -440.990333  1.082333 -557.976667  1.675667 -0.406267 -0.018333 -0.025000  "
      ]
     },
     "execution_count": 86,
     "metadata": {},
     "output_type": "execute_result"
    }
   ],
   "source": [
    "hrv_b2_r_sub = hrv_b2_rename - hrv_r_rename\n",
    "hrv_b2_r_sub.head()"
   ]
  },
  {
   "cell_type": "code",
   "execution_count": null,
   "id": "77180448-1a8e-40e5-9149-d77d2caa16a7",
   "metadata": {},
   "outputs": [],
   "source": []
  },
  {
   "cell_type": "code",
   "execution_count": null,
   "id": "dd149b0a-72ff-4413-9679-a426d2b19734",
   "metadata": {},
   "outputs": [],
   "source": []
  },
  {
   "cell_type": "markdown",
   "id": "62a0d66a-2863-45f3-84b6-1cf1fbccff0d",
   "metadata": {},
   "source": [
    "### 4) Rest - Baseline 3 phase"
   ]
  },
  {
   "cell_type": "code",
   "execution_count": 88,
   "id": "400bbe45-aa22-4c52-9af4-b1a566df78e6",
   "metadata": {},
   "outputs": [
    {
     "data": {
      "text/html": [
       "<div>\n",
       "<style scoped>\n",
       "    .dataframe tbody tr th:only-of-type {\n",
       "        vertical-align: middle;\n",
       "    }\n",
       "\n",
       "    .dataframe tbody tr th {\n",
       "        vertical-align: top;\n",
       "    }\n",
       "\n",
       "    .dataframe thead th {\n",
       "        text-align: right;\n",
       "    }\n",
       "</style>\n",
       "<table border=\"1\" class=\"dataframe\">\n",
       "  <thead>\n",
       "    <tr style=\"text-align: right;\">\n",
       "      <th></th>\n",
       "      <th>SDNN</th>\n",
       "      <th>NN50</th>\n",
       "      <th>PNN50</th>\n",
       "      <th>RMSSD</th>\n",
       "      <th>VLF</th>\n",
       "      <th>LF</th>\n",
       "      <th>HF</th>\n",
       "      <th>LF/HF</th>\n",
       "      <th>POWER</th>\n",
       "      <th>HR</th>\n",
       "      <th>RESP</th>\n",
       "      <th>SC</th>\n",
       "      <th>TEMP</th>\n",
       "    </tr>\n",
       "  </thead>\n",
       "  <tbody>\n",
       "    <tr>\n",
       "      <th>0</th>\n",
       "      <td>0.013000</td>\n",
       "      <td>3.000000</td>\n",
       "      <td>0.052333</td>\n",
       "      <td>4.031000</td>\n",
       "      <td>103.554000</td>\n",
       "      <td>184.618000</td>\n",
       "      <td>56.917333</td>\n",
       "      <td>0.183000</td>\n",
       "      <td>345.089000</td>\n",
       "      <td>-1.751333</td>\n",
       "      <td>-0.039000</td>\n",
       "      <td>0.217000</td>\n",
       "      <td>0.008000</td>\n",
       "    </tr>\n",
       "    <tr>\n",
       "      <th>1</th>\n",
       "      <td>-10.302000</td>\n",
       "      <td>4.000000</td>\n",
       "      <td>0.066667</td>\n",
       "      <td>2.679000</td>\n",
       "      <td>-335.397667</td>\n",
       "      <td>-1035.652000</td>\n",
       "      <td>-117.790667</td>\n",
       "      <td>-1.463000</td>\n",
       "      <td>-1488.840000</td>\n",
       "      <td>-3.499333</td>\n",
       "      <td>-0.183000</td>\n",
       "      <td>0.000333</td>\n",
       "      <td>0.033667</td>\n",
       "    </tr>\n",
       "    <tr>\n",
       "      <th>2</th>\n",
       "      <td>-6.370000</td>\n",
       "      <td>0.000000</td>\n",
       "      <td>0.000000</td>\n",
       "      <td>-0.883333</td>\n",
       "      <td>-9.966667</td>\n",
       "      <td>-36.395667</td>\n",
       "      <td>0.591667</td>\n",
       "      <td>-0.573000</td>\n",
       "      <td>-45.771000</td>\n",
       "      <td>0.824667</td>\n",
       "      <td>0.156333</td>\n",
       "      <td>0.031000</td>\n",
       "      <td>-0.006333</td>\n",
       "    </tr>\n",
       "    <tr>\n",
       "      <th>3</th>\n",
       "      <td>2.291667</td>\n",
       "      <td>0.333333</td>\n",
       "      <td>0.004000</td>\n",
       "      <td>0.361000</td>\n",
       "      <td>-9.414000</td>\n",
       "      <td>29.256667</td>\n",
       "      <td>20.084333</td>\n",
       "      <td>-0.369000</td>\n",
       "      <td>39.926667</td>\n",
       "      <td>0.664667</td>\n",
       "      <td>0.459533</td>\n",
       "      <td>-0.097667</td>\n",
       "      <td>0.031000</td>\n",
       "    </tr>\n",
       "    <tr>\n",
       "      <th>4</th>\n",
       "      <td>22.474000</td>\n",
       "      <td>-2.000000</td>\n",
       "      <td>-0.024000</td>\n",
       "      <td>29.576000</td>\n",
       "      <td>-33.946333</td>\n",
       "      <td>-416.315333</td>\n",
       "      <td>-38.017000</td>\n",
       "      <td>-0.863333</td>\n",
       "      <td>-488.278333</td>\n",
       "      <td>1.778333</td>\n",
       "      <td>1.090933</td>\n",
       "      <td>-0.048000</td>\n",
       "      <td>0.232333</td>\n",
       "    </tr>\n",
       "  </tbody>\n",
       "</table>\n",
       "</div>"
      ],
      "text/plain": [
       "        SDNN      NN50     PNN50      RMSSD         VLF           LF  \\\n",
       "0   0.013000  3.000000  0.052333   4.031000  103.554000   184.618000   \n",
       "1 -10.302000  4.000000  0.066667   2.679000 -335.397667 -1035.652000   \n",
       "2  -6.370000  0.000000  0.000000  -0.883333   -9.966667   -36.395667   \n",
       "3   2.291667  0.333333  0.004000   0.361000   -9.414000    29.256667   \n",
       "4  22.474000 -2.000000 -0.024000  29.576000  -33.946333  -416.315333   \n",
       "\n",
       "           HF     LF/HF        POWER        HR      RESP        SC      TEMP  \n",
       "0   56.917333  0.183000   345.089000 -1.751333 -0.039000  0.217000  0.008000  \n",
       "1 -117.790667 -1.463000 -1488.840000 -3.499333 -0.183000  0.000333  0.033667  \n",
       "2    0.591667 -0.573000   -45.771000  0.824667  0.156333  0.031000 -0.006333  \n",
       "3   20.084333 -0.369000    39.926667  0.664667  0.459533 -0.097667  0.031000  \n",
       "4  -38.017000 -0.863333  -488.278333  1.778333  1.090933 -0.048000  0.232333  "
      ]
     },
     "execution_count": 88,
     "metadata": {},
     "output_type": "execute_result"
    }
   ],
   "source": [
    "hrv_r_b3_sub = hrv_r_rename - hrv_b3_rename\n",
    "hrv_r_b3_sub.head()"
   ]
  },
  {
   "cell_type": "code",
   "execution_count": null,
   "id": "e5b0fe1c-67a0-431b-a71f-e0b2a1c6e8f0",
   "metadata": {},
   "outputs": [],
   "source": []
  },
  {
   "cell_type": "code",
   "execution_count": null,
   "id": "c29fa1a7-3f00-4e82-a6e1-a5e9dbe4753c",
   "metadata": {},
   "outputs": [],
   "source": []
  },
  {
   "cell_type": "markdown",
   "id": "2a4c8d8b-3430-4a5b-8c97-476798a5f25d",
   "metadata": {},
   "source": [
    "### 5) Baseline 3 - Recovery phase"
   ]
  },
  {
   "cell_type": "code",
   "execution_count": 89,
   "id": "72e75782-6310-46e7-9508-2ac9dadad7c3",
   "metadata": {},
   "outputs": [
    {
     "data": {
      "text/html": [
       "<div>\n",
       "<style scoped>\n",
       "    .dataframe tbody tr th:only-of-type {\n",
       "        vertical-align: middle;\n",
       "    }\n",
       "\n",
       "    .dataframe tbody tr th {\n",
       "        vertical-align: top;\n",
       "    }\n",
       "\n",
       "    .dataframe thead th {\n",
       "        text-align: right;\n",
       "    }\n",
       "</style>\n",
       "<table border=\"1\" class=\"dataframe\">\n",
       "  <thead>\n",
       "    <tr style=\"text-align: right;\">\n",
       "      <th></th>\n",
       "      <th>SDNN</th>\n",
       "      <th>NN50</th>\n",
       "      <th>PNN50</th>\n",
       "      <th>RMSSD</th>\n",
       "      <th>VLF</th>\n",
       "      <th>LF</th>\n",
       "      <th>HF</th>\n",
       "      <th>LF/HF</th>\n",
       "      <th>POWER</th>\n",
       "      <th>HR</th>\n",
       "      <th>RESP</th>\n",
       "      <th>SC</th>\n",
       "      <th>TEMP</th>\n",
       "    </tr>\n",
       "  </thead>\n",
       "  <tbody>\n",
       "    <tr>\n",
       "      <th>0</th>\n",
       "      <td>12.304667</td>\n",
       "      <td>5.000000</td>\n",
       "      <td>0.082000</td>\n",
       "      <td>11.538000</td>\n",
       "      <td>-87.053000</td>\n",
       "      <td>22.708667</td>\n",
       "      <td>183.949333</td>\n",
       "      <td>-0.400667</td>\n",
       "      <td>119.605667</td>\n",
       "      <td>-2.086000</td>\n",
       "      <td>0.554000</td>\n",
       "      <td>-0.973000</td>\n",
       "      <td>0.049667</td>\n",
       "    </tr>\n",
       "    <tr>\n",
       "      <th>1</th>\n",
       "      <td>11.430000</td>\n",
       "      <td>0.000000</td>\n",
       "      <td>-0.000333</td>\n",
       "      <td>3.136000</td>\n",
       "      <td>344.203333</td>\n",
       "      <td>1457.863334</td>\n",
       "      <td>196.513333</td>\n",
       "      <td>2.423000</td>\n",
       "      <td>1998.580333</td>\n",
       "      <td>0.804333</td>\n",
       "      <td>-0.045667</td>\n",
       "      <td>-3.214333</td>\n",
       "      <td>-0.499667</td>\n",
       "    </tr>\n",
       "    <tr>\n",
       "      <th>2</th>\n",
       "      <td>5.140667</td>\n",
       "      <td>-0.333333</td>\n",
       "      <td>-0.003667</td>\n",
       "      <td>-6.298333</td>\n",
       "      <td>47.976667</td>\n",
       "      <td>35.215667</td>\n",
       "      <td>-2.485667</td>\n",
       "      <td>-0.249000</td>\n",
       "      <td>80.707333</td>\n",
       "      <td>0.584667</td>\n",
       "      <td>4.988667</td>\n",
       "      <td>-0.041000</td>\n",
       "      <td>0.039000</td>\n",
       "    </tr>\n",
       "    <tr>\n",
       "      <th>3</th>\n",
       "      <td>7.316333</td>\n",
       "      <td>0.666667</td>\n",
       "      <td>0.008000</td>\n",
       "      <td>1.034000</td>\n",
       "      <td>28.962333</td>\n",
       "      <td>110.159333</td>\n",
       "      <td>48.298000</td>\n",
       "      <td>-2.942667</td>\n",
       "      <td>187.419333</td>\n",
       "      <td>-2.421667</td>\n",
       "      <td>4.454000</td>\n",
       "      <td>0.009333</td>\n",
       "      <td>0.096667</td>\n",
       "    </tr>\n",
       "    <tr>\n",
       "      <th>4</th>\n",
       "      <td>-4.424000</td>\n",
       "      <td>-4.333333</td>\n",
       "      <td>-0.051333</td>\n",
       "      <td>3.227667</td>\n",
       "      <td>-66.960667</td>\n",
       "      <td>53.581000</td>\n",
       "      <td>-23.631000</td>\n",
       "      <td>0.085667</td>\n",
       "      <td>-37.011334</td>\n",
       "      <td>-1.356000</td>\n",
       "      <td>2.324333</td>\n",
       "      <td>-0.033333</td>\n",
       "      <td>-0.065667</td>\n",
       "    </tr>\n",
       "  </tbody>\n",
       "</table>\n",
       "</div>"
      ],
      "text/plain": [
       "        SDNN      NN50     PNN50      RMSSD         VLF           LF  \\\n",
       "0  12.304667  5.000000  0.082000  11.538000  -87.053000    22.708667   \n",
       "1  11.430000  0.000000 -0.000333   3.136000  344.203333  1457.863334   \n",
       "2   5.140667 -0.333333 -0.003667  -6.298333   47.976667    35.215667   \n",
       "3   7.316333  0.666667  0.008000   1.034000   28.962333   110.159333   \n",
       "4  -4.424000 -4.333333 -0.051333   3.227667  -66.960667    53.581000   \n",
       "\n",
       "           HF     LF/HF        POWER        HR      RESP        SC      TEMP  \n",
       "0  183.949333 -0.400667   119.605667 -2.086000  0.554000 -0.973000  0.049667  \n",
       "1  196.513333  2.423000  1998.580333  0.804333 -0.045667 -3.214333 -0.499667  \n",
       "2   -2.485667 -0.249000    80.707333  0.584667  4.988667 -0.041000  0.039000  \n",
       "3   48.298000 -2.942667   187.419333 -2.421667  4.454000  0.009333  0.096667  \n",
       "4  -23.631000  0.085667   -37.011334 -1.356000  2.324333 -0.033333 -0.065667  "
      ]
     },
     "execution_count": 89,
     "metadata": {},
     "output_type": "execute_result"
    }
   ],
   "source": [
    "hrv_b3_c_sub = hrv_b3_rename - hrv_c_rename\n",
    "hrv_b3_c_sub.head()"
   ]
  },
  {
   "cell_type": "code",
   "execution_count": null,
   "id": "07e98c99-e6d3-4c3b-bcf4-5abc19692e16",
   "metadata": {},
   "outputs": [],
   "source": []
  },
  {
   "cell_type": "code",
   "execution_count": null,
   "id": "074e178b-75db-4c36-b804-b910667dd848",
   "metadata": {},
   "outputs": [],
   "source": []
  },
  {
   "cell_type": "markdown",
   "id": "3a92554c-202b-4b81-a0e4-96117f8c4db2",
   "metadata": {},
   "source": [
    "### 6) Stress - Rest phase"
   ]
  },
  {
   "cell_type": "markdown",
   "id": "142631a8-4fc5-47ab-b950-4a3655bd0e48",
   "metadata": {},
   "source": [
    "* This is what SMC checks for the research"
   ]
  },
  {
   "cell_type": "code",
   "execution_count": 81,
   "id": "668cf1e4-7f05-417f-897b-8a7609c91a22",
   "metadata": {},
   "outputs": [
    {
     "data": {
      "text/html": [
       "<div>\n",
       "<style scoped>\n",
       "    .dataframe tbody tr th:only-of-type {\n",
       "        vertical-align: middle;\n",
       "    }\n",
       "\n",
       "    .dataframe tbody tr th {\n",
       "        vertical-align: top;\n",
       "    }\n",
       "\n",
       "    .dataframe thead th {\n",
       "        text-align: right;\n",
       "    }\n",
       "</style>\n",
       "<table border=\"1\" class=\"dataframe\">\n",
       "  <thead>\n",
       "    <tr style=\"text-align: right;\">\n",
       "      <th></th>\n",
       "      <th>SDNN</th>\n",
       "      <th>NN50</th>\n",
       "      <th>PNN50</th>\n",
       "      <th>RMSSD</th>\n",
       "      <th>VLF</th>\n",
       "      <th>LF</th>\n",
       "      <th>HF</th>\n",
       "      <th>LF/HF</th>\n",
       "      <th>POWER</th>\n",
       "      <th>HR</th>\n",
       "      <th>RESP</th>\n",
       "      <th>SC</th>\n",
       "      <th>TEMP</th>\n",
       "    </tr>\n",
       "  </thead>\n",
       "  <tbody>\n",
       "    <tr>\n",
       "      <th>0</th>\n",
       "      <td>-0.964667</td>\n",
       "      <td>-6.333333</td>\n",
       "      <td>-0.108667</td>\n",
       "      <td>-11.627000</td>\n",
       "      <td>-103.696000</td>\n",
       "      <td>-126.545667</td>\n",
       "      <td>-317.625000</td>\n",
       "      <td>1.864000</td>\n",
       "      <td>-547.867000</td>\n",
       "      <td>3.615000</td>\n",
       "      <td>-1.432667</td>\n",
       "      <td>2.514000</td>\n",
       "      <td>-1.373333</td>\n",
       "    </tr>\n",
       "    <tr>\n",
       "      <th>1</th>\n",
       "      <td>17.599667</td>\n",
       "      <td>-2.000000</td>\n",
       "      <td>-0.041667</td>\n",
       "      <td>25.196333</td>\n",
       "      <td>322.913667</td>\n",
       "      <td>807.783000</td>\n",
       "      <td>1108.688667</td>\n",
       "      <td>0.441000</td>\n",
       "      <td>2239.384667</td>\n",
       "      <td>6.512333</td>\n",
       "      <td>0.060000</td>\n",
       "      <td>7.035000</td>\n",
       "      <td>-0.068667</td>\n",
       "    </tr>\n",
       "    <tr>\n",
       "      <th>2</th>\n",
       "      <td>5.514333</td>\n",
       "      <td>0.000000</td>\n",
       "      <td>0.000000</td>\n",
       "      <td>3.957667</td>\n",
       "      <td>-5.121000</td>\n",
       "      <td>69.116000</td>\n",
       "      <td>38.783000</td>\n",
       "      <td>-0.110333</td>\n",
       "      <td>102.778000</td>\n",
       "      <td>0.892333</td>\n",
       "      <td>-1.373000</td>\n",
       "      <td>0.190333</td>\n",
       "      <td>0.069000</td>\n",
       "    </tr>\n",
       "    <tr>\n",
       "      <th>3</th>\n",
       "      <td>-15.830000</td>\n",
       "      <td>-1.000000</td>\n",
       "      <td>-0.012000</td>\n",
       "      <td>-9.176667</td>\n",
       "      <td>-41.338000</td>\n",
       "      <td>-183.361000</td>\n",
       "      <td>-64.218333</td>\n",
       "      <td>-0.603000</td>\n",
       "      <td>-288.917333</td>\n",
       "      <td>6.741000</td>\n",
       "      <td>-3.532200</td>\n",
       "      <td>-0.045333</td>\n",
       "      <td>-0.042000</td>\n",
       "    </tr>\n",
       "    <tr>\n",
       "      <th>4</th>\n",
       "      <td>-35.802333</td>\n",
       "      <td>0.333333</td>\n",
       "      <td>0.002000</td>\n",
       "      <td>-63.449000</td>\n",
       "      <td>-53.549667</td>\n",
       "      <td>112.173000</td>\n",
       "      <td>-240.828333</td>\n",
       "      <td>0.615000</td>\n",
       "      <td>-182.205000</td>\n",
       "      <td>4.521000</td>\n",
       "      <td>-3.886933</td>\n",
       "      <td>-0.031667</td>\n",
       "      <td>-0.082667</td>\n",
       "    </tr>\n",
       "  </tbody>\n",
       "</table>\n",
       "</div>"
      ],
      "text/plain": [
       "        SDNN      NN50     PNN50      RMSSD         VLF          LF  \\\n",
       "0  -0.964667 -6.333333 -0.108667 -11.627000 -103.696000 -126.545667   \n",
       "1  17.599667 -2.000000 -0.041667  25.196333  322.913667  807.783000   \n",
       "2   5.514333  0.000000  0.000000   3.957667   -5.121000   69.116000   \n",
       "3 -15.830000 -1.000000 -0.012000  -9.176667  -41.338000 -183.361000   \n",
       "4 -35.802333  0.333333  0.002000 -63.449000  -53.549667  112.173000   \n",
       "\n",
       "            HF     LF/HF        POWER        HR      RESP        SC      TEMP  \n",
       "0  -317.625000  1.864000  -547.867000  3.615000 -1.432667  2.514000 -1.373333  \n",
       "1  1108.688667  0.441000  2239.384667  6.512333  0.060000  7.035000 -0.068667  \n",
       "2    38.783000 -0.110333   102.778000  0.892333 -1.373000  0.190333  0.069000  \n",
       "3   -64.218333 -0.603000  -288.917333  6.741000 -3.532200 -0.045333 -0.042000  \n",
       "4  -240.828333  0.615000  -182.205000  4.521000 -3.886933 -0.031667 -0.082667  "
      ]
     },
     "execution_count": 81,
     "metadata": {},
     "output_type": "execute_result"
    }
   ],
   "source": [
    "hrv_s_r_sub = hrv_s_rename - hrv_r_rename\n",
    "hrv_s_r_sub.head()"
   ]
  },
  {
   "cell_type": "code",
   "execution_count": null,
   "id": "a547d5a9-46e5-4a68-80d0-d9fbe2015614",
   "metadata": {},
   "outputs": [],
   "source": []
  },
  {
   "cell_type": "markdown",
   "id": "b24aff0e-ec59-4ebf-a97e-93842801bf8f",
   "metadata": {},
   "source": [
    "- - -"
   ]
  },
  {
   "cell_type": "markdown",
   "id": "a23b1357-253a-449b-abbc-7455fd193d48",
   "metadata": {},
   "source": [
    "## Data Selection"
   ]
  },
  {
   "cell_type": "code",
   "execution_count": 99,
   "id": "2291ef38-e933-420a-8810-38cf7423cfd7",
   "metadata": {},
   "outputs": [],
   "source": [
    "hrv_data = pd.concat([hrv_s_r_sub, hrv_disorder], axis=1)"
   ]
  },
  {
   "cell_type": "code",
   "execution_count": 214,
   "id": "02303895-5138-44f1-8162-f3096451d775",
   "metadata": {},
   "outputs": [],
   "source": [
    "X = hrv_s_r_sub\n",
    "Y = hrv_disorder"
   ]
  },
  {
   "cell_type": "code",
   "execution_count": null,
   "id": "7aa4d397-5a6d-4861-8d65-028808cd4ebd",
   "metadata": {},
   "outputs": [],
   "source": []
  },
  {
   "cell_type": "code",
   "execution_count": null,
   "id": "50ff9723-818d-4535-95ae-ce7288baa0cd",
   "metadata": {},
   "outputs": [],
   "source": []
  },
  {
   "cell_type": "code",
   "execution_count": null,
   "id": "b5a68736-1212-47fb-81a3-1c9df68781ce",
   "metadata": {},
   "outputs": [],
   "source": []
  },
  {
   "cell_type": "markdown",
   "id": "62142bbe-f5d7-4c2c-bcd3-23386002aa6e",
   "metadata": {},
   "source": [
    "- - -"
   ]
  },
  {
   "cell_type": "markdown",
   "id": "ad9170f5-1c38-4105-b63f-d2d3aed26da7",
   "metadata": {},
   "source": [
    "# Data Analysis"
   ]
  },
  {
   "cell_type": "markdown",
   "id": "8f315e61-ba7d-454e-9d16-1ac020718772",
   "metadata": {},
   "source": [
    "## Train-Test Split"
   ]
  },
  {
   "cell_type": "code",
   "execution_count": 163,
   "id": "7f965837-5694-419f-9fee-a3040129eab7",
   "metadata": {},
   "outputs": [
    {
     "data": {
      "text/plain": [
       "Index(['SDNN', 'NN50', 'PNN50', 'RMSSD', 'VLF', 'LF', 'HF', 'LF/HF', 'POWER',\n",
       "       'HR', 'RESP', 'SC', 'TEMP'],\n",
       "      dtype='object')"
      ]
     },
     "execution_count": 163,
     "metadata": {},
     "output_type": "execute_result"
    }
   ],
   "source": [
    "X.columns"
   ]
  },
  {
   "cell_type": "code",
   "execution_count": 129,
   "id": "cbef7b96-ca60-40d3-a7ae-aefb8324f5b1",
   "metadata": {},
   "outputs": [],
   "source": [
    "X = X[[\"PNN50\", \"VLF\",\"LF\",\"HF\",\"LF/HF\"]]"
   ]
  },
  {
   "cell_type": "code",
   "execution_count": 216,
   "id": "66d91604-9dc2-4951-843b-8dafb790f758",
   "metadata": {},
   "outputs": [],
   "source": [
    "X = X.drop(columns=['POWER'])"
   ]
  },
  {
   "cell_type": "code",
   "execution_count": null,
   "id": "843c5d6e-7baa-42ae-a8b3-af922139e450",
   "metadata": {},
   "outputs": [],
   "source": []
  },
  {
   "cell_type": "code",
   "execution_count": 217,
   "id": "fabbe65b-a459-43ac-92b2-1d1c1e374159",
   "metadata": {},
   "outputs": [],
   "source": [
    "## Split X and Y into training dataset and test dataset\n",
    "x_train, x_test, y_train, y_test = train_test_split(X, Y, test_size = 0.2, random_state = 42)"
   ]
  },
  {
   "cell_type": "code",
   "execution_count": 218,
   "id": "2ecc0d6e-9532-4331-8311-51fdf6e94536",
   "metadata": {},
   "outputs": [
    {
     "name": "stdout",
     "output_type": "stream",
     "text": [
      "x_train dataset shape is (383, 12)\n",
      "y_train dataset shape is (383, 1)\n",
      "x_test dataset shape is (96, 12)\n",
      "y_test dataset shape is (96, 1)\n"
     ]
    }
   ],
   "source": [
    "print(\"x_train dataset shape is\", x_train.shape)\n",
    "print(\"y_train dataset shape is\", y_train.shape)\n",
    "\n",
    "print(\"x_test dataset shape is\", x_test.shape)\n",
    "print(\"y_test dataset shape is\", y_test.shape)"
   ]
  },
  {
   "cell_type": "code",
   "execution_count": null,
   "id": "b98a4a43-b854-4b8f-b400-f7177cfce465",
   "metadata": {},
   "outputs": [],
   "source": []
  },
  {
   "cell_type": "code",
   "execution_count": null,
   "id": "c59c827c-c73a-4934-84da-3af4fe8c4d40",
   "metadata": {},
   "outputs": [],
   "source": []
  },
  {
   "cell_type": "code",
   "execution_count": null,
   "id": "a15e9e97-052a-4d93-ab12-9f88996a6d44",
   "metadata": {},
   "outputs": [],
   "source": []
  },
  {
   "cell_type": "markdown",
   "id": "6795e6ea-4fe6-44f2-bb78-14c4e825a6c6",
   "metadata": {},
   "source": [
    "## Regression"
   ]
  },
  {
   "cell_type": "code",
   "execution_count": 185,
   "id": "ef019a5c-5db9-4037-ad4d-5676c42394b3",
   "metadata": {},
   "outputs": [
    {
     "data": {
      "text/plain": [
       "LogisticRegression(max_iter=4000)"
      ]
     },
     "execution_count": 185,
     "metadata": {},
     "output_type": "execute_result"
    }
   ],
   "source": [
    "logistic_reg = LogisticRegression(solver='lbfgs', max_iter = 4000)\n",
    "logistic_reg.fit(x_train, y_train.values.ravel())"
   ]
  },
  {
   "cell_type": "code",
   "execution_count": 188,
   "id": "e061d059-8ca5-4840-ab29-099a2a4de488",
   "metadata": {},
   "outputs": [],
   "source": [
    "predictions = logistic_reg.predict(x_test)"
   ]
  },
  {
   "cell_type": "code",
   "execution_count": 189,
   "id": "86efdff9-a4a1-4135-9288-1c8c75cc1e3c",
   "metadata": {},
   "outputs": [
    {
     "name": "stdout",
     "output_type": "stream",
     "text": [
      "[[ 5  1 19]\n",
      " [ 5  8 26]\n",
      " [ 5  3 24]]\n"
     ]
    }
   ],
   "source": [
    "print(confusion_matrix(y_test,predictions))"
   ]
  },
  {
   "cell_type": "code",
   "execution_count": null,
   "id": "c8ca54ea-18b2-4f63-b945-30f1493f0008",
   "metadata": {},
   "outputs": [],
   "source": []
  },
  {
   "cell_type": "markdown",
   "id": "736bf1d5-e205-490b-b0ba-0c2cc409b124",
   "metadata": {},
   "source": [
    "## Decision Tree"
   ]
  },
  {
   "cell_type": "code",
   "execution_count": 191,
   "id": "3531ce01-d683-4f8d-870c-a05cbffea806",
   "metadata": {},
   "outputs": [
    {
     "data": {
      "text/plain": [
       "DecisionTreeClassifier()"
      ]
     },
     "execution_count": 191,
     "metadata": {},
     "output_type": "execute_result"
    }
   ],
   "source": [
    "### dt_model=DecisionTreeClassifier()\n",
    "dt_model.fit(x_train, y_train)"
   ]
  },
  {
   "cell_type": "code",
   "execution_count": 192,
   "id": "81a22415-8d85-453a-ab31-e4008ee33564",
   "metadata": {},
   "outputs": [],
   "source": [
    "dt_pred = dt_model.predict(x_test)"
   ]
  },
  {
   "cell_type": "code",
   "execution_count": 193,
   "id": "776835b9-a243-4b30-90d4-81adee062717",
   "metadata": {},
   "outputs": [
    {
     "name": "stdout",
     "output_type": "stream",
     "text": [
      "[[12  2 11]\n",
      " [11  9 19]\n",
      " [ 6  5 21]]\n"
     ]
    }
   ],
   "source": [
    "print(confusion_matrix(y_test,dt_pred))"
   ]
  },
  {
   "cell_type": "code",
   "execution_count": 194,
   "id": "0706e83e-32fe-4c94-9674-42304cb2f51f",
   "metadata": {},
   "outputs": [
    {
     "name": "stdout",
     "output_type": "stream",
     "text": [
      "              precision    recall  f1-score   support\n",
      "\n",
      "           1       0.41      0.48      0.44        25\n",
      "           2       0.56      0.23      0.33        39\n",
      "           3       0.41      0.66      0.51        32\n",
      "\n",
      "    accuracy                           0.44        96\n",
      "   macro avg       0.46      0.46      0.43        96\n",
      "weighted avg       0.47      0.44      0.42        96\n",
      "\n"
     ]
    }
   ],
   "source": [
    "print(classification_report(y_test,dt_pred))"
   ]
  },
  {
   "cell_type": "code",
   "execution_count": null,
   "id": "3f0e09ba-65da-45cd-af60-f095a9dd04f9",
   "metadata": {},
   "outputs": [],
   "source": []
  },
  {
   "cell_type": "code",
   "execution_count": null,
   "id": "2f1f87b5-3064-4f91-9ae2-6cc82deef09b",
   "metadata": {},
   "outputs": [],
   "source": []
  },
  {
   "cell_type": "markdown",
   "id": "ffbc3f79-3f12-4188-b4d1-79358136124e",
   "metadata": {},
   "source": [
    "## Random Forest Classification"
   ]
  },
  {
   "cell_type": "code",
   "execution_count": 197,
   "id": "4bddfbf0-2eb9-4242-9aea-9101ace007c8",
   "metadata": {},
   "outputs": [
    {
     "data": {
      "text/plain": [
       "RandomForestClassifier(n_estimators=500)"
      ]
     },
     "execution_count": 197,
     "metadata": {},
     "output_type": "execute_result"
    }
   ],
   "source": [
    "rf= RandomForestClassifier(n_estimators=500)\n",
    "rf.fit(x_train, y_train.values.ravel())"
   ]
  },
  {
   "cell_type": "code",
   "execution_count": 198,
   "id": "883b1dce-77e2-41e6-9377-77b11f83d691",
   "metadata": {},
   "outputs": [],
   "source": [
    "rf_pre=rf.predict(x_test)"
   ]
  },
  {
   "cell_type": "code",
   "execution_count": 199,
   "id": "8b73d1a3-6948-4036-b41e-546b20949fb8",
   "metadata": {},
   "outputs": [
    {
     "name": "stdout",
     "output_type": "stream",
     "text": [
      "[[ 9  4 12]\n",
      " [ 8  7 24]\n",
      " [ 4  7 21]]\n"
     ]
    }
   ],
   "source": [
    "print(confusion_matrix(y_test, rf_pre))"
   ]
  },
  {
   "cell_type": "code",
   "execution_count": 200,
   "id": "cf00cfe5-a377-477a-8349-2c2529128304",
   "metadata": {},
   "outputs": [
    {
     "name": "stdout",
     "output_type": "stream",
     "text": [
      "              precision    recall  f1-score   support\n",
      "\n",
      "           1       0.43      0.36      0.39        25\n",
      "           2       0.39      0.18      0.25        39\n",
      "           3       0.37      0.66      0.47        32\n",
      "\n",
      "    accuracy                           0.39        96\n",
      "   macro avg       0.40      0.40      0.37        96\n",
      "weighted avg       0.39      0.39      0.36        96\n",
      "\n"
     ]
    }
   ],
   "source": [
    "print(classification_report(y_test, rf_pre))"
   ]
  },
  {
   "cell_type": "code",
   "execution_count": null,
   "id": "f217e23e-b0de-4b08-b35a-910184e199b5",
   "metadata": {},
   "outputs": [],
   "source": []
  },
  {
   "cell_type": "code",
   "execution_count": null,
   "id": "254f84f4-b1d2-4d00-8b15-7d745b19977b",
   "metadata": {},
   "outputs": [],
   "source": []
  },
  {
   "cell_type": "markdown",
   "id": "ad19e5fc-0143-4787-be0f-d435f9471292",
   "metadata": {},
   "source": [
    "## XGBoosts Classifier"
   ]
  },
  {
   "cell_type": "code",
   "execution_count": 219,
   "id": "298965e5-2dd7-4849-a5ee-a757387931ee",
   "metadata": {},
   "outputs": [
    {
     "name": "stdout",
     "output_type": "stream",
     "text": [
      "[13:32:45] WARNING: D:\\bld\\xgboost-split_1645118015404\\work\\src\\learner.cc:1115: Starting in XGBoost 1.3.0, the default evaluation metric used with the objective 'multi:softprob' was changed from 'merror' to 'mlogloss'. Explicitly set eval_metric if you'd like to restore the old behavior.\n"
     ]
    },
    {
     "data": {
      "text/plain": [
       "XGBClassifier(base_score=0.5, booster='gbtree', colsample_bylevel=1,\n",
       "              colsample_bynode=1, colsample_bytree=1, enable_categorical=False,\n",
       "              gamma=0, gpu_id=-1, importance_type=None,\n",
       "              interaction_constraints='', learning_rate=0.300000012,\n",
       "              max_delta_step=0, max_depth=6, min_child_weight=1, missing=nan,\n",
       "              monotone_constraints='()', n_estimators=1000, n_jobs=16,\n",
       "              num_parallel_tree=1, objective='multi:softprob', predictor='auto',\n",
       "              random_state=0, reg_alpha=0, reg_lambda=1, scale_pos_weight=None,\n",
       "              subsample=1, tree_method='exact', validate_parameters=1,\n",
       "              verbosity=None)"
      ]
     },
     "execution_count": 219,
     "metadata": {},
     "output_type": "execute_result"
    }
   ],
   "source": [
    "xgboost = XGBClassifier(n_estimators=1000)\n",
    "xgboost.fit(x_train, y_train)"
   ]
  },
  {
   "cell_type": "code",
   "execution_count": 222,
   "id": "d45feadb-fdea-4c0a-a522-ec4009dfdaf5",
   "metadata": {},
   "outputs": [],
   "source": [
    "xg_pred = xgboost.predict(x_test)"
   ]
  },
  {
   "cell_type": "code",
   "execution_count": 224,
   "id": "8ce5a47a-ca31-40db-babb-f9c9ddd7998b",
   "metadata": {},
   "outputs": [
    {
     "name": "stdout",
     "output_type": "stream",
     "text": [
      "[[ 9  5 11]\n",
      " [ 8 11 20]\n",
      " [ 7  6 19]]\n"
     ]
    }
   ],
   "source": [
    "print(confusion_matrix(y_test, xg_pred))"
   ]
  },
  {
   "cell_type": "code",
   "execution_count": 223,
   "id": "56e3fc4b-2344-47fa-bbd7-c8875f4eed79",
   "metadata": {},
   "outputs": [
    {
     "name": "stdout",
     "output_type": "stream",
     "text": [
      "              precision    recall  f1-score   support\n",
      "\n",
      "           0       0.38      0.36      0.37        25\n",
      "           1       0.50      0.28      0.36        39\n",
      "           2       0.38      0.59      0.46        32\n",
      "\n",
      "    accuracy                           0.41        96\n",
      "   macro avg       0.42      0.41      0.40        96\n",
      "weighted avg       0.43      0.41      0.40        96\n",
      "\n"
     ]
    }
   ],
   "source": [
    "print(classification_report(y_test, xg_pred))"
   ]
  },
  {
   "cell_type": "code",
   "execution_count": null,
   "id": "50aa2b3a-7cd6-4e98-ba38-4a214fa0ac9f",
   "metadata": {},
   "outputs": [],
   "source": []
  },
  {
   "cell_type": "code",
   "execution_count": null,
   "id": "4a8c6f49-b407-49b2-ae79-003c73dbc3ef",
   "metadata": {},
   "outputs": [],
   "source": []
  },
  {
   "cell_type": "code",
   "execution_count": null,
   "id": "e46cd02e-c52b-4679-ab7d-54bc34d9d0d9",
   "metadata": {},
   "outputs": [],
   "source": []
  },
  {
   "cell_type": "markdown",
   "id": "97d16dea-a4ab-4bc7-9c7e-3c1a69dfc1ac",
   "metadata": {},
   "source": [
    "## Multi-Layer Perceptron"
   ]
  },
  {
   "cell_type": "code",
   "execution_count": null,
   "id": "338a9c99-b3b0-406c-ba98-99eeb1dff339",
   "metadata": {},
   "outputs": [],
   "source": []
  },
  {
   "cell_type": "code",
   "execution_count": null,
   "id": "79dc468b-4b75-4354-962d-fdb8aee5bf83",
   "metadata": {},
   "outputs": [],
   "source": []
  },
  {
   "cell_type": "code",
   "execution_count": null,
   "id": "7cc4781c-68d3-4992-a263-213572165143",
   "metadata": {},
   "outputs": [],
   "source": []
  },
  {
   "cell_type": "code",
   "execution_count": null,
   "id": "927e3a8d-6cce-40e6-99e9-23a4faa57036",
   "metadata": {},
   "outputs": [],
   "source": []
  },
  {
   "cell_type": "code",
   "execution_count": null,
   "id": "5918eb07-16ac-4eef-8431-f14a2c8b7641",
   "metadata": {},
   "outputs": [],
   "source": []
  }
 ],
 "metadata": {
  "kernelspec": {
   "display_name": "Python 3",
   "language": "python",
   "name": "python3"
  },
  "language_info": {
   "codemirror_mode": {
    "name": "ipython",
    "version": 3
   },
   "file_extension": ".py",
   "mimetype": "text/x-python",
   "name": "python",
   "nbconvert_exporter": "python",
   "pygments_lexer": "ipython3",
   "version": "3.8.10"
  }
 },
 "nbformat": 4,
 "nbformat_minor": 5
}
