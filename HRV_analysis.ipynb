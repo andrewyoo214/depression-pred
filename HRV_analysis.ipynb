{
 "cells": [
  {
   "cell_type": "markdown",
   "id": "9c1d493f-d163-4701-992a-6bd8340bdac5",
   "metadata": {},
   "source": [
    "# Major Depressive Disorder Diagnosis"
   ]
  },
  {
   "cell_type": "markdown",
   "id": "4bf94dd5-7a74-4448-a39a-7df8056a1fda",
   "metadata": {},
   "source": [
    " - - -"
   ]
  },
  {
   "cell_type": "markdown",
   "id": "de953dae-79e0-417d-9028-9befb8bee163",
   "metadata": {},
   "source": [
    "## Previous Research Summary"
   ]
  },
  {
   "cell_type": "markdown",
   "id": "64e2e343-d70f-4e14-a940-df9b349284aa",
   "metadata": {},
   "source": [
    "Title: \"Heart rate variability for treatment response between patients with major depressive disorder versus panic disorder: A 12-week follow-up study\" (K.W. Choi et al.)\n",
    "> Hypothesis #1: Patients with MDD and PD showed differenct HRV profiles compared to healthy controls. \\\n",
    "> Hypothesis #2: It is possible to predict the responder groups in the MDD and PD patients, using differences in HRV indicies between the stress and rest phases. \\\n",
    "> Methods: 28 MDD patients, 29 PD patients, 39 healthy control subjects - for 12 weeks follow-up. \\\n",
    "> Results: \n",
    ">> pNN50 --- Patients with MDD and PD demonstrated lower pNN50. \\\n",
    ">> LF/HF ratio --- Patients with MDD and PD showed higher LF/HF ratio than control during 'stress' phase. \\\n",
    ">> LF/HF ratio --- Responders in the PD group showed lower LF/HF ratio during 'stress' phase compared to non-responders. \\\n",
    ">> Heart Rate --- Responders in the MDD group showed lower heart rate during 'all three' phases compared to non-responders. \\\n",
    ">> LF/HF ratio and pNN50 --- Possible to predict treatment response in patients with MDD using LF/HF ratio and pNN50. \\"
   ]
  },
  {
   "cell_type": "markdown",
   "id": "cde9c9a3-8cc2-4e13-9058-cbc42b268807",
   "metadata": {},
   "source": [
    "> Variables(time-domain): \\\n",
    ">> SDNN (Standard deviation of average normal-normal intervals) -- sympathetic and parasympathetic activities. \\\n",
    ">> RMSSD (Root mean square of successive differences) -- parasympathetic modulation. \\\n",
    ">> pNN50 -- parasympathetic modulation. \\"
   ]
  },
  {
   "cell_type": "markdown",
   "id": "13b8f266-1797-4e3f-a8e9-fcd09edbd71d",
   "metadata": {},
   "source": [
    "> Variables(frequency-domain): \\\n",
    ">> LF (low frequency, 0.04 ~ 0.15 Hz) -- modulated by sympathetic and parasympathetic activities. \\\n",
    ">> HF (high frequency, 0.15 ~ 0.4 Hz) -- modulated by parasympathetic activities. \\\n",
    ">> LF/HF ratio -- ratio of LF and HF -- measures balance between sympathetic and parasympathetic activities. \\"
   ]
  },
  {
   "cell_type": "code",
   "execution_count": null,
   "id": "a70fc6e7-b8be-4683-8a41-a20ecdbd011f",
   "metadata": {},
   "outputs": [],
   "source": []
  },
  {
   "cell_type": "markdown",
   "id": "0f2c32e7-8ab6-4122-87c1-cb019d61a23c",
   "metadata": {},
   "source": [
    "- - -"
   ]
  },
  {
   "cell_type": "code",
   "execution_count": 1,
   "id": "5b1bf08b-872d-42ad-b6d2-ce8bd6c6225f",
   "metadata": {},
   "outputs": [],
   "source": [
    "import os\n",
    "import time\n",
    "import random\n",
    "import pandas as pd\n",
    "import numpy as np\n",
    "import matplotlib.pyplot as plt\n",
    "import seaborn as sns\n",
    "\n",
    "import torch\n",
    "import torchvision\n",
    "import torch.nn as nn"
   ]
  },
  {
   "cell_type": "code",
   "execution_count": 2,
   "id": "c5471670-ce8b-474e-bc05-0e5b42f6d71a",
   "metadata": {},
   "outputs": [],
   "source": [
    "from sklearn.model_selection import train_test_split\n",
    "from sklearn.linear_model import LogisticRegression\n",
    "from sklearn.metrics import classification_report,confusion_matrix\n",
    "from sklearn.tree import DecisionTreeClassifier\n",
    "from sklearn.ensemble import RandomForestClassifier\n",
    "from sklearn.preprocessing import MinMaxScaler\n",
    "from xgboost import XGBClassifier\n",
    "\n",
    "from torch.nn import functional as F\n",
    "from torch.autograd import Variable\n",
    "from torch.utils.data import Dataset, TensorDataset"
   ]
  },
  {
   "cell_type": "code",
   "execution_count": 3,
   "id": "37b5e4b2-e635-4618-8e85-1c316fe67b90",
   "metadata": {},
   "outputs": [
    {
     "name": "stdout",
     "output_type": "stream",
     "text": [
      "PyTorch Version:  1.7.1\n",
      "Torchvision Version:  0.8.2\n"
     ]
    }
   ],
   "source": [
    "print(\"PyTorch Version: \",torch.__version__)\n",
    "print(\"Torchvision Version: \",torchvision.__version__)"
   ]
  },
  {
   "cell_type": "code",
   "execution_count": null,
   "id": "8a8a0ae8-cb1d-4676-811a-d8bc99366bc0",
   "metadata": {},
   "outputs": [],
   "source": []
  },
  {
   "cell_type": "code",
   "execution_count": 4,
   "id": "df21af29-496d-4c39-9c06-8c7591043367",
   "metadata": {},
   "outputs": [
    {
     "data": {
      "text/plain": [
       "<torch._C.Generator at 0x1c2eeebfb50>"
      ]
     },
     "execution_count": 4,
     "metadata": {},
     "output_type": "execute_result"
    }
   ],
   "source": [
    "class Args:\n",
    "    # arugments\n",
    "    epochs=50\n",
    "    bs=16\n",
    "    lr=0.001\n",
    "    momentum=0.9\n",
    "    num_classes=3\n",
    "    verbose='store_true'\n",
    "    seed=674\n",
    "\n",
    "args = Args()    \n",
    "\n",
    "np.random.seed(args.seed)\n",
    "random.seed(args.seed)\n",
    "torch.manual_seed(args.seed)"
   ]
  },
  {
   "cell_type": "code",
   "execution_count": 5,
   "id": "681e45c9-6294-4ca2-a735-24c9b9de10ea",
   "metadata": {},
   "outputs": [
    {
     "name": "stdout",
     "output_type": "stream",
     "text": [
      "Using PyTorch version: 1.7.1  Device:  cuda\n"
     ]
    }
   ],
   "source": [
    "#Setting torch environment\n",
    "\n",
    "if torch.cuda.is_available():\n",
    "    DEVICE = torch.device('cuda')\n",
    "else:\n",
    "    DEVICE = torch.device('cpu')\n",
    "    \n",
    "print('Using PyTorch version:', torch.__version__, ' Device: ', DEVICE)"
   ]
  },
  {
   "cell_type": "code",
   "execution_count": null,
   "id": "61fd42ca-1275-4028-948a-c3eea66ae59e",
   "metadata": {},
   "outputs": [],
   "source": []
  },
  {
   "cell_type": "code",
   "execution_count": null,
   "id": "1788e659-d1a2-4d45-85c7-7a95d2f8d01f",
   "metadata": {},
   "outputs": [],
   "source": []
  },
  {
   "cell_type": "code",
   "execution_count": null,
   "id": "3f055e64-ca34-4657-8360-a0259cb69906",
   "metadata": {},
   "outputs": [],
   "source": []
  },
  {
   "cell_type": "markdown",
   "id": "e566e357-512b-4061-9062-bd66a306c61e",
   "metadata": {},
   "source": [
    "- - -"
   ]
  },
  {
   "cell_type": "markdown",
   "id": "a8dc1558-6521-4c2f-a5e9-5e6688ea1155",
   "metadata": {},
   "source": [
    "# Data Handling"
   ]
  },
  {
   "cell_type": "code",
   "execution_count": null,
   "id": "1bda56ee-9a9f-440c-961b-2420c6953bb6",
   "metadata": {},
   "outputs": [],
   "source": []
  },
  {
   "cell_type": "markdown",
   "id": "9d252d9f-ea2a-48e9-867b-228f125f4afa",
   "metadata": {},
   "source": [
    "## Dataset check"
   ]
  },
  {
   "cell_type": "code",
   "execution_count": 6,
   "id": "4d74f513-96e5-4e66-a34d-3e15732b38ac",
   "metadata": {},
   "outputs": [
    {
     "data": {
      "text/html": [
       "<div>\n",
       "<style scoped>\n",
       "    .dataframe tbody tr th:only-of-type {\n",
       "        vertical-align: middle;\n",
       "    }\n",
       "\n",
       "    .dataframe tbody tr th {\n",
       "        vertical-align: top;\n",
       "    }\n",
       "\n",
       "    .dataframe thead th {\n",
       "        text-align: right;\n",
       "    }\n",
       "</style>\n",
       "<table border=\"1\" class=\"dataframe\">\n",
       "  <thead>\n",
       "    <tr style=\"text-align: right;\">\n",
       "      <th></th>\n",
       "      <th>sub</th>\n",
       "      <th>VISIT</th>\n",
       "      <th>disorder</th>\n",
       "      <th>age</th>\n",
       "      <th>gender</th>\n",
       "      <th>HAMD</th>\n",
       "      <th>HAMA</th>\n",
       "      <th>PDSS</th>\n",
       "      <th>ASI</th>\n",
       "      <th>APPQ</th>\n",
       "      <th>...</th>\n",
       "      <th>cRMSSD</th>\n",
       "      <th>cVLF</th>\n",
       "      <th>cLF</th>\n",
       "      <th>cHF</th>\n",
       "      <th>cLF/HF</th>\n",
       "      <th>cPOWER</th>\n",
       "      <th>cHR</th>\n",
       "      <th>cRESP</th>\n",
       "      <th>cSC</th>\n",
       "      <th>cTEMP</th>\n",
       "    </tr>\n",
       "  </thead>\n",
       "  <tbody>\n",
       "    <tr>\n",
       "      <th>0</th>\n",
       "      <td>E001</td>\n",
       "      <td>4</td>\n",
       "      <td>2</td>\n",
       "      <td>23</td>\n",
       "      <td>1</td>\n",
       "      <td>2</td>\n",
       "      <td>2</td>\n",
       "      <td>1</td>\n",
       "      <td>12</td>\n",
       "      <td>22</td>\n",
       "      <td>...</td>\n",
       "      <td>41.544667</td>\n",
       "      <td>190.107000</td>\n",
       "      <td>298.508333</td>\n",
       "      <td>206.862333</td>\n",
       "      <td>1.284000</td>\n",
       "      <td>695.477333</td>\n",
       "      <td>65.707000</td>\n",
       "      <td>14.054333</td>\n",
       "      <td>3.911333</td>\n",
       "      <td>34.998000</td>\n",
       "    </tr>\n",
       "    <tr>\n",
       "      <th>1</th>\n",
       "      <td>E001</td>\n",
       "      <td>5</td>\n",
       "      <td>2</td>\n",
       "      <td>23</td>\n",
       "      <td>1</td>\n",
       "      <td>12</td>\n",
       "      <td>7</td>\n",
       "      <td>0</td>\n",
       "      <td>12</td>\n",
       "      <td>24</td>\n",
       "      <td>...</td>\n",
       "      <td>39.825333</td>\n",
       "      <td>143.756667</td>\n",
       "      <td>115.695333</td>\n",
       "      <td>202.602667</td>\n",
       "      <td>0.585000</td>\n",
       "      <td>462.054667</td>\n",
       "      <td>69.040000</td>\n",
       "      <td>14.117333</td>\n",
       "      <td>6.255000</td>\n",
       "      <td>35.544333</td>\n",
       "    </tr>\n",
       "    <tr>\n",
       "      <th>2</th>\n",
       "      <td>E002</td>\n",
       "      <td>1</td>\n",
       "      <td>2</td>\n",
       "      <td>38</td>\n",
       "      <td>1</td>\n",
       "      <td>14</td>\n",
       "      <td>17</td>\n",
       "      <td>14</td>\n",
       "      <td>31</td>\n",
       "      <td>122</td>\n",
       "      <td>...</td>\n",
       "      <td>20.052000</td>\n",
       "      <td>22.006000</td>\n",
       "      <td>50.182000</td>\n",
       "      <td>32.529333</td>\n",
       "      <td>2.499333</td>\n",
       "      <td>104.717000</td>\n",
       "      <td>92.789333</td>\n",
       "      <td>11.013333</td>\n",
       "      <td>0.945667</td>\n",
       "      <td>35.086000</td>\n",
       "    </tr>\n",
       "    <tr>\n",
       "      <th>3</th>\n",
       "      <td>E002</td>\n",
       "      <td>2</td>\n",
       "      <td>2</td>\n",
       "      <td>38</td>\n",
       "      <td>1</td>\n",
       "      <td>13</td>\n",
       "      <td>36</td>\n",
       "      <td>16</td>\n",
       "      <td>32</td>\n",
       "      <td>139</td>\n",
       "      <td>...</td>\n",
       "      <td>20.201667</td>\n",
       "      <td>55.579000</td>\n",
       "      <td>84.441000</td>\n",
       "      <td>18.754000</td>\n",
       "      <td>5.803000</td>\n",
       "      <td>158.774333</td>\n",
       "      <td>85.980667</td>\n",
       "      <td>12.608333</td>\n",
       "      <td>0.785667</td>\n",
       "      <td>36.141000</td>\n",
       "    </tr>\n",
       "    <tr>\n",
       "      <th>4</th>\n",
       "      <td>E002</td>\n",
       "      <td>3</td>\n",
       "      <td>2</td>\n",
       "      <td>38</td>\n",
       "      <td>1</td>\n",
       "      <td>7</td>\n",
       "      <td>10</td>\n",
       "      <td>11</td>\n",
       "      <td>23</td>\n",
       "      <td>70</td>\n",
       "      <td>...</td>\n",
       "      <td>74.788000</td>\n",
       "      <td>182.229000</td>\n",
       "      <td>530.565667</td>\n",
       "      <td>546.574000</td>\n",
       "      <td>1.685667</td>\n",
       "      <td>1259.368667</td>\n",
       "      <td>84.368667</td>\n",
       "      <td>14.285667</td>\n",
       "      <td>0.648000</td>\n",
       "      <td>35.879000</td>\n",
       "    </tr>\n",
       "  </tbody>\n",
       "</table>\n",
       "<p>5 rows × 93 columns</p>\n",
       "</div>"
      ],
      "text/plain": [
       "    sub  VISIT  disorder  age  gender  HAMD  HAMA  PDSS  ASI  APPQ  ...  \\\n",
       "0  E001      4         2   23       1     2     2     1   12    22  ...   \n",
       "1  E001      5         2   23       1    12     7     0   12    24  ...   \n",
       "2  E002      1         2   38       1    14    17    14   31   122  ...   \n",
       "3  E002      2         2   38       1    13    36    16   32   139  ...   \n",
       "4  E002      3         2   38       1     7    10    11   23    70  ...   \n",
       "\n",
       "      cRMSSD        cVLF         cLF         cHF    cLF/HF       cPOWER  \\\n",
       "0  41.544667  190.107000  298.508333  206.862333  1.284000   695.477333   \n",
       "1  39.825333  143.756667  115.695333  202.602667  0.585000   462.054667   \n",
       "2  20.052000   22.006000   50.182000   32.529333  2.499333   104.717000   \n",
       "3  20.201667   55.579000   84.441000   18.754000  5.803000   158.774333   \n",
       "4  74.788000  182.229000  530.565667  546.574000  1.685667  1259.368667   \n",
       "\n",
       "         cHR      cRESP       cSC      cTEMP  \n",
       "0  65.707000  14.054333  3.911333  34.998000  \n",
       "1  69.040000  14.117333  6.255000  35.544333  \n",
       "2  92.789333  11.013333  0.945667  35.086000  \n",
       "3  85.980667  12.608333  0.785667  36.141000  \n",
       "4  84.368667  14.285667  0.648000  35.879000  \n",
       "\n",
       "[5 rows x 93 columns]"
      ]
     },
     "execution_count": 6,
     "metadata": {},
     "output_type": "execute_result"
    }
   ],
   "source": [
    "# HRV 데이터셋 불러오기\n",
    "hrv_df = pd.read_csv('E:/RESEARCH/Datasets/HRV/HRV_samsung/HRV_REV_all.csv', sep=',')\n",
    "hrv_df.head()"
   ]
  },
  {
   "cell_type": "code",
   "execution_count": null,
   "id": "9ba21a72-3750-42fd-9edc-d7a9266a96ea",
   "metadata": {},
   "outputs": [],
   "source": []
  },
  {
   "cell_type": "code",
   "execution_count": 7,
   "id": "37e232bf-753a-41dd-8fc3-d1ef00cc9441",
   "metadata": {},
   "outputs": [
    {
     "data": {
      "text/plain": [
       "(479, 93)"
      ]
     },
     "execution_count": 7,
     "metadata": {},
     "output_type": "execute_result"
    }
   ],
   "source": [
    "hrv_df.shape"
   ]
  },
  {
   "cell_type": "markdown",
   "id": "467f36b6-4543-492a-83c9-e76143be1d20",
   "metadata": {},
   "source": []
  },
  {
   "cell_type": "markdown",
   "id": "1ce6e5a7-5ec6-4b51-bd37-5e76d18f82d4",
   "metadata": {},
   "source": [
    "HRV measuring steps\n",
    "* b1 - s - b2 - r - b3 - c\n",
    "* Phase: b(baseline between each phase), s(stress phase), r(relaxation phase), c(recovery phase)\n",
    "* Disorder(=label): 1(Depression), 2(Panic Disorder), 3(Control)\n",
    "* Each has following variables (Total 13 variables)\n",
    "> SDNN, NN50, PNN50, RMSSD, VLF, LF, HF, LF/HF, POWER, HR, RESP, SC, TEMP"
   ]
  },
  {
   "cell_type": "code",
   "execution_count": 8,
   "id": "b751f12b-c544-4e44-a1c5-017c62a23940",
   "metadata": {},
   "outputs": [
    {
     "data": {
      "text/plain": [
       "Index(['sub', 'VISIT', 'disorder', 'age', 'gender', 'HAMD', 'HAMA', 'PDSS',\n",
       "       'ASI', 'APPQ', 'PSWQ', 'SPI', 'PSS', 'BIS', 'SSI', 'b1SDNN', 'b1NN50',\n",
       "       'b1PNN50', 'b1RMSSD', 'b1VLF', 'b1LF', 'b1HF', 'b1LF/HF', 'b1POWER',\n",
       "       'b1HR', 'b1RESP', 'b1SC', 'b1TEMP', 'sSDNN', 'sNN50', 'sPNN50',\n",
       "       'sRMSSD', 'sVLF', 'sLF', 'sHF', 'sLF/HF', 'sPOWER', 'sHR', 'sRESP',\n",
       "       'sSC', 'sTEMP', 'b2SDNN', 'b2NN50', 'b2PNN50', 'b2RMSSD', 'b2VLF',\n",
       "       'b2LF', 'b2HF', 'b2LF/HF', 'b2POWER', 'b2HR', 'b2RESP', 'b2SC',\n",
       "       'b2TEMP', 'rSDNN', 'rNN50', 'rPNN50', 'rRMSSD', 'rVLF', 'rLF', 'rHF',\n",
       "       'rLF/HF', 'rPOWER', 'rHR', 'rRESP', 'rSC', 'rTEMP', 'b3SDNN', 'b3NN50',\n",
       "       'b3PNN50', 'b3RMSSD', 'b3VLF', 'b3LF', 'b3HF', 'b3LF/HF', 'b3POWER',\n",
       "       'b3HR', 'b3RESP', 'b3SC', 'b3TEMP', 'cSDNN', 'cNN50', 'cPNN50',\n",
       "       'cRMSSD', 'cVLF', 'cLF', 'cHF', 'cLF/HF', 'cPOWER', 'cHR', 'cRESP',\n",
       "       'cSC', 'cTEMP'],\n",
       "      dtype='object')"
      ]
     },
     "execution_count": 8,
     "metadata": {},
     "output_type": "execute_result"
    }
   ],
   "source": [
    "hrv_df.columns"
   ]
  },
  {
   "cell_type": "code",
   "execution_count": 9,
   "id": "aba422cd-bc59-4e49-8d7a-d3e18ae84c09",
   "metadata": {},
   "outputs": [
    {
     "data": {
      "text/plain": [
       "3    194\n",
       "2    149\n",
       "1    136\n",
       "Name: disorder, dtype: int64"
      ]
     },
     "execution_count": 9,
     "metadata": {},
     "output_type": "execute_result"
    }
   ],
   "source": [
    "hrv_df[\"disorder\"].value_counts() ## MDD 136, PD 149, Control 194"
   ]
  },
  {
   "cell_type": "code",
   "execution_count": null,
   "id": "08524512-6555-44b4-ad51-fe2c4ae9b0da",
   "metadata": {},
   "outputs": [],
   "source": []
  },
  {
   "cell_type": "markdown",
   "id": "b6ba43f8-ad9c-42f4-a345-a46780383bf0",
   "metadata": {},
   "source": [
    "- - -"
   ]
  },
  {
   "cell_type": "markdown",
   "id": "d14dcf14-14eb-447e-8f34-4dc75d4b108f",
   "metadata": {},
   "source": [
    "## Data preprocessing"
   ]
  },
  {
   "cell_type": "markdown",
   "id": "fcf15524-6ff0-43f8-9ce7-8635b8847540",
   "metadata": {},
   "source": [
    "* Select the analysis task\n",
    "> MDDPD, MDDC, PDC, none"
   ]
  },
  {
   "cell_type": "code",
   "execution_count": 14,
   "id": "82b15c38-039d-4ed2-bdde-b69d81edefeb",
   "metadata": {},
   "outputs": [],
   "source": [
    "## Select the task to be analyzed\n",
    "# task = \"MDDC\"\n",
    "task = \"NONE\""
   ]
  },
  {
   "cell_type": "code",
   "execution_count": 15,
   "id": "77215c88-9579-48b1-9c01-3926b26f3722",
   "metadata": {},
   "outputs": [],
   "source": [
    "if task == \"MDDPD\":\n",
    "    hrv = hrv_df[hrv_df[\"disorder\"].isin([1,2])] ## for MDD vs PD task\n",
    "elif task == \"MDDC\":\n",
    "    hrv = hrv_df[hrv_df[\"disorder\"].isin([1,3])] ## for MDD vs Control task\n",
    "elif task == \"PDC\":\n",
    "    hrv = hrv_df[hrv_df[\"disorder\"].isin([2,3])]       ## for PD  vs Control task\n",
    "else:\n",
    "    hrv = hrv_df ## for MDD vs PD vs Control task"
   ]
  },
  {
   "cell_type": "code",
   "execution_count": 16,
   "id": "10d663cb-c4aa-4b4c-999c-140c28d6cf41",
   "metadata": {},
   "outputs": [
    {
     "data": {
      "text/plain": [
       "(479, 93)"
      ]
     },
     "execution_count": 16,
     "metadata": {},
     "output_type": "execute_result"
    }
   ],
   "source": [
    "hrv.shape"
   ]
  },
  {
   "cell_type": "code",
   "execution_count": null,
   "id": "033644c8-1af3-4f52-b228-98b04f4681cf",
   "metadata": {},
   "outputs": [],
   "source": []
  },
  {
   "cell_type": "code",
   "execution_count": 17,
   "id": "e6df8e60-da0b-40fb-813e-b675e5d28620",
   "metadata": {},
   "outputs": [],
   "source": [
    "## scaler setting for data standardization.\n",
    "scaler = MinMaxScaler()"
   ]
  },
  {
   "cell_type": "code",
   "execution_count": 18,
   "id": "57157422-fba8-4e40-9140-9ff23592b059",
   "metadata": {},
   "outputs": [],
   "source": [
    "## Separating HRV dataset by experimental steps.\n",
    "hrv_only = hrv.drop(columns=['sub', 'VISIT', 'disorder', 'age','gender','HAMD', 'HAMA', 'PDSS', 'ASI', 'APPQ','PSWQ','SPI','PSS','BIS','SSI']) ##leave the variables only about HRV features.\n",
    "hrv_only[:] = scaler.fit_transform(hrv_only[:])  ##Standardizing. if not necessary, delete.  \n",
    "hrv_b1 = hrv.filter(regex='^b1')\n",
    "hrv_s = hrv.filter(regex='^s')\n",
    "hrv_b2 = hrv.filter(regex='^b2')\n",
    "hrv_r = hrv.filter(regex='^r')\n",
    "hrv_b3 = hrv.filter(regex='^b3')\n",
    "hrv_c = hrv.filter(regex='^c')"
   ]
  },
  {
   "cell_type": "code",
   "execution_count": 26,
   "id": "3afcedab-482c-4e88-884e-9bce72543555",
   "metadata": {},
   "outputs": [
    {
     "data": {
      "text/html": [
       "<div>\n",
       "<style scoped>\n",
       "    .dataframe tbody tr th:only-of-type {\n",
       "        vertical-align: middle;\n",
       "    }\n",
       "\n",
       "    .dataframe tbody tr th {\n",
       "        vertical-align: top;\n",
       "    }\n",
       "\n",
       "    .dataframe thead th {\n",
       "        text-align: right;\n",
       "    }\n",
       "</style>\n",
       "<table border=\"1\" class=\"dataframe\">\n",
       "  <thead>\n",
       "    <tr style=\"text-align: right;\">\n",
       "      <th></th>\n",
       "      <th>b1SDNN</th>\n",
       "      <th>b1NN50</th>\n",
       "      <th>b1PNN50</th>\n",
       "      <th>b1RMSSD</th>\n",
       "      <th>b1VLF</th>\n",
       "      <th>b1LF</th>\n",
       "      <th>b1HF</th>\n",
       "      <th>b1LF/HF</th>\n",
       "      <th>b1POWER</th>\n",
       "      <th>b1HR</th>\n",
       "      <th>...</th>\n",
       "      <th>cRMSSD</th>\n",
       "      <th>cVLF</th>\n",
       "      <th>cLF</th>\n",
       "      <th>cHF</th>\n",
       "      <th>cLF/HF</th>\n",
       "      <th>cPOWER</th>\n",
       "      <th>cHR</th>\n",
       "      <th>cRESP</th>\n",
       "      <th>cSC</th>\n",
       "      <th>cTEMP</th>\n",
       "    </tr>\n",
       "  </thead>\n",
       "  <tbody>\n",
       "    <tr>\n",
       "      <th>0</th>\n",
       "      <td>0.075757</td>\n",
       "      <td>0.344</td>\n",
       "      <td>0.495745</td>\n",
       "      <td>0.054862</td>\n",
       "      <td>0.000710</td>\n",
       "      <td>0.000565</td>\n",
       "      <td>0.003834</td>\n",
       "      <td>0.007478</td>\n",
       "      <td>0.001303</td>\n",
       "      <td>0.145328</td>\n",
       "      <td>...</td>\n",
       "      <td>0.047600</td>\n",
       "      <td>0.001651</td>\n",
       "      <td>0.001531</td>\n",
       "      <td>0.001556</td>\n",
       "      <td>0.026915</td>\n",
       "      <td>0.001560</td>\n",
       "      <td>0.219382</td>\n",
       "      <td>0.553832</td>\n",
       "      <td>0.264775</td>\n",
       "      <td>0.879143</td>\n",
       "    </tr>\n",
       "    <tr>\n",
       "      <th>1</th>\n",
       "      <td>0.064662</td>\n",
       "      <td>0.328</td>\n",
       "      <td>0.446809</td>\n",
       "      <td>0.044981</td>\n",
       "      <td>0.000722</td>\n",
       "      <td>0.001170</td>\n",
       "      <td>0.002868</td>\n",
       "      <td>0.027090</td>\n",
       "      <td>0.001374</td>\n",
       "      <td>0.192303</td>\n",
       "      <td>...</td>\n",
       "      <td>0.045500</td>\n",
       "      <td>0.001244</td>\n",
       "      <td>0.000591</td>\n",
       "      <td>0.001524</td>\n",
       "      <td>0.010246</td>\n",
       "      <td>0.001029</td>\n",
       "      <td>0.259603</td>\n",
       "      <td>0.561629</td>\n",
       "      <td>0.424709</td>\n",
       "      <td>0.927001</td>\n",
       "    </tr>\n",
       "    <tr>\n",
       "      <th>2</th>\n",
       "      <td>0.034528</td>\n",
       "      <td>0.000</td>\n",
       "      <td>0.000000</td>\n",
       "      <td>0.012500</td>\n",
       "      <td>0.000932</td>\n",
       "      <td>0.000505</td>\n",
       "      <td>0.000515</td>\n",
       "      <td>0.091000</td>\n",
       "      <td>0.000661</td>\n",
       "      <td>0.549465</td>\n",
       "      <td>...</td>\n",
       "      <td>0.021346</td>\n",
       "      <td>0.000173</td>\n",
       "      <td>0.000254</td>\n",
       "      <td>0.000241</td>\n",
       "      <td>0.055897</td>\n",
       "      <td>0.000216</td>\n",
       "      <td>0.546196</td>\n",
       "      <td>0.177502</td>\n",
       "      <td>0.062395</td>\n",
       "      <td>0.886851</td>\n",
       "    </tr>\n",
       "    <tr>\n",
       "      <th>3</th>\n",
       "      <td>0.031088</td>\n",
       "      <td>0.000</td>\n",
       "      <td>0.000000</td>\n",
       "      <td>0.010866</td>\n",
       "      <td>0.000941</td>\n",
       "      <td>0.001012</td>\n",
       "      <td>0.000574</td>\n",
       "      <td>0.151341</td>\n",
       "      <td>0.000902</td>\n",
       "      <td>0.525489</td>\n",
       "      <td>...</td>\n",
       "      <td>0.021529</td>\n",
       "      <td>0.000469</td>\n",
       "      <td>0.000430</td>\n",
       "      <td>0.000138</td>\n",
       "      <td>0.134680</td>\n",
       "      <td>0.000339</td>\n",
       "      <td>0.464033</td>\n",
       "      <td>0.374887</td>\n",
       "      <td>0.051476</td>\n",
       "      <td>0.979268</td>\n",
       "    </tr>\n",
       "    <tr>\n",
       "      <th>4</th>\n",
       "      <td>0.116386</td>\n",
       "      <td>0.144</td>\n",
       "      <td>0.141135</td>\n",
       "      <td>0.087233</td>\n",
       "      <td>0.000600</td>\n",
       "      <td>0.001868</td>\n",
       "      <td>0.003691</td>\n",
       "      <td>0.023884</td>\n",
       "      <td>0.001814</td>\n",
       "      <td>0.539072</td>\n",
       "      <td>...</td>\n",
       "      <td>0.088209</td>\n",
       "      <td>0.001582</td>\n",
       "      <td>0.002726</td>\n",
       "      <td>0.004118</td>\n",
       "      <td>0.036494</td>\n",
       "      <td>0.002843</td>\n",
       "      <td>0.444581</td>\n",
       "      <td>0.582460</td>\n",
       "      <td>0.042082</td>\n",
       "      <td>0.956317</td>\n",
       "    </tr>\n",
       "  </tbody>\n",
       "</table>\n",
       "<p>5 rows × 78 columns</p>\n",
       "</div>"
      ],
      "text/plain": [
       "     b1SDNN  b1NN50   b1PNN50   b1RMSSD     b1VLF      b1LF      b1HF  \\\n",
       "0  0.075757   0.344  0.495745  0.054862  0.000710  0.000565  0.003834   \n",
       "1  0.064662   0.328  0.446809  0.044981  0.000722  0.001170  0.002868   \n",
       "2  0.034528   0.000  0.000000  0.012500  0.000932  0.000505  0.000515   \n",
       "3  0.031088   0.000  0.000000  0.010866  0.000941  0.001012  0.000574   \n",
       "4  0.116386   0.144  0.141135  0.087233  0.000600  0.001868  0.003691   \n",
       "\n",
       "    b1LF/HF   b1POWER      b1HR  ...    cRMSSD      cVLF       cLF       cHF  \\\n",
       "0  0.007478  0.001303  0.145328  ...  0.047600  0.001651  0.001531  0.001556   \n",
       "1  0.027090  0.001374  0.192303  ...  0.045500  0.001244  0.000591  0.001524   \n",
       "2  0.091000  0.000661  0.549465  ...  0.021346  0.000173  0.000254  0.000241   \n",
       "3  0.151341  0.000902  0.525489  ...  0.021529  0.000469  0.000430  0.000138   \n",
       "4  0.023884  0.001814  0.539072  ...  0.088209  0.001582  0.002726  0.004118   \n",
       "\n",
       "     cLF/HF    cPOWER       cHR     cRESP       cSC     cTEMP  \n",
       "0  0.026915  0.001560  0.219382  0.553832  0.264775  0.879143  \n",
       "1  0.010246  0.001029  0.259603  0.561629  0.424709  0.927001  \n",
       "2  0.055897  0.000216  0.546196  0.177502  0.062395  0.886851  \n",
       "3  0.134680  0.000339  0.464033  0.374887  0.051476  0.979268  \n",
       "4  0.036494  0.002843  0.444581  0.582460  0.042082  0.956317  \n",
       "\n",
       "[5 rows x 78 columns]"
      ]
     },
     "execution_count": 26,
     "metadata": {},
     "output_type": "execute_result"
    }
   ],
   "source": [
    "hrv_only.head()"
   ]
  },
  {
   "cell_type": "code",
   "execution_count": 20,
   "id": "37aca40b-6e9d-413e-8793-8f6d141a959d",
   "metadata": {},
   "outputs": [
    {
     "data": {
      "text/plain": [
       "(479, 78)"
      ]
     },
     "execution_count": 20,
     "metadata": {},
     "output_type": "execute_result"
    }
   ],
   "source": [
    "hrv_only.shape"
   ]
  },
  {
   "cell_type": "code",
   "execution_count": 21,
   "id": "ebeb4a97-c0ba-43f6-9808-0fd188c4657f",
   "metadata": {},
   "outputs": [
    {
     "name": "stdout",
     "output_type": "stream",
     "text": [
      "HRV baseline #1 shape is: 13\n",
      "HRV stress shape is: 14\n",
      "HRV baseline #2 shape is: 13\n",
      "HRV rest shape is: 13\n",
      "HRV baseline #3 shape is: 13\n",
      "HRV c shape is: 13\n"
     ]
    }
   ],
   "source": [
    "## Check whethere each phase contains the same variables.\n",
    "print(\"HRV baseline #1 shape is:\", hrv_b1.shape[1])\n",
    "print(\"HRV stress shape is:\", hrv_s.shape[1])\n",
    "print(\"HRV baseline #2 shape is:\", hrv_b2.shape[1])\n",
    "print(\"HRV rest shape is:\", hrv_r.shape[1])\n",
    "print(\"HRV baseline #3 shape is:\", hrv_b3.shape[1])\n",
    "print(\"HRV c shape is:\", hrv_b1.shape[1])"
   ]
  },
  {
   "cell_type": "code",
   "execution_count": 22,
   "id": "967ac4be-0ac5-4fb8-bf11-c3714162028d",
   "metadata": {},
   "outputs": [],
   "source": [
    "hrv_s = hrv_s.drop(columns=['sub'])"
   ]
  },
  {
   "cell_type": "code",
   "execution_count": null,
   "id": "73fe4b23-9c5a-4b62-9389-3972924f4b26",
   "metadata": {},
   "outputs": [],
   "source": []
  },
  {
   "cell_type": "code",
   "execution_count": 23,
   "id": "f9241cba-39ef-4dd4-abeb-cfab2ea31e63",
   "metadata": {},
   "outputs": [],
   "source": [
    "## Renaming the columns for further calculation.\n",
    "## We need to generate new dataframes to compare the phases.\n",
    "hrv_sub = hrv.loc[:, ['sub']]\n",
    "hrv_disorder = hrv.loc[:,['disorder']] -1 ## 0(Depression), 1(Panic Disorder), 2(Control)\n",
    "hrv_gender = hrv.loc[:,['gender']]\n",
    "hrv_HAMD = hrv.loc[:,['HAMD']]\n",
    "hrv_PDSS = hrv.loc[:,['PDSS']]\n",
    "\n",
    "hrv_variables = [\"SDNN\", \"NN50\", \"PNN50\", \"RMSSD\", \"VLF\", \"LF\", \"HF\", \"LF/HF\", \"POWER\", \"HR\", \"RESP\", \"SC\", \"TEMP\"]\n",
    "hrv_b1_rename = hrv_b1.set_axis([\"SDNN\", \"NN50\", \"PNN50\", \"RMSSD\", \"VLF\", \"LF\", \"HF\", \"LF/HF\", \"POWER\", \"HR\", \"RESP\", \"SC\", \"TEMP\"], axis=1)\n",
    "hrv_b2_rename = hrv_b2.set_axis([\"SDNN\", \"NN50\", \"PNN50\", \"RMSSD\", \"VLF\", \"LF\", \"HF\", \"LF/HF\", \"POWER\", \"HR\", \"RESP\", \"SC\", \"TEMP\"], axis=1)\n",
    "hrv_b3_rename = hrv_b3.set_axis([\"SDNN\", \"NN50\", \"PNN50\", \"RMSSD\", \"VLF\", \"LF\", \"HF\", \"LF/HF\", \"POWER\", \"HR\", \"RESP\", \"SC\", \"TEMP\"], axis=1)\n",
    "hrv_s_rename = hrv_s.set_axis([\"SDNN\", \"NN50\", \"PNN50\", \"RMSSD\", \"VLF\", \"LF\", \"HF\", \"LF/HF\", \"POWER\", \"HR\", \"RESP\", \"SC\", \"TEMP\"], axis=1)\n",
    "hrv_r_rename = hrv_r.set_axis([\"SDNN\", \"NN50\", \"PNN50\", \"RMSSD\", \"VLF\", \"LF\", \"HF\", \"LF/HF\", \"POWER\", \"HR\", \"RESP\", \"SC\", \"TEMP\"], axis=1)\n",
    "hrv_c_rename = hrv_c.set_axis([\"SDNN\", \"NN50\", \"PNN50\", \"RMSSD\", \"VLF\", \"LF\", \"HF\", \"LF/HF\", \"POWER\", \"HR\", \"RESP\", \"SC\", \"TEMP\"], axis=1)"
   ]
  },
  {
   "cell_type": "code",
   "execution_count": 24,
   "id": "4b64ea93-83c3-4e05-81a7-5a28a10ea859",
   "metadata": {},
   "outputs": [
    {
     "data": {
      "text/plain": [
       "disorder\n",
       "2           194\n",
       "1           149\n",
       "0           136\n",
       "dtype: int64"
      ]
     },
     "execution_count": 24,
     "metadata": {},
     "output_type": "execute_result"
    }
   ],
   "source": [
    "hrv_disorder.value_counts()"
   ]
  },
  {
   "cell_type": "code",
   "execution_count": null,
   "id": "be3403c5-4804-4366-ad40-7821cec140bc",
   "metadata": {},
   "outputs": [],
   "source": []
  },
  {
   "cell_type": "markdown",
   "id": "11cd7a80-2ac5-41de-abab-61cc10d63bbd",
   "metadata": {},
   "source": [
    "- - -"
   ]
  },
  {
   "cell_type": "markdown",
   "id": "952c1137-a7d9-4ff7-b32b-bb1f625153ce",
   "metadata": {},
   "source": [
    "## Comparisons between Phases"
   ]
  },
  {
   "cell_type": "markdown",
   "id": "23641f3e-6bbd-4f97-99ba-f6c22aaca19f",
   "metadata": {},
   "source": [
    "* HRV measuring steps: b1 - s - b2 - r - b3 - c\n",
    "* Each has following variables (Total 13 variables): SDNN, NN50, PNN50, RMSSD, VLF, LF, HF, LF/HF, POWER, HR, RESP, SC, TEMP"
   ]
  },
  {
   "cell_type": "markdown",
   "id": "bf0fc8f4-1e22-4129-be79-0a0b9e7cf148",
   "metadata": {},
   "source": [
    "Since the experimental phase steps are \"b1-s-b2-r-b3-c\", there are total 5 between phases"
   ]
  },
  {
   "cell_type": "markdown",
   "id": "4a1cc872-0081-45e5-8168-6131b5c36b0a",
   "metadata": {},
   "source": [
    "### 1) Baseline 1 - Stress phase"
   ]
  },
  {
   "cell_type": "code",
   "execution_count": 62,
   "id": "cec2bbc3-c39e-4788-978a-86967f0536b5",
   "metadata": {},
   "outputs": [
    {
     "data": {
      "text/html": [
       "<div>\n",
       "<style scoped>\n",
       "    .dataframe tbody tr th:only-of-type {\n",
       "        vertical-align: middle;\n",
       "    }\n",
       "\n",
       "    .dataframe tbody tr th {\n",
       "        vertical-align: top;\n",
       "    }\n",
       "\n",
       "    .dataframe thead th {\n",
       "        text-align: right;\n",
       "    }\n",
       "</style>\n",
       "<table border=\"1\" class=\"dataframe\">\n",
       "  <thead>\n",
       "    <tr style=\"text-align: right;\">\n",
       "      <th></th>\n",
       "      <th>SDNN</th>\n",
       "      <th>NN50</th>\n",
       "      <th>PNN50</th>\n",
       "      <th>RMSSD</th>\n",
       "      <th>VLF</th>\n",
       "      <th>LF</th>\n",
       "      <th>HF</th>\n",
       "      <th>LF/HF</th>\n",
       "      <th>POWER</th>\n",
       "      <th>HR</th>\n",
       "      <th>RESP</th>\n",
       "      <th>SC</th>\n",
       "      <th>TEMP</th>\n",
       "    </tr>\n",
       "  </thead>\n",
       "  <tbody>\n",
       "    <tr>\n",
       "      <th>0</th>\n",
       "      <td>0.287667</td>\n",
       "      <td>4.666667</td>\n",
       "      <td>0.086333</td>\n",
       "      <td>10.664333</td>\n",
       "      <td>-2.756000</td>\n",
       "      <td>-279.967000</td>\n",
       "      <td>184.906667</td>\n",
       "      <td>-2.611000</td>\n",
       "      <td>-97.816333</td>\n",
       "      <td>-4.520333</td>\n",
       "      <td>2.624333</td>\n",
       "      <td>-4.828000</td>\n",
       "      <td>1.002000</td>\n",
       "    </tr>\n",
       "    <tr>\n",
       "      <th>1</th>\n",
       "      <td>-21.138333</td>\n",
       "      <td>3.666667</td>\n",
       "      <td>0.070667</td>\n",
       "      <td>-24.260667</td>\n",
       "      <td>-373.648667</td>\n",
       "      <td>-1140.831334</td>\n",
       "      <td>-1154.247667</td>\n",
       "      <td>-1.071333</td>\n",
       "      <td>-2668.727667</td>\n",
       "      <td>-8.211000</td>\n",
       "      <td>1.535000</td>\n",
       "      <td>-9.487000</td>\n",
       "      <td>0.614000</td>\n",
       "    </tr>\n",
       "    <tr>\n",
       "      <th>2</th>\n",
       "      <td>2.049333</td>\n",
       "      <td>0.000000</td>\n",
       "      <td>0.000000</td>\n",
       "      <td>-1.726000</td>\n",
       "      <td>76.143333</td>\n",
       "      <td>-29.314667</td>\n",
       "      <td>-26.714333</td>\n",
       "      <td>1.287667</td>\n",
       "      <td>20.114667</td>\n",
       "      <td>-2.449667</td>\n",
       "      <td>2.892333</td>\n",
       "      <td>-0.319667</td>\n",
       "      <td>-0.020333</td>\n",
       "    </tr>\n",
       "    <tr>\n",
       "      <th>3</th>\n",
       "      <td>6.312333</td>\n",
       "      <td>0.000000</td>\n",
       "      <td>0.000000</td>\n",
       "      <td>1.099333</td>\n",
       "      <td>98.432667</td>\n",
       "      <td>136.848000</td>\n",
       "      <td>24.599000</td>\n",
       "      <td>2.798000</td>\n",
       "      <td>259.880333</td>\n",
       "      <td>-0.202667</td>\n",
       "      <td>4.266333</td>\n",
       "      <td>-0.033667</td>\n",
       "      <td>-0.057667</td>\n",
       "    </tr>\n",
       "    <tr>\n",
       "      <th>4</th>\n",
       "      <td>28.445667</td>\n",
       "      <td>3.000000</td>\n",
       "      <td>0.032667</td>\n",
       "      <td>43.376000</td>\n",
       "      <td>57.050333</td>\n",
       "      <td>46.734333</td>\n",
       "      <td>59.237667</td>\n",
       "      <td>-0.705667</td>\n",
       "      <td>163.023000</td>\n",
       "      <td>2.514667</td>\n",
       "      <td>3.533000</td>\n",
       "      <td>-0.017000</td>\n",
       "      <td>-0.001000</td>\n",
       "    </tr>\n",
       "  </tbody>\n",
       "</table>\n",
       "</div>"
      ],
      "text/plain": [
       "        SDNN      NN50     PNN50      RMSSD         VLF           LF  \\\n",
       "0   0.287667  4.666667  0.086333  10.664333   -2.756000  -279.967000   \n",
       "1 -21.138333  3.666667  0.070667 -24.260667 -373.648667 -1140.831334   \n",
       "2   2.049333  0.000000  0.000000  -1.726000   76.143333   -29.314667   \n",
       "3   6.312333  0.000000  0.000000   1.099333   98.432667   136.848000   \n",
       "4  28.445667  3.000000  0.032667  43.376000   57.050333    46.734333   \n",
       "\n",
       "            HF     LF/HF        POWER        HR      RESP        SC      TEMP  \n",
       "0   184.906667 -2.611000   -97.816333 -4.520333  2.624333 -4.828000  1.002000  \n",
       "1 -1154.247667 -1.071333 -2668.727667 -8.211000  1.535000 -9.487000  0.614000  \n",
       "2   -26.714333  1.287667    20.114667 -2.449667  2.892333 -0.319667 -0.020333  \n",
       "3    24.599000  2.798000   259.880333 -0.202667  4.266333 -0.033667 -0.057667  \n",
       "4    59.237667 -0.705667   163.023000  2.514667  3.533000 -0.017000 -0.001000  "
      ]
     },
     "execution_count": 62,
     "metadata": {},
     "output_type": "execute_result"
    }
   ],
   "source": [
    "hrv_b1_s_sub = hrv_b1_rename - hrv_s_rename\n",
    "hrv_b1_s_sub.head()"
   ]
  },
  {
   "cell_type": "code",
   "execution_count": null,
   "id": "aa63b0af-528b-4c06-bbab-b606f1395075",
   "metadata": {},
   "outputs": [],
   "source": []
  },
  {
   "cell_type": "markdown",
   "id": "a749cd83-297e-482f-b4d3-68dcfffd4293",
   "metadata": {},
   "source": [
    "### 2) Stress - Baseline 2 phase"
   ]
  },
  {
   "cell_type": "code",
   "execution_count": 63,
   "id": "ec0c53bf-fae3-4e90-af09-7a983f64c45e",
   "metadata": {},
   "outputs": [
    {
     "data": {
      "text/html": [
       "<div>\n",
       "<style scoped>\n",
       "    .dataframe tbody tr th:only-of-type {\n",
       "        vertical-align: middle;\n",
       "    }\n",
       "\n",
       "    .dataframe tbody tr th {\n",
       "        vertical-align: top;\n",
       "    }\n",
       "\n",
       "    .dataframe thead th {\n",
       "        text-align: right;\n",
       "    }\n",
       "</style>\n",
       "<table border=\"1\" class=\"dataframe\">\n",
       "  <thead>\n",
       "    <tr style=\"text-align: right;\">\n",
       "      <th></th>\n",
       "      <th>SDNN</th>\n",
       "      <th>NN50</th>\n",
       "      <th>PNN50</th>\n",
       "      <th>RMSSD</th>\n",
       "      <th>VLF</th>\n",
       "      <th>LF</th>\n",
       "      <th>HF</th>\n",
       "      <th>LF/HF</th>\n",
       "      <th>POWER</th>\n",
       "      <th>HR</th>\n",
       "      <th>RESP</th>\n",
       "      <th>SC</th>\n",
       "      <th>TEMP</th>\n",
       "    </tr>\n",
       "  </thead>\n",
       "  <tbody>\n",
       "    <tr>\n",
       "      <th>0</th>\n",
       "      <td>-11.360000</td>\n",
       "      <td>-5.333333</td>\n",
       "      <td>-0.096667</td>\n",
       "      <td>-18.286000</td>\n",
       "      <td>-58.710000</td>\n",
       "      <td>-66.028667</td>\n",
       "      <td>-406.971333</td>\n",
       "      <td>2.004000</td>\n",
       "      <td>-531.710000</td>\n",
       "      <td>4.353333</td>\n",
       "      <td>-1.105333</td>\n",
       "      <td>-0.297667</td>\n",
       "      <td>-0.856667</td>\n",
       "    </tr>\n",
       "    <tr>\n",
       "      <th>1</th>\n",
       "      <td>9.035667</td>\n",
       "      <td>-4.333333</td>\n",
       "      <td>-0.080333</td>\n",
       "      <td>20.483333</td>\n",
       "      <td>234.864333</td>\n",
       "      <td>1052.266334</td>\n",
       "      <td>993.647000</td>\n",
       "      <td>1.265333</td>\n",
       "      <td>2280.777667</td>\n",
       "      <td>8.344667</td>\n",
       "      <td>0.931000</td>\n",
       "      <td>2.270000</td>\n",
       "      <td>0.033667</td>\n",
       "    </tr>\n",
       "    <tr>\n",
       "      <th>2</th>\n",
       "      <td>2.347000</td>\n",
       "      <td>0.000000</td>\n",
       "      <td>0.000000</td>\n",
       "      <td>3.369000</td>\n",
       "      <td>13.332333</td>\n",
       "      <td>71.931667</td>\n",
       "      <td>45.656333</td>\n",
       "      <td>-0.551333</td>\n",
       "      <td>130.920000</td>\n",
       "      <td>3.359667</td>\n",
       "      <td>-1.622667</td>\n",
       "      <td>0.132000</td>\n",
       "      <td>0.003000</td>\n",
       "    </tr>\n",
       "    <tr>\n",
       "      <th>3</th>\n",
       "      <td>-5.727667</td>\n",
       "      <td>0.000000</td>\n",
       "      <td>0.000000</td>\n",
       "      <td>-2.342667</td>\n",
       "      <td>-48.445667</td>\n",
       "      <td>-33.052000</td>\n",
       "      <td>-11.412000</td>\n",
       "      <td>0.121000</td>\n",
       "      <td>-92.909667</td>\n",
       "      <td>4.459000</td>\n",
       "      <td>-3.775667</td>\n",
       "      <td>0.003333</td>\n",
       "      <td>-0.043667</td>\n",
       "    </tr>\n",
       "    <tr>\n",
       "      <th>4</th>\n",
       "      <td>25.174667</td>\n",
       "      <td>1.666667</td>\n",
       "      <td>0.018333</td>\n",
       "      <td>16.042000</td>\n",
       "      <td>-6.794000</td>\n",
       "      <td>182.404333</td>\n",
       "      <td>200.162000</td>\n",
       "      <td>-0.467333</td>\n",
       "      <td>375.771667</td>\n",
       "      <td>2.845333</td>\n",
       "      <td>-3.480667</td>\n",
       "      <td>-0.013333</td>\n",
       "      <td>-0.057667</td>\n",
       "    </tr>\n",
       "  </tbody>\n",
       "</table>\n",
       "</div>"
      ],
      "text/plain": [
       "        SDNN      NN50     PNN50      RMSSD         VLF           LF  \\\n",
       "0 -11.360000 -5.333333 -0.096667 -18.286000  -58.710000   -66.028667   \n",
       "1   9.035667 -4.333333 -0.080333  20.483333  234.864333  1052.266334   \n",
       "2   2.347000  0.000000  0.000000   3.369000   13.332333    71.931667   \n",
       "3  -5.727667  0.000000  0.000000  -2.342667  -48.445667   -33.052000   \n",
       "4  25.174667  1.666667  0.018333  16.042000   -6.794000   182.404333   \n",
       "\n",
       "           HF     LF/HF        POWER        HR      RESP        SC      TEMP  \n",
       "0 -406.971333  2.004000  -531.710000  4.353333 -1.105333 -0.297667 -0.856667  \n",
       "1  993.647000  1.265333  2280.777667  8.344667  0.931000  2.270000  0.033667  \n",
       "2   45.656333 -0.551333   130.920000  3.359667 -1.622667  0.132000  0.003000  \n",
       "3  -11.412000  0.121000   -92.909667  4.459000 -3.775667  0.003333 -0.043667  \n",
       "4  200.162000 -0.467333   375.771667  2.845333 -3.480667 -0.013333 -0.057667  "
      ]
     },
     "execution_count": 63,
     "metadata": {},
     "output_type": "execute_result"
    }
   ],
   "source": [
    "hrv_s_b2_sub = hrv_s_rename - hrv_b2_rename\n",
    "hrv_s_b2_sub.head()"
   ]
  },
  {
   "cell_type": "code",
   "execution_count": null,
   "id": "7acb0917-7080-43b8-9839-28eea1e4915f",
   "metadata": {},
   "outputs": [],
   "source": []
  },
  {
   "cell_type": "markdown",
   "id": "f4554a7c-a3af-466f-80b1-0abc7ddd01da",
   "metadata": {},
   "source": [
    "### 3) Baseline2 - Rest phase"
   ]
  },
  {
   "cell_type": "code",
   "execution_count": 64,
   "id": "7b53e579-c314-4100-81fd-ac4d21a14f1f",
   "metadata": {},
   "outputs": [
    {
     "data": {
      "text/html": [
       "<div>\n",
       "<style scoped>\n",
       "    .dataframe tbody tr th:only-of-type {\n",
       "        vertical-align: middle;\n",
       "    }\n",
       "\n",
       "    .dataframe tbody tr th {\n",
       "        vertical-align: top;\n",
       "    }\n",
       "\n",
       "    .dataframe thead th {\n",
       "        text-align: right;\n",
       "    }\n",
       "</style>\n",
       "<table border=\"1\" class=\"dataframe\">\n",
       "  <thead>\n",
       "    <tr style=\"text-align: right;\">\n",
       "      <th></th>\n",
       "      <th>SDNN</th>\n",
       "      <th>NN50</th>\n",
       "      <th>PNN50</th>\n",
       "      <th>RMSSD</th>\n",
       "      <th>VLF</th>\n",
       "      <th>LF</th>\n",
       "      <th>HF</th>\n",
       "      <th>LF/HF</th>\n",
       "      <th>POWER</th>\n",
       "      <th>HR</th>\n",
       "      <th>RESP</th>\n",
       "      <th>SC</th>\n",
       "      <th>TEMP</th>\n",
       "    </tr>\n",
       "  </thead>\n",
       "  <tbody>\n",
       "    <tr>\n",
       "      <th>0</th>\n",
       "      <td>10.395333</td>\n",
       "      <td>-1.000000</td>\n",
       "      <td>-0.012000</td>\n",
       "      <td>6.659000</td>\n",
       "      <td>-44.986000</td>\n",
       "      <td>-60.517000</td>\n",
       "      <td>89.346333</td>\n",
       "      <td>-0.140000</td>\n",
       "      <td>-16.157000</td>\n",
       "      <td>-0.738333</td>\n",
       "      <td>-0.327333</td>\n",
       "      <td>2.811667</td>\n",
       "      <td>-0.516667</td>\n",
       "    </tr>\n",
       "    <tr>\n",
       "      <th>1</th>\n",
       "      <td>8.564000</td>\n",
       "      <td>2.333333</td>\n",
       "      <td>0.038667</td>\n",
       "      <td>4.713000</td>\n",
       "      <td>88.049333</td>\n",
       "      <td>-244.483333</td>\n",
       "      <td>115.041667</td>\n",
       "      <td>-0.824333</td>\n",
       "      <td>-41.393000</td>\n",
       "      <td>-1.832333</td>\n",
       "      <td>-0.871000</td>\n",
       "      <td>4.765000</td>\n",
       "      <td>-0.102333</td>\n",
       "    </tr>\n",
       "    <tr>\n",
       "      <th>2</th>\n",
       "      <td>3.167333</td>\n",
       "      <td>0.000000</td>\n",
       "      <td>0.000000</td>\n",
       "      <td>0.588667</td>\n",
       "      <td>-18.453333</td>\n",
       "      <td>-2.815667</td>\n",
       "      <td>-6.873333</td>\n",
       "      <td>0.441000</td>\n",
       "      <td>-28.142000</td>\n",
       "      <td>-2.467333</td>\n",
       "      <td>0.249667</td>\n",
       "      <td>0.058333</td>\n",
       "      <td>0.066000</td>\n",
       "    </tr>\n",
       "    <tr>\n",
       "      <th>3</th>\n",
       "      <td>-10.102333</td>\n",
       "      <td>-1.000000</td>\n",
       "      <td>-0.012000</td>\n",
       "      <td>-6.834000</td>\n",
       "      <td>7.107667</td>\n",
       "      <td>-150.309000</td>\n",
       "      <td>-52.806333</td>\n",
       "      <td>-0.724000</td>\n",
       "      <td>-196.007667</td>\n",
       "      <td>2.282000</td>\n",
       "      <td>0.243467</td>\n",
       "      <td>-0.048667</td>\n",
       "      <td>0.001667</td>\n",
       "    </tr>\n",
       "    <tr>\n",
       "      <th>4</th>\n",
       "      <td>-60.977000</td>\n",
       "      <td>-1.333333</td>\n",
       "      <td>-0.016333</td>\n",
       "      <td>-79.491000</td>\n",
       "      <td>-46.755667</td>\n",
       "      <td>-70.231333</td>\n",
       "      <td>-440.990333</td>\n",
       "      <td>1.082333</td>\n",
       "      <td>-557.976667</td>\n",
       "      <td>1.675667</td>\n",
       "      <td>-0.406267</td>\n",
       "      <td>-0.018333</td>\n",
       "      <td>-0.025000</td>\n",
       "    </tr>\n",
       "  </tbody>\n",
       "</table>\n",
       "</div>"
      ],
      "text/plain": [
       "        SDNN      NN50     PNN50      RMSSD        VLF          LF  \\\n",
       "0  10.395333 -1.000000 -0.012000   6.659000 -44.986000  -60.517000   \n",
       "1   8.564000  2.333333  0.038667   4.713000  88.049333 -244.483333   \n",
       "2   3.167333  0.000000  0.000000   0.588667 -18.453333   -2.815667   \n",
       "3 -10.102333 -1.000000 -0.012000  -6.834000   7.107667 -150.309000   \n",
       "4 -60.977000 -1.333333 -0.016333 -79.491000 -46.755667  -70.231333   \n",
       "\n",
       "           HF     LF/HF       POWER        HR      RESP        SC      TEMP  \n",
       "0   89.346333 -0.140000  -16.157000 -0.738333 -0.327333  2.811667 -0.516667  \n",
       "1  115.041667 -0.824333  -41.393000 -1.832333 -0.871000  4.765000 -0.102333  \n",
       "2   -6.873333  0.441000  -28.142000 -2.467333  0.249667  0.058333  0.066000  \n",
       "3  -52.806333 -0.724000 -196.007667  2.282000  0.243467 -0.048667  0.001667  \n",
       "4 -440.990333  1.082333 -557.976667  1.675667 -0.406267 -0.018333 -0.025000  "
      ]
     },
     "execution_count": 64,
     "metadata": {},
     "output_type": "execute_result"
    }
   ],
   "source": [
    "hrv_b2_r_sub = hrv_b2_rename - hrv_r_rename\n",
    "hrv_b2_r_sub.head()"
   ]
  },
  {
   "cell_type": "code",
   "execution_count": null,
   "id": "dd149b0a-72ff-4413-9679-a426d2b19734",
   "metadata": {},
   "outputs": [],
   "source": []
  },
  {
   "cell_type": "markdown",
   "id": "62a0d66a-2863-45f3-84b6-1cf1fbccff0d",
   "metadata": {},
   "source": [
    "### 4) Rest - Baseline 3 phase"
   ]
  },
  {
   "cell_type": "code",
   "execution_count": 65,
   "id": "400bbe45-aa22-4c52-9af4-b1a566df78e6",
   "metadata": {},
   "outputs": [
    {
     "data": {
      "text/html": [
       "<div>\n",
       "<style scoped>\n",
       "    .dataframe tbody tr th:only-of-type {\n",
       "        vertical-align: middle;\n",
       "    }\n",
       "\n",
       "    .dataframe tbody tr th {\n",
       "        vertical-align: top;\n",
       "    }\n",
       "\n",
       "    .dataframe thead th {\n",
       "        text-align: right;\n",
       "    }\n",
       "</style>\n",
       "<table border=\"1\" class=\"dataframe\">\n",
       "  <thead>\n",
       "    <tr style=\"text-align: right;\">\n",
       "      <th></th>\n",
       "      <th>SDNN</th>\n",
       "      <th>NN50</th>\n",
       "      <th>PNN50</th>\n",
       "      <th>RMSSD</th>\n",
       "      <th>VLF</th>\n",
       "      <th>LF</th>\n",
       "      <th>HF</th>\n",
       "      <th>LF/HF</th>\n",
       "      <th>POWER</th>\n",
       "      <th>HR</th>\n",
       "      <th>RESP</th>\n",
       "      <th>SC</th>\n",
       "      <th>TEMP</th>\n",
       "    </tr>\n",
       "  </thead>\n",
       "  <tbody>\n",
       "    <tr>\n",
       "      <th>0</th>\n",
       "      <td>0.013000</td>\n",
       "      <td>3.000000</td>\n",
       "      <td>0.052333</td>\n",
       "      <td>4.031000</td>\n",
       "      <td>103.554000</td>\n",
       "      <td>184.618000</td>\n",
       "      <td>56.917333</td>\n",
       "      <td>0.183000</td>\n",
       "      <td>345.089000</td>\n",
       "      <td>-1.751333</td>\n",
       "      <td>-0.039000</td>\n",
       "      <td>0.217000</td>\n",
       "      <td>0.008000</td>\n",
       "    </tr>\n",
       "    <tr>\n",
       "      <th>1</th>\n",
       "      <td>-10.302000</td>\n",
       "      <td>4.000000</td>\n",
       "      <td>0.066667</td>\n",
       "      <td>2.679000</td>\n",
       "      <td>-335.397667</td>\n",
       "      <td>-1035.652000</td>\n",
       "      <td>-117.790667</td>\n",
       "      <td>-1.463000</td>\n",
       "      <td>-1488.840000</td>\n",
       "      <td>-3.499333</td>\n",
       "      <td>-0.183000</td>\n",
       "      <td>0.000333</td>\n",
       "      <td>0.033667</td>\n",
       "    </tr>\n",
       "    <tr>\n",
       "      <th>2</th>\n",
       "      <td>-6.370000</td>\n",
       "      <td>0.000000</td>\n",
       "      <td>0.000000</td>\n",
       "      <td>-0.883333</td>\n",
       "      <td>-9.966667</td>\n",
       "      <td>-36.395667</td>\n",
       "      <td>0.591667</td>\n",
       "      <td>-0.573000</td>\n",
       "      <td>-45.771000</td>\n",
       "      <td>0.824667</td>\n",
       "      <td>0.156333</td>\n",
       "      <td>0.031000</td>\n",
       "      <td>-0.006333</td>\n",
       "    </tr>\n",
       "    <tr>\n",
       "      <th>3</th>\n",
       "      <td>2.291667</td>\n",
       "      <td>0.333333</td>\n",
       "      <td>0.004000</td>\n",
       "      <td>0.361000</td>\n",
       "      <td>-9.414000</td>\n",
       "      <td>29.256667</td>\n",
       "      <td>20.084333</td>\n",
       "      <td>-0.369000</td>\n",
       "      <td>39.926667</td>\n",
       "      <td>0.664667</td>\n",
       "      <td>0.459533</td>\n",
       "      <td>-0.097667</td>\n",
       "      <td>0.031000</td>\n",
       "    </tr>\n",
       "    <tr>\n",
       "      <th>4</th>\n",
       "      <td>22.474000</td>\n",
       "      <td>-2.000000</td>\n",
       "      <td>-0.024000</td>\n",
       "      <td>29.576000</td>\n",
       "      <td>-33.946333</td>\n",
       "      <td>-416.315333</td>\n",
       "      <td>-38.017000</td>\n",
       "      <td>-0.863333</td>\n",
       "      <td>-488.278333</td>\n",
       "      <td>1.778333</td>\n",
       "      <td>1.090933</td>\n",
       "      <td>-0.048000</td>\n",
       "      <td>0.232333</td>\n",
       "    </tr>\n",
       "  </tbody>\n",
       "</table>\n",
       "</div>"
      ],
      "text/plain": [
       "        SDNN      NN50     PNN50      RMSSD         VLF           LF  \\\n",
       "0   0.013000  3.000000  0.052333   4.031000  103.554000   184.618000   \n",
       "1 -10.302000  4.000000  0.066667   2.679000 -335.397667 -1035.652000   \n",
       "2  -6.370000  0.000000  0.000000  -0.883333   -9.966667   -36.395667   \n",
       "3   2.291667  0.333333  0.004000   0.361000   -9.414000    29.256667   \n",
       "4  22.474000 -2.000000 -0.024000  29.576000  -33.946333  -416.315333   \n",
       "\n",
       "           HF     LF/HF        POWER        HR      RESP        SC      TEMP  \n",
       "0   56.917333  0.183000   345.089000 -1.751333 -0.039000  0.217000  0.008000  \n",
       "1 -117.790667 -1.463000 -1488.840000 -3.499333 -0.183000  0.000333  0.033667  \n",
       "2    0.591667 -0.573000   -45.771000  0.824667  0.156333  0.031000 -0.006333  \n",
       "3   20.084333 -0.369000    39.926667  0.664667  0.459533 -0.097667  0.031000  \n",
       "4  -38.017000 -0.863333  -488.278333  1.778333  1.090933 -0.048000  0.232333  "
      ]
     },
     "execution_count": 65,
     "metadata": {},
     "output_type": "execute_result"
    }
   ],
   "source": [
    "hrv_r_b3_sub = hrv_r_rename - hrv_b3_rename\n",
    "hrv_r_b3_sub.head()"
   ]
  },
  {
   "cell_type": "code",
   "execution_count": null,
   "id": "c29fa1a7-3f00-4e82-a6e1-a5e9dbe4753c",
   "metadata": {},
   "outputs": [],
   "source": []
  },
  {
   "cell_type": "markdown",
   "id": "2a4c8d8b-3430-4a5b-8c97-476798a5f25d",
   "metadata": {},
   "source": [
    "### 5) Baseline 3 - Recovery phase"
   ]
  },
  {
   "cell_type": "code",
   "execution_count": 66,
   "id": "72e75782-6310-46e7-9508-2ac9dadad7c3",
   "metadata": {},
   "outputs": [
    {
     "data": {
      "text/html": [
       "<div>\n",
       "<style scoped>\n",
       "    .dataframe tbody tr th:only-of-type {\n",
       "        vertical-align: middle;\n",
       "    }\n",
       "\n",
       "    .dataframe tbody tr th {\n",
       "        vertical-align: top;\n",
       "    }\n",
       "\n",
       "    .dataframe thead th {\n",
       "        text-align: right;\n",
       "    }\n",
       "</style>\n",
       "<table border=\"1\" class=\"dataframe\">\n",
       "  <thead>\n",
       "    <tr style=\"text-align: right;\">\n",
       "      <th></th>\n",
       "      <th>SDNN</th>\n",
       "      <th>NN50</th>\n",
       "      <th>PNN50</th>\n",
       "      <th>RMSSD</th>\n",
       "      <th>VLF</th>\n",
       "      <th>LF</th>\n",
       "      <th>HF</th>\n",
       "      <th>LF/HF</th>\n",
       "      <th>POWER</th>\n",
       "      <th>HR</th>\n",
       "      <th>RESP</th>\n",
       "      <th>SC</th>\n",
       "      <th>TEMP</th>\n",
       "    </tr>\n",
       "  </thead>\n",
       "  <tbody>\n",
       "    <tr>\n",
       "      <th>0</th>\n",
       "      <td>12.304667</td>\n",
       "      <td>5.000000</td>\n",
       "      <td>0.082000</td>\n",
       "      <td>11.538000</td>\n",
       "      <td>-87.053000</td>\n",
       "      <td>22.708667</td>\n",
       "      <td>183.949333</td>\n",
       "      <td>-0.400667</td>\n",
       "      <td>119.605667</td>\n",
       "      <td>-2.086000</td>\n",
       "      <td>0.554000</td>\n",
       "      <td>-0.973000</td>\n",
       "      <td>0.049667</td>\n",
       "    </tr>\n",
       "    <tr>\n",
       "      <th>1</th>\n",
       "      <td>11.430000</td>\n",
       "      <td>0.000000</td>\n",
       "      <td>-0.000333</td>\n",
       "      <td>3.136000</td>\n",
       "      <td>344.203333</td>\n",
       "      <td>1457.863334</td>\n",
       "      <td>196.513333</td>\n",
       "      <td>2.423000</td>\n",
       "      <td>1998.580333</td>\n",
       "      <td>0.804333</td>\n",
       "      <td>-0.045667</td>\n",
       "      <td>-3.214333</td>\n",
       "      <td>-0.499667</td>\n",
       "    </tr>\n",
       "    <tr>\n",
       "      <th>2</th>\n",
       "      <td>5.140667</td>\n",
       "      <td>-0.333333</td>\n",
       "      <td>-0.003667</td>\n",
       "      <td>-6.298333</td>\n",
       "      <td>47.976667</td>\n",
       "      <td>35.215667</td>\n",
       "      <td>-2.485667</td>\n",
       "      <td>-0.249000</td>\n",
       "      <td>80.707333</td>\n",
       "      <td>0.584667</td>\n",
       "      <td>4.988667</td>\n",
       "      <td>-0.041000</td>\n",
       "      <td>0.039000</td>\n",
       "    </tr>\n",
       "    <tr>\n",
       "      <th>3</th>\n",
       "      <td>7.316333</td>\n",
       "      <td>0.666667</td>\n",
       "      <td>0.008000</td>\n",
       "      <td>1.034000</td>\n",
       "      <td>28.962333</td>\n",
       "      <td>110.159333</td>\n",
       "      <td>48.298000</td>\n",
       "      <td>-2.942667</td>\n",
       "      <td>187.419333</td>\n",
       "      <td>-2.421667</td>\n",
       "      <td>4.454000</td>\n",
       "      <td>0.009333</td>\n",
       "      <td>0.096667</td>\n",
       "    </tr>\n",
       "    <tr>\n",
       "      <th>4</th>\n",
       "      <td>-4.424000</td>\n",
       "      <td>-4.333333</td>\n",
       "      <td>-0.051333</td>\n",
       "      <td>3.227667</td>\n",
       "      <td>-66.960667</td>\n",
       "      <td>53.581000</td>\n",
       "      <td>-23.631000</td>\n",
       "      <td>0.085667</td>\n",
       "      <td>-37.011334</td>\n",
       "      <td>-1.356000</td>\n",
       "      <td>2.324333</td>\n",
       "      <td>-0.033333</td>\n",
       "      <td>-0.065667</td>\n",
       "    </tr>\n",
       "  </tbody>\n",
       "</table>\n",
       "</div>"
      ],
      "text/plain": [
       "        SDNN      NN50     PNN50      RMSSD         VLF           LF  \\\n",
       "0  12.304667  5.000000  0.082000  11.538000  -87.053000    22.708667   \n",
       "1  11.430000  0.000000 -0.000333   3.136000  344.203333  1457.863334   \n",
       "2   5.140667 -0.333333 -0.003667  -6.298333   47.976667    35.215667   \n",
       "3   7.316333  0.666667  0.008000   1.034000   28.962333   110.159333   \n",
       "4  -4.424000 -4.333333 -0.051333   3.227667  -66.960667    53.581000   \n",
       "\n",
       "           HF     LF/HF        POWER        HR      RESP        SC      TEMP  \n",
       "0  183.949333 -0.400667   119.605667 -2.086000  0.554000 -0.973000  0.049667  \n",
       "1  196.513333  2.423000  1998.580333  0.804333 -0.045667 -3.214333 -0.499667  \n",
       "2   -2.485667 -0.249000    80.707333  0.584667  4.988667 -0.041000  0.039000  \n",
       "3   48.298000 -2.942667   187.419333 -2.421667  4.454000  0.009333  0.096667  \n",
       "4  -23.631000  0.085667   -37.011334 -1.356000  2.324333 -0.033333 -0.065667  "
      ]
     },
     "execution_count": 66,
     "metadata": {},
     "output_type": "execute_result"
    }
   ],
   "source": [
    "hrv_b3_c_sub = hrv_b3_rename - hrv_c_rename\n",
    "hrv_b3_c_sub.head()"
   ]
  },
  {
   "cell_type": "code",
   "execution_count": null,
   "id": "074e178b-75db-4c36-b804-b910667dd848",
   "metadata": {},
   "outputs": [],
   "source": []
  },
  {
   "cell_type": "markdown",
   "id": "3a92554c-202b-4b81-a0e4-96117f8c4db2",
   "metadata": {},
   "source": [
    "### 6) Stress - Rest phase"
   ]
  },
  {
   "cell_type": "markdown",
   "id": "142631a8-4fc5-47ab-b950-4a3655bd0e48",
   "metadata": {},
   "source": [
    "* This is what SMC checks for the research"
   ]
  },
  {
   "cell_type": "code",
   "execution_count": 67,
   "id": "668cf1e4-7f05-417f-897b-8a7609c91a22",
   "metadata": {},
   "outputs": [
    {
     "data": {
      "text/html": [
       "<div>\n",
       "<style scoped>\n",
       "    .dataframe tbody tr th:only-of-type {\n",
       "        vertical-align: middle;\n",
       "    }\n",
       "\n",
       "    .dataframe tbody tr th {\n",
       "        vertical-align: top;\n",
       "    }\n",
       "\n",
       "    .dataframe thead th {\n",
       "        text-align: right;\n",
       "    }\n",
       "</style>\n",
       "<table border=\"1\" class=\"dataframe\">\n",
       "  <thead>\n",
       "    <tr style=\"text-align: right;\">\n",
       "      <th></th>\n",
       "      <th>SDNN</th>\n",
       "      <th>NN50</th>\n",
       "      <th>PNN50</th>\n",
       "      <th>RMSSD</th>\n",
       "      <th>VLF</th>\n",
       "      <th>LF</th>\n",
       "      <th>HF</th>\n",
       "      <th>LF/HF</th>\n",
       "      <th>POWER</th>\n",
       "      <th>HR</th>\n",
       "      <th>RESP</th>\n",
       "      <th>SC</th>\n",
       "      <th>TEMP</th>\n",
       "    </tr>\n",
       "  </thead>\n",
       "  <tbody>\n",
       "    <tr>\n",
       "      <th>0</th>\n",
       "      <td>-0.964667</td>\n",
       "      <td>-6.333333</td>\n",
       "      <td>-0.108667</td>\n",
       "      <td>-11.627000</td>\n",
       "      <td>-103.696000</td>\n",
       "      <td>-126.545667</td>\n",
       "      <td>-317.625000</td>\n",
       "      <td>1.864000</td>\n",
       "      <td>-547.867000</td>\n",
       "      <td>3.615000</td>\n",
       "      <td>-1.432667</td>\n",
       "      <td>2.514000</td>\n",
       "      <td>-1.373333</td>\n",
       "    </tr>\n",
       "    <tr>\n",
       "      <th>1</th>\n",
       "      <td>17.599667</td>\n",
       "      <td>-2.000000</td>\n",
       "      <td>-0.041667</td>\n",
       "      <td>25.196333</td>\n",
       "      <td>322.913667</td>\n",
       "      <td>807.783000</td>\n",
       "      <td>1108.688667</td>\n",
       "      <td>0.441000</td>\n",
       "      <td>2239.384667</td>\n",
       "      <td>6.512333</td>\n",
       "      <td>0.060000</td>\n",
       "      <td>7.035000</td>\n",
       "      <td>-0.068667</td>\n",
       "    </tr>\n",
       "    <tr>\n",
       "      <th>2</th>\n",
       "      <td>5.514333</td>\n",
       "      <td>0.000000</td>\n",
       "      <td>0.000000</td>\n",
       "      <td>3.957667</td>\n",
       "      <td>-5.121000</td>\n",
       "      <td>69.116000</td>\n",
       "      <td>38.783000</td>\n",
       "      <td>-0.110333</td>\n",
       "      <td>102.778000</td>\n",
       "      <td>0.892333</td>\n",
       "      <td>-1.373000</td>\n",
       "      <td>0.190333</td>\n",
       "      <td>0.069000</td>\n",
       "    </tr>\n",
       "    <tr>\n",
       "      <th>3</th>\n",
       "      <td>-15.830000</td>\n",
       "      <td>-1.000000</td>\n",
       "      <td>-0.012000</td>\n",
       "      <td>-9.176667</td>\n",
       "      <td>-41.338000</td>\n",
       "      <td>-183.361000</td>\n",
       "      <td>-64.218333</td>\n",
       "      <td>-0.603000</td>\n",
       "      <td>-288.917333</td>\n",
       "      <td>6.741000</td>\n",
       "      <td>-3.532200</td>\n",
       "      <td>-0.045333</td>\n",
       "      <td>-0.042000</td>\n",
       "    </tr>\n",
       "    <tr>\n",
       "      <th>4</th>\n",
       "      <td>-35.802333</td>\n",
       "      <td>0.333333</td>\n",
       "      <td>0.002000</td>\n",
       "      <td>-63.449000</td>\n",
       "      <td>-53.549667</td>\n",
       "      <td>112.173000</td>\n",
       "      <td>-240.828333</td>\n",
       "      <td>0.615000</td>\n",
       "      <td>-182.205000</td>\n",
       "      <td>4.521000</td>\n",
       "      <td>-3.886933</td>\n",
       "      <td>-0.031667</td>\n",
       "      <td>-0.082667</td>\n",
       "    </tr>\n",
       "  </tbody>\n",
       "</table>\n",
       "</div>"
      ],
      "text/plain": [
       "        SDNN      NN50     PNN50      RMSSD         VLF          LF  \\\n",
       "0  -0.964667 -6.333333 -0.108667 -11.627000 -103.696000 -126.545667   \n",
       "1  17.599667 -2.000000 -0.041667  25.196333  322.913667  807.783000   \n",
       "2   5.514333  0.000000  0.000000   3.957667   -5.121000   69.116000   \n",
       "3 -15.830000 -1.000000 -0.012000  -9.176667  -41.338000 -183.361000   \n",
       "4 -35.802333  0.333333  0.002000 -63.449000  -53.549667  112.173000   \n",
       "\n",
       "            HF     LF/HF        POWER        HR      RESP        SC      TEMP  \n",
       "0  -317.625000  1.864000  -547.867000  3.615000 -1.432667  2.514000 -1.373333  \n",
       "1  1108.688667  0.441000  2239.384667  6.512333  0.060000  7.035000 -0.068667  \n",
       "2    38.783000 -0.110333   102.778000  0.892333 -1.373000  0.190333  0.069000  \n",
       "3   -64.218333 -0.603000  -288.917333  6.741000 -3.532200 -0.045333 -0.042000  \n",
       "4  -240.828333  0.615000  -182.205000  4.521000 -3.886933 -0.031667 -0.082667  "
      ]
     },
     "execution_count": 67,
     "metadata": {},
     "output_type": "execute_result"
    }
   ],
   "source": [
    "hrv_s_r_sub = hrv_s_rename - hrv_r_rename\n",
    "hrv_s_r_sub.head()"
   ]
  },
  {
   "cell_type": "code",
   "execution_count": null,
   "id": "a547d5a9-46e5-4a68-80d0-d9fbe2015614",
   "metadata": {},
   "outputs": [],
   "source": []
  },
  {
   "cell_type": "markdown",
   "id": "1f3f096b-fe2c-4c22-9f67-00d793ba6205",
   "metadata": {},
   "source": [
    "- - -"
   ]
  },
  {
   "cell_type": "markdown",
   "id": "eb5ee775-d694-4088-866c-3e12d91b0bad",
   "metadata": {},
   "source": [
    "## Data preprocessing for ML"
   ]
  },
  {
   "cell_type": "markdown",
   "id": "f625558c-3702-4dcf-8807-b6c35a5c6eab",
   "metadata": {},
   "source": [
    "* The \"hrv_only\" data shows all hrv features from all three phases"
   ]
  },
  {
   "cell_type": "code",
   "execution_count": 28,
   "id": "a98a962e-1186-49ff-b265-0cfc4680725d",
   "metadata": {},
   "outputs": [
    {
     "data": {
      "text/plain": [
       "(479, 78)"
      ]
     },
     "execution_count": 28,
     "metadata": {},
     "output_type": "execute_result"
    }
   ],
   "source": [
    "hrv_only.shape"
   ]
  },
  {
   "cell_type": "code",
   "execution_count": 29,
   "id": "321c371b-f767-48c3-a7ac-1be97013e412",
   "metadata": {},
   "outputs": [
    {
     "data": {
      "text/plain": [
       "(479, 78)"
      ]
     },
     "execution_count": 29,
     "metadata": {},
     "output_type": "execute_result"
    }
   ],
   "source": [
    "hrv_arr = hrv_only.values\n",
    "hrv_arr.shape"
   ]
  },
  {
   "cell_type": "code",
   "execution_count": 33,
   "id": "89f287bf-5bb7-4b5c-92da-17d313847248",
   "metadata": {},
   "outputs": [
    {
     "data": {
      "text/plain": [
       "array([7.57572050e-02, 3.43999725e-01, 4.95744681e-01, 5.48618085e-02,\n",
       "       7.10357963e-04, 5.65109044e-04, 3.83375473e-03, 7.47808460e-03,\n",
       "       1.30291727e-03, 1.45327715e-01, 7.25296070e-01, 7.06635623e-02,\n",
       "       8.41094174e-01, 8.10983949e-02, 2.31999814e-01, 3.26409738e-01,\n",
       "       5.04428727e-02, 2.13408362e-03, 3.17540086e-03, 2.40447750e-03,\n",
       "       1.39438493e-01, 3.38000089e-03, 1.69496955e-01, 4.68541897e-01,\n",
       "       3.24184689e-01, 7.52053590e-01, 7.52630775e-02, 3.75000000e-01,\n",
       "       5.55133501e-01, 5.30970595e-02, 7.66940642e-04, 1.09823017e-03,\n",
       "       3.43297987e-03, 2.91039443e-02, 1.48142601e-03, 1.62446843e-01,\n",
       "       5.92977238e-01, 3.31017139e-01, 8.30780599e-01, 5.91833662e-02,\n",
       "       3.55555556e-01, 5.45584045e-01, 5.14524622e-02, 1.30938566e-03,\n",
       "       1.30544502e-03, 4.43996783e-03, 3.41954354e-02, 1.79000209e-03,\n",
       "       1.78733418e-01, 6.13257952e-01, 2.07225812e-01, 8.75418475e-01,\n",
       "       1.35503971e-01, 2.70833333e-01, 4.43877875e-01, 9.17960003e-02,\n",
       "       2.84491487e-03, 2.73978406e-03, 1.43310805e-02, 1.59724439e-02,\n",
       "       4.50089505e-03, 2.21065456e-01, 6.58884115e-01, 2.14073912e-01,\n",
       "       8.79993003e-01, 6.49259482e-02, 1.95121951e-01, 2.57995736e-01,\n",
       "       4.76003212e-02, 1.65133220e-03, 1.53143704e-03, 1.55602310e-03,\n",
       "       2.69153328e-02, 1.56045063e-03, 2.19382220e-01, 5.53832191e-01,\n",
       "       2.64774725e-01, 8.79142698e-01])"
      ]
     },
     "execution_count": 33,
     "metadata": {},
     "output_type": "execute_result"
    }
   ],
   "source": [
    "hrv_arr[0]"
   ]
  },
  {
   "cell_type": "code",
   "execution_count": null,
   "id": "ddbc14d7-9575-44b2-b3d8-da653f07a5ba",
   "metadata": {},
   "outputs": [],
   "source": []
  },
  {
   "cell_type": "code",
   "execution_count": null,
   "id": "4c5297c5-9668-46ac-90e6-3fc848df94e1",
   "metadata": {},
   "outputs": [],
   "source": []
  },
  {
   "cell_type": "code",
   "execution_count": null,
   "id": "22aa473b-576c-4a14-86c5-4149ae08ea0f",
   "metadata": {},
   "outputs": [],
   "source": []
  },
  {
   "cell_type": "code",
   "execution_count": null,
   "id": "449612de-611f-46c4-bd3f-dbbc4aa760c4",
   "metadata": {},
   "outputs": [],
   "source": []
  },
  {
   "cell_type": "code",
   "execution_count": null,
   "id": "d6a2aa33-3d8e-4682-a966-611518fb1b56",
   "metadata": {},
   "outputs": [],
   "source": []
  },
  {
   "cell_type": "code",
   "execution_count": null,
   "id": "2f5c45b2-a77b-44b1-8105-fc4c5801a75e",
   "metadata": {},
   "outputs": [],
   "source": []
  },
  {
   "cell_type": "code",
   "execution_count": null,
   "id": "15f67af3-cd91-4362-a370-c4d9d80221cd",
   "metadata": {},
   "outputs": [],
   "source": []
  },
  {
   "cell_type": "markdown",
   "id": "b338dad3-305e-4ede-a35c-804e2b3d8340",
   "metadata": {},
   "source": [
    "- - -"
   ]
  },
  {
   "cell_type": "markdown",
   "id": "460d29ed-6b45-4579-8cd5-9ec237cc957b",
   "metadata": {},
   "source": [
    "# Data Visualization"
   ]
  },
  {
   "cell_type": "code",
   "execution_count": null,
   "id": "163fbea3-2510-430f-ac86-7c69d7bbb8e4",
   "metadata": {},
   "outputs": [],
   "source": [
    "hrv.describe()"
   ]
  },
  {
   "cell_type": "code",
   "execution_count": null,
   "id": "a0c4e244-9153-4f4f-9b63-10eefe9738b6",
   "metadata": {},
   "outputs": [],
   "source": []
  },
  {
   "cell_type": "markdown",
   "id": "e77cd19a-2cd0-4362-bf30-b4874d38bdf2",
   "metadata": {},
   "source": [
    "## Age and Disorder"
   ]
  },
  {
   "cell_type": "code",
   "execution_count": null,
   "id": "827f67d0-3e02-4a72-b26f-77ad5fa7310e",
   "metadata": {},
   "outputs": [],
   "source": [
    "sns.set_style('whitegrid')\n",
    "g = sns.FacetGrid(hrv, col='disorder')\n",
    "g.map(plt.hist, 'age', bins=20)"
   ]
  },
  {
   "cell_type": "code",
   "execution_count": null,
   "id": "0cdc22af-47f6-4180-bc25-bc837134d721",
   "metadata": {},
   "outputs": [],
   "source": []
  },
  {
   "cell_type": "markdown",
   "id": "e837919d-85f0-45b6-9475-a5291170ed0a",
   "metadata": {},
   "source": [
    "## Gender and Disorder"
   ]
  },
  {
   "cell_type": "code",
   "execution_count": null,
   "id": "102eff17-9d7d-477d-8cd0-18dcf1a5d20f",
   "metadata": {},
   "outputs": [],
   "source": [
    "sns.set_style('whitegrid')\n",
    "g = sns.FacetGrid(hrv, col='disorder')\n",
    "g.map(plt.hist, 'gender', bins=20)"
   ]
  },
  {
   "cell_type": "code",
   "execution_count": null,
   "id": "e5cbe28f-9953-4245-865c-da729d2a7472",
   "metadata": {},
   "outputs": [],
   "source": []
  },
  {
   "cell_type": "code",
   "execution_count": null,
   "id": "df7707dc-e941-41a3-9627-dac3435f6810",
   "metadata": {},
   "outputs": [],
   "source": []
  },
  {
   "cell_type": "markdown",
   "id": "259e85f5-0403-483c-aaa9-b64bf4675cf1",
   "metadata": {},
   "source": [
    "## HRV Variable Distributions"
   ]
  },
  {
   "cell_type": "markdown",
   "id": "3da0df5f-f912-49fb-880c-42ac92a3cbc7",
   "metadata": {},
   "source": [
    "* dataset lists:\n",
    "> baseline1 ~ stress  -- hrv_b1_s_sub \\\n",
    "stress ~ baseline2  -- hrv_s_b2_sub \\\n",
    "baseline2 ~ rest    -- hrv_b2_r_sub \\\n",
    "rest ~ baseline3    -- hrv_r_b3_sub \\\n",
    "baseline3 ~ recovery -- hrv_b3_c_sub \\\n",
    "stress ~ rest  -- hrv_s_r_sub"
   ]
  },
  {
   "cell_type": "code",
   "execution_count": 68,
   "id": "bf278089-cb2f-444f-b056-a05524beb9fa",
   "metadata": {
    "collapsed": true,
    "jupyter": {
     "outputs_hidden": true
    },
    "tags": []
   },
   "outputs": [
    {
     "data": {
      "text/html": [
       "<div>\n",
       "<style scoped>\n",
       "    .dataframe tbody tr th:only-of-type {\n",
       "        vertical-align: middle;\n",
       "    }\n",
       "\n",
       "    .dataframe tbody tr th {\n",
       "        vertical-align: top;\n",
       "    }\n",
       "\n",
       "    .dataframe thead th {\n",
       "        text-align: right;\n",
       "    }\n",
       "</style>\n",
       "<table border=\"1\" class=\"dataframe\">\n",
       "  <thead>\n",
       "    <tr style=\"text-align: right;\">\n",
       "      <th></th>\n",
       "      <th>SDNN</th>\n",
       "      <th>NN50</th>\n",
       "      <th>PNN50</th>\n",
       "      <th>RMSSD</th>\n",
       "      <th>VLF</th>\n",
       "      <th>LF</th>\n",
       "      <th>HF</th>\n",
       "      <th>LF/HF</th>\n",
       "      <th>POWER</th>\n",
       "      <th>HR</th>\n",
       "      <th>RESP</th>\n",
       "      <th>SC</th>\n",
       "      <th>TEMP</th>\n",
       "    </tr>\n",
       "  </thead>\n",
       "  <tbody>\n",
       "    <tr>\n",
       "      <th>0</th>\n",
       "      <td>-11.360000</td>\n",
       "      <td>-5.333333</td>\n",
       "      <td>-0.096667</td>\n",
       "      <td>-18.286000</td>\n",
       "      <td>-58.710000</td>\n",
       "      <td>-66.028667</td>\n",
       "      <td>-406.971333</td>\n",
       "      <td>2.004000</td>\n",
       "      <td>-531.710000</td>\n",
       "      <td>4.353333</td>\n",
       "      <td>-1.105333</td>\n",
       "      <td>-0.297667</td>\n",
       "      <td>-0.856667</td>\n",
       "    </tr>\n",
       "    <tr>\n",
       "      <th>1</th>\n",
       "      <td>9.035667</td>\n",
       "      <td>-4.333333</td>\n",
       "      <td>-0.080333</td>\n",
       "      <td>20.483333</td>\n",
       "      <td>234.864333</td>\n",
       "      <td>1052.266334</td>\n",
       "      <td>993.647000</td>\n",
       "      <td>1.265333</td>\n",
       "      <td>2280.777667</td>\n",
       "      <td>8.344667</td>\n",
       "      <td>0.931000</td>\n",
       "      <td>2.270000</td>\n",
       "      <td>0.033667</td>\n",
       "    </tr>\n",
       "    <tr>\n",
       "      <th>2</th>\n",
       "      <td>2.347000</td>\n",
       "      <td>0.000000</td>\n",
       "      <td>0.000000</td>\n",
       "      <td>3.369000</td>\n",
       "      <td>13.332333</td>\n",
       "      <td>71.931667</td>\n",
       "      <td>45.656333</td>\n",
       "      <td>-0.551333</td>\n",
       "      <td>130.920000</td>\n",
       "      <td>3.359667</td>\n",
       "      <td>-1.622667</td>\n",
       "      <td>0.132000</td>\n",
       "      <td>0.003000</td>\n",
       "    </tr>\n",
       "    <tr>\n",
       "      <th>3</th>\n",
       "      <td>-5.727667</td>\n",
       "      <td>0.000000</td>\n",
       "      <td>0.000000</td>\n",
       "      <td>-2.342667</td>\n",
       "      <td>-48.445667</td>\n",
       "      <td>-33.052000</td>\n",
       "      <td>-11.412000</td>\n",
       "      <td>0.121000</td>\n",
       "      <td>-92.909667</td>\n",
       "      <td>4.459000</td>\n",
       "      <td>-3.775667</td>\n",
       "      <td>0.003333</td>\n",
       "      <td>-0.043667</td>\n",
       "    </tr>\n",
       "    <tr>\n",
       "      <th>4</th>\n",
       "      <td>25.174667</td>\n",
       "      <td>1.666667</td>\n",
       "      <td>0.018333</td>\n",
       "      <td>16.042000</td>\n",
       "      <td>-6.794000</td>\n",
       "      <td>182.404333</td>\n",
       "      <td>200.162000</td>\n",
       "      <td>-0.467333</td>\n",
       "      <td>375.771667</td>\n",
       "      <td>2.845333</td>\n",
       "      <td>-3.480667</td>\n",
       "      <td>-0.013333</td>\n",
       "      <td>-0.057667</td>\n",
       "    </tr>\n",
       "    <tr>\n",
       "      <th>...</th>\n",
       "      <td>...</td>\n",
       "      <td>...</td>\n",
       "      <td>...</td>\n",
       "      <td>...</td>\n",
       "      <td>...</td>\n",
       "      <td>...</td>\n",
       "      <td>...</td>\n",
       "      <td>...</td>\n",
       "      <td>...</td>\n",
       "      <td>...</td>\n",
       "      <td>...</td>\n",
       "      <td>...</td>\n",
       "      <td>...</td>\n",
       "    </tr>\n",
       "    <tr>\n",
       "      <th>474</th>\n",
       "      <td>-0.063300</td>\n",
       "      <td>-0.333333</td>\n",
       "      <td>-0.004333</td>\n",
       "      <td>-0.008400</td>\n",
       "      <td>5.275000</td>\n",
       "      <td>1.736300</td>\n",
       "      <td>25.451000</td>\n",
       "      <td>-0.828000</td>\n",
       "      <td>32.462000</td>\n",
       "      <td>4.179300</td>\n",
       "      <td>-3.194300</td>\n",
       "      <td>0.433666</td>\n",
       "      <td>-0.849000</td>\n",
       "    </tr>\n",
       "    <tr>\n",
       "      <th>475</th>\n",
       "      <td>115.242000</td>\n",
       "      <td>-1.333300</td>\n",
       "      <td>0.011000</td>\n",
       "      <td>147.397000</td>\n",
       "      <td>-84402.600000</td>\n",
       "      <td>-231858.300000</td>\n",
       "      <td>-1595.900000</td>\n",
       "      <td>-3.015670</td>\n",
       "      <td>-317856.000000</td>\n",
       "      <td>5.890000</td>\n",
       "      <td>2.630000</td>\n",
       "      <td>0.254000</td>\n",
       "      <td>1.329000</td>\n",
       "    </tr>\n",
       "    <tr>\n",
       "      <th>476</th>\n",
       "      <td>-296.497000</td>\n",
       "      <td>3.000000</td>\n",
       "      <td>-0.007000</td>\n",
       "      <td>-432.726000</td>\n",
       "      <td>-165667.500000</td>\n",
       "      <td>-81525.600000</td>\n",
       "      <td>-14913.100000</td>\n",
       "      <td>-0.816670</td>\n",
       "      <td>-262106.400000</td>\n",
       "      <td>-8.081000</td>\n",
       "      <td>1.403400</td>\n",
       "      <td>0.641340</td>\n",
       "      <td>-0.179700</td>\n",
       "    </tr>\n",
       "    <tr>\n",
       "      <th>477</th>\n",
       "      <td>19.163000</td>\n",
       "      <td>3.333340</td>\n",
       "      <td>0.039333</td>\n",
       "      <td>15.212300</td>\n",
       "      <td>0.259300</td>\n",
       "      <td>29.133000</td>\n",
       "      <td>89.677000</td>\n",
       "      <td>-2.690000</td>\n",
       "      <td>119.070000</td>\n",
       "      <td>4.540700</td>\n",
       "      <td>0.491700</td>\n",
       "      <td>0.152000</td>\n",
       "      <td>-0.257000</td>\n",
       "    </tr>\n",
       "    <tr>\n",
       "      <th>478</th>\n",
       "      <td>6.738600</td>\n",
       "      <td>6.000003</td>\n",
       "      <td>0.069667</td>\n",
       "      <td>10.194400</td>\n",
       "      <td>-12.755300</td>\n",
       "      <td>65.494000</td>\n",
       "      <td>135.417000</td>\n",
       "      <td>-3.776003</td>\n",
       "      <td>188.156000</td>\n",
       "      <td>1.589600</td>\n",
       "      <td>3.296000</td>\n",
       "      <td>-0.007666</td>\n",
       "      <td>2.032000</td>\n",
       "    </tr>\n",
       "  </tbody>\n",
       "</table>\n",
       "<p>479 rows × 13 columns</p>\n",
       "</div>"
      ],
      "text/plain": [
       "           SDNN      NN50     PNN50       RMSSD            VLF             LF  \\\n",
       "0    -11.360000 -5.333333 -0.096667  -18.286000     -58.710000     -66.028667   \n",
       "1      9.035667 -4.333333 -0.080333   20.483333     234.864333    1052.266334   \n",
       "2      2.347000  0.000000  0.000000    3.369000      13.332333      71.931667   \n",
       "3     -5.727667  0.000000  0.000000   -2.342667     -48.445667     -33.052000   \n",
       "4     25.174667  1.666667  0.018333   16.042000      -6.794000     182.404333   \n",
       "..          ...       ...       ...         ...            ...            ...   \n",
       "474   -0.063300 -0.333333 -0.004333   -0.008400       5.275000       1.736300   \n",
       "475  115.242000 -1.333300  0.011000  147.397000  -84402.600000 -231858.300000   \n",
       "476 -296.497000  3.000000 -0.007000 -432.726000 -165667.500000  -81525.600000   \n",
       "477   19.163000  3.333340  0.039333   15.212300       0.259300      29.133000   \n",
       "478    6.738600  6.000003  0.069667   10.194400     -12.755300      65.494000   \n",
       "\n",
       "               HF     LF/HF          POWER        HR      RESP        SC  \\\n",
       "0     -406.971333  2.004000    -531.710000  4.353333 -1.105333 -0.297667   \n",
       "1      993.647000  1.265333    2280.777667  8.344667  0.931000  2.270000   \n",
       "2       45.656333 -0.551333     130.920000  3.359667 -1.622667  0.132000   \n",
       "3      -11.412000  0.121000     -92.909667  4.459000 -3.775667  0.003333   \n",
       "4      200.162000 -0.467333     375.771667  2.845333 -3.480667 -0.013333   \n",
       "..            ...       ...            ...       ...       ...       ...   \n",
       "474     25.451000 -0.828000      32.462000  4.179300 -3.194300  0.433666   \n",
       "475  -1595.900000 -3.015670 -317856.000000  5.890000  2.630000  0.254000   \n",
       "476 -14913.100000 -0.816670 -262106.400000 -8.081000  1.403400  0.641340   \n",
       "477     89.677000 -2.690000     119.070000  4.540700  0.491700  0.152000   \n",
       "478    135.417000 -3.776003     188.156000  1.589600  3.296000 -0.007666   \n",
       "\n",
       "         TEMP  \n",
       "0   -0.856667  \n",
       "1    0.033667  \n",
       "2    0.003000  \n",
       "3   -0.043667  \n",
       "4   -0.057667  \n",
       "..        ...  \n",
       "474 -0.849000  \n",
       "475  1.329000  \n",
       "476 -0.179700  \n",
       "477 -0.257000  \n",
       "478  2.032000  \n",
       "\n",
       "[479 rows x 13 columns]"
      ]
     },
     "execution_count": 68,
     "metadata": {},
     "output_type": "execute_result"
    }
   ],
   "source": [
    "hrv_s_b2_sub"
   ]
  },
  {
   "cell_type": "markdown",
   "id": "93f857bd-868e-4045-9c76-2ddd71d065ce",
   "metadata": {},
   "source": [
    "* Generating new dataframe that we want to check the distribution of."
   ]
  },
  {
   "cell_type": "code",
   "execution_count": 72,
   "id": "2f5a291e-8ecd-4580-9855-8d73361bf877",
   "metadata": {},
   "outputs": [],
   "source": [
    "hrv_visual = pd.concat([hrv_s_b2_sub, hrv_disorder],axis=1)"
   ]
  },
  {
   "cell_type": "code",
   "execution_count": 73,
   "id": "aa8aab73-9fd7-4d40-bce0-a77c9977b7e3",
   "metadata": {
    "tags": []
   },
   "outputs": [
    {
     "data": {
      "text/html": [
       "<div>\n",
       "<style scoped>\n",
       "    .dataframe tbody tr th:only-of-type {\n",
       "        vertical-align: middle;\n",
       "    }\n",
       "\n",
       "    .dataframe tbody tr th {\n",
       "        vertical-align: top;\n",
       "    }\n",
       "\n",
       "    .dataframe thead th {\n",
       "        text-align: right;\n",
       "    }\n",
       "</style>\n",
       "<table border=\"1\" class=\"dataframe\">\n",
       "  <thead>\n",
       "    <tr style=\"text-align: right;\">\n",
       "      <th></th>\n",
       "      <th>SDNN</th>\n",
       "      <th>NN50</th>\n",
       "      <th>PNN50</th>\n",
       "      <th>RMSSD</th>\n",
       "      <th>VLF</th>\n",
       "      <th>LF</th>\n",
       "      <th>HF</th>\n",
       "      <th>LF/HF</th>\n",
       "      <th>POWER</th>\n",
       "      <th>HR</th>\n",
       "      <th>RESP</th>\n",
       "      <th>SC</th>\n",
       "      <th>TEMP</th>\n",
       "      <th>disorder</th>\n",
       "    </tr>\n",
       "  </thead>\n",
       "  <tbody>\n",
       "    <tr>\n",
       "      <th>0</th>\n",
       "      <td>-11.360000</td>\n",
       "      <td>-5.333333</td>\n",
       "      <td>-0.096667</td>\n",
       "      <td>-18.286000</td>\n",
       "      <td>-58.710000</td>\n",
       "      <td>-66.028667</td>\n",
       "      <td>-406.971333</td>\n",
       "      <td>2.004000</td>\n",
       "      <td>-531.710000</td>\n",
       "      <td>4.353333</td>\n",
       "      <td>-1.105333</td>\n",
       "      <td>-0.297667</td>\n",
       "      <td>-0.856667</td>\n",
       "      <td>1</td>\n",
       "    </tr>\n",
       "    <tr>\n",
       "      <th>1</th>\n",
       "      <td>9.035667</td>\n",
       "      <td>-4.333333</td>\n",
       "      <td>-0.080333</td>\n",
       "      <td>20.483333</td>\n",
       "      <td>234.864333</td>\n",
       "      <td>1052.266334</td>\n",
       "      <td>993.647000</td>\n",
       "      <td>1.265333</td>\n",
       "      <td>2280.777667</td>\n",
       "      <td>8.344667</td>\n",
       "      <td>0.931000</td>\n",
       "      <td>2.270000</td>\n",
       "      <td>0.033667</td>\n",
       "      <td>1</td>\n",
       "    </tr>\n",
       "    <tr>\n",
       "      <th>2</th>\n",
       "      <td>2.347000</td>\n",
       "      <td>0.000000</td>\n",
       "      <td>0.000000</td>\n",
       "      <td>3.369000</td>\n",
       "      <td>13.332333</td>\n",
       "      <td>71.931667</td>\n",
       "      <td>45.656333</td>\n",
       "      <td>-0.551333</td>\n",
       "      <td>130.920000</td>\n",
       "      <td>3.359667</td>\n",
       "      <td>-1.622667</td>\n",
       "      <td>0.132000</td>\n",
       "      <td>0.003000</td>\n",
       "      <td>1</td>\n",
       "    </tr>\n",
       "    <tr>\n",
       "      <th>3</th>\n",
       "      <td>-5.727667</td>\n",
       "      <td>0.000000</td>\n",
       "      <td>0.000000</td>\n",
       "      <td>-2.342667</td>\n",
       "      <td>-48.445667</td>\n",
       "      <td>-33.052000</td>\n",
       "      <td>-11.412000</td>\n",
       "      <td>0.121000</td>\n",
       "      <td>-92.909667</td>\n",
       "      <td>4.459000</td>\n",
       "      <td>-3.775667</td>\n",
       "      <td>0.003333</td>\n",
       "      <td>-0.043667</td>\n",
       "      <td>1</td>\n",
       "    </tr>\n",
       "    <tr>\n",
       "      <th>4</th>\n",
       "      <td>25.174667</td>\n",
       "      <td>1.666667</td>\n",
       "      <td>0.018333</td>\n",
       "      <td>16.042000</td>\n",
       "      <td>-6.794000</td>\n",
       "      <td>182.404333</td>\n",
       "      <td>200.162000</td>\n",
       "      <td>-0.467333</td>\n",
       "      <td>375.771667</td>\n",
       "      <td>2.845333</td>\n",
       "      <td>-3.480667</td>\n",
       "      <td>-0.013333</td>\n",
       "      <td>-0.057667</td>\n",
       "      <td>1</td>\n",
       "    </tr>\n",
       "    <tr>\n",
       "      <th>...</th>\n",
       "      <td>...</td>\n",
       "      <td>...</td>\n",
       "      <td>...</td>\n",
       "      <td>...</td>\n",
       "      <td>...</td>\n",
       "      <td>...</td>\n",
       "      <td>...</td>\n",
       "      <td>...</td>\n",
       "      <td>...</td>\n",
       "      <td>...</td>\n",
       "      <td>...</td>\n",
       "      <td>...</td>\n",
       "      <td>...</td>\n",
       "      <td>...</td>\n",
       "    </tr>\n",
       "    <tr>\n",
       "      <th>474</th>\n",
       "      <td>-0.063300</td>\n",
       "      <td>-0.333333</td>\n",
       "      <td>-0.004333</td>\n",
       "      <td>-0.008400</td>\n",
       "      <td>5.275000</td>\n",
       "      <td>1.736300</td>\n",
       "      <td>25.451000</td>\n",
       "      <td>-0.828000</td>\n",
       "      <td>32.462000</td>\n",
       "      <td>4.179300</td>\n",
       "      <td>-3.194300</td>\n",
       "      <td>0.433666</td>\n",
       "      <td>-0.849000</td>\n",
       "      <td>1</td>\n",
       "    </tr>\n",
       "    <tr>\n",
       "      <th>475</th>\n",
       "      <td>115.242000</td>\n",
       "      <td>-1.333300</td>\n",
       "      <td>0.011000</td>\n",
       "      <td>147.397000</td>\n",
       "      <td>-84402.600000</td>\n",
       "      <td>-231858.300000</td>\n",
       "      <td>-1595.900000</td>\n",
       "      <td>-3.015670</td>\n",
       "      <td>-317856.000000</td>\n",
       "      <td>5.890000</td>\n",
       "      <td>2.630000</td>\n",
       "      <td>0.254000</td>\n",
       "      <td>1.329000</td>\n",
       "      <td>1</td>\n",
       "    </tr>\n",
       "    <tr>\n",
       "      <th>476</th>\n",
       "      <td>-296.497000</td>\n",
       "      <td>3.000000</td>\n",
       "      <td>-0.007000</td>\n",
       "      <td>-432.726000</td>\n",
       "      <td>-165667.500000</td>\n",
       "      <td>-81525.600000</td>\n",
       "      <td>-14913.100000</td>\n",
       "      <td>-0.816670</td>\n",
       "      <td>-262106.400000</td>\n",
       "      <td>-8.081000</td>\n",
       "      <td>1.403400</td>\n",
       "      <td>0.641340</td>\n",
       "      <td>-0.179700</td>\n",
       "      <td>1</td>\n",
       "    </tr>\n",
       "    <tr>\n",
       "      <th>477</th>\n",
       "      <td>19.163000</td>\n",
       "      <td>3.333340</td>\n",
       "      <td>0.039333</td>\n",
       "      <td>15.212300</td>\n",
       "      <td>0.259300</td>\n",
       "      <td>29.133000</td>\n",
       "      <td>89.677000</td>\n",
       "      <td>-2.690000</td>\n",
       "      <td>119.070000</td>\n",
       "      <td>4.540700</td>\n",
       "      <td>0.491700</td>\n",
       "      <td>0.152000</td>\n",
       "      <td>-0.257000</td>\n",
       "      <td>1</td>\n",
       "    </tr>\n",
       "    <tr>\n",
       "      <th>478</th>\n",
       "      <td>6.738600</td>\n",
       "      <td>6.000003</td>\n",
       "      <td>0.069667</td>\n",
       "      <td>10.194400</td>\n",
       "      <td>-12.755300</td>\n",
       "      <td>65.494000</td>\n",
       "      <td>135.417000</td>\n",
       "      <td>-3.776003</td>\n",
       "      <td>188.156000</td>\n",
       "      <td>1.589600</td>\n",
       "      <td>3.296000</td>\n",
       "      <td>-0.007666</td>\n",
       "      <td>2.032000</td>\n",
       "      <td>1</td>\n",
       "    </tr>\n",
       "  </tbody>\n",
       "</table>\n",
       "<p>479 rows × 14 columns</p>\n",
       "</div>"
      ],
      "text/plain": [
       "           SDNN      NN50     PNN50       RMSSD            VLF             LF  \\\n",
       "0    -11.360000 -5.333333 -0.096667  -18.286000     -58.710000     -66.028667   \n",
       "1      9.035667 -4.333333 -0.080333   20.483333     234.864333    1052.266334   \n",
       "2      2.347000  0.000000  0.000000    3.369000      13.332333      71.931667   \n",
       "3     -5.727667  0.000000  0.000000   -2.342667     -48.445667     -33.052000   \n",
       "4     25.174667  1.666667  0.018333   16.042000      -6.794000     182.404333   \n",
       "..          ...       ...       ...         ...            ...            ...   \n",
       "474   -0.063300 -0.333333 -0.004333   -0.008400       5.275000       1.736300   \n",
       "475  115.242000 -1.333300  0.011000  147.397000  -84402.600000 -231858.300000   \n",
       "476 -296.497000  3.000000 -0.007000 -432.726000 -165667.500000  -81525.600000   \n",
       "477   19.163000  3.333340  0.039333   15.212300       0.259300      29.133000   \n",
       "478    6.738600  6.000003  0.069667   10.194400     -12.755300      65.494000   \n",
       "\n",
       "               HF     LF/HF          POWER        HR      RESP        SC  \\\n",
       "0     -406.971333  2.004000    -531.710000  4.353333 -1.105333 -0.297667   \n",
       "1      993.647000  1.265333    2280.777667  8.344667  0.931000  2.270000   \n",
       "2       45.656333 -0.551333     130.920000  3.359667 -1.622667  0.132000   \n",
       "3      -11.412000  0.121000     -92.909667  4.459000 -3.775667  0.003333   \n",
       "4      200.162000 -0.467333     375.771667  2.845333 -3.480667 -0.013333   \n",
       "..            ...       ...            ...       ...       ...       ...   \n",
       "474     25.451000 -0.828000      32.462000  4.179300 -3.194300  0.433666   \n",
       "475  -1595.900000 -3.015670 -317856.000000  5.890000  2.630000  0.254000   \n",
       "476 -14913.100000 -0.816670 -262106.400000 -8.081000  1.403400  0.641340   \n",
       "477     89.677000 -2.690000     119.070000  4.540700  0.491700  0.152000   \n",
       "478    135.417000 -3.776003     188.156000  1.589600  3.296000 -0.007666   \n",
       "\n",
       "         TEMP  disorder  \n",
       "0   -0.856667         1  \n",
       "1    0.033667         1  \n",
       "2    0.003000         1  \n",
       "3   -0.043667         1  \n",
       "4   -0.057667         1  \n",
       "..        ...       ...  \n",
       "474 -0.849000         1  \n",
       "475  1.329000         1  \n",
       "476 -0.179700         1  \n",
       "477 -0.257000         1  \n",
       "478  2.032000         1  \n",
       "\n",
       "[479 rows x 14 columns]"
      ]
     },
     "execution_count": 73,
     "metadata": {},
     "output_type": "execute_result"
    }
   ],
   "source": [
    "hrv_visual"
   ]
  },
  {
   "cell_type": "code",
   "execution_count": null,
   "id": "7826e12b-fa43-44b7-949b-46c60bb6fe95",
   "metadata": {},
   "outputs": [],
   "source": []
  },
  {
   "cell_type": "code",
   "execution_count": 77,
   "id": "c2cb42fc-216e-4446-b607-bf99378a4727",
   "metadata": {},
   "outputs": [],
   "source": [
    "## Separating dataframe into three different groups (CONTROL, MDD, PD)\n",
    "hrv_CON = hrv_visual[hrv_visual[\"disorder\"] == 2]\n",
    "hrv_MDD = hrv_visual[hrv_visual[\"disorder\"] == 0]\n",
    "hrv_PD = hrv_visual[hrv_visual[\"disorder\"] == 1]"
   ]
  },
  {
   "cell_type": "code",
   "execution_count": 78,
   "id": "48a0a9e3-5623-47a6-befb-d9c3906736e7",
   "metadata": {},
   "outputs": [
    {
     "data": {
      "text/plain": [
       "(194, 14)"
      ]
     },
     "execution_count": 78,
     "metadata": {},
     "output_type": "execute_result"
    }
   ],
   "source": [
    "hrv_CON.shape"
   ]
  },
  {
   "cell_type": "markdown",
   "id": "ab9f2ad7-f340-4326-a0c0-f0a10ad2a991",
   "metadata": {},
   "source": [
    "* variables: SDNN, NN50, PNN50, RMSSD, VLF, LF, HF, LF/HF, POWER, HR, RESP, SC, TEMP"
   ]
  },
  {
   "cell_type": "code",
   "execution_count": 96,
   "id": "344fe618-fb1c-4410-8695-a6af6f992f1c",
   "metadata": {},
   "outputs": [],
   "source": [
    "## Set the variable that we want to check\n",
    "var = \"RMSSD\""
   ]
  },
  {
   "cell_type": "code",
   "execution_count": 97,
   "id": "3f424e55-38bf-4b98-9b9f-03beaa691449",
   "metadata": {},
   "outputs": [],
   "source": [
    "CON = hrv_CON[var]\n",
    "MDD = hrv_MDD[var]\n",
    "PD = hrv_PD[var]"
   ]
  },
  {
   "cell_type": "markdown",
   "id": "19c89794-6e36-4e9d-bea5-424e8eb987b8",
   "metadata": {},
   "source": [
    "* Comparing one variable for three groups"
   ]
  },
  {
   "cell_type": "code",
   "execution_count": 98,
   "id": "5fd359ee-c0bd-4d32-a1de-93091e993064",
   "metadata": {},
   "outputs": [
    {
     "data": {
      "text/plain": [
       "<matplotlib.legend.Legend at 0x1c2fac92b20>"
      ]
     },
     "execution_count": 98,
     "metadata": {},
     "output_type": "execute_result"
    },
    {
     "data": {
      "image/png": "[encoded data removed]",
      "text/plain": [
       "<Figure size 720x360 with 1 Axes>"
      ]
     },
     "metadata": {},
     "output_type": "display_data"
    }
   ],
   "source": [
    "plt.figure(figsize = (10,5))\n",
    "sns.set_style(\"whitegrid\")\n",
    "plt.grid(True)\n",
    "plt.xlabel('Standardized Variables',fontsize=10)\n",
    "plt.ylabel('Density',fontsize=10)\n",
    "\n",
    "sns.kdeplot(CON)\n",
    "sns.kdeplot(MDD)\n",
    "sns.kdeplot(PD)\n",
    "\n",
    "# plt.legend()\n",
    "plt.legend(['Control', 'Major Depressive Disorder', 'Panic Disorder'], fontsize=10)"
   ]
  },
  {
   "cell_type": "code",
   "execution_count": null,
   "id": "629abd8a-2f8c-4a9f-a542-d9c7282441ab",
   "metadata": {},
   "outputs": [],
   "source": []
  },
  {
   "cell_type": "code",
   "execution_count": null,
   "id": "4c354084-f4ad-4862-b583-bbfc3564afea",
   "metadata": {},
   "outputs": [],
   "source": []
  },
  {
   "cell_type": "code",
   "execution_count": 38,
   "id": "5d981caa-130d-4e12-bab6-cb165a9cbbe3",
   "metadata": {},
   "outputs": [],
   "source": [
    "SDNN = hrv_only['b1SDNN']\n",
    "NN50 = hrv_only['b1NN50']\n",
    "PNN50 = hrv_only['b1PNN50']\n",
    "RMSSD = hrv_only['b1RMSSD']\n",
    "VLF = hrv_only['b1VLF']\n",
    "LF = hrv_only['b1LF']\n",
    "HF = hrv_only['b1HF']\n",
    "LFHF = hrv_only['b1LF/HF']\n",
    "POWER = hrv_only['b1POWER']\n",
    "RESP = hrv_only['b1RESP']\n",
    "TEMP = hrv_only['b1TEMP']\n",
    "HR = hrv_only['b1HR']"
   ]
  },
  {
   "cell_type": "markdown",
   "id": "de969f45-7022-47c7-8a9c-30184c0edbda",
   "metadata": {},
   "source": [
    "* All variables"
   ]
  },
  {
   "cell_type": "code",
   "execution_count": 44,
   "id": "3d4949a9-87e9-445e-90b2-854d7efe71a7",
   "metadata": {},
   "outputs": [
    {
     "data": {
      "text/plain": [
       "<matplotlib.legend.Legend at 0x1c2fb4f5fa0>"
      ]
     },
     "execution_count": 44,
     "metadata": {},
     "output_type": "execute_result"
    },
    {
     "data": {
      "image/png": "[encoded data removed]",
      "text/plain": [
       "<Figure size 720x360 with 1 Axes>"
      ]
     },
     "metadata": {},
     "output_type": "display_data"
    }
   ],
   "source": [
    "plt.figure(figsize = (10,5))\n",
    "sns.set_style(\"whitegrid\")\n",
    "plt.grid(True)\n",
    "plt.xlabel('Standardized Variables',fontsize=10)\n",
    "plt.ylabel('Density',fontsize=10)\n",
    "\n",
    "sns.kdeplot(b1SDNN)\n",
    "sns.kdeplot(b1NN50)\n",
    "sns.kdeplot(b1RMSSD)\n",
    "# sns.kdeplot(b1VLF)\n",
    "sns.kdeplot(b1LF)\n",
    "# sns.kdeplot(b1HF)\n",
    "sns.kdeplot(b1LFHF)\n",
    "# sns.kdeplot(b1POWER)\n",
    "# sns.kdeplot(b1PNN50)\n",
    "sns.kdeplot(b1RESP)\n",
    "sns.kdeplot(b1TEMP)\n",
    "sns.kdeplot(b1HR)\n",
    "\n",
    "# plt.legend()\n",
    "plt.legend(['b1SDNN', 'b1NN50', 'b1RMSSD', 'b1LF', 'b1LF/HF', 'b1RESP', 'b1TEMP', 'b1HR'], fontsize=10)"
   ]
  },
  {
   "cell_type": "code",
   "execution_count": null,
   "id": "ad5784c5-4d1c-4320-ab01-4d7b963398ce",
   "metadata": {},
   "outputs": [],
   "source": []
  },
  {
   "cell_type": "code",
   "execution_count": null,
   "id": "d9c72c96-b3cd-46d3-98cc-81a24187c68b",
   "metadata": {},
   "outputs": [],
   "source": []
  },
  {
   "cell_type": "code",
   "execution_count": null,
   "id": "7cdc693e-0ddf-4f46-a5d4-8dd14f43b888",
   "metadata": {},
   "outputs": [],
   "source": []
  },
  {
   "cell_type": "code",
   "execution_count": null,
   "id": "c7c24702-07a8-46fd-ae96-58054f6cc314",
   "metadata": {},
   "outputs": [],
   "source": []
  },
  {
   "cell_type": "code",
   "execution_count": null,
   "id": "4af28ee1-504e-481f-a5e6-3c80e8d09454",
   "metadata": {},
   "outputs": [],
   "source": []
  },
  {
   "cell_type": "code",
   "execution_count": null,
   "id": "de8168ec-c9cc-4ba6-b920-d097a296101e",
   "metadata": {},
   "outputs": [],
   "source": []
  },
  {
   "cell_type": "markdown",
   "id": "62142bbe-f5d7-4c2c-bcd3-23386002aa6e",
   "metadata": {},
   "source": [
    "- - -"
   ]
  },
  {
   "cell_type": "markdown",
   "id": "ad9170f5-1c38-4105-b63f-d2d3aed26da7",
   "metadata": {},
   "source": [
    "# Data Analysis"
   ]
  },
  {
   "cell_type": "markdown",
   "id": "a23b1357-253a-449b-abbc-7455fd193d48",
   "metadata": {},
   "source": [
    "## Data Selection"
   ]
  },
  {
   "cell_type": "code",
   "execution_count": null,
   "id": "d1981a31-ace3-43be-8d2d-9e64f6ef1274",
   "metadata": {},
   "outputs": [],
   "source": []
  },
  {
   "cell_type": "code",
   "execution_count": null,
   "id": "02303895-5138-44f1-8162-f3096451d775",
   "metadata": {},
   "outputs": [],
   "source": [
    "X = hrv_b1_s_sub\n",
    "Y = hrv_disorder"
   ]
  },
  {
   "cell_type": "code",
   "execution_count": null,
   "id": "01a6a042-69a5-4bd6-bd64-9f2a77436f1f",
   "metadata": {},
   "outputs": [],
   "source": [
    "var_selection = [\"SDNN\", \"NN50\",\"PNN50\", \"RMSSD\", \"LF\", \"HF\", \"LF/HF\", \"HR\"] ## Choose the variables that must be adopted for input values\n",
    "X = X.loc[:,var_selection]"
   ]
  },
  {
   "cell_type": "code",
   "execution_count": null,
   "id": "2291ef38-e933-420a-8810-38cf7423cfd7",
   "metadata": {},
   "outputs": [],
   "source": [
    "## Generating dataset with y label on it. \n",
    "hrv_data = pd.concat([hrv_s_r_sub, hrv_disorder], axis=1)"
   ]
  },
  {
   "cell_type": "code",
   "execution_count": null,
   "id": "5b9bc6c6-0d12-4bce-9749-15a3666fca2e",
   "metadata": {},
   "outputs": [],
   "source": [
    "hrv_data.head()"
   ]
  },
  {
   "cell_type": "code",
   "execution_count": null,
   "id": "50ff9723-818d-4535-95ae-ce7288baa0cd",
   "metadata": {},
   "outputs": [],
   "source": []
  },
  {
   "cell_type": "code",
   "execution_count": null,
   "id": "b5a68736-1212-47fb-81a3-1c9df68781ce",
   "metadata": {},
   "outputs": [],
   "source": []
  },
  {
   "cell_type": "markdown",
   "id": "8f315e61-ba7d-454e-9d16-1ac020718772",
   "metadata": {},
   "source": [
    "## Train-Test Split"
   ]
  },
  {
   "cell_type": "code",
   "execution_count": null,
   "id": "7f965837-5694-419f-9fee-a3040129eab7",
   "metadata": {},
   "outputs": [],
   "source": [
    "X.columns"
   ]
  },
  {
   "cell_type": "code",
   "execution_count": null,
   "id": "843c5d6e-7baa-42ae-a8b3-af922139e450",
   "metadata": {},
   "outputs": [],
   "source": []
  },
  {
   "cell_type": "code",
   "execution_count": null,
   "id": "fabbe65b-a459-43ac-92b2-1d1c1e374159",
   "metadata": {},
   "outputs": [],
   "source": [
    "## Split X and Y into training dataset and test dataset\n",
    "x_train, x_test, y_train, y_test = train_test_split(X, Y, test_size = 0.2, random_state = 42)"
   ]
  },
  {
   "cell_type": "code",
   "execution_count": null,
   "id": "2ecc0d6e-9532-4331-8311-51fdf6e94536",
   "metadata": {},
   "outputs": [],
   "source": [
    "print(\"x_train dataset shape is\", x_train.shape)\n",
    "print(\"y_train dataset shape is\", y_train.shape)\n",
    "\n",
    "print(\"x_test dataset shape is\", x_test.shape)\n",
    "print(\"y_test dataset shape is\", y_test.shape)"
   ]
  },
  {
   "cell_type": "code",
   "execution_count": null,
   "id": "930207c7-7115-41c9-bc45-5a0d6567014e",
   "metadata": {},
   "outputs": [],
   "source": []
  },
  {
   "cell_type": "code",
   "execution_count": null,
   "id": "6afb822f-f4c6-4e8b-8b59-9629910dcacc",
   "metadata": {},
   "outputs": [],
   "source": []
  },
  {
   "cell_type": "code",
   "execution_count": null,
   "id": "16e4a3f0-6cee-4488-83a2-a3c107c1eaa0",
   "metadata": {},
   "outputs": [],
   "source": [
    "## Converting dataframe format into numpy array\n",
    "x_train_np = x_train.to_numpy()\n",
    "y_train_np = y_train.to_numpy()\n",
    "x_test_np = x_test.to_numpy()\n",
    "y_test_np = y_test.to_numpy()"
   ]
  },
  {
   "cell_type": "code",
   "execution_count": null,
   "id": "3560ee40-7fba-4caa-8773-9a690db21407",
   "metadata": {},
   "outputs": [],
   "source": [
    "## Use TensorDataset to create dataset with ndarray\n",
    "train_dataset = TensorDataset(torch.tensor(x_train_np), torch.tensor(y_train_np))\n",
    "test_dataset = TensorDataset(torch.tensor(x_test_np), torch.tensor(y_test_np))"
   ]
  },
  {
   "cell_type": "code",
   "execution_count": null,
   "id": "c59c827c-c73a-4934-84da-3af4fe8c4d40",
   "metadata": {},
   "outputs": [],
   "source": [
    "## Setting trainloader and testloader for training\n",
    "train_loader = torch.utils.data.DataLoader(train_dataset, batch_size=args.bs, shuffle=True, num_workers=4)\n",
    "test_loader = torch.utils.data.DataLoader(test_dataset, batch_size=args.bs, shuffle=False, num_workers=4)"
   ]
  },
  {
   "cell_type": "code",
   "execution_count": null,
   "id": "a15e9e97-052a-4d93-ab12-9f88996a6d44",
   "metadata": {},
   "outputs": [],
   "source": []
  },
  {
   "cell_type": "code",
   "execution_count": null,
   "id": "d1a43e78-62f2-4a3a-9136-93585e97ed93",
   "metadata": {},
   "outputs": [],
   "source": []
  },
  {
   "cell_type": "markdown",
   "id": "74690609-aa50-4093-b3a0-7b2f59849655",
   "metadata": {},
   "source": [
    "- - -"
   ]
  },
  {
   "cell_type": "markdown",
   "id": "6795e6ea-4fe6-44f2-bb78-14c4e825a6c6",
   "metadata": {},
   "source": [
    "## Regression"
   ]
  },
  {
   "cell_type": "code",
   "execution_count": null,
   "id": "ef019a5c-5db9-4037-ad4d-5676c42394b3",
   "metadata": {},
   "outputs": [],
   "source": [
    "logistic_reg = LogisticRegression(solver='lbfgs', max_iter = 4000)\n",
    "logistic_reg.fit(x_train, y_train.values.ravel())"
   ]
  },
  {
   "cell_type": "code",
   "execution_count": null,
   "id": "e061d059-8ca5-4840-ab29-099a2a4de488",
   "metadata": {},
   "outputs": [],
   "source": [
    "predictions = logistic_reg.predict(x_test)"
   ]
  },
  {
   "cell_type": "code",
   "execution_count": null,
   "id": "86efdff9-a4a1-4135-9288-1c8c75cc1e3c",
   "metadata": {},
   "outputs": [],
   "source": [
    "print(confusion_matrix(y_test,predictions))"
   ]
  },
  {
   "cell_type": "code",
   "execution_count": null,
   "id": "c8ca54ea-18b2-4f63-b945-30f1493f0008",
   "metadata": {},
   "outputs": [],
   "source": []
  },
  {
   "cell_type": "markdown",
   "id": "8f084415-37de-4989-92b8-da7747f5d07f",
   "metadata": {},
   "source": [
    "- - -"
   ]
  },
  {
   "cell_type": "markdown",
   "id": "736bf1d5-e205-490b-b0ba-0c2cc409b124",
   "metadata": {},
   "source": [
    "## Decision Tree"
   ]
  },
  {
   "cell_type": "code",
   "execution_count": null,
   "id": "3531ce01-d683-4f8d-870c-a05cbffea806",
   "metadata": {},
   "outputs": [],
   "source": [
    "dt_model=DecisionTreeClassifier()\n",
    "dt_model.fit(x_train, y_train)"
   ]
  },
  {
   "cell_type": "code",
   "execution_count": null,
   "id": "81a22415-8d85-453a-ab31-e4008ee33564",
   "metadata": {},
   "outputs": [],
   "source": [
    "dt_pred = dt_model.predict(x_test)"
   ]
  },
  {
   "cell_type": "code",
   "execution_count": null,
   "id": "776835b9-a243-4b30-90d4-81adee062717",
   "metadata": {},
   "outputs": [],
   "source": [
    "print(confusion_matrix(y_test,dt_pred))"
   ]
  },
  {
   "cell_type": "code",
   "execution_count": null,
   "id": "0706e83e-32fe-4c94-9674-42304cb2f51f",
   "metadata": {},
   "outputs": [],
   "source": [
    "print(classification_report(y_test,dt_pred))"
   ]
  },
  {
   "cell_type": "code",
   "execution_count": null,
   "id": "3f0e09ba-65da-45cd-af60-f095a9dd04f9",
   "metadata": {},
   "outputs": [],
   "source": []
  },
  {
   "cell_type": "markdown",
   "id": "baaa5217-74e9-423f-a585-4a37c8d0d401",
   "metadata": {},
   "source": [
    "- - -"
   ]
  },
  {
   "cell_type": "markdown",
   "id": "ffbc3f79-3f12-4188-b4d1-79358136124e",
   "metadata": {},
   "source": [
    "## Random Forest Classification"
   ]
  },
  {
   "cell_type": "code",
   "execution_count": null,
   "id": "4bddfbf0-2eb9-4242-9aea-9101ace007c8",
   "metadata": {},
   "outputs": [],
   "source": [
    "rf= RandomForestClassifier(n_estimators=5000)\n",
    "rf.fit(x_train, y_train.values.ravel())"
   ]
  },
  {
   "cell_type": "code",
   "execution_count": null,
   "id": "883b1dce-77e2-41e6-9377-77b11f83d691",
   "metadata": {},
   "outputs": [],
   "source": [
    "rf_pre=rf.predict(x_test)"
   ]
  },
  {
   "cell_type": "code",
   "execution_count": null,
   "id": "8b73d1a3-6948-4036-b41e-546b20949fb8",
   "metadata": {},
   "outputs": [],
   "source": [
    "print(confusion_matrix(y_test, rf_pre))"
   ]
  },
  {
   "cell_type": "code",
   "execution_count": null,
   "id": "cf00cfe5-a377-477a-8349-2c2529128304",
   "metadata": {},
   "outputs": [],
   "source": [
    "print(classification_report(y_test, rf_pre))"
   ]
  },
  {
   "cell_type": "code",
   "execution_count": null,
   "id": "f217e23e-b0de-4b08-b35a-910184e199b5",
   "metadata": {},
   "outputs": [],
   "source": []
  },
  {
   "cell_type": "markdown",
   "id": "17871a6c-a5e4-413f-81cb-e057fd845718",
   "metadata": {},
   "source": [
    "- - -"
   ]
  },
  {
   "cell_type": "markdown",
   "id": "ad19e5fc-0143-4787-be0f-d435f9471292",
   "metadata": {},
   "source": [
    "## XGBoosts Classifier"
   ]
  },
  {
   "cell_type": "code",
   "execution_count": null,
   "id": "298965e5-2dd7-4849-a5ee-a757387931ee",
   "metadata": {},
   "outputs": [],
   "source": [
    "xgboost = XGBClassifier(n_estimators=1000, eval_metric='mlogloss')\n",
    "xgboost.fit(x_train, y_train)"
   ]
  },
  {
   "cell_type": "code",
   "execution_count": null,
   "id": "d45feadb-fdea-4c0a-a522-ec4009dfdaf5",
   "metadata": {},
   "outputs": [],
   "source": [
    "xg_pred = xgboost.predict(x_test)"
   ]
  },
  {
   "cell_type": "code",
   "execution_count": null,
   "id": "8ce5a47a-ca31-40db-babb-f9c9ddd7998b",
   "metadata": {},
   "outputs": [],
   "source": [
    "print(confusion_matrix(y_test, xg_pred))"
   ]
  },
  {
   "cell_type": "code",
   "execution_count": null,
   "id": "56e3fc4b-2344-47fa-bbd7-c8875f4eed79",
   "metadata": {},
   "outputs": [],
   "source": [
    "print(classification_report(y_test, xg_pred))"
   ]
  },
  {
   "cell_type": "code",
   "execution_count": null,
   "id": "50aa2b3a-7cd6-4e98-ba38-4a214fa0ac9f",
   "metadata": {},
   "outputs": [],
   "source": []
  },
  {
   "cell_type": "markdown",
   "id": "ace07912-163d-45d7-b9ec-46acca28ba8f",
   "metadata": {},
   "source": [
    "- - -"
   ]
  },
  {
   "cell_type": "markdown",
   "id": "97d16dea-a4ab-4bc7-9c7e-3c1a69dfc1ac",
   "metadata": {},
   "source": [
    "## Multi-Layer Perceptron"
   ]
  },
  {
   "cell_type": "markdown",
   "id": "c782dc49-1085-4638-be96-b005a7885d49",
   "metadata": {},
   "source": [
    "* Simple MLP"
   ]
  },
  {
   "cell_type": "code",
   "execution_count": null,
   "id": "d5fdb456-c3eb-476f-bf27-adecb7d628eb",
   "metadata": {},
   "outputs": [],
   "source": [
    "input_size = x_train.shape[1]"
   ]
  },
  {
   "cell_type": "code",
   "execution_count": null,
   "id": "338a9c99-b3b0-406c-ba98-99eeb1dff339",
   "metadata": {},
   "outputs": [],
   "source": [
    "class MLP_HRV(nn.Module):\n",
    "    def __init__(self):\n",
    "        super(MLP_HRV, self).__init__()\n",
    "        self.layer1 = nn.Linear(input_size, 128)\n",
    "        self.layer2 = nn.Linear(128, 128)\n",
    "        self.layer3 = nn.Linear(128, 3)\n",
    "\n",
    "    def forward(self, x):\n",
    "        x = x.view(-1, input_size)\n",
    "        x = self.layer1(x)\n",
    "        x = F.relu(x)\n",
    "        x = self.layer2(x)\n",
    "        x = F.relu(x)\n",
    "        x = self.layer3(x)\n",
    "        x = F.log_softmax(x, dim=1)\n",
    "        return x"
   ]
  },
  {
   "cell_type": "code",
   "execution_count": null,
   "id": "16fcceb0-985b-44a3-8989-e5d9280eeb07",
   "metadata": {},
   "outputs": [],
   "source": [
    "model = MLP_HRV().to(DEVICE)\n",
    "print(model)"
   ]
  },
  {
   "cell_type": "code",
   "execution_count": null,
   "id": "1e7b4ad0-8b6e-49ab-b73f-b7de74a4e0b5",
   "metadata": {},
   "outputs": [],
   "source": []
  },
  {
   "cell_type": "code",
   "execution_count": null,
   "id": "e11733c1-8861-4b2a-8c93-32d95bddfd23",
   "metadata": {},
   "outputs": [],
   "source": [
    "criterion = nn.CrossEntropyLoss()\n",
    "optimizer = torch.optim.SGD(model.parameters(), lr=0.01)"
   ]
  },
  {
   "cell_type": "code",
   "execution_count": null,
   "id": "28aab48d-cf2a-453a-9198-e21f2a1f457d",
   "metadata": {},
   "outputs": [],
   "source": [
    "x_train = torch.tensor(x_train.values)"
   ]
  },
  {
   "cell_type": "code",
   "execution_count": null,
   "id": "ac34b200-30f7-413d-8ced-cdecfb9c0a4c",
   "metadata": {
    "tags": []
   },
   "outputs": [],
   "source": [
    "for epoch in range(args.epochs):\n",
    "    loss = 0\n",
    "    batch = len(train_loader)\n",
    "\n",
    "    for images, labels in train_loader: \n",
    "        images = images.view(-1, input_size).to(DEVICE) \n",
    "        labels = labels.to(DEVICE)\n",
    "        \n",
    "        optimizer.zero_grad()\n",
    "        hypothesis = model(images)\n",
    "        cost = criterion(hypothesis, labels)\n",
    "        cost.backward()\n",
    "        optimizer.step()\n",
    "        loss += cost / batch\n",
    "\n",
    "    print('Epoch:', '%03d' % (epoch + 1), 'Training loss =', '{:.5f}'.format(loss))"
   ]
  },
  {
   "cell_type": "code",
   "execution_count": null,
   "id": "94578667-23e7-4bf5-99ed-7eebb191bcdd",
   "metadata": {},
   "outputs": [],
   "source": []
  },
  {
   "cell_type": "code",
   "execution_count": null,
   "id": "a3c3105f-75d1-4c90-a849-a45930a855e3",
   "metadata": {},
   "outputs": [],
   "source": []
  },
  {
   "cell_type": "code",
   "execution_count": null,
   "id": "c2f9ff84-005c-4074-8298-8be5877b697c",
   "metadata": {},
   "outputs": [],
   "source": []
  },
  {
   "cell_type": "code",
   "execution_count": null,
   "id": "79dc468b-4b75-4354-962d-fdb8aee5bf83",
   "metadata": {},
   "outputs": [],
   "source": []
  },
  {
   "cell_type": "markdown",
   "id": "5dfb4496-0a53-4f2e-904b-6b7549e3a385",
   "metadata": {},
   "source": [
    "- - -"
   ]
  },
  {
   "cell_type": "markdown",
   "id": "692b3a2a-4c99-4368-8aac-6bbcb91f4ef3",
   "metadata": {},
   "source": [
    "## Convolutional Neural Network"
   ]
  },
  {
   "cell_type": "code",
   "execution_count": null,
   "id": "ecc05c32-356f-40a3-8b6d-3263f931786a",
   "metadata": {},
   "outputs": [],
   "source": [
    "print(\"X shape is \", X.shape)\n",
    "print(\"Y shape is \", Y.shape)"
   ]
  },
  {
   "cell_type": "code",
   "execution_count": null,
   "id": "a5c7301f-4dc8-467e-a9b0-01569e80f303",
   "metadata": {},
   "outputs": [],
   "source": [
    "X.head()"
   ]
  },
  {
   "cell_type": "code",
   "execution_count": null,
   "id": "82ba0b42-111e-405e-b73e-9fa044d6f23f",
   "metadata": {},
   "outputs": [],
   "source": []
  },
  {
   "cell_type": "code",
   "execution_count": null,
   "id": "212bbd2d-801c-4656-8277-c0778555b483",
   "metadata": {},
   "outputs": [],
   "source": []
  },
  {
   "cell_type": "code",
   "execution_count": null,
   "id": "bb752707-68e7-4c47-a752-a00db3ee4a2b",
   "metadata": {},
   "outputs": [],
   "source": []
  },
  {
   "cell_type": "code",
   "execution_count": null,
   "id": "c71ed47b-d4fe-4dcf-83ed-0f0be1d82b11",
   "metadata": {},
   "outputs": [],
   "source": []
  },
  {
   "cell_type": "code",
   "execution_count": null,
   "id": "b050d792-785c-4756-b313-7f6780921d55",
   "metadata": {},
   "outputs": [],
   "source": []
  },
  {
   "cell_type": "code",
   "execution_count": null,
   "id": "dd27dfc2-4053-4931-b89e-d5ab1149207f",
   "metadata": {},
   "outputs": [],
   "source": []
  },
  {
   "cell_type": "code",
   "execution_count": null,
   "id": "8ec3ca56-166e-4c3f-8b51-6e26b2316ade",
   "metadata": {},
   "outputs": [],
   "source": []
  },
  {
   "cell_type": "code",
   "execution_count": null,
   "id": "6b91d262-b8bf-4c6c-bde9-a411453434f7",
   "metadata": {},
   "outputs": [],
   "source": []
  },
  {
   "cell_type": "code",
   "execution_count": null,
   "id": "5e878ce9-ca28-474d-846a-e6491959e442",
   "metadata": {},
   "outputs": [],
   "source": []
  },
  {
   "cell_type": "code",
   "execution_count": null,
   "id": "45d41c8b-0ca2-4707-8797-27fef3cae62b",
   "metadata": {},
   "outputs": [],
   "source": []
  },
  {
   "cell_type": "code",
   "execution_count": null,
   "id": "8728d0ad-c233-41e5-9b3f-dc3c73cf75c7",
   "metadata": {},
   "outputs": [],
   "source": []
  },
  {
   "cell_type": "code",
   "execution_count": null,
   "id": "ba729f26-1cfb-4b0c-b15b-eb5379edbf98",
   "metadata": {},
   "outputs": [],
   "source": []
  },
  {
   "cell_type": "code",
   "execution_count": null,
   "id": "94b883b8-7731-4d80-81f4-80f082e520d6",
   "metadata": {},
   "outputs": [],
   "source": []
  },
  {
   "cell_type": "code",
   "execution_count": null,
   "id": "7815f0ab-1d6a-4927-a36d-f51d7712d7c9",
   "metadata": {},
   "outputs": [],
   "source": []
  },
  {
   "cell_type": "code",
   "execution_count": null,
   "id": "db2d0d44-7a92-478b-855a-9061947bfaa6",
   "metadata": {},
   "outputs": [],
   "source": []
  },
  {
   "cell_type": "code",
   "execution_count": null,
   "id": "7cc4781c-68d3-4992-a263-213572165143",
   "metadata": {},
   "outputs": [],
   "source": []
  },
  {
   "cell_type": "code",
   "execution_count": null,
   "id": "927e3a8d-6cce-40e6-99e9-23a4faa57036",
   "metadata": {},
   "outputs": [],
   "source": []
  },
  {
   "cell_type": "code",
   "execution_count": null,
   "id": "5918eb07-16ac-4eef-8431-f14a2c8b7641",
   "metadata": {},
   "outputs": [],
   "source": []
  }
 ],
 "metadata": {
  "kernelspec": {
   "display_name": "Python 3",
   "language": "python",
   "name": "python3"
  },
  "language_info": {
   "codemirror_mode": {
    "name": "ipython",
    "version": 3
   },
   "file_extension": ".py",
   "mimetype": "text/x-python",
   "name": "python",
   "nbconvert_exporter": "python",
   "pygments_lexer": "ipython3",
   "version": "3.8.10"
  }
 },
 "nbformat": 4,
 "nbformat_minor": 5
}
